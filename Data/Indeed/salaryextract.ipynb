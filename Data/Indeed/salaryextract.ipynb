{
  "nbformat": 4,
  "nbformat_minor": 0,
  "metadata": {
    "colab": {
      "provenance": []
    },
    "kernelspec": {
      "name": "python3",
      "display_name": "Python 3"
    },
    "language_info": {
      "name": "python"
    }
  },
  "cells": [
    {
      "cell_type": "code",
      "execution_count": null,
      "metadata": {
        "id": "Xj2x7p9IqwD1"
      },
      "outputs": [],
      "source": [
        "import numpy as np\n",
        "import pandas as pd\n",
        "import re"
      ]
    },
    {
      "cell_type": "code",
      "source": [
        "import pandas as pd\n",
        "\n",
        "# Read a Parquet file\n",
        "df = pd.read_parquet('indeed_merged.parquet')\n",
        "# Now 'df' is a DataFrame containing the data from the Parquet file\n"
      ],
      "metadata": {
        "id": "kW31p88Nq260"
      },
      "execution_count": null,
      "outputs": []
    },
    {
      "cell_type": "code",
      "source": [
        "# Create a new DataFrame with 'salary' and 'employee_id' columns\n",
        "new_df = df[['Key', 'Salary']].copy()"
      ],
      "metadata": {
        "id": "j1M7fONXrTFB"
      },
      "execution_count": null,
      "outputs": []
    },
    {
      "cell_type": "code",
      "source": [
        "# Define a regular expression pattern to match dollar sign followed by numbers\n",
        "pattern = r'\\$([\\d,]+(?:\\.\\d+)?)\\s*(?:- \\$([\\d,]+(?:\\.\\d+)?))?'\n",
        "\n",
        "# Create new columns for min and max salaries\n",
        "new_df['MinSalary'] = None\n",
        "new_df['MaxSalary'] = None\n",
        "\n",
        "# Iterate over the rows of the 'Salary' column\n",
        "for index, row in new_df.iterrows():\n",
        "    line = row['Salary']\n",
        "    if line is not None:\n",
        "        match = re.search(pattern, str(line))\n",
        "        if match:\n",
        "            min_salary, max_salary = match.groups()\n",
        "            new_df.at[index, 'MinSalary'] = float(min_salary.replace(',', '')) if min_salary else None\n",
        "            new_df.at[index, 'MaxSalary'] = float(max_salary.replace(',', '')) if max_salary else None\n",
        "\n",
        "# Print the updated DataFrame\n",
        "print(new_df.head)"
      ],
      "metadata": {
        "colab": {
          "base_uri": "https://localhost:8080/"
        },
        "id": "h4mIH4FarZ4Z",
        "outputId": "96c35eed-3a15-4d4b-ee1e-cbd65e8085b7"
      },
      "execution_count": null,
      "outputs": [
        {
          "output_type": "stream",
          "name": "stdout",
          "text": [
            "<bound method NDFrame.head of                     Key                            Salary MinSalary MaxSalary\n",
            "0      a9832db271ef3fc4        $155,700 - $183,500 a year  155700.0  183500.0\n",
            "1      7f4db33d08d5c611         $52,100 - $119,000 a year   52100.0  119000.0\n",
            "2      0636da957769d80b                              None      None      None\n",
            "3      f2d5e432940c9f42          $35,057 - $63,103 a year   35057.0   63103.0\n",
            "4      ec9509f4c611785a         $84,700 - $148,300 a year   84700.0  148300.0\n",
            "...                 ...                               ...       ...       ...\n",
            "25274  072bf35ffdd8645d        $146,048 - $162,000 a year  146048.0  162000.0\n",
            "25275  789179d9fd5c1d65          $57,100 - $81,572 a year   57100.0   81572.0\n",
            "25276  f9785443a3551b34  $117,161.90 - $141,098.20 a year  117161.9  141098.2\n",
            "25277  5f15c9ca93989af6                              None      None      None\n",
            "25278  ea2bf756466c7fb6        $100,000 - $130,000 a year  100000.0  130000.0\n",
            "\n",
            "[23277 rows x 4 columns]>\n"
          ]
        }
      ]
    },
    {
      "cell_type": "code",
      "source": [
        "pattern_hour = r'\\$([\\d,]+(?:\\.\\d+)?)\\s*-\\s*\\$([\\d,]+(?:\\.\\d+)?)\\s*an hour'\n",
        "# Separate loop for updating hourly rates\n",
        "for index, row in new_df.iterrows():\n",
        "    line = row['Salary']\n",
        "    if line is not None:\n",
        "        match_hourly = re.search(pattern_hour, str(line))\n",
        "        if match_hourly:\n",
        "            min_hourly, max_hourly = match_hourly.groups()\n",
        "            min_hourly = float(min_hourly.replace(',', '')) if min_hourly else None\n",
        "            max_hourly = float(max_hourly.replace(',', '')) if max_hourly else None\n",
        "            new_df.at[index, 'MinSalary'] = min_hourly * 1920\n",
        "            new_df.at[index, 'MaxSalary'] = max_hourly * 1920 if max_hourly else None  # No defined max for hourly rates\n",
        "\n",
        "# Print the updated DataFrame\n",
        "print(new_df.head(40))"
      ],
      "metadata": {
        "colab": {
          "base_uri": "https://localhost:8080/"
        },
        "id": "4R9AMFI8uwlD",
        "outputId": "d78aaa1a-ef22-41ee-88b1-d48e96ccc459"
      },
      "execution_count": null,
      "outputs": [
        {
          "output_type": "stream",
          "name": "stdout",
          "text": [
            "                 Key                          Salary MinSalary MaxSalary\n",
            "0   a9832db271ef3fc4      $155,700 - $183,500 a year  155700.0  183500.0\n",
            "1   7f4db33d08d5c611       $52,100 - $119,000 a year   52100.0  119000.0\n",
            "2   0636da957769d80b                            None      None      None\n",
            "3   f2d5e432940c9f42        $35,057 - $63,103 a year   35057.0   63103.0\n",
            "4   ec9509f4c611785a       $84,700 - $148,300 a year   84700.0  148300.0\n",
            "5   1a0ede3bde4f644f                            None      None      None\n",
            "6   9ab9852ed553c58b  $47,764.53 - $57,522.88 a year  47764.53  57522.88\n",
            "7   9bf6d0fc32b92a08      $139,141 - $180,881 a year  139141.0  180881.0\n",
            "8   210fa3efc627b5c2                            None      None      None\n",
            "9   6b248b79e5bffd93                            None      None      None\n",
            "10  0e349d1b7de0a886                            None      None      None\n",
            "11  654bd9e7da302c24                            None      None      None\n",
            "12  57397fcad59c2040               $55 - $75 an hour  105600.0  144000.0\n",
            "13  f6ce8e51c592b41e        $75,000 - $90,000 a year   75000.0   90000.0\n",
            "14  b03ec6b24b136686                            None      None      None\n",
            "15  e88ff003b7dd1fd4  $52,367.69 - $97,024.54 a year  52367.69  97024.54\n",
            "16  c900137e15a262db        $55,000 - $65,000 a year   55000.0   65000.0\n",
            "17  c1b9d3e3392eab7c        $70,000 - $90,000 a year   70000.0   90000.0\n",
            "18  8b5ff71877503609                  $20.49 an hour   39340.8      None\n",
            "19  7238922ada2d7d8d                            None      None      None\n",
            "20  353547236e132517             From $97,750 a year   97750.0      None\n",
            "21  9f214d8a6d4406a8                            None      None      None\n",
            "22  380c4f30e25dcadd        $56,903 - $85,355 a year   56903.0   85355.0\n",
            "23  623ae773321b48a4                            None      None      None\n",
            "24  f6dfb4a19875d55c                            None      None      None\n",
            "25  2fb96b31add08234               $23 - $30 an hour   44160.0   57600.0\n",
            "26  353e25fe6215ab2c       $66,722 - $100,082 a year   66722.0  100082.0\n",
            "27  7543ea1c291c22a2       $88,000 - $100,000 a year   88000.0  100000.0\n",
            "28  ddc0cfe685123f94                            None      None      None\n",
            "29  6be71fd2b16ad7d5                            None      None      None\n",
            "30  63c0ca24edaa2e7a      $116,393 - $172,075 a year  116393.0  172075.0\n",
            "31  76082d5e21ed095b                            None      None      None\n",
            "32  255fa053f9f2c6ee                            None      None      None\n",
            "33  d1a6a3aedd3a2f4b                            None      None      None\n",
            "34  f19446ca48e74941                  $23.41 an hour   44947.2      None\n",
            "35  4c024e428d61da06                            None      None      None\n",
            "36  64f073ed2b75984d      $132,368 - $183,500 a year  132368.0  183500.0\n",
            "37  f617a4797f96e4a3                            None      None      None\n",
            "38  ef58c9c5a5ee46d4        $55,000 - $60,000 a year   55000.0   60000.0\n",
            "39  71b5aacf7ee8ec14                            None      None      None\n"
          ]
        }
      ]
    },
    {
      "cell_type": "code",
      "source": [],
      "metadata": {
        "id": "oIjxVEc-uxqo"
      },
      "execution_count": null,
      "outputs": []
    }
  ]
}