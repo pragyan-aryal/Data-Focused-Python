{
 "cells": [
  {
   "cell_type": "code",
   "execution_count": 1,
   "id": "initial_id",
   "metadata": {
    "collapsed": true,
    "ExecuteTime": {
     "end_time": "2023-12-01T00:54:08.246678Z",
     "start_time": "2023-12-01T00:54:07.640145Z"
    }
   },
   "outputs": [],
   "source": [
    "import pandas as pd"
   ]
  },
  {
   "cell_type": "code",
   "execution_count": 6,
   "id": "aab5d86065c22c41",
   "metadata": {
    "collapsed": false,
    "ExecuteTime": {
     "end_time": "2023-12-01T00:55:00.537651Z",
     "start_time": "2023-12-01T00:55:00.360833Z"
    }
   },
   "outputs": [],
   "source": [
    "df = pd.read_csv('PM_MID_LEVEL.tsv', sep='\\t')"
   ]
  },
  {
   "cell_type": "code",
   "execution_count": 8,
   "id": "55751544574d7705",
   "metadata": {
    "collapsed": false,
    "ExecuteTime": {
     "end_time": "2023-12-01T00:55:20.266386Z",
     "start_time": "2023-12-01T00:55:20.256803Z"
    }
   },
   "outputs": [
    {
     "data": {
      "text/plain": "                                                                      Nestlé USA  \\\nFoursquare                                             Product Marketing Manager   \nNeptune Technology Group                            Manager of Product Marketing   \nTeachers Federal Credit Union                            Digital Product Manager   \nOSM Worldwide                                                    Product Manager   \nImageSoft                                                          Product Owner   \n...                                                                          ...   \nAdvanced Micro Devices, Inc                                  Sr. Product Manager   \nAmelia                                                           Product Manager   \nMastercard                                      Lead Product Manager - Technical   \nFieldguide                                                  Lead Product Manager   \nIntelsat                       Product Manager, Business Insights, Analytics ...   \n\n                              Product Development Manager (TAG) - Bakery/Sweets  \\\nFoursquare                                                               Remote   \nNeptune Technology Group                                            Atlanta, GA   \nTeachers Federal Credit Union                               Hauppauge, NY 11788   \nOSM Worldwide                                        Glendale Heights, IL 60139   \nImageSoft                                         Remote in Nashville, TN 37215   \n...                                                                         ...   \nAdvanced Micro Devices, Inc             San Jose, CA 95124 (Cambrian Park area)   \nAmelia                                                             New York, NY   \nMastercard                                                   O'Fallon, MO 63368   \nFieldguide                                                 Remote in California   \nIntelsat                                            Hybrid remote in McLean, VA   \n\n                              Arlington, VA         PM  \\\nFoursquare                               PM  MID_LEVEL   \nNeptune Technology Group                 PM  MID_LEVEL   \nTeachers Federal Credit Union            PM  MID_LEVEL   \nOSM Worldwide                            PM  MID_LEVEL   \nImageSoft                                PM  MID_LEVEL   \n...                                     ...        ...   \nAdvanced Micro Devices, Inc              PM  MID_LEVEL   \nAmelia                                   PM  MID_LEVEL   \nMastercard                               PM  MID_LEVEL   \nFieldguide                               PM  MID_LEVEL   \nIntelsat                                 PM  MID_LEVEL   \n\n                                                MID_LEVEL  \\\nFoursquare                     $110,000 - $140,000 a year   \nNeptune Technology Group       $109,434 - $117,170 a year   \nTeachers Federal Credit Union   $88,000 - $109,500 a year   \nOSM Worldwide                                         NaN   \nImageSoft                                             NaN   \n...                                                   ...   \nAdvanced Micro Devices, Inc                           NaN   \nAmelia                                                NaN   \nMastercard                                            NaN   \nFieldguide                                            NaN   \nIntelsat                                              NaN   \n\n                                                                              NA  \nFoursquare                     About Foursquare Foursquare is the leading ind...  \nNeptune Technology Group       Position SummaryThe Manager of Product Marketi...  \nTeachers Federal Credit Union  For 70 years, Teachers Federal Credit Union ha...  \nOSM Worldwide                  OSM is a technology enabled shipping and logis...  \nImageSoft                      Product Owner Job Category: Information Techno...  \n...                                                                          ...  \nAdvanced Micro Devices, Inc     Overview:   WHAT YOU DO AT AMD CHANGES EVERYT...  \nAmelia                            Collaboration between humans and machines i...  \nMastercard                       Our Purpose    We work to connect and power ...  \nFieldguide                     About us: Fieldguide is establishing a new sta...  \nIntelsat                       Product Manager, Business Insights, Analytics ...  \n\n[6423 rows x 6 columns]",
      "text/html": "<div>\n<style scoped>\n    .dataframe tbody tr th:only-of-type {\n        vertical-align: middle;\n    }\n\n    .dataframe tbody tr th {\n        vertical-align: top;\n    }\n\n    .dataframe thead th {\n        text-align: right;\n    }\n</style>\n<table border=\"1\" class=\"dataframe\">\n  <thead>\n    <tr style=\"text-align: right;\">\n      <th></th>\n      <th>Nestlé USA</th>\n      <th>Product Development Manager (TAG) - Bakery/Sweets</th>\n      <th>Arlington, VA</th>\n      <th>PM</th>\n      <th>MID_LEVEL</th>\n      <th>NA</th>\n    </tr>\n  </thead>\n  <tbody>\n    <tr>\n      <th>Foursquare</th>\n      <td>Product Marketing Manager</td>\n      <td>Remote</td>\n      <td>PM</td>\n      <td>MID_LEVEL</td>\n      <td>$110,000 - $140,000 a year</td>\n      <td>About Foursquare Foursquare is the leading ind...</td>\n    </tr>\n    <tr>\n      <th>Neptune Technology Group</th>\n      <td>Manager of Product Marketing</td>\n      <td>Atlanta, GA</td>\n      <td>PM</td>\n      <td>MID_LEVEL</td>\n      <td>$109,434 - $117,170 a year</td>\n      <td>Position SummaryThe Manager of Product Marketi...</td>\n    </tr>\n    <tr>\n      <th>Teachers Federal Credit Union</th>\n      <td>Digital Product Manager</td>\n      <td>Hauppauge, NY 11788</td>\n      <td>PM</td>\n      <td>MID_LEVEL</td>\n      <td>$88,000 - $109,500 a year</td>\n      <td>For 70 years, Teachers Federal Credit Union ha...</td>\n    </tr>\n    <tr>\n      <th>OSM Worldwide</th>\n      <td>Product Manager</td>\n      <td>Glendale Heights, IL 60139</td>\n      <td>PM</td>\n      <td>MID_LEVEL</td>\n      <td>NaN</td>\n      <td>OSM is a technology enabled shipping and logis...</td>\n    </tr>\n    <tr>\n      <th>ImageSoft</th>\n      <td>Product Owner</td>\n      <td>Remote in Nashville, TN 37215</td>\n      <td>PM</td>\n      <td>MID_LEVEL</td>\n      <td>NaN</td>\n      <td>Product Owner Job Category: Information Techno...</td>\n    </tr>\n    <tr>\n      <th>...</th>\n      <td>...</td>\n      <td>...</td>\n      <td>...</td>\n      <td>...</td>\n      <td>...</td>\n      <td>...</td>\n    </tr>\n    <tr>\n      <th>Advanced Micro Devices, Inc</th>\n      <td>Sr. Product Manager</td>\n      <td>San Jose, CA 95124 (Cambrian Park area)</td>\n      <td>PM</td>\n      <td>MID_LEVEL</td>\n      <td>NaN</td>\n      <td>Overview:   WHAT YOU DO AT AMD CHANGES EVERYT...</td>\n    </tr>\n    <tr>\n      <th>Amelia</th>\n      <td>Product Manager</td>\n      <td>New York, NY</td>\n      <td>PM</td>\n      <td>MID_LEVEL</td>\n      <td>NaN</td>\n      <td>Collaboration between humans and machines i...</td>\n    </tr>\n    <tr>\n      <th>Mastercard</th>\n      <td>Lead Product Manager - Technical</td>\n      <td>O'Fallon, MO 63368</td>\n      <td>PM</td>\n      <td>MID_LEVEL</td>\n      <td>NaN</td>\n      <td>Our Purpose    We work to connect and power ...</td>\n    </tr>\n    <tr>\n      <th>Fieldguide</th>\n      <td>Lead Product Manager</td>\n      <td>Remote in California</td>\n      <td>PM</td>\n      <td>MID_LEVEL</td>\n      <td>NaN</td>\n      <td>About us: Fieldguide is establishing a new sta...</td>\n    </tr>\n    <tr>\n      <th>Intelsat</th>\n      <td>Product Manager, Business Insights, Analytics ...</td>\n      <td>Hybrid remote in McLean, VA</td>\n      <td>PM</td>\n      <td>MID_LEVEL</td>\n      <td>NaN</td>\n      <td>Product Manager, Business Insights, Analytics ...</td>\n    </tr>\n  </tbody>\n</table>\n<p>6423 rows × 6 columns</p>\n</div>"
     },
     "execution_count": 8,
     "metadata": {},
     "output_type": "execute_result"
    }
   ],
   "source": [
    "df"
   ]
  },
  {
   "cell_type": "code",
   "execution_count": 11,
   "outputs": [
    {
     "data": {
      "text/plain": "                              index  \\\n0                        Foursquare   \n1          Neptune Technology Group   \n2     Teachers Federal Credit Union   \n3                     OSM Worldwide   \n4                         ImageSoft   \n...                             ...   \n6418    Advanced Micro Devices, Inc   \n6419                         Amelia   \n6420                     Mastercard   \n6421                     Fieldguide   \n6422                       Intelsat   \n\n                                             Nestlé USA  \\\n0                             Product Marketing Manager   \n1                          Manager of Product Marketing   \n2                               Digital Product Manager   \n3                                       Product Manager   \n4                                         Product Owner   \n...                                                 ...   \n6418                                Sr. Product Manager   \n6419                                    Product Manager   \n6420                   Lead Product Manager - Technical   \n6421                               Lead Product Manager   \n6422  Product Manager, Business Insights, Analytics ...   \n\n     Product Development Manager (TAG) - Bakery/Sweets Arlington, VA  \\\n0                                               Remote            PM   \n1                                          Atlanta, GA            PM   \n2                                  Hauppauge, NY 11788            PM   \n3                           Glendale Heights, IL 60139            PM   \n4                        Remote in Nashville, TN 37215            PM   \n...                                                ...           ...   \n6418           San Jose, CA 95124 (Cambrian Park area)            PM   \n6419                                      New York, NY            PM   \n6420                                O'Fallon, MO 63368            PM   \n6421                              Remote in California            PM   \n6422                       Hybrid remote in McLean, VA            PM   \n\n             PM                   MID_LEVEL  \\\n0     MID_LEVEL  $110,000 - $140,000 a year   \n1     MID_LEVEL  $109,434 - $117,170 a year   \n2     MID_LEVEL   $88,000 - $109,500 a year   \n3     MID_LEVEL                         NaN   \n4     MID_LEVEL                         NaN   \n...         ...                         ...   \n6418  MID_LEVEL                         NaN   \n6419  MID_LEVEL                         NaN   \n6420  MID_LEVEL                         NaN   \n6421  MID_LEVEL                         NaN   \n6422  MID_LEVEL                         NaN   \n\n                                                     NA  \n0     About Foursquare Foursquare is the leading ind...  \n1     Position SummaryThe Manager of Product Marketi...  \n2     For 70 years, Teachers Federal Credit Union ha...  \n3     OSM is a technology enabled shipping and logis...  \n4     Product Owner Job Category: Information Techno...  \n...                                                 ...  \n6418   Overview:   WHAT YOU DO AT AMD CHANGES EVERYT...  \n6419     Collaboration between humans and machines i...  \n6420    Our Purpose    We work to connect and power ...  \n6421  About us: Fieldguide is establishing a new sta...  \n6422  Product Manager, Business Insights, Analytics ...  \n\n[6423 rows x 7 columns]",
      "text/html": "<div>\n<style scoped>\n    .dataframe tbody tr th:only-of-type {\n        vertical-align: middle;\n    }\n\n    .dataframe tbody tr th {\n        vertical-align: top;\n    }\n\n    .dataframe thead th {\n        text-align: right;\n    }\n</style>\n<table border=\"1\" class=\"dataframe\">\n  <thead>\n    <tr style=\"text-align: right;\">\n      <th></th>\n      <th>index</th>\n      <th>Nestlé USA</th>\n      <th>Product Development Manager (TAG) - Bakery/Sweets</th>\n      <th>Arlington, VA</th>\n      <th>PM</th>\n      <th>MID_LEVEL</th>\n      <th>NA</th>\n    </tr>\n  </thead>\n  <tbody>\n    <tr>\n      <th>0</th>\n      <td>Foursquare</td>\n      <td>Product Marketing Manager</td>\n      <td>Remote</td>\n      <td>PM</td>\n      <td>MID_LEVEL</td>\n      <td>$110,000 - $140,000 a year</td>\n      <td>About Foursquare Foursquare is the leading ind...</td>\n    </tr>\n    <tr>\n      <th>1</th>\n      <td>Neptune Technology Group</td>\n      <td>Manager of Product Marketing</td>\n      <td>Atlanta, GA</td>\n      <td>PM</td>\n      <td>MID_LEVEL</td>\n      <td>$109,434 - $117,170 a year</td>\n      <td>Position SummaryThe Manager of Product Marketi...</td>\n    </tr>\n    <tr>\n      <th>2</th>\n      <td>Teachers Federal Credit Union</td>\n      <td>Digital Product Manager</td>\n      <td>Hauppauge, NY 11788</td>\n      <td>PM</td>\n      <td>MID_LEVEL</td>\n      <td>$88,000 - $109,500 a year</td>\n      <td>For 70 years, Teachers Federal Credit Union ha...</td>\n    </tr>\n    <tr>\n      <th>3</th>\n      <td>OSM Worldwide</td>\n      <td>Product Manager</td>\n      <td>Glendale Heights, IL 60139</td>\n      <td>PM</td>\n      <td>MID_LEVEL</td>\n      <td>NaN</td>\n      <td>OSM is a technology enabled shipping and logis...</td>\n    </tr>\n    <tr>\n      <th>4</th>\n      <td>ImageSoft</td>\n      <td>Product Owner</td>\n      <td>Remote in Nashville, TN 37215</td>\n      <td>PM</td>\n      <td>MID_LEVEL</td>\n      <td>NaN</td>\n      <td>Product Owner Job Category: Information Techno...</td>\n    </tr>\n    <tr>\n      <th>...</th>\n      <td>...</td>\n      <td>...</td>\n      <td>...</td>\n      <td>...</td>\n      <td>...</td>\n      <td>...</td>\n      <td>...</td>\n    </tr>\n    <tr>\n      <th>6418</th>\n      <td>Advanced Micro Devices, Inc</td>\n      <td>Sr. Product Manager</td>\n      <td>San Jose, CA 95124 (Cambrian Park area)</td>\n      <td>PM</td>\n      <td>MID_LEVEL</td>\n      <td>NaN</td>\n      <td>Overview:   WHAT YOU DO AT AMD CHANGES EVERYT...</td>\n    </tr>\n    <tr>\n      <th>6419</th>\n      <td>Amelia</td>\n      <td>Product Manager</td>\n      <td>New York, NY</td>\n      <td>PM</td>\n      <td>MID_LEVEL</td>\n      <td>NaN</td>\n      <td>Collaboration between humans and machines i...</td>\n    </tr>\n    <tr>\n      <th>6420</th>\n      <td>Mastercard</td>\n      <td>Lead Product Manager - Technical</td>\n      <td>O'Fallon, MO 63368</td>\n      <td>PM</td>\n      <td>MID_LEVEL</td>\n      <td>NaN</td>\n      <td>Our Purpose    We work to connect and power ...</td>\n    </tr>\n    <tr>\n      <th>6421</th>\n      <td>Fieldguide</td>\n      <td>Lead Product Manager</td>\n      <td>Remote in California</td>\n      <td>PM</td>\n      <td>MID_LEVEL</td>\n      <td>NaN</td>\n      <td>About us: Fieldguide is establishing a new sta...</td>\n    </tr>\n    <tr>\n      <th>6422</th>\n      <td>Intelsat</td>\n      <td>Product Manager, Business Insights, Analytics ...</td>\n      <td>Hybrid remote in McLean, VA</td>\n      <td>PM</td>\n      <td>MID_LEVEL</td>\n      <td>NaN</td>\n      <td>Product Manager, Business Insights, Analytics ...</td>\n    </tr>\n  </tbody>\n</table>\n<p>6423 rows × 7 columns</p>\n</div>"
     },
     "execution_count": 11,
     "metadata": {},
     "output_type": "execute_result"
    }
   ],
   "source": [
    "df.reset_index()"
   ],
   "metadata": {
    "collapsed": false,
    "ExecuteTime": {
     "end_time": "2023-12-01T00:58:22.105319Z",
     "start_time": "2023-12-01T00:58:22.095758Z"
    }
   },
   "id": "5983a1cc7eb9f68f"
  },
  {
   "cell_type": "code",
   "execution_count": 16,
   "outputs": [
    {
     "data": {
      "text/plain": "                            Company  \\\n0                        Foursquare   \n1          Neptune Technology Group   \n2     Teachers Federal Credit Union   \n3                     OSM Worldwide   \n4                         ImageSoft   \n...                             ...   \n6418    Advanced Micro Devices, Inc   \n6419                         Amelia   \n6420                     Mastercard   \n6421                     Fieldguide   \n6422                       Intelsat   \n\n                                             Nestlé USA  \\\n0                             Product Marketing Manager   \n1                          Manager of Product Marketing   \n2                               Digital Product Manager   \n3                                       Product Manager   \n4                                         Product Owner   \n...                                                 ...   \n6418                                Sr. Product Manager   \n6419                                    Product Manager   \n6420                   Lead Product Manager - Technical   \n6421                               Lead Product Manager   \n6422  Product Manager, Business Insights, Analytics ...   \n\n     Product Development Manager (TAG) - Bakery/Sweets Arlington, VA  \\\n0                                               Remote            PM   \n1                                          Atlanta, GA            PM   \n2                                  Hauppauge, NY 11788            PM   \n3                           Glendale Heights, IL 60139            PM   \n4                        Remote in Nashville, TN 37215            PM   \n...                                                ...           ...   \n6418           San Jose, CA 95124 (Cambrian Park area)            PM   \n6419                                      New York, NY            PM   \n6420                                O'Fallon, MO 63368            PM   \n6421                              Remote in California            PM   \n6422                       Hybrid remote in McLean, VA            PM   \n\n             PM                   MID_LEVEL  \\\n0     MID_LEVEL  $110,000 - $140,000 a year   \n1     MID_LEVEL  $109,434 - $117,170 a year   \n2     MID_LEVEL   $88,000 - $109,500 a year   \n3     MID_LEVEL                         NaN   \n4     MID_LEVEL                         NaN   \n...         ...                         ...   \n6418  MID_LEVEL                         NaN   \n6419  MID_LEVEL                         NaN   \n6420  MID_LEVEL                         NaN   \n6421  MID_LEVEL                         NaN   \n6422  MID_LEVEL                         NaN   \n\n                                                     NA  \n0     About Foursquare Foursquare is the leading ind...  \n1     Position SummaryThe Manager of Product Marketi...  \n2     For 70 years, Teachers Federal Credit Union ha...  \n3     OSM is a technology enabled shipping and logis...  \n4     Product Owner Job Category: Information Techno...  \n...                                                 ...  \n6418   Overview:   WHAT YOU DO AT AMD CHANGES EVERYT...  \n6419     Collaboration between humans and machines i...  \n6420    Our Purpose    We work to connect and power ...  \n6421  About us: Fieldguide is establishing a new sta...  \n6422  Product Manager, Business Insights, Analytics ...  \n\n[6423 rows x 7 columns]",
      "text/html": "<div>\n<style scoped>\n    .dataframe tbody tr th:only-of-type {\n        vertical-align: middle;\n    }\n\n    .dataframe tbody tr th {\n        vertical-align: top;\n    }\n\n    .dataframe thead th {\n        text-align: right;\n    }\n</style>\n<table border=\"1\" class=\"dataframe\">\n  <thead>\n    <tr style=\"text-align: right;\">\n      <th></th>\n      <th>Company</th>\n      <th>Nestlé USA</th>\n      <th>Product Development Manager (TAG) - Bakery/Sweets</th>\n      <th>Arlington, VA</th>\n      <th>PM</th>\n      <th>MID_LEVEL</th>\n      <th>NA</th>\n    </tr>\n  </thead>\n  <tbody>\n    <tr>\n      <th>0</th>\n      <td>Foursquare</td>\n      <td>Product Marketing Manager</td>\n      <td>Remote</td>\n      <td>PM</td>\n      <td>MID_LEVEL</td>\n      <td>$110,000 - $140,000 a year</td>\n      <td>About Foursquare Foursquare is the leading ind...</td>\n    </tr>\n    <tr>\n      <th>1</th>\n      <td>Neptune Technology Group</td>\n      <td>Manager of Product Marketing</td>\n      <td>Atlanta, GA</td>\n      <td>PM</td>\n      <td>MID_LEVEL</td>\n      <td>$109,434 - $117,170 a year</td>\n      <td>Position SummaryThe Manager of Product Marketi...</td>\n    </tr>\n    <tr>\n      <th>2</th>\n      <td>Teachers Federal Credit Union</td>\n      <td>Digital Product Manager</td>\n      <td>Hauppauge, NY 11788</td>\n      <td>PM</td>\n      <td>MID_LEVEL</td>\n      <td>$88,000 - $109,500 a year</td>\n      <td>For 70 years, Teachers Federal Credit Union ha...</td>\n    </tr>\n    <tr>\n      <th>3</th>\n      <td>OSM Worldwide</td>\n      <td>Product Manager</td>\n      <td>Glendale Heights, IL 60139</td>\n      <td>PM</td>\n      <td>MID_LEVEL</td>\n      <td>NaN</td>\n      <td>OSM is a technology enabled shipping and logis...</td>\n    </tr>\n    <tr>\n      <th>4</th>\n      <td>ImageSoft</td>\n      <td>Product Owner</td>\n      <td>Remote in Nashville, TN 37215</td>\n      <td>PM</td>\n      <td>MID_LEVEL</td>\n      <td>NaN</td>\n      <td>Product Owner Job Category: Information Techno...</td>\n    </tr>\n    <tr>\n      <th>...</th>\n      <td>...</td>\n      <td>...</td>\n      <td>...</td>\n      <td>...</td>\n      <td>...</td>\n      <td>...</td>\n      <td>...</td>\n    </tr>\n    <tr>\n      <th>6418</th>\n      <td>Advanced Micro Devices, Inc</td>\n      <td>Sr. Product Manager</td>\n      <td>San Jose, CA 95124 (Cambrian Park area)</td>\n      <td>PM</td>\n      <td>MID_LEVEL</td>\n      <td>NaN</td>\n      <td>Overview:   WHAT YOU DO AT AMD CHANGES EVERYT...</td>\n    </tr>\n    <tr>\n      <th>6419</th>\n      <td>Amelia</td>\n      <td>Product Manager</td>\n      <td>New York, NY</td>\n      <td>PM</td>\n      <td>MID_LEVEL</td>\n      <td>NaN</td>\n      <td>Collaboration between humans and machines i...</td>\n    </tr>\n    <tr>\n      <th>6420</th>\n      <td>Mastercard</td>\n      <td>Lead Product Manager - Technical</td>\n      <td>O'Fallon, MO 63368</td>\n      <td>PM</td>\n      <td>MID_LEVEL</td>\n      <td>NaN</td>\n      <td>Our Purpose    We work to connect and power ...</td>\n    </tr>\n    <tr>\n      <th>6421</th>\n      <td>Fieldguide</td>\n      <td>Lead Product Manager</td>\n      <td>Remote in California</td>\n      <td>PM</td>\n      <td>MID_LEVEL</td>\n      <td>NaN</td>\n      <td>About us: Fieldguide is establishing a new sta...</td>\n    </tr>\n    <tr>\n      <th>6422</th>\n      <td>Intelsat</td>\n      <td>Product Manager, Business Insights, Analytics ...</td>\n      <td>Hybrid remote in McLean, VA</td>\n      <td>PM</td>\n      <td>MID_LEVEL</td>\n      <td>NaN</td>\n      <td>Product Manager, Business Insights, Analytics ...</td>\n    </tr>\n  </tbody>\n</table>\n<p>6423 rows × 7 columns</p>\n</div>"
     },
     "execution_count": 16,
     "metadata": {},
     "output_type": "execute_result"
    }
   ],
   "source": [
    "df.rename_axis('Company').reset_index()"
   ],
   "metadata": {
    "collapsed": false,
    "ExecuteTime": {
     "end_time": "2023-12-01T00:59:30.234649Z",
     "start_time": "2023-12-01T00:59:30.227083Z"
    }
   },
   "id": "2d5f6018f60da898"
  },
  {
   "cell_type": "code",
   "execution_count": 18,
   "outputs": [],
   "source": [
    "df = df.assign(company=df.index).reset_index(drop=True)"
   ],
   "metadata": {
    "collapsed": false,
    "ExecuteTime": {
     "end_time": "2023-12-01T01:00:10.456266Z",
     "start_time": "2023-12-01T01:00:10.444501Z"
    }
   },
   "id": "955589af68d391b4"
  },
  {
   "cell_type": "code",
   "execution_count": 21,
   "outputs": [
    {
     "data": {
      "text/plain": "                                             Nestlé USA  \\\n0                             Product Marketing Manager   \n1                          Manager of Product Marketing   \n2                               Digital Product Manager   \n3                                       Product Manager   \n4                                         Product Owner   \n...                                                 ...   \n6418                                Sr. Product Manager   \n6419                                    Product Manager   \n6420                   Lead Product Manager - Technical   \n6421                               Lead Product Manager   \n6422  Product Manager, Business Insights, Analytics ...   \n\n     Product Development Manager (TAG) - Bakery/Sweets Arlington, VA  \\\n0                                               Remote            PM   \n1                                          Atlanta, GA            PM   \n2                                  Hauppauge, NY 11788            PM   \n3                           Glendale Heights, IL 60139            PM   \n4                        Remote in Nashville, TN 37215            PM   \n...                                                ...           ...   \n6418           San Jose, CA 95124 (Cambrian Park area)            PM   \n6419                                      New York, NY            PM   \n6420                                O'Fallon, MO 63368            PM   \n6421                              Remote in California            PM   \n6422                       Hybrid remote in McLean, VA            PM   \n\n             PM                   MID_LEVEL  \\\n0     MID_LEVEL  $110,000 - $140,000 a year   \n1     MID_LEVEL  $109,434 - $117,170 a year   \n2     MID_LEVEL   $88,000 - $109,500 a year   \n3     MID_LEVEL                         NaN   \n4     MID_LEVEL                         NaN   \n...         ...                         ...   \n6418  MID_LEVEL                         NaN   \n6419  MID_LEVEL                         NaN   \n6420  MID_LEVEL                         NaN   \n6421  MID_LEVEL                         NaN   \n6422  MID_LEVEL                         NaN   \n\n                                                     NA  \\\n0     About Foursquare Foursquare is the leading ind...   \n1     Position SummaryThe Manager of Product Marketi...   \n2     For 70 years, Teachers Federal Credit Union ha...   \n3     OSM is a technology enabled shipping and logis...   \n4     Product Owner Job Category: Information Techno...   \n...                                                 ...   \n6418   Overview:   WHAT YOU DO AT AMD CHANGES EVERYT...   \n6419     Collaboration between humans and machines i...   \n6420    Our Purpose    We work to connect and power ...   \n6421  About us: Fieldguide is establishing a new sta...   \n6422  Product Manager, Business Insights, Analytics ...   \n\n                            company  \n0                        Foursquare  \n1          Neptune Technology Group  \n2     Teachers Federal Credit Union  \n3                     OSM Worldwide  \n4                         ImageSoft  \n...                             ...  \n6418    Advanced Micro Devices, Inc  \n6419                         Amelia  \n6420                     Mastercard  \n6421                     Fieldguide  \n6422                       Intelsat  \n\n[6423 rows x 7 columns]",
      "text/html": "<div>\n<style scoped>\n    .dataframe tbody tr th:only-of-type {\n        vertical-align: middle;\n    }\n\n    .dataframe tbody tr th {\n        vertical-align: top;\n    }\n\n    .dataframe thead th {\n        text-align: right;\n    }\n</style>\n<table border=\"1\" class=\"dataframe\">\n  <thead>\n    <tr style=\"text-align: right;\">\n      <th></th>\n      <th>Nestlé USA</th>\n      <th>Product Development Manager (TAG) - Bakery/Sweets</th>\n      <th>Arlington, VA</th>\n      <th>PM</th>\n      <th>MID_LEVEL</th>\n      <th>NA</th>\n      <th>company</th>\n    </tr>\n  </thead>\n  <tbody>\n    <tr>\n      <th>0</th>\n      <td>Product Marketing Manager</td>\n      <td>Remote</td>\n      <td>PM</td>\n      <td>MID_LEVEL</td>\n      <td>$110,000 - $140,000 a year</td>\n      <td>About Foursquare Foursquare is the leading ind...</td>\n      <td>Foursquare</td>\n    </tr>\n    <tr>\n      <th>1</th>\n      <td>Manager of Product Marketing</td>\n      <td>Atlanta, GA</td>\n      <td>PM</td>\n      <td>MID_LEVEL</td>\n      <td>$109,434 - $117,170 a year</td>\n      <td>Position SummaryThe Manager of Product Marketi...</td>\n      <td>Neptune Technology Group</td>\n    </tr>\n    <tr>\n      <th>2</th>\n      <td>Digital Product Manager</td>\n      <td>Hauppauge, NY 11788</td>\n      <td>PM</td>\n      <td>MID_LEVEL</td>\n      <td>$88,000 - $109,500 a year</td>\n      <td>For 70 years, Teachers Federal Credit Union ha...</td>\n      <td>Teachers Federal Credit Union</td>\n    </tr>\n    <tr>\n      <th>3</th>\n      <td>Product Manager</td>\n      <td>Glendale Heights, IL 60139</td>\n      <td>PM</td>\n      <td>MID_LEVEL</td>\n      <td>NaN</td>\n      <td>OSM is a technology enabled shipping and logis...</td>\n      <td>OSM Worldwide</td>\n    </tr>\n    <tr>\n      <th>4</th>\n      <td>Product Owner</td>\n      <td>Remote in Nashville, TN 37215</td>\n      <td>PM</td>\n      <td>MID_LEVEL</td>\n      <td>NaN</td>\n      <td>Product Owner Job Category: Information Techno...</td>\n      <td>ImageSoft</td>\n    </tr>\n    <tr>\n      <th>...</th>\n      <td>...</td>\n      <td>...</td>\n      <td>...</td>\n      <td>...</td>\n      <td>...</td>\n      <td>...</td>\n      <td>...</td>\n    </tr>\n    <tr>\n      <th>6418</th>\n      <td>Sr. Product Manager</td>\n      <td>San Jose, CA 95124 (Cambrian Park area)</td>\n      <td>PM</td>\n      <td>MID_LEVEL</td>\n      <td>NaN</td>\n      <td>Overview:   WHAT YOU DO AT AMD CHANGES EVERYT...</td>\n      <td>Advanced Micro Devices, Inc</td>\n    </tr>\n    <tr>\n      <th>6419</th>\n      <td>Product Manager</td>\n      <td>New York, NY</td>\n      <td>PM</td>\n      <td>MID_LEVEL</td>\n      <td>NaN</td>\n      <td>Collaboration between humans and machines i...</td>\n      <td>Amelia</td>\n    </tr>\n    <tr>\n      <th>6420</th>\n      <td>Lead Product Manager - Technical</td>\n      <td>O'Fallon, MO 63368</td>\n      <td>PM</td>\n      <td>MID_LEVEL</td>\n      <td>NaN</td>\n      <td>Our Purpose    We work to connect and power ...</td>\n      <td>Mastercard</td>\n    </tr>\n    <tr>\n      <th>6421</th>\n      <td>Lead Product Manager</td>\n      <td>Remote in California</td>\n      <td>PM</td>\n      <td>MID_LEVEL</td>\n      <td>NaN</td>\n      <td>About us: Fieldguide is establishing a new sta...</td>\n      <td>Fieldguide</td>\n    </tr>\n    <tr>\n      <th>6422</th>\n      <td>Product Manager, Business Insights, Analytics ...</td>\n      <td>Hybrid remote in McLean, VA</td>\n      <td>PM</td>\n      <td>MID_LEVEL</td>\n      <td>NaN</td>\n      <td>Product Manager, Business Insights, Analytics ...</td>\n      <td>Intelsat</td>\n    </tr>\n  </tbody>\n</table>\n<p>6423 rows × 7 columns</p>\n</div>"
     },
     "execution_count": 21,
     "metadata": {},
     "output_type": "execute_result"
    }
   ],
   "source": [
    "df"
   ],
   "metadata": {
    "collapsed": false,
    "ExecuteTime": {
     "end_time": "2023-12-01T01:01:55.366267Z",
     "start_time": "2023-12-01T01:01:55.359858Z"
    }
   },
   "id": "c5f3a358a90ddfc6"
  },
  {
   "cell_type": "code",
   "execution_count": 22,
   "outputs": [],
   "source": [
    "df2 = pd.DataFrame()"
   ],
   "metadata": {
    "collapsed": false,
    "ExecuteTime": {
     "end_time": "2023-12-01T01:02:06.339949Z",
     "start_time": "2023-12-01T01:02:06.334085Z"
    }
   },
   "id": "48cfadf87776a9ae"
  },
  {
   "cell_type": "code",
   "execution_count": 24,
   "outputs": [],
   "source": [
    "df2['Company'] = df['company']\n",
    "df2['Title'] = df['Nestlé USA']\n",
    "df2['Location'] = df['Product Development Manager (TAG) - Bakery/Sweets']\n",
    "df2['Category'] = df['Arlington, VA']\n",
    "df2['Experience'] = df['PM']\n",
    "df2['Salary'] = df['MID_LEVEL']\n",
    "df2['Desc'] = df ['NA']"
   ],
   "metadata": {
    "collapsed": false,
    "ExecuteTime": {
     "end_time": "2023-12-01T01:02:14.823996Z",
     "start_time": "2023-12-01T01:02:14.807049Z"
    }
   },
   "id": "70bc6ef4c9523bbd"
  },
  {
   "cell_type": "code",
   "execution_count": 25,
   "outputs": [
    {
     "data": {
      "text/plain": "                            Company  \\\n0                        Foursquare   \n1          Neptune Technology Group   \n2     Teachers Federal Credit Union   \n3                     OSM Worldwide   \n4                         ImageSoft   \n...                             ...   \n6418    Advanced Micro Devices, Inc   \n6419                         Amelia   \n6420                     Mastercard   \n6421                     Fieldguide   \n6422                       Intelsat   \n\n                                                  Title  \\\n0                             Product Marketing Manager   \n1                          Manager of Product Marketing   \n2                               Digital Product Manager   \n3                                       Product Manager   \n4                                         Product Owner   \n...                                                 ...   \n6418                                Sr. Product Manager   \n6419                                    Product Manager   \n6420                   Lead Product Manager - Technical   \n6421                               Lead Product Manager   \n6422  Product Manager, Business Insights, Analytics ...   \n\n                                     Location Category Experience  \\\n0                                      Remote       PM  MID_LEVEL   \n1                                 Atlanta, GA       PM  MID_LEVEL   \n2                         Hauppauge, NY 11788       PM  MID_LEVEL   \n3                  Glendale Heights, IL 60139       PM  MID_LEVEL   \n4               Remote in Nashville, TN 37215       PM  MID_LEVEL   \n...                                       ...      ...        ...   \n6418  San Jose, CA 95124 (Cambrian Park area)       PM  MID_LEVEL   \n6419                             New York, NY       PM  MID_LEVEL   \n6420                       O'Fallon, MO 63368       PM  MID_LEVEL   \n6421                     Remote in California       PM  MID_LEVEL   \n6422              Hybrid remote in McLean, VA       PM  MID_LEVEL   \n\n                          Salary  \\\n0     $110,000 - $140,000 a year   \n1     $109,434 - $117,170 a year   \n2      $88,000 - $109,500 a year   \n3                            NaN   \n4                            NaN   \n...                          ...   \n6418                         NaN   \n6419                         NaN   \n6420                         NaN   \n6421                         NaN   \n6422                         NaN   \n\n                                                   Desc  \n0     About Foursquare Foursquare is the leading ind...  \n1     Position SummaryThe Manager of Product Marketi...  \n2     For 70 years, Teachers Federal Credit Union ha...  \n3     OSM is a technology enabled shipping and logis...  \n4     Product Owner Job Category: Information Techno...  \n...                                                 ...  \n6418   Overview:   WHAT YOU DO AT AMD CHANGES EVERYT...  \n6419     Collaboration between humans and machines i...  \n6420    Our Purpose    We work to connect and power ...  \n6421  About us: Fieldguide is establishing a new sta...  \n6422  Product Manager, Business Insights, Analytics ...  \n\n[6423 rows x 7 columns]",
      "text/html": "<div>\n<style scoped>\n    .dataframe tbody tr th:only-of-type {\n        vertical-align: middle;\n    }\n\n    .dataframe tbody tr th {\n        vertical-align: top;\n    }\n\n    .dataframe thead th {\n        text-align: right;\n    }\n</style>\n<table border=\"1\" class=\"dataframe\">\n  <thead>\n    <tr style=\"text-align: right;\">\n      <th></th>\n      <th>Company</th>\n      <th>Title</th>\n      <th>Location</th>\n      <th>Category</th>\n      <th>Experience</th>\n      <th>Salary</th>\n      <th>Desc</th>\n    </tr>\n  </thead>\n  <tbody>\n    <tr>\n      <th>0</th>\n      <td>Foursquare</td>\n      <td>Product Marketing Manager</td>\n      <td>Remote</td>\n      <td>PM</td>\n      <td>MID_LEVEL</td>\n      <td>$110,000 - $140,000 a year</td>\n      <td>About Foursquare Foursquare is the leading ind...</td>\n    </tr>\n    <tr>\n      <th>1</th>\n      <td>Neptune Technology Group</td>\n      <td>Manager of Product Marketing</td>\n      <td>Atlanta, GA</td>\n      <td>PM</td>\n      <td>MID_LEVEL</td>\n      <td>$109,434 - $117,170 a year</td>\n      <td>Position SummaryThe Manager of Product Marketi...</td>\n    </tr>\n    <tr>\n      <th>2</th>\n      <td>Teachers Federal Credit Union</td>\n      <td>Digital Product Manager</td>\n      <td>Hauppauge, NY 11788</td>\n      <td>PM</td>\n      <td>MID_LEVEL</td>\n      <td>$88,000 - $109,500 a year</td>\n      <td>For 70 years, Teachers Federal Credit Union ha...</td>\n    </tr>\n    <tr>\n      <th>3</th>\n      <td>OSM Worldwide</td>\n      <td>Product Manager</td>\n      <td>Glendale Heights, IL 60139</td>\n      <td>PM</td>\n      <td>MID_LEVEL</td>\n      <td>NaN</td>\n      <td>OSM is a technology enabled shipping and logis...</td>\n    </tr>\n    <tr>\n      <th>4</th>\n      <td>ImageSoft</td>\n      <td>Product Owner</td>\n      <td>Remote in Nashville, TN 37215</td>\n      <td>PM</td>\n      <td>MID_LEVEL</td>\n      <td>NaN</td>\n      <td>Product Owner Job Category: Information Techno...</td>\n    </tr>\n    <tr>\n      <th>...</th>\n      <td>...</td>\n      <td>...</td>\n      <td>...</td>\n      <td>...</td>\n      <td>...</td>\n      <td>...</td>\n      <td>...</td>\n    </tr>\n    <tr>\n      <th>6418</th>\n      <td>Advanced Micro Devices, Inc</td>\n      <td>Sr. Product Manager</td>\n      <td>San Jose, CA 95124 (Cambrian Park area)</td>\n      <td>PM</td>\n      <td>MID_LEVEL</td>\n      <td>NaN</td>\n      <td>Overview:   WHAT YOU DO AT AMD CHANGES EVERYT...</td>\n    </tr>\n    <tr>\n      <th>6419</th>\n      <td>Amelia</td>\n      <td>Product Manager</td>\n      <td>New York, NY</td>\n      <td>PM</td>\n      <td>MID_LEVEL</td>\n      <td>NaN</td>\n      <td>Collaboration between humans and machines i...</td>\n    </tr>\n    <tr>\n      <th>6420</th>\n      <td>Mastercard</td>\n      <td>Lead Product Manager - Technical</td>\n      <td>O'Fallon, MO 63368</td>\n      <td>PM</td>\n      <td>MID_LEVEL</td>\n      <td>NaN</td>\n      <td>Our Purpose    We work to connect and power ...</td>\n    </tr>\n    <tr>\n      <th>6421</th>\n      <td>Fieldguide</td>\n      <td>Lead Product Manager</td>\n      <td>Remote in California</td>\n      <td>PM</td>\n      <td>MID_LEVEL</td>\n      <td>NaN</td>\n      <td>About us: Fieldguide is establishing a new sta...</td>\n    </tr>\n    <tr>\n      <th>6422</th>\n      <td>Intelsat</td>\n      <td>Product Manager, Business Insights, Analytics ...</td>\n      <td>Hybrid remote in McLean, VA</td>\n      <td>PM</td>\n      <td>MID_LEVEL</td>\n      <td>NaN</td>\n      <td>Product Manager, Business Insights, Analytics ...</td>\n    </tr>\n  </tbody>\n</table>\n<p>6423 rows × 7 columns</p>\n</div>"
     },
     "execution_count": 25,
     "metadata": {},
     "output_type": "execute_result"
    }
   ],
   "source": [
    "df2"
   ],
   "metadata": {
    "collapsed": false,
    "ExecuteTime": {
     "end_time": "2023-12-01T01:02:28.571886Z",
     "start_time": "2023-12-01T01:02:28.564789Z"
    }
   },
   "id": "cc0d7527496dafee"
  },
  {
   "cell_type": "code",
   "execution_count": 30,
   "outputs": [
    {
     "data": {
      "text/plain": "array(['Foursquare', 'Neptune Technology Group',\n       'Teachers Federal Credit Union', ...,\n       'Brooklyn Park, MN 55445\\xa0(Greenhaven area)', 'San Mateo, CA',\n       'Chandler, AZ 85225'], dtype=object)"
     },
     "execution_count": 30,
     "metadata": {},
     "output_type": "execute_result"
    }
   ],
   "source": [
    "pd.concat([df2['Company'],df2['Title'],df2['Location']]).unique()"
   ],
   "metadata": {
    "collapsed": false,
    "ExecuteTime": {
     "end_time": "2023-12-01T01:06:02.406784Z",
     "start_time": "2023-12-01T01:06:02.403496Z"
    }
   },
   "id": "9667410390a3a08c"
  },
  {
   "cell_type": "code",
   "execution_count": null,
   "outputs": [],
   "source": [],
   "metadata": {
    "collapsed": false
   },
   "id": "e7ffb57fb473a283"
  }
 ],
 "metadata": {
  "kernelspec": {
   "display_name": "Python 3",
   "language": "python",
   "name": "python3"
  },
  "language_info": {
   "codemirror_mode": {
    "name": "ipython",
    "version": 3
   },
   "file_extension": ".py",
   "mimetype": "text/x-python",
   "name": "python",
   "nbconvert_exporter": "python",
   "pygments_lexer": "ipython3",
   "version": "3.11.2"
  }
 },
 "nbformat": 4,
 "nbformat_minor": 5
}
