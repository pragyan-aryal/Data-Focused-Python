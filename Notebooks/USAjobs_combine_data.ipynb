{
  "nbformat": 4,
  "nbformat_minor": 0,
  "metadata": {
    "colab": {
      "provenance": []
    },
    "kernelspec": {
      "name": "python3",
      "display_name": "Python 3"
    },
    "language_info": {
      "name": "python"
    }
  },
  "cells": [
    {
      "cell_type": "code",
      "execution_count": null,
      "metadata": {
        "id": "roAkVK4i1UK4"
      },
      "outputs": [],
      "source": [
        "# %%\n",
        "import pandas as pd\n",
        "import os\n",
        "\n",
        "# %%\n",
        "# Directory containing CSV files\n",
        "csv_directory = 'D:\\Semester 2\\DFP\\Group Project\\Scrape_Data'\n",
        "\n",
        "# Output file name\n",
        "output_file = 'updated_data.csv'\n",
        "\n",
        "# List to store individual DataFrames\n",
        "dataframes = []\n",
        "\n",
        "# Loop through all CSV files in the directory\n",
        "for filename in os.listdir(csv_directory):\n",
        "    if filename.endswith('.csv'):\n",
        "        # Read each CSV file into a DataFrame\n",
        "        file_path = os.path.join(csv_directory, filename)\n",
        "        df = pd.read_csv(file_path)\n",
        "\n",
        "        # Append the DataFrame to the list\n",
        "        dataframes.append(df)\n",
        "\n",
        "# Concatenate all DataFrames into one\n",
        "combined_df = pd.concat(dataframes, ignore_index=True)\n",
        "\n",
        "# Write the combined DataFrame to a new CSV file\n",
        "combined_df.to_csv(output_file, index=False)\n",
        "\n",
        "print(f'Combined data saved to {output_file}')\n"
      ]
    }
  ]
}