{
 "cells": [
  {
   "cell_type": "code",
   "execution_count": 2,
   "id": "initial_id",
   "metadata": {
    "ExecuteTime": {
     "end_time": "2023-12-05T00:49:06.626496Z",
     "start_time": "2023-12-05T00:49:06.622336Z"
    }
   },
   "outputs": [],
   "source": [
    "import pandas as pd\n",
    "import json"
   ]
  },
  {
   "cell_type": "code",
   "execution_count": 2,
   "id": "e2289308bcb7dd4f",
   "metadata": {
    "ExecuteTime": {
     "end_time": "2023-12-05T00:48:17.260240Z",
     "start_time": "2023-12-05T00:48:17.088103Z"
    }
   },
   "outputs": [],
   "source": [
    "df = pd.read_parquet('../Data/Indeed/clean_location.parquet')"
   ]
  },
  {
   "cell_type": "code",
   "execution_count": 3,
   "id": "39267f7d9db8be52",
   "metadata": {
    "ExecuteTime": {
     "end_time": "2023-12-05T00:49:09.091205Z",
     "start_time": "2023-12-05T00:49:09.052805Z"
    }
   },
   "outputs": [],
   "source": [
    "add_df = pd.read_csv('../Data/Indeed/location.tsv', sep='\\t')"
   ]
  },
  {
   "cell_type": "code",
   "execution_count": 4,
   "id": "5751171eb5a3c917",
   "metadata": {
    "ExecuteTime": {
     "end_time": "2023-12-05T00:49:10.155312Z",
     "start_time": "2023-12-05T00:49:10.149055Z"
    }
   },
   "outputs": [],
   "source": [
    "# add_df_dict = dict(zip(add_df['location'], add_df['values']))"
   ]
  },
  {
   "cell_type": "code",
   "execution_count": 1,
   "id": "b31c4bf3dd97fb5b",
   "metadata": {
    "ExecuteTime": {
     "end_time": "2023-12-05T00:49:19.924033Z",
     "start_time": "2023-12-05T00:49:19.832041Z"
    }
   },
   "outputs": [
    {
     "ename": "NameError",
     "evalue": "name 'add_df' is not defined",
     "output_type": "error",
     "traceback": [
      "\u001b[0;31m---------------------------------------------------------------------------\u001b[0m",
      "\u001b[0;31mNameError\u001b[0m                                 Traceback (most recent call last)",
      "Cell \u001b[0;32mIn[1], line 1\u001b[0m\n\u001b[0;32m----> 1\u001b[0m \u001b[38;5;28;01mfor\u001b[39;00m v \u001b[38;5;129;01min\u001b[39;00m \u001b[43madd_df\u001b[49m[\u001b[38;5;124m'\u001b[39m\u001b[38;5;124mvalues\u001b[39m\u001b[38;5;124m'\u001b[39m]:\n\u001b[1;32m      2\u001b[0m     \u001b[38;5;28mprint\u001b[39m(v)\n\u001b[1;32m      3\u001b[0m     exit(\u001b[38;5;241m0\u001b[39m)\n",
      "\u001b[0;31mNameError\u001b[0m: name 'add_df' is not defined"
     ]
    }
   ],
   "source": [
    "for v in add_df['values']:\n",
    "    print(v)\n",
    "    exit(0)\n",
    "    # print(a['latitude'], a)"
   ]
  },
  {
   "cell_type": "code",
   "execution_count": null,
   "id": "546136ef332a2c0b",
   "metadata": {},
   "outputs": [],
   "source": []
  }
 ],
 "metadata": {
  "kernelspec": {
   "display_name": "Python 3 (ipykernel)",
   "language": "python",
   "name": "python3"
  },
  "language_info": {
   "codemirror_mode": {
    "name": "ipython",
    "version": 3
   },
   "file_extension": ".py",
   "mimetype": "text/x-python",
   "name": "python",
   "nbconvert_exporter": "python",
   "pygments_lexer": "ipython3",
   "version": "3.11.2"
  },
  "varInspector": {
   "cols": {
    "lenName": 16,
    "lenType": 16,
    "lenVar": 40
   },
   "kernels_config": {
    "python": {
     "delete_cmd_postfix": "",
     "delete_cmd_prefix": "del ",
     "library": "var_list.py",
     "varRefreshCmd": "print(var_dic_list())"
    },
    "r": {
     "delete_cmd_postfix": ") ",
     "delete_cmd_prefix": "rm(",
     "library": "var_list.r",
     "varRefreshCmd": "cat(var_dic_list()) "
    }
   },
   "types_to_exclude": [
    "module",
    "function",
    "builtin_function_or_method",
    "instance",
    "_Feature"
   ],
   "window_display": false
  }
 },
 "nbformat": 4,
 "nbformat_minor": 5
}
