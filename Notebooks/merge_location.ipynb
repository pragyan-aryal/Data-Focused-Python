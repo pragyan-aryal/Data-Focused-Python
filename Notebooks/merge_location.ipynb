{
 "cells": [
  {
   "cell_type": "code",
   "execution_count": 1,
   "id": "initial_id",
   "metadata": {
    "collapsed": true,
    "ExecuteTime": {
     "end_time": "2023-12-10T07:19:51.246306Z",
     "start_time": "2023-12-10T07:19:50.882105Z"
    }
   },
   "outputs": [],
   "source": [
    "import numpy as np\n",
    "import pandas as pd"
   ]
  },
  {
   "cell_type": "code",
   "execution_count": 2,
   "outputs": [],
   "source": [
    "add_df = pd.read_csv(\"../Data/Indeed/Intermediate_Data/location.tsv\", sep=\"\\t\")"
   ],
   "metadata": {
    "collapsed": false,
    "ExecuteTime": {
     "end_time": "2023-12-10T07:19:52.896654Z",
     "start_time": "2023-12-10T07:19:52.860852Z"
    }
   },
   "id": "cf36d8657ef948ee"
  },
  {
   "cell_type": "code",
   "execution_count": 3,
   "outputs": [],
   "source": [
    "latitude = []\n",
    "longitude = []\n",
    "region = []\n",
    "county = []\n",
    "locality = []\n",
    "country_code = []\n",
    "region_code = []"
   ],
   "metadata": {
    "collapsed": false,
    "ExecuteTime": {
     "end_time": "2023-12-10T07:19:53.514774Z",
     "start_time": "2023-12-10T07:19:53.513084Z"
    }
   },
   "id": "7110a7aff6487683"
  },
  {
   "cell_type": "code",
   "execution_count": 4,
   "outputs": [],
   "source": [
    "for v in add_df[\"values\"]:\n",
    "    val = eval(v)\n",
    "    latitude.append(val[\"latitude\"])\n",
    "    longitude.append(val[\"longitude\"])\n",
    "    region.append(val[\"region\"])\n",
    "    county.append(val[\"county\"])\n",
    "    locality.append(val[\"locality\"])\n",
    "    country_code.append(val['country_code'])\n",
    "    region_code.append(val['region_code'])"
   ],
   "metadata": {
    "collapsed": false,
    "ExecuteTime": {
     "end_time": "2023-12-10T07:19:54.246866Z",
     "start_time": "2023-12-10T07:19:53.969408Z"
    }
   },
   "id": "6e029170718cebd"
  },
  {
   "cell_type": "code",
   "execution_count": 5,
   "outputs": [],
   "source": [
    "add_df[\"latitude\"] = latitude\n",
    "add_df[\"longitude\"] = longitude\n",
    "add_df['region_code'] = region_code\n",
    "add_df[\"region\"] = region\n",
    "add_df[\"county\"] = county\n",
    "add_df[\"locality\"] = locality\n",
    "add_df[\"country_code\"] = country_code"
   ],
   "metadata": {
    "collapsed": false,
    "ExecuteTime": {
     "end_time": "2023-12-10T07:19:54.754051Z",
     "start_time": "2023-12-10T07:19:54.746260Z"
    }
   },
   "id": "37a703d81bd48f07"
  },
  {
   "cell_type": "code",
   "execution_count": 6,
   "outputs": [],
   "source": [
    "add_df.to_csv(\"../Data/Indeed/merged.tsv\", sep=\"\\t\", index=False)"
   ],
   "metadata": {
    "collapsed": false,
    "ExecuteTime": {
     "end_time": "2023-12-10T07:19:55.893495Z",
     "start_time": "2023-12-10T07:19:55.832772Z"
    }
   },
   "id": "a4926b2178cc87"
  },
  {
   "cell_type": "code",
   "execution_count": 7,
   "outputs": [],
   "source": [
    "df = pd.read_parquet(\"../Data/Indeed/Intermediate_Data/clean_location.parquet\")"
   ],
   "metadata": {
    "collapsed": false,
    "ExecuteTime": {
     "end_time": "2023-12-10T07:19:56.616950Z",
     "start_time": "2023-12-10T07:19:56.413857Z"
    }
   },
   "id": "5ed668823113469"
  },
  {
   "cell_type": "code",
   "execution_count": 8,
   "outputs": [
    {
     "data": {
      "text/plain": "                    Key                                Company  \\\n0      a9832db271ef3fc4  US Office of the Secretary of Defense   \n1      7f4db33d08d5c611                    Booz Allen Hamilton   \n2      0636da957769d80b                      PRYSMIANGROUP.COM   \n3      f2d5e432940c9f42                                   NYCM   \n4      ec9509f4c611785a               Johns Hopkins University   \n...                 ...                                    ...   \n25274  072bf35ffdd8645d  General Dynamics Mission Systems, Inc   \n25275  789179d9fd5c1d65  Metropolitan Transportation Authority   \n25276  f9785443a3551b34           MPIRE Technology Group, Inc.   \n25277  5f15c9ca93989af6               Talentech Consulting LLC   \n25278  ea2bf756466c7fb6                          The DEI Group   \n\n                                          Position  \\\n0                      Operations Research Analyst   \n1                         IT Business Analyst, Mid   \n2           SAP Intercompany Business Analyst (FT)   \n3                   Business Data Analyst (Hybrid)   \n4                    Investment Operations Analyst   \n...                                            ...   \n25274                     Senior Software Engineer   \n25275  Application Developer 1-5 (TCU Represented)   \n25276                        Senior Cloud Engineer   \n25277                       Statistical Programmer   \n25278              Sr. Software Engineer/Architect   \n\n                                           Location Category Experience_Level  \\\n0                                     Arlington, VA       BA      ENTRY_LEVEL   \n1                      Hybrid remote in Atlanta, GA       BA      ENTRY_LEVEL   \n2                              Highland Heights, KY       BA      ENTRY_LEVEL   \n3                                Edmeston, NY 13335       BA      ENTRY_LEVEL   \n4              Hybrid remote in Baltimore, MD 21211       BA      ENTRY_LEVEL   \n...                                             ...      ...              ...   \n25274        Hybrid remote in Bloomington, MN 55431       SE     SENIOR_LEVEL   \n25275  New York, NY 10004 (Financial District area)       SE     SENIOR_LEVEL   \n25276         Hybrid remote in Alexandria, VA 22314       SE     SENIOR_LEVEL   \n25277                                        Remote       SE     SENIOR_LEVEL   \n25278                            Columbia, MD 21045       SE     SENIOR_LEVEL   \n\n                                 Salary  \\\n0            $155,700 - $183,500 a year   \n1             $52,100 - $119,000 a year   \n2                                  None   \n3              $35,057 - $63,103 a year   \n4             $84,700 - $148,300 a year   \n...                                 ...   \n25274        $146,048 - $162,000 a year   \n25275          $57,100 - $81,572 a year   \n25276  $117,161.90 - $141,098.20 a year   \n25277                              None   \n25278        $100,000 - $130,000 a year   \n\n                                             Description  \\\n0      DutiesThis is a Direct Hire Public Notice, und...   \n1      Job Description         Location:             ...   \n2        Prysmian is a global cable manufacturer with...   \n3      The Business Data Analyst (Hybrid) will perfor...   \n4      The Johns Hopkins University, one of the world...   \n...                                                  ...   \n25274   Basic Qualifications :     Requires a Bachelo...   \n25275  Description Job Title: Application Developer A...   \n25276  MPIRE Technology Group, Inc is seeking several...   \n25277  We are looking for two experienced statistical...   \n25278  Senior Software Engineer works as part of an a...   \n\n                                                Benefits   Work_Commute  \\\n0                                                     []        On-Site   \n1      ['401(k)', '401(k) matching', 'Flexible schedu...  Hybrid Remote   \n2                                                     []        On-Site   \n3                                                     []        On-Site   \n4                                                     []  Hybrid Remote   \n...                                                  ...            ...   \n25274  ['401(k)', '401(k) matching', 'Flexible schedu...  Hybrid Remote   \n25275                                                 []        On-Site   \n25276  ['Dental insurance', 'Employee assistance prog...  Hybrid Remote   \n25277  ['401(k)', 'Dental insurance', 'Flexible spend...        On-Site   \n25278                                                 []        On-Site   \n\n                                     Clean_location  \n0                                     Arlington, VA  \n1                                       Atlanta, GA  \n2                              Highland Heights, KY  \n3                                Edmeston, NY 13335  \n4                               Baltimore, MD 21211  \n...                                             ...  \n25274                         Bloomington, MN 55431  \n25275  New York, NY 10004 (Financial District area)  \n25276                          Alexandria, VA 22314  \n25277                                        Remote  \n25278                            Columbia, MD 21045  \n\n[23277 rows x 11 columns]",
      "text/html": "<div>\n<style scoped>\n    .dataframe tbody tr th:only-of-type {\n        vertical-align: middle;\n    }\n\n    .dataframe tbody tr th {\n        vertical-align: top;\n    }\n\n    .dataframe thead th {\n        text-align: right;\n    }\n</style>\n<table border=\"1\" class=\"dataframe\">\n  <thead>\n    <tr style=\"text-align: right;\">\n      <th></th>\n      <th>Key</th>\n      <th>Company</th>\n      <th>Position</th>\n      <th>Location</th>\n      <th>Category</th>\n      <th>Experience_Level</th>\n      <th>Salary</th>\n      <th>Description</th>\n      <th>Benefits</th>\n      <th>Work_Commute</th>\n      <th>Clean_location</th>\n    </tr>\n  </thead>\n  <tbody>\n    <tr>\n      <th>0</th>\n      <td>a9832db271ef3fc4</td>\n      <td>US Office of the Secretary of Defense</td>\n      <td>Operations Research Analyst</td>\n      <td>Arlington, VA</td>\n      <td>BA</td>\n      <td>ENTRY_LEVEL</td>\n      <td>$155,700 - $183,500 a year</td>\n      <td>DutiesThis is a Direct Hire Public Notice, und...</td>\n      <td>[]</td>\n      <td>On-Site</td>\n      <td>Arlington, VA</td>\n    </tr>\n    <tr>\n      <th>1</th>\n      <td>7f4db33d08d5c611</td>\n      <td>Booz Allen Hamilton</td>\n      <td>IT Business Analyst, Mid</td>\n      <td>Hybrid remote in Atlanta, GA</td>\n      <td>BA</td>\n      <td>ENTRY_LEVEL</td>\n      <td>$52,100 - $119,000 a year</td>\n      <td>Job Description         Location:             ...</td>\n      <td>['401(k)', '401(k) matching', 'Flexible schedu...</td>\n      <td>Hybrid Remote</td>\n      <td>Atlanta, GA</td>\n    </tr>\n    <tr>\n      <th>2</th>\n      <td>0636da957769d80b</td>\n      <td>PRYSMIANGROUP.COM</td>\n      <td>SAP Intercompany Business Analyst (FT)</td>\n      <td>Highland Heights, KY</td>\n      <td>BA</td>\n      <td>ENTRY_LEVEL</td>\n      <td>None</td>\n      <td>Prysmian is a global cable manufacturer with...</td>\n      <td>[]</td>\n      <td>On-Site</td>\n      <td>Highland Heights, KY</td>\n    </tr>\n    <tr>\n      <th>3</th>\n      <td>f2d5e432940c9f42</td>\n      <td>NYCM</td>\n      <td>Business Data Analyst (Hybrid)</td>\n      <td>Edmeston, NY 13335</td>\n      <td>BA</td>\n      <td>ENTRY_LEVEL</td>\n      <td>$35,057 - $63,103 a year</td>\n      <td>The Business Data Analyst (Hybrid) will perfor...</td>\n      <td>[]</td>\n      <td>On-Site</td>\n      <td>Edmeston, NY 13335</td>\n    </tr>\n    <tr>\n      <th>4</th>\n      <td>ec9509f4c611785a</td>\n      <td>Johns Hopkins University</td>\n      <td>Investment Operations Analyst</td>\n      <td>Hybrid remote in Baltimore, MD 21211</td>\n      <td>BA</td>\n      <td>ENTRY_LEVEL</td>\n      <td>$84,700 - $148,300 a year</td>\n      <td>The Johns Hopkins University, one of the world...</td>\n      <td>[]</td>\n      <td>Hybrid Remote</td>\n      <td>Baltimore, MD 21211</td>\n    </tr>\n    <tr>\n      <th>...</th>\n      <td>...</td>\n      <td>...</td>\n      <td>...</td>\n      <td>...</td>\n      <td>...</td>\n      <td>...</td>\n      <td>...</td>\n      <td>...</td>\n      <td>...</td>\n      <td>...</td>\n      <td>...</td>\n    </tr>\n    <tr>\n      <th>25274</th>\n      <td>072bf35ffdd8645d</td>\n      <td>General Dynamics Mission Systems, Inc</td>\n      <td>Senior Software Engineer</td>\n      <td>Hybrid remote in Bloomington, MN 55431</td>\n      <td>SE</td>\n      <td>SENIOR_LEVEL</td>\n      <td>$146,048 - $162,000 a year</td>\n      <td>Basic Qualifications :     Requires a Bachelo...</td>\n      <td>['401(k)', '401(k) matching', 'Flexible schedu...</td>\n      <td>Hybrid Remote</td>\n      <td>Bloomington, MN 55431</td>\n    </tr>\n    <tr>\n      <th>25275</th>\n      <td>789179d9fd5c1d65</td>\n      <td>Metropolitan Transportation Authority</td>\n      <td>Application Developer 1-5 (TCU Represented)</td>\n      <td>New York, NY 10004 (Financial District area)</td>\n      <td>SE</td>\n      <td>SENIOR_LEVEL</td>\n      <td>$57,100 - $81,572 a year</td>\n      <td>Description Job Title: Application Developer A...</td>\n      <td>[]</td>\n      <td>On-Site</td>\n      <td>New York, NY 10004 (Financial District area)</td>\n    </tr>\n    <tr>\n      <th>25276</th>\n      <td>f9785443a3551b34</td>\n      <td>MPIRE Technology Group, Inc.</td>\n      <td>Senior Cloud Engineer</td>\n      <td>Hybrid remote in Alexandria, VA 22314</td>\n      <td>SE</td>\n      <td>SENIOR_LEVEL</td>\n      <td>$117,161.90 - $141,098.20 a year</td>\n      <td>MPIRE Technology Group, Inc is seeking several...</td>\n      <td>['Dental insurance', 'Employee assistance prog...</td>\n      <td>Hybrid Remote</td>\n      <td>Alexandria, VA 22314</td>\n    </tr>\n    <tr>\n      <th>25277</th>\n      <td>5f15c9ca93989af6</td>\n      <td>Talentech Consulting LLC</td>\n      <td>Statistical Programmer</td>\n      <td>Remote</td>\n      <td>SE</td>\n      <td>SENIOR_LEVEL</td>\n      <td>None</td>\n      <td>We are looking for two experienced statistical...</td>\n      <td>['401(k)', 'Dental insurance', 'Flexible spend...</td>\n      <td>On-Site</td>\n      <td>Remote</td>\n    </tr>\n    <tr>\n      <th>25278</th>\n      <td>ea2bf756466c7fb6</td>\n      <td>The DEI Group</td>\n      <td>Sr. Software Engineer/Architect</td>\n      <td>Columbia, MD 21045</td>\n      <td>SE</td>\n      <td>SENIOR_LEVEL</td>\n      <td>$100,000 - $130,000 a year</td>\n      <td>Senior Software Engineer works as part of an a...</td>\n      <td>[]</td>\n      <td>On-Site</td>\n      <td>Columbia, MD 21045</td>\n    </tr>\n  </tbody>\n</table>\n<p>23277 rows × 11 columns</p>\n</div>"
     },
     "execution_count": 8,
     "metadata": {},
     "output_type": "execute_result"
    }
   ],
   "source": [
    "df"
   ],
   "metadata": {
    "collapsed": false,
    "ExecuteTime": {
     "end_time": "2023-12-10T07:19:57.429091Z",
     "start_time": "2023-12-10T07:19:57.423021Z"
    }
   },
   "id": "7bd1090a4578d3c0"
  },
  {
   "cell_type": "code",
   "execution_count": 9,
   "outputs": [],
   "source": [
    "region = []\n",
    "for loc in df[\"Clean_location\"]:\n",
    "    z = add_df.loc[add_df[\"location\"] == loc]\n",
    "    if z.empty:\n",
    "        region.append(\"NA\")\n",
    "    else:\n",
    "        region.append(z[\"region\"].to_string().split(\"    \")[1])"
   ],
   "metadata": {
    "collapsed": false,
    "ExecuteTime": {
     "end_time": "2023-12-10T07:20:19.336464Z",
     "start_time": "2023-12-10T07:20:10.134797Z"
    }
   },
   "id": "74c71fefe49c1298"
  },
  {
   "cell_type": "code",
   "execution_count": 10,
   "outputs": [],
   "source": [
    "region_code = []\n",
    "for loc in df[\"Clean_location\"]:\n",
    "    z = add_df.loc[add_df[\"location\"] == loc]\n",
    "    if z.empty:\n",
    "        region_code.append(\"NA\")\n",
    "    else:\n",
    "        region_code.append(z[\"region_code\"].to_string().split(\"    \")[1])    "
   ],
   "metadata": {
    "collapsed": false,
    "ExecuteTime": {
     "end_time": "2023-12-10T07:20:28.725203Z",
     "start_time": "2023-12-10T07:20:19.353223Z"
    }
   },
   "id": "ac4a68374621dae6"
  },
  {
   "cell_type": "code",
   "execution_count": 11,
   "outputs": [],
   "source": [
    "locality = []\n",
    "for loc in df[\"Clean_location\"]:\n",
    "    z = add_df.loc[add_df[\"location\"] == loc]\n",
    "    if z.empty:\n",
    "        locality.append(\"NA\")\n",
    "    else:\n",
    "        locality.append(z[\"locality\"].to_string().split(\"    \")[1])"
   ],
   "metadata": {
    "collapsed": false,
    "ExecuteTime": {
     "end_time": "2023-12-10T07:20:38.280503Z",
     "start_time": "2023-12-10T07:20:28.735588Z"
    }
   },
   "id": "f0534f3beca07ba4"
  },
  {
   "cell_type": "code",
   "execution_count": 12,
   "outputs": [],
   "source": [
    "county = []\n",
    "for loc in df[\"Clean_location\"]:\n",
    "    z = add_df.loc[add_df[\"location\"] == loc]\n",
    "    if z.empty:\n",
    "        county.append(\"NA\")\n",
    "    else:\n",
    "        county.append(z[\"county\"].to_string().split(\"    \")[1])"
   ],
   "metadata": {
    "collapsed": false,
    "ExecuteTime": {
     "end_time": "2023-12-10T07:20:47.381343Z",
     "start_time": "2023-12-10T07:20:38.316891Z"
    }
   },
   "id": "4a7f727e457dde42"
  },
  {
   "cell_type": "code",
   "execution_count": 13,
   "outputs": [],
   "source": [
    "latitude = []\n",
    "for loc in df[\"Clean_location\"]:\n",
    "    z = add_df.loc[add_df[\"location\"] == loc]\n",
    "    if z.empty:\n",
    "        latitude.append(\"NA\")\n",
    "    else:\n",
    "        latitude.append(float(z[\"latitude\"]))"
   ],
   "metadata": {
    "collapsed": false,
    "ExecuteTime": {
     "end_time": "2023-12-10T07:20:55.399992Z",
     "start_time": "2023-12-10T07:20:47.389241Z"
    }
   },
   "id": "cb51c7cb93cb0cbd"
  },
  {
   "cell_type": "code",
   "execution_count": 14,
   "outputs": [],
   "source": [
    "longitude = []\n",
    "for loc in df[\"Clean_location\"]:\n",
    "    z = add_df.loc[add_df[\"location\"] == loc]\n",
    "    if z.empty:\n",
    "        longitude.append(\"NA\")\n",
    "    else:\n",
    "        longitude.append(float(z[\"longitude\"]))"
   ],
   "metadata": {
    "collapsed": false,
    "ExecuteTime": {
     "end_time": "2023-12-10T07:21:03.249809Z",
     "start_time": "2023-12-10T07:20:55.400713Z"
    }
   },
   "id": "3bb0dd315108c5a5"
  },
  {
   "cell_type": "code",
   "execution_count": 15,
   "outputs": [],
   "source": [
    "country_code = []\n",
    "for loc in df[\"Clean_location\"]:\n",
    "    z = add_df.loc[add_df[\"location\"] == loc]\n",
    "    if z.empty:\n",
    "        country_code.append(\"NA\")\n",
    "    else:\n",
    "        country_code.append(z[\"country_code\"].to_string().split(\"    \")[1])"
   ],
   "metadata": {
    "collapsed": false,
    "ExecuteTime": {
     "end_time": "2023-12-10T07:21:12.625344Z",
     "start_time": "2023-12-10T07:21:03.244844Z"
    }
   },
   "id": "4d4e34b62305e7c0"
  },
  {
   "cell_type": "code",
   "execution_count": 16,
   "outputs": [],
   "source": [
    "df[\"latitude\"] = latitude\n",
    "df[\"longitude\"] = longitude\n",
    "df['region_code'] = region_code\n",
    "df[\"region\"] = region\n",
    "df[\"county\"] = county\n",
    "df[\"locality\"] = locality\n",
    "df[\"country_code\"] = country_code"
   ],
   "metadata": {
    "collapsed": false,
    "ExecuteTime": {
     "end_time": "2023-12-10T07:21:12.635011Z",
     "start_time": "2023-12-10T07:21:12.626424Z"
    }
   },
   "id": "f79dda2b9014e11d"
  },
  {
   "cell_type": "code",
   "execution_count": 17,
   "outputs": [],
   "source": [
    "df['latitude'].replace(['NA', ''], np.NaN, inplace=True)"
   ],
   "metadata": {
    "collapsed": false,
    "ExecuteTime": {
     "end_time": "2023-12-10T07:21:13.890972Z",
     "start_time": "2023-12-10T07:21:13.879648Z"
    }
   },
   "id": "975d1a9d05affb27"
  },
  {
   "cell_type": "code",
   "execution_count": 18,
   "outputs": [],
   "source": [
    "df['longitude'].replace(['NA', ''], np.NaN, inplace=True)"
   ],
   "metadata": {
    "collapsed": false,
    "ExecuteTime": {
     "end_time": "2023-12-10T07:21:14.315231Z",
     "start_time": "2023-12-10T07:21:14.307021Z"
    }
   },
   "id": "3b81f4aa699cf512"
  },
  {
   "cell_type": "code",
   "execution_count": 19,
   "outputs": [],
   "source": [
    "df['region'].replace(['NA', ''], np.NaN, inplace=True)"
   ],
   "metadata": {
    "collapsed": false,
    "ExecuteTime": {
     "end_time": "2023-12-10T07:21:14.604284Z",
     "start_time": "2023-12-10T07:21:14.594535Z"
    }
   },
   "id": "f18d16bf18b675e7"
  },
  {
   "cell_type": "code",
   "execution_count": 20,
   "outputs": [],
   "source": [
    "df['region_code'].replace(['NA', ''], np.NaN, inplace=True)"
   ],
   "metadata": {
    "collapsed": false,
    "ExecuteTime": {
     "end_time": "2023-12-10T07:21:14.835538Z",
     "start_time": "2023-12-10T07:21:14.827958Z"
    }
   },
   "id": "3c2728d859a78e88"
  },
  {
   "cell_type": "code",
   "execution_count": 21,
   "outputs": [],
   "source": [
    "df['county'].replace(['NA', ''], np.NaN, inplace=True)"
   ],
   "metadata": {
    "collapsed": false,
    "ExecuteTime": {
     "end_time": "2023-12-10T07:21:15.079542Z",
     "start_time": "2023-12-10T07:21:15.068682Z"
    }
   },
   "id": "70831d2f6cb11708"
  },
  {
   "cell_type": "code",
   "execution_count": 22,
   "outputs": [],
   "source": [
    "df['locality'].replace(['NA', ''], np.NaN, inplace=True)"
   ],
   "metadata": {
    "collapsed": false,
    "ExecuteTime": {
     "end_time": "2023-12-10T07:21:15.502955Z",
     "start_time": "2023-12-10T07:21:15.492087Z"
    }
   },
   "id": "63afe5c1d0ebecda"
  },
  {
   "cell_type": "code",
   "execution_count": 23,
   "outputs": [],
   "source": [
    "df['country_code'].replace(['NA', ''], np.NaN, inplace=True)"
   ],
   "metadata": {
    "collapsed": false,
    "ExecuteTime": {
     "end_time": "2023-12-10T07:21:16.055645Z",
     "start_time": "2023-12-10T07:21:16.046942Z"
    }
   },
   "id": "1cf5775a8c19919e"
  },
  {
   "cell_type": "code",
   "execution_count": 24,
   "outputs": [],
   "source": [
    "df = df.drop(['Location'], axis=1)"
   ],
   "metadata": {
    "collapsed": false,
    "ExecuteTime": {
     "end_time": "2023-12-10T07:21:18.790070Z",
     "start_time": "2023-12-10T07:21:18.781395Z"
    }
   },
   "id": "5d78e17d12c2b6ad"
  },
  {
   "cell_type": "code",
   "execution_count": 25,
   "outputs": [],
   "source": [
    "df.to_parquet(\"../Data/Indeed/Indeed_Data.parquet\", index=False)"
   ],
   "metadata": {
    "collapsed": false,
    "ExecuteTime": {
     "end_time": "2023-12-10T07:21:20.379774Z",
     "start_time": "2023-12-10T07:21:19.997519Z"
    }
   },
   "id": "f12a9e74214cac0b"
  },
  {
   "cell_type": "code",
   "execution_count": 26,
   "outputs": [
    {
     "data": {
      "text/plain": "                    Key                                Company  \\\n0      a9832db271ef3fc4  US Office of the Secretary of Defense   \n1      7f4db33d08d5c611                    Booz Allen Hamilton   \n2      0636da957769d80b                      PRYSMIANGROUP.COM   \n3      f2d5e432940c9f42                                   NYCM   \n4      ec9509f4c611785a               Johns Hopkins University   \n...                 ...                                    ...   \n25274  072bf35ffdd8645d  General Dynamics Mission Systems, Inc   \n25275  789179d9fd5c1d65  Metropolitan Transportation Authority   \n25276  f9785443a3551b34           MPIRE Technology Group, Inc.   \n25277  5f15c9ca93989af6               Talentech Consulting LLC   \n25278  ea2bf756466c7fb6                          The DEI Group   \n\n                                          Position Category Experience_Level  \\\n0                      Operations Research Analyst       BA      ENTRY_LEVEL   \n1                         IT Business Analyst, Mid       BA      ENTRY_LEVEL   \n2           SAP Intercompany Business Analyst (FT)       BA      ENTRY_LEVEL   \n3                   Business Data Analyst (Hybrid)       BA      ENTRY_LEVEL   \n4                    Investment Operations Analyst       BA      ENTRY_LEVEL   \n...                                            ...      ...              ...   \n25274                     Senior Software Engineer       SE     SENIOR_LEVEL   \n25275  Application Developer 1-5 (TCU Represented)       SE     SENIOR_LEVEL   \n25276                        Senior Cloud Engineer       SE     SENIOR_LEVEL   \n25277                       Statistical Programmer       SE     SENIOR_LEVEL   \n25278              Sr. Software Engineer/Architect       SE     SENIOR_LEVEL   \n\n                                 Salary  \\\n0            $155,700 - $183,500 a year   \n1             $52,100 - $119,000 a year   \n2                                  None   \n3              $35,057 - $63,103 a year   \n4             $84,700 - $148,300 a year   \n...                                 ...   \n25274        $146,048 - $162,000 a year   \n25275          $57,100 - $81,572 a year   \n25276  $117,161.90 - $141,098.20 a year   \n25277                              None   \n25278        $100,000 - $130,000 a year   \n\n                                             Description  \\\n0      DutiesThis is a Direct Hire Public Notice, und...   \n1      Job Description         Location:             ...   \n2        Prysmian is a global cable manufacturer with...   \n3      The Business Data Analyst (Hybrid) will perfor...   \n4      The Johns Hopkins University, one of the world...   \n...                                                  ...   \n25274   Basic Qualifications :     Requires a Bachelo...   \n25275  Description Job Title: Application Developer A...   \n25276  MPIRE Technology Group, Inc is seeking several...   \n25277  We are looking for two experienced statistical...   \n25278  Senior Software Engineer works as part of an a...   \n\n                                                Benefits   Work_Commute  \\\n0                                                     []        On-Site   \n1      ['401(k)', '401(k) matching', 'Flexible schedu...  Hybrid Remote   \n2                                                     []        On-Site   \n3                                                     []        On-Site   \n4                                                     []  Hybrid Remote   \n...                                                  ...            ...   \n25274  ['401(k)', '401(k) matching', 'Flexible schedu...  Hybrid Remote   \n25275                                                 []        On-Site   \n25276  ['Dental insurance', 'Employee assistance prog...  Hybrid Remote   \n25277  ['401(k)', 'Dental insurance', 'Flexible spend...        On-Site   \n25278                                                 []        On-Site   \n\n                                     Clean_location   latitude  longitude  \\\n0                                     Arlington, VA  38.864458 -77.099638   \n1                                       Atlanta, GA  33.769805 -84.414581   \n2                              Highland Heights, KY  39.037110 -84.456707   \n3                                Edmeston, NY 13335  42.702260 -75.248224   \n4                               Baltimore, MD 21211  39.319732 -76.649533   \n...                                             ...        ...        ...   \n25274                         Bloomington, MN 55431  44.827321 -93.317043   \n25275  New York, NY 10004 (Financial District area)  40.688873 -74.018213   \n25276                          Alexandria, VA 22314  38.804840 -77.046920   \n25277                                        Remote        NaN        NaN   \n25278                            Columbia, MD 21045  39.199038 -76.841517   \n\n      region_code     region              county          locality  \\\n0              VA   Virginia    Arlington County         Arlington   \n1              GA    Georgia       Fulton County           Atlanta   \n2              KY   Kentucky     Campbell County  Highland Heights   \n3              NY   New York       Otsego County          Edmeston   \n4              MD   Maryland   City of Baltimore         Baltimore   \n...           ...        ...                 ...               ...   \n25274          MN  Minnesota     Hennepin County       Bloomington   \n25275          NY   New York        Kings County          New York   \n25276          VA   Virginia  City of Alexandria        Alexandria   \n25277         NaN        NaN                 NaN               NaN   \n25278          MD   Maryland       Howard County          Columbia   \n\n      country_code  \n0              USA  \n1              USA  \n2              USA  \n3              USA  \n4              USA  \n...            ...  \n25274          USA  \n25275          USA  \n25276          USA  \n25277          NaN  \n25278          USA  \n\n[23277 rows x 17 columns]",
      "text/html": "<div>\n<style scoped>\n    .dataframe tbody tr th:only-of-type {\n        vertical-align: middle;\n    }\n\n    .dataframe tbody tr th {\n        vertical-align: top;\n    }\n\n    .dataframe thead th {\n        text-align: right;\n    }\n</style>\n<table border=\"1\" class=\"dataframe\">\n  <thead>\n    <tr style=\"text-align: right;\">\n      <th></th>\n      <th>Key</th>\n      <th>Company</th>\n      <th>Position</th>\n      <th>Category</th>\n      <th>Experience_Level</th>\n      <th>Salary</th>\n      <th>Description</th>\n      <th>Benefits</th>\n      <th>Work_Commute</th>\n      <th>Clean_location</th>\n      <th>latitude</th>\n      <th>longitude</th>\n      <th>region_code</th>\n      <th>region</th>\n      <th>county</th>\n      <th>locality</th>\n      <th>country_code</th>\n    </tr>\n  </thead>\n  <tbody>\n    <tr>\n      <th>0</th>\n      <td>a9832db271ef3fc4</td>\n      <td>US Office of the Secretary of Defense</td>\n      <td>Operations Research Analyst</td>\n      <td>BA</td>\n      <td>ENTRY_LEVEL</td>\n      <td>$155,700 - $183,500 a year</td>\n      <td>DutiesThis is a Direct Hire Public Notice, und...</td>\n      <td>[]</td>\n      <td>On-Site</td>\n      <td>Arlington, VA</td>\n      <td>38.864458</td>\n      <td>-77.099638</td>\n      <td>VA</td>\n      <td>Virginia</td>\n      <td>Arlington County</td>\n      <td>Arlington</td>\n      <td>USA</td>\n    </tr>\n    <tr>\n      <th>1</th>\n      <td>7f4db33d08d5c611</td>\n      <td>Booz Allen Hamilton</td>\n      <td>IT Business Analyst, Mid</td>\n      <td>BA</td>\n      <td>ENTRY_LEVEL</td>\n      <td>$52,100 - $119,000 a year</td>\n      <td>Job Description         Location:             ...</td>\n      <td>['401(k)', '401(k) matching', 'Flexible schedu...</td>\n      <td>Hybrid Remote</td>\n      <td>Atlanta, GA</td>\n      <td>33.769805</td>\n      <td>-84.414581</td>\n      <td>GA</td>\n      <td>Georgia</td>\n      <td>Fulton County</td>\n      <td>Atlanta</td>\n      <td>USA</td>\n    </tr>\n    <tr>\n      <th>2</th>\n      <td>0636da957769d80b</td>\n      <td>PRYSMIANGROUP.COM</td>\n      <td>SAP Intercompany Business Analyst (FT)</td>\n      <td>BA</td>\n      <td>ENTRY_LEVEL</td>\n      <td>None</td>\n      <td>Prysmian is a global cable manufacturer with...</td>\n      <td>[]</td>\n      <td>On-Site</td>\n      <td>Highland Heights, KY</td>\n      <td>39.037110</td>\n      <td>-84.456707</td>\n      <td>KY</td>\n      <td>Kentucky</td>\n      <td>Campbell County</td>\n      <td>Highland Heights</td>\n      <td>USA</td>\n    </tr>\n    <tr>\n      <th>3</th>\n      <td>f2d5e432940c9f42</td>\n      <td>NYCM</td>\n      <td>Business Data Analyst (Hybrid)</td>\n      <td>BA</td>\n      <td>ENTRY_LEVEL</td>\n      <td>$35,057 - $63,103 a year</td>\n      <td>The Business Data Analyst (Hybrid) will perfor...</td>\n      <td>[]</td>\n      <td>On-Site</td>\n      <td>Edmeston, NY 13335</td>\n      <td>42.702260</td>\n      <td>-75.248224</td>\n      <td>NY</td>\n      <td>New York</td>\n      <td>Otsego County</td>\n      <td>Edmeston</td>\n      <td>USA</td>\n    </tr>\n    <tr>\n      <th>4</th>\n      <td>ec9509f4c611785a</td>\n      <td>Johns Hopkins University</td>\n      <td>Investment Operations Analyst</td>\n      <td>BA</td>\n      <td>ENTRY_LEVEL</td>\n      <td>$84,700 - $148,300 a year</td>\n      <td>The Johns Hopkins University, one of the world...</td>\n      <td>[]</td>\n      <td>Hybrid Remote</td>\n      <td>Baltimore, MD 21211</td>\n      <td>39.319732</td>\n      <td>-76.649533</td>\n      <td>MD</td>\n      <td>Maryland</td>\n      <td>City of Baltimore</td>\n      <td>Baltimore</td>\n      <td>USA</td>\n    </tr>\n    <tr>\n      <th>...</th>\n      <td>...</td>\n      <td>...</td>\n      <td>...</td>\n      <td>...</td>\n      <td>...</td>\n      <td>...</td>\n      <td>...</td>\n      <td>...</td>\n      <td>...</td>\n      <td>...</td>\n      <td>...</td>\n      <td>...</td>\n      <td>...</td>\n      <td>...</td>\n      <td>...</td>\n      <td>...</td>\n      <td>...</td>\n    </tr>\n    <tr>\n      <th>25274</th>\n      <td>072bf35ffdd8645d</td>\n      <td>General Dynamics Mission Systems, Inc</td>\n      <td>Senior Software Engineer</td>\n      <td>SE</td>\n      <td>SENIOR_LEVEL</td>\n      <td>$146,048 - $162,000 a year</td>\n      <td>Basic Qualifications :     Requires a Bachelo...</td>\n      <td>['401(k)', '401(k) matching', 'Flexible schedu...</td>\n      <td>Hybrid Remote</td>\n      <td>Bloomington, MN 55431</td>\n      <td>44.827321</td>\n      <td>-93.317043</td>\n      <td>MN</td>\n      <td>Minnesota</td>\n      <td>Hennepin County</td>\n      <td>Bloomington</td>\n      <td>USA</td>\n    </tr>\n    <tr>\n      <th>25275</th>\n      <td>789179d9fd5c1d65</td>\n      <td>Metropolitan Transportation Authority</td>\n      <td>Application Developer 1-5 (TCU Represented)</td>\n      <td>SE</td>\n      <td>SENIOR_LEVEL</td>\n      <td>$57,100 - $81,572 a year</td>\n      <td>Description Job Title: Application Developer A...</td>\n      <td>[]</td>\n      <td>On-Site</td>\n      <td>New York, NY 10004 (Financial District area)</td>\n      <td>40.688873</td>\n      <td>-74.018213</td>\n      <td>NY</td>\n      <td>New York</td>\n      <td>Kings County</td>\n      <td>New York</td>\n      <td>USA</td>\n    </tr>\n    <tr>\n      <th>25276</th>\n      <td>f9785443a3551b34</td>\n      <td>MPIRE Technology Group, Inc.</td>\n      <td>Senior Cloud Engineer</td>\n      <td>SE</td>\n      <td>SENIOR_LEVEL</td>\n      <td>$117,161.90 - $141,098.20 a year</td>\n      <td>MPIRE Technology Group, Inc is seeking several...</td>\n      <td>['Dental insurance', 'Employee assistance prog...</td>\n      <td>Hybrid Remote</td>\n      <td>Alexandria, VA 22314</td>\n      <td>38.804840</td>\n      <td>-77.046920</td>\n      <td>VA</td>\n      <td>Virginia</td>\n      <td>City of Alexandria</td>\n      <td>Alexandria</td>\n      <td>USA</td>\n    </tr>\n    <tr>\n      <th>25277</th>\n      <td>5f15c9ca93989af6</td>\n      <td>Talentech Consulting LLC</td>\n      <td>Statistical Programmer</td>\n      <td>SE</td>\n      <td>SENIOR_LEVEL</td>\n      <td>None</td>\n      <td>We are looking for two experienced statistical...</td>\n      <td>['401(k)', 'Dental insurance', 'Flexible spend...</td>\n      <td>On-Site</td>\n      <td>Remote</td>\n      <td>NaN</td>\n      <td>NaN</td>\n      <td>NaN</td>\n      <td>NaN</td>\n      <td>NaN</td>\n      <td>NaN</td>\n      <td>NaN</td>\n    </tr>\n    <tr>\n      <th>25278</th>\n      <td>ea2bf756466c7fb6</td>\n      <td>The DEI Group</td>\n      <td>Sr. Software Engineer/Architect</td>\n      <td>SE</td>\n      <td>SENIOR_LEVEL</td>\n      <td>$100,000 - $130,000 a year</td>\n      <td>Senior Software Engineer works as part of an a...</td>\n      <td>[]</td>\n      <td>On-Site</td>\n      <td>Columbia, MD 21045</td>\n      <td>39.199038</td>\n      <td>-76.841517</td>\n      <td>MD</td>\n      <td>Maryland</td>\n      <td>Howard County</td>\n      <td>Columbia</td>\n      <td>USA</td>\n    </tr>\n  </tbody>\n</table>\n<p>23277 rows × 17 columns</p>\n</div>"
     },
     "execution_count": 26,
     "metadata": {},
     "output_type": "execute_result"
    }
   ],
   "source": [
    "df"
   ],
   "metadata": {
    "collapsed": false,
    "ExecuteTime": {
     "end_time": "2023-12-10T07:21:20.980465Z",
     "start_time": "2023-12-10T07:21:20.972025Z"
    }
   },
   "id": "991250aaea2675b"
  },
  {
   "cell_type": "code",
   "execution_count": null,
   "outputs": [],
   "source": [],
   "metadata": {
    "collapsed": false
   },
   "id": "e1827deb1ccaeae2"
  }
 ],
 "metadata": {
  "kernelspec": {
   "display_name": "Python 3",
   "language": "python",
   "name": "python3"
  },
  "language_info": {
   "codemirror_mode": {
    "name": "ipython",
    "version": 2
   },
   "file_extension": ".py",
   "mimetype": "text/x-python",
   "name": "python",
   "nbconvert_exporter": "python",
   "pygments_lexer": "ipython2",
   "version": "2.7.6"
  }
 },
 "nbformat": 4,
 "nbformat_minor": 5
}
