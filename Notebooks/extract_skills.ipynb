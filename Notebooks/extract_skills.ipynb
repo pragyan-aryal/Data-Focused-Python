{
 "cells": [
  {
   "cell_type": "code",
   "execution_count": 1,
   "id": "initial_id",
   "metadata": {
    "ExecuteTime": {
     "end_time": "2023-12-10T05:24:11.766554Z",
     "start_time": "2023-12-10T05:24:10.331534Z"
    },
    "collapsed": true
   },
   "outputs": [],
   "source": [
    "import pandas as pd\n",
    "import re\n",
    "import numpy as np"
   ]
  },
  {
   "cell_type": "code",
   "execution_count": 2,
   "id": "f9a04f8c22e6f1fc",
   "metadata": {
    "ExecuteTime": {
     "end_time": "2023-12-10T05:24:27.453523Z",
     "start_time": "2023-12-10T05:24:26.217089Z"
    },
    "collapsed": false
   },
   "outputs": [],
   "source": [
    "df = pd.read_parquet(\"../Data/Indeed/Indeed_Data.parquet\")"
   ]
  },
  {
   "cell_type": "code",
   "execution_count": 3,
   "id": "d0ae623dae1cd19",
   "metadata": {
    "ExecuteTime": {
     "end_time": "2023-12-10T05:51:36.411378Z",
     "start_time": "2023-12-10T05:51:36.388222Z"
    },
    "collapsed": false
   },
   "outputs": [],
   "source": [
    "skillss = [\n",
    "    \"Android/iOS development\",\n",
    "    \"CI/CD (Continuous Integration/Continuous Deployment)\",\n",
    "    \"CI/CD\",\n",
    "    \"Data structures\",\n",
    "    \"Algorithms\",\n",
    "    \"Testing\",\n",
    "    \"Prototyping\",\n",
    "    \"Development\",\n",
    "    \"Agile\",\n",
    "    \"Concurrency\",\n",
    "    \"Parallelism\",\n",
    "    \"Multi-threading\",\n",
    "    \"Scraping\",\n",
    "    \"Distributed system\",\n",
    "    \"Quality Analyst\",\n",
    "    \"TDD\",\n",
    "    \"Test Driven Development\"\n",
    "    \"Backend (Computer Programming)\",\n",
    "    \"Backend\",\n",
    "    \"Frontend\",\n",
    "    \"Software Architecture\",\n",
    "    \"OOD (Object-Oriented Design)\",\n",
    "    \"Functional Programming\",\n",
    "    \"Computer Network\",\n",
    "    \"Cloud Computing\",\n",
    "    \"Object-Oriented Programming\",\n",
    "    \"Scripting\",\n",
    "    \"SDLC (Software Development Life Cycle)\",\n",
    "    \"SDLC\",\n",
    "    \"REST\",\n",
    "    \"gRPC\",\n",
    "    \"GraphQL\",\n",
    "    \"Protocol Buffer\",\n",
    "    \"Full-stack web application development\",\n",
    "    \"Virtualization\",\n",
    "    \"Containerization\",\n",
    "    \"Web technologies\",\n",
    "    \"Web Development\",\n",
    "    \"Mechanical System\",\n",
    "    \"Structural Analysis\",\n",
    "    \"Finite Element Analysis\",\n",
    "    \"FEM Mesh Analysis\",\n",
    "    \"Engineering Design\",\n",
    "    \"Fluid Mechanics\",\n",
    "    \"Manufacturing Processes\",\n",
    "    \"FMEA 8D\",\n",
    "    \"HVAC\",\n",
    "    \"CAD Design\",\n",
    "    \"3D Printing\",\n",
    "    \"Structural Analysis (Tools)\",\n",
    "    \"Project Management\",\n",
    "    \"Steel Structures\",\n",
    "    \"Stress Analysis\",\n",
    "    \"Solid Mechanics\",\n",
    "    \"Fixture Design\",\n",
    "    \"Building Information Model\",\n",
    "    \"Meshing\",\n",
    "    \"Six Sigma 5S\",\n",
    "    \"Design Optimization\",\n",
    "    \"Material Modeling\",\n",
    "    \"Kaizen\",\n",
    "    \"Construction Management\",\n",
    "    \"Applied Solid Mechanics\",\n",
    "    \"Failure Analysis\",\n",
    "    \"Surveying and Mapping\",\n",
    "    \"Numerical Methods\",\n",
    "    \"Manufacturing Process Controls\",\n",
    "    \"Prototype Design\",\n",
    "    \"Geospatial Information Systems (GIS)\",\n",
    "    \"FEA\",\n",
    "    \"Building Information Modeling\",\n",
    "    \"Process Design\",\n",
    "    \"Cost Estimating\",\n",
    "    \"Contract Administration\",\n",
    "    \"CNC Machining\",\n",
    "    \"Additive Manufacturing\",\n",
    "    \"Mechanical Analysis\",\n",
    "    \"Data Visualization\",\n",
    "    \"Data Warehousing\",\n",
    "    \"Requirements Gathering\",\n",
    "    \"Critical Thinking\",\n",
    "    \"Collaboration\",\n",
    "    \"Data Cleaning\",\n",
    "    \"Data Architecture\",\n",
    "    \"Project Management\",\n",
    "    \"Leadership\",\n",
    "    \"Teamwork\",\n",
    "    \"Coding\",\n",
    "    \"Enterprise Resource Planning (ERP)\",\n",
    "    \"Analytical Skills\",\n",
    "    \"Communication\",\n",
    "    \"Operating System\",\n",
    "    \"Modeling/Diagramming\",\n",
    "    \"Problem Solving\",\n",
    "    \"Time Management\",\n",
    "    \"Linear Algebra and Calculus\",\n",
    "    \"Machine Learning\",\n",
    "    \"Wireframing\",\n",
    "    \"Customer Relationship Management (CRM)\",\n",
    "    \"Technical Expertise\",\n",
    "    \"Adaptability\",\n",
    "    \"Inbound Marketing\",\n",
    "    \"Design Thinking\",\n",
    "    \"Conflict Resolution\",\n",
    "    \"Agile Project Planning\",\n",
    "    \"Extract Transform Load (ETL)\",\n",
    "    \"Scrum\",\n",
    "    \"Project Scoping\",\n",
    "    \"Documentation\",\n",
    "    \"Change Management\",\n",
    "    \"Roadmapping\",\n",
    "    \"Extract Load Transform (ELT)\",\n",
    "    \"Gantt Charts\",\n",
    "    \"Kanban boards\",\n",
    "    \"Statistical Analysis\",\n",
    "    \"Data Mining\",\n",
    "    \"Data Modeling\",\n",
    "    \"Analytics\",\n",
    "    \"Software Development\",\n",
    "    \"Data Pipeline Development\",\n",
    "    \"Cloud Computing\",\n",
    "    \"Process Modeling\",\n",
    "    \"Requirements Elicitation\",\n",
    "    \"Business Acumen\",\n",
    "    \"Product Strategy\",\n",
    "    \"User Research\",\n",
    "    \"Agile Methodology\",\n",
    "    \"Budgeting\",\n",
    "    \"Resource Management\",\n",
    "    \"Risk Management\"\n",
    "]"
   ]
  },
  {
   "cell_type": "code",
   "execution_count": 4,
   "id": "f20580de",
   "metadata": {
    "ExecuteTime": {
     "end_time": "2023-12-10T05:51:38.192020Z",
     "start_time": "2023-12-10T05:51:38.180146Z"
    }
   },
   "outputs": [],
   "source": [
    "languages = [\n",
    "    \"Java\",\n",
    "    \".NET\",\n",
    "    \"Python\",\n",
    "    \"C++\",\n",
    "    \"JavaScript\",\n",
    "    \"TypeScript\",\n",
    "    \"React\",\n",
    "    \"Vue\",\n",
    "    \"Angular\",\n",
    "    \"Svelte\",\n",
    "    \"C#\",\n",
    "    \"Golang\",\n",
    "    \"Go\",\n",
    "    \"Kotlin\",\n",
    "    \"PHP\",\n",
    "    \"Swift\",\n",
    "    \"Erlang\",\n",
    "    \"Elixir\",\n",
    "    \"Scala\",\n",
    "    \"SQL\",\n",
    "    \"HTML\",\n",
    "    \"CSS\",\n",
    "    \"TypeScript\",\n",
    "    \"VBA\",\n",
    "    \"R\",\n",
    "    \"Objective-C\",\n",
    "    \"Bash\",\n",
    "    \"Shell\",\n",
    "    \"Powershell\",\n",
    "    \"VBA\",\n",
    "    \"Matlab\",\n",
    "    \"Octave\",\n",
    "    \"T-SQL\",\n",
    "]"
   ]
  },
  {
   "cell_type": "code",
   "execution_count": 5,
   "id": "a1b7a949",
   "metadata": {
    "ExecuteTime": {
     "end_time": "2023-12-10T05:51:38.671665Z",
     "start_time": "2023-12-10T05:51:38.660831Z"
    }
   },
   "outputs": [],
   "source": [
    "databases = [\n",
    "    \"SQL\",\n",
    "    \"NoSQL\",\n",
    "    \"MongoDB\",\n",
    "    \"PostgreSQL\",\n",
    "    \"MySQL\",\n",
    "    \"MS SQL\",\n",
    "    \"MS-SQL\",\n",
    "    \"Oracle DB\",\n",
    "    \"Cassandra\",\n",
    "    \"Neo4J\",\n",
    "    \"Graph\"\n",
    "]"
   ]
  },
  {
   "cell_type": "code",
   "execution_count": 6,
   "id": "5f98e9fd",
   "metadata": {
    "ExecuteTime": {
     "end_time": "2023-12-10T05:51:39.364166Z",
     "start_time": "2023-12-10T05:51:39.352489Z"
    }
   },
   "outputs": [],
   "source": [
    "cloud = [\n",
    "    \"Amazon Web Services (AWS)\",\n",
    "    \"AWS\",\n",
    "    \"Microsoft Azure\",\n",
    "    \"Google Cloud Platform (GCP)\",\n",
    "    \"GCP\",\n",
    "    \"BigQuery\",\n",
    "    \"Snowflake\",\n",
    "    \"Databricks\",\n",
    "    \"Redshift\",\n",
    "    \"Openshift\",\n",
    "    \"Firebase\",\n",
    "    \"Cognito\"\n",
    "]"
   ]
  },
  {
   "cell_type": "code",
   "execution_count": 7,
   "id": "36c91b75",
   "metadata": {
    "ExecuteTime": {
     "end_time": "2023-12-10T05:51:40.201766Z",
     "start_time": "2023-12-10T05:51:40.183349Z"
    }
   },
   "outputs": [],
   "source": [
    "tools = [\n",
    "    \"Git\",\n",
    "    \"Docker\",\n",
    "    \"Kubernetes\",\n",
    "    \"Jenkins\",\n",
    "    \"Jira\",\n",
    "    \"Github Actions\",\n",
    "    \"Circle CI\",\n",
    "    \"Bitbucket\",\n",
    "    \"Sentry\",\n",
    "    \"AutoCAD\",\n",
    "    \"ANSYS\",\n",
    "    \"Creo Simulate (Mechanica)\",\n",
    "    \"SOLIDWORKS\",\n",
    "    \"Revit\",\n",
    "    \"Abaqus\",\n",
    "    \"Fusion 360\",\n",
    "    \"SketchUp\",\n",
    "    \"Nastran\",\n",
    "    \"OpenFOAM\",\n",
    "    \"HyperWorks\",\n",
    "    \"Autodesk Inventor\",\n",
    "    \"MS Project\",\n",
    "    \"SolidWorks Simulation\",\n",
    "    \"Femap\",\n",
    "    \"Microsoft Office\",\n",
    "    \"Civil 3D\",\n",
    "    \"CATIA\",\n",
    "    \"SimScale\",\n",
    "    \"MicroStation\",\n",
    "    \"COMSOL\",\n",
    "    \"Plaxis\",\n",
    "    \"HyperMesh\",\n",
    "    \"AUTOPIPE\",\n",
    "    \"ArcGIS\",\n",
    "    \"OptiStruct\",\n",
    "    \"PVElite\",\n",
    "    \"CAM Software\",\n",
    "    \"GeoStudio\",\n",
    "    \"MSC Adams\",\n",
    "    \"SAP2000\",\n",
    "    \"LS-DYNA\",\n",
    "    \"STAAD.Pro\",\n",
    "    \"PTC Creo\",\n",
    "    \"HEC-RAS\",\n",
    "    \"Minitab\",\n",
    "    \"Taitherm\",\n",
    "    \"Trimble\",\n",
    "    \"Bluebeam Revu\",\n",
    "    \"Microsoft Power BI\",\n",
    "    \"Apache Spark\",\n",
    "    \"Microsoft Office\",\n",
    "    \"Pendo\",\n",
    "    \"SAP Business Objects\",\n",
    "    \"Apache Hadoop\",\n",
    "    \"Microsoft Suite\",\n",
    "    \"Amplitude\",\n",
    "    \"Sisense\",\n",
    "    \"Apache Kafka\",\n",
    "    \"Wrike\",\n",
    "    \"Aha\",\n",
    "    \"TIBCO Software\",\n",
    "    \"Tableau\",\n",
    "    \"Oracle NetSuite\",\n",
    "    \"Jira\",\n",
    "    \"Thoughtspot\",\n",
    "    \"Snowflake\",\n",
    "    \"Pencil\",\n",
    "    \"Confluence\",\n",
    "    \"Qlik\",\n",
    "    \"Apache Hive\",\n",
    "    \"Trello\",\n",
    "    \"SAS Business Intelligence\",\n",
    "    \"Amazon Redshift\",\n",
    "    \"Xplenty\",\n",
    "    \"Gainsight\",\n",
    "    \"HubSpot\",\n",
    "    \"Google Analytics\",\n",
    "    \"Google Data Studio\",\n",
    "    \"Apache Cassandra\",\n",
    "    \"Salesforce\",\n",
    "    \"Looker Redash\",\n",
    "    \"Looker\",\n",
    "    \"Zoho\",\n",
    "    \"Periscope Data\",\n",
    "    \"Amazon Athena\",\n",
    "    \"Balsamiq\",\n",
    "    \"Metabase\",\n",
    "    \"Power BI\",\n",
    "    \"Figma\",\n",
    "    \"Jupyter Notebook\",\n",
    "    \"SAS\",\n",
    "    \"Plotly\",\n",
    "    \"Azure DevOps\",\n",
    "    \"IBM Cognos\",\n",
    "    \"Apache Airflow\",\n",
    "    \"ServiceNow\",\n",
    "    \"Chartio\",\n",
    "    \"Big Query\",\n",
    "    \"Infogram\",\n",
    "    \"Excel\",\n",
    "    \"Mode\",\n",
    "    \"Segment\",\n",
    "    \"KNIME\",\n",
    "    \"dbt\",\n",
    "    \"Swagger\",\n",
    "    \"RapidMiner\",\n",
    "    \"Fivetran\",\n",
    "    \"Powerpoint\",\n",
    "    \"Monday.com\",\n",
    "    \"Domo\",\n",
    "    \"Stitch\",\n",
    "    \"Word\",\n",
    "    \"Oracle Analytics Cloud\",\n",
    "    \"PostgreSQL\",\n",
    "    \"SAP\",\n",
    "    \"Azure DevOps\",\n",
    "    \"Prefect\",\n",
    "    \"Alteryx\",\n",
    "    \"Secoda\",\n",
    "    \"DAX\",\n",
    "    \"Apache Storm\",\n",
    "    \"Apache Flume\",\n",
    "    \"Outlook\",\n",
    "    \"Apache Sqoop\",\n",
    "    \"QlikWavefront\",\n",
    "    \"SSIS Azure DevOps\",\n",
    "    \"SSRS\",\n",
    "    \"Visio\",\n",
    "    \"Google Sheets\",\n",
    "    \"SPSS\",\n",
    "    \"Sharepoint\",\n",
    "    \"Git\",\n",
    "    \"Docker\",\n",
    "    \"Kafka\",\n",
    "    \"Visio\",\n",
    "    \"Jira\",\n",
    "    \"Aha\",\n",
    "    \"Asana\",\n",
    "    \"MS Project\",\n",
    "    \"SAS\"\n",
    "]"
   ]
  },
  {
   "cell_type": "code",
   "execution_count": 8,
   "id": "2c1e1b989daa366a",
   "metadata": {
    "ExecuteTime": {
     "end_time": "2023-12-10T05:52:29.881821Z",
     "start_time": "2023-12-10T05:52:29.872985Z"
    },
    "collapsed": false
   },
   "outputs": [],
   "source": [
    "Skills = {\n",
    "    'Language': list(set(languages)), \n",
    "    \"Cloud\": list(set(cloud)), \n",
    "    \"Database\": list(set(databases)), \n",
    "    \"Skill\": list(set(skillss)), \n",
    "    \"Tool\": list(set(tools))\n",
    "}"
   ]
  },
  {
   "cell_type": "code",
   "execution_count": 16,
   "id": "413e448b",
   "metadata": {},
   "outputs": [
    {
     "data": {
      "text/plain": [
       "31"
      ]
     },
     "execution_count": 16,
     "metadata": {},
     "output_type": "execute_result"
    }
   ],
   "source": [
    "len(Skills['Language'])"
   ]
  },
  {
   "cell_type": "code",
   "execution_count": 17,
   "id": "3550295c",
   "metadata": {},
   "outputs": [
    {
     "data": {
      "text/plain": [
       "12"
      ]
     },
     "execution_count": 17,
     "metadata": {},
     "output_type": "execute_result"
    }
   ],
   "source": [
    "len(Skills['Cloud'])"
   ]
  },
  {
   "cell_type": "code",
   "execution_count": 18,
   "id": "5a4bdb39",
   "metadata": {},
   "outputs": [
    {
     "data": {
      "text/plain": [
       "11"
      ]
     },
     "execution_count": 18,
     "metadata": {},
     "output_type": "execute_result"
    }
   ],
   "source": [
    "len(Skills['Database'])"
   ]
  },
  {
   "cell_type": "code",
   "execution_count": 19,
   "id": "bcc9d4ef",
   "metadata": {},
   "outputs": [
    {
     "data": {
      "text/plain": [
       "127"
      ]
     },
     "execution_count": 19,
     "metadata": {},
     "output_type": "execute_result"
    }
   ],
   "source": [
    "len(Skills['Skill'])"
   ]
  },
  {
   "cell_type": "code",
   "execution_count": 20,
   "id": "85a9e264",
   "metadata": {},
   "outputs": [
    {
     "data": {
      "text/plain": [
       "130"
      ]
     },
     "execution_count": 20,
     "metadata": {},
     "output_type": "execute_result"
    }
   ],
   "source": [
    "len(Skills['Tool'])"
   ]
  },
  {
   "cell_type": "code",
   "execution_count": 10,
   "id": "3efce75d0a854a65",
   "metadata": {
    "ExecuteTime": {
     "end_time": "2023-12-10T06:11:45.225314Z",
     "start_time": "2023-12-10T06:11:36.891170Z"
    },
    "collapsed": false
   },
   "outputs": [],
   "source": [
    "skills_list = []\n",
    "row_index = 0\n",
    "index = 0\n",
    "for i, rows in df.iterrows():\n",
    "    id = rows[\"Key\"]\n",
    "    category = rows[\"Category\"]\n",
    "    desc = rows[\"Description\"]\n",
    "    exp = rows[\"Experience_Level\"]\n",
    "    index = index + 1\n",
    "    for skl_code, skls in Skills.items():\n",
    "        for sk in skls:\n",
    "            if desc is not None:\n",
    "                row_index = row_index + 1\n",
    "                if re.search(re.escape(sk), desc, re.IGNORECASE) is not None:\n",
    "                    skills_list.append([sk, id, category, exp, skl_code])"
   ]
  },
  {
   "cell_type": "code",
   "execution_count": 11,
   "id": "a259e3b57d5add56",
   "metadata": {},
   "outputs": [
    {
     "data": {
      "text/plain": [
       "260371"
      ]
     },
     "execution_count": 11,
     "metadata": {},
     "output_type": "execute_result"
    }
   ],
   "source": [
    "len(skills_list)"
   ]
  },
  {
   "cell_type": "code",
   "execution_count": 14,
   "id": "550259b5fc7ef363",
   "metadata": {
    "collapsed": false
   },
   "outputs": [],
   "source": [
    "np.save('../Data/Indeed/all' + \"_skills.npy\", skills_list)"
   ]
  },
  {
   "cell_type": "code",
   "execution_count": 23,
   "id": "5d0a9fd081a26054",
   "metadata": {},
   "outputs": [],
   "source": [
    "with open('../Data/Indeed/all_skills.tsv', 'w') as file:\n",
    "    for i in skills_list:\n",
    "     b = \"\\t\".join(i) + \"\\n\"\n",
    "     file.write(b)\n",
    "file.close()        "
   ]
  },
  {
   "cell_type": "code",
   "execution_count": null,
   "id": "0a5a4df9",
   "metadata": {},
   "outputs": [],
   "source": []
  }
 ],
 "metadata": {
  "kernelspec": {
   "display_name": "PyPy3",
   "language": "python",
   "name": "pypy3"
  },
  "language_info": {
   "codemirror_mode": {
    "name": "ipython",
    "version": 3
   },
   "file_extension": ".py",
   "mimetype": "text/x-python",
   "name": "python",
   "nbconvert_exporter": "python",
   "pygments_lexer": "ipython3",
   "version": "3.10.12"
  }
 },
 "nbformat": 4,
 "nbformat_minor": 5
}
