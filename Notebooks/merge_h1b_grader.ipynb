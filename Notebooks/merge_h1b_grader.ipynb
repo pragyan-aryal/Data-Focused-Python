{
 "cells": [
  {
   "cell_type": "code",
   "execution_count": 1,
   "id": "initial_id",
   "metadata": {
    "collapsed": true,
    "ExecuteTime": {
     "end_time": "2023-12-05T14:59:07.633913Z",
     "start_time": "2023-12-05T14:59:07.331459Z"
    }
   },
   "outputs": [],
   "source": [
    "import pandas as pd"
   ]
  },
  {
   "cell_type": "code",
   "execution_count": 2,
   "outputs": [],
   "source": [
    "df_h1b = pd.read_csv('../Data/Indeed/h1_grader_data.tsv', sep='\\t')"
   ],
   "metadata": {
    "collapsed": false,
    "ExecuteTime": {
     "end_time": "2023-12-05T14:59:42.865275Z",
     "start_time": "2023-12-05T14:59:42.826112Z"
    }
   },
   "id": "4be57c3f7dbe77f8"
  },
  {
   "cell_type": "code",
   "execution_count": 3,
   "outputs": [
    {
     "data": {
      "text/plain": "      count                          employer_name  \\\n0        64      TATA CONSULTANCY SERVICES LIMITED   \n1        21           SYSTEM SOFT TECHNOLOGIES LLC   \n2        19                             GOOGLE LLC   \n3        18                            NAGARRO INC   \n4        17           COMPUNNEL SOFTWARE GROUP INC   \n...     ...                                    ...   \n6403      1  FREUDENBERG BATTERY POWER SYSTEMS LLC   \n6404      1                             EPITEC INC   \n6405      1                             FCA US LLC   \n6406      1        L&T TECHNOLOGY SERVICES LIMITED   \n6407      1                      GOKEN AMERICA LLC   \n\n                                           employer_url category_code  \\\n0     /h1b-sponsors/tata-consultancy-services-limite...            BA   \n1     /h1b-sponsors/system-soft-technologies-llc-8r0...            BA   \n2                   /h1b-sponsors/google-llc-em2mg7pj21            BA   \n3                  /h1b-sponsors/nagarro-inc-g101gvoo07            BA   \n4     /h1b-sponsors/compunnel-software-group-inc-vx2...            BA   \n...                                                 ...           ...   \n6403  /h1b-sponsors/freudenberg-battery-power-system...           CAE   \n6404                /h1b-sponsors/epitec-inc-pg27mz7q25           CAE   \n6405                /h1b-sponsors/fca-us-llc-nokpzlnn04           CAE   \n6406  /h1b-sponsors/l-and-t-technology-services-limi...           CAE   \n6407         /h1b-sponsors/goken-america-llc-50nrzem92g           CAE   \n\n      category_code.1  \n0                 NaN  \n1                 NaN  \n2                 NaN  \n3                 NaN  \n4                 NaN  \n...               ...  \n6403              NaN  \n6404              NaN  \n6405              NaN  \n6406              NaN  \n6407              NaN  \n\n[6408 rows x 5 columns]",
      "text/html": "<div>\n<style scoped>\n    .dataframe tbody tr th:only-of-type {\n        vertical-align: middle;\n    }\n\n    .dataframe tbody tr th {\n        vertical-align: top;\n    }\n\n    .dataframe thead th {\n        text-align: right;\n    }\n</style>\n<table border=\"1\" class=\"dataframe\">\n  <thead>\n    <tr style=\"text-align: right;\">\n      <th></th>\n      <th>count</th>\n      <th>employer_name</th>\n      <th>employer_url</th>\n      <th>category_code</th>\n      <th>category_code.1</th>\n    </tr>\n  </thead>\n  <tbody>\n    <tr>\n      <th>0</th>\n      <td>64</td>\n      <td>TATA CONSULTANCY SERVICES LIMITED</td>\n      <td>/h1b-sponsors/tata-consultancy-services-limite...</td>\n      <td>BA</td>\n      <td>NaN</td>\n    </tr>\n    <tr>\n      <th>1</th>\n      <td>21</td>\n      <td>SYSTEM SOFT TECHNOLOGIES LLC</td>\n      <td>/h1b-sponsors/system-soft-technologies-llc-8r0...</td>\n      <td>BA</td>\n      <td>NaN</td>\n    </tr>\n    <tr>\n      <th>2</th>\n      <td>19</td>\n      <td>GOOGLE LLC</td>\n      <td>/h1b-sponsors/google-llc-em2mg7pj21</td>\n      <td>BA</td>\n      <td>NaN</td>\n    </tr>\n    <tr>\n      <th>3</th>\n      <td>18</td>\n      <td>NAGARRO INC</td>\n      <td>/h1b-sponsors/nagarro-inc-g101gvoo07</td>\n      <td>BA</td>\n      <td>NaN</td>\n    </tr>\n    <tr>\n      <th>4</th>\n      <td>17</td>\n      <td>COMPUNNEL SOFTWARE GROUP INC</td>\n      <td>/h1b-sponsors/compunnel-software-group-inc-vx2...</td>\n      <td>BA</td>\n      <td>NaN</td>\n    </tr>\n    <tr>\n      <th>...</th>\n      <td>...</td>\n      <td>...</td>\n      <td>...</td>\n      <td>...</td>\n      <td>...</td>\n    </tr>\n    <tr>\n      <th>6403</th>\n      <td>1</td>\n      <td>FREUDENBERG BATTERY POWER SYSTEMS LLC</td>\n      <td>/h1b-sponsors/freudenberg-battery-power-system...</td>\n      <td>CAE</td>\n      <td>NaN</td>\n    </tr>\n    <tr>\n      <th>6404</th>\n      <td>1</td>\n      <td>EPITEC INC</td>\n      <td>/h1b-sponsors/epitec-inc-pg27mz7q25</td>\n      <td>CAE</td>\n      <td>NaN</td>\n    </tr>\n    <tr>\n      <th>6405</th>\n      <td>1</td>\n      <td>FCA US LLC</td>\n      <td>/h1b-sponsors/fca-us-llc-nokpzlnn04</td>\n      <td>CAE</td>\n      <td>NaN</td>\n    </tr>\n    <tr>\n      <th>6406</th>\n      <td>1</td>\n      <td>L&amp;T TECHNOLOGY SERVICES LIMITED</td>\n      <td>/h1b-sponsors/l-and-t-technology-services-limi...</td>\n      <td>CAE</td>\n      <td>NaN</td>\n    </tr>\n    <tr>\n      <th>6407</th>\n      <td>1</td>\n      <td>GOKEN AMERICA LLC</td>\n      <td>/h1b-sponsors/goken-america-llc-50nrzem92g</td>\n      <td>CAE</td>\n      <td>NaN</td>\n    </tr>\n  </tbody>\n</table>\n<p>6408 rows × 5 columns</p>\n</div>"
     },
     "execution_count": 3,
     "metadata": {},
     "output_type": "execute_result"
    }
   ],
   "source": [
    "df_h1b"
   ],
   "metadata": {
    "collapsed": false,
    "ExecuteTime": {
     "end_time": "2023-12-05T14:59:45.137518Z",
     "start_time": "2023-12-05T14:59:45.099950Z"
    }
   },
   "id": "d0a1bfab5dd00db0"
  },
  {
   "cell_type": "code",
   "execution_count": null,
   "outputs": [],
   "source": [],
   "metadata": {
    "collapsed": false
   },
   "id": "2b1cbed1119ebac2"
  }
 ],
 "metadata": {
  "kernelspec": {
   "display_name": "Python 3",
   "language": "python",
   "name": "python3"
  },
  "language_info": {
   "codemirror_mode": {
    "name": "ipython",
    "version": 2
   },
   "file_extension": ".py",
   "mimetype": "text/x-python",
   "name": "python",
   "nbconvert_exporter": "python",
   "pygments_lexer": "ipython2",
   "version": "2.7.6"
  }
 },
 "nbformat": 4,
 "nbformat_minor": 5
}
