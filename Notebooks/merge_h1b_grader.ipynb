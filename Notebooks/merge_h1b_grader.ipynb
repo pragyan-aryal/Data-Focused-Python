{
 "cells": [
  {
   "cell_type": "code",
   "execution_count": 1,
   "id": "initial_id",
   "metadata": {
    "collapsed": true,
    "ExecuteTime": {
     "end_time": "2023-12-06T03:17:40.013785Z",
     "start_time": "2023-12-06T03:17:39.664785Z"
    }
   },
   "outputs": [],
   "source": [
    "import pandas as pd"
   ]
  },
  {
   "cell_type": "code",
   "execution_count": 2,
   "outputs": [],
   "source": [
    "import re"
   ],
   "metadata": {
    "collapsed": false,
    "ExecuteTime": {
     "end_time": "2023-12-06T03:17:40.398793Z",
     "start_time": "2023-12-06T03:17:40.394351Z"
    }
   },
   "id": "c77e572707bb5abe"
  },
  {
   "cell_type": "code",
   "execution_count": 3,
   "outputs": [],
   "source": [
    "df_h1b = pd.read_csv('../Data/Indeed/h1_grader_data.tsv', sep='\\t')"
   ],
   "metadata": {
    "collapsed": false,
    "ExecuteTime": {
     "end_time": "2023-12-06T03:17:40.881699Z",
     "start_time": "2023-12-06T03:17:40.871882Z"
    }
   },
   "id": "4be57c3f7dbe77f8"
  },
  {
   "cell_type": "code",
   "execution_count": 4,
   "outputs": [],
   "source": [
    "df = pd.read_parquet('../Data/Indeed/merged.parquet')"
   ],
   "metadata": {
    "collapsed": false,
    "ExecuteTime": {
     "end_time": "2023-12-06T03:17:41.365835Z",
     "start_time": "2023-12-06T03:17:41.194375Z"
    }
   },
   "id": "2b1cbed1119ebac2"
  },
  {
   "cell_type": "code",
   "execution_count": 5,
   "outputs": [],
   "source": [
    "category_code = ['BA', 'SE', 'CAE', 'DE', 'DA', 'CE', 'ME', 'FEA', 'PM', 'PJM']"
   ],
   "metadata": {
    "collapsed": false,
    "ExecuteTime": {
     "end_time": "2023-12-06T03:17:41.473940Z",
     "start_time": "2023-12-06T03:17:41.469126Z"
    }
   },
   "id": "c99719fd4dfe1660"
  },
  {
   "cell_type": "code",
   "execution_count": 6,
   "outputs": [],
   "source": [
    "reference = {}"
   ],
   "metadata": {
    "collapsed": false,
    "ExecuteTime": {
     "end_time": "2023-12-06T03:17:41.976122Z",
     "start_time": "2023-12-06T03:17:41.970394Z"
    }
   },
   "id": "a10ea66d661dd15e"
  },
  {
   "cell_type": "code",
   "execution_count": 7,
   "outputs": [
    {
     "name": "stdout",
     "output_type": "stream",
     "text": [
      "count                                                             64\n",
      "employer_name                      TATA CONSULTANCY SERVICES LIMITED\n",
      "employer_url       /h1b-sponsors/tata-consultancy-services-limite...\n",
      "category_code                                                     BA\n",
      "category_code.1                                                  NaN\n",
      "Name: 0, dtype: object\n"
     ]
    }
   ],
   "source": [
    "for g, j in df_h1b.loc[df_h1b[\"category_code\"] == \"BA\"].iterrows():\n",
    "    print(j)\n",
    "    break"
   ],
   "metadata": {
    "collapsed": false,
    "ExecuteTime": {
     "end_time": "2023-12-06T03:17:43.044163Z",
     "start_time": "2023-12-06T03:17:43.039259Z"
    }
   },
   "id": "44f3a272489f9b7b"
  },
  {
   "cell_type": "code",
   "execution_count": null,
   "outputs": [],
   "source": [
    "for code in category_code:\n",
    "    for i, outer in df.loc[df['Category'] == code].iterrows():\n",
    "        for j, h1b in df_h1b.loc[df_h1b[\"category_code\"] == code].iterrows():\n",
    "            company = outer['Company']\n",
    "            ch = code + '_' + company\n",
    "            \n",
    "            if ch in reference:\n",
    "                pass\n",
    "                break\n",
    "            \n",
    "            cmp_h1b = h1b['employer_name']\n",
    "            re_match = '.*( ' +' | '.join(company.split(\" \")) + ' ).*'\n",
    "            a = re.findall(re_match, cmp_h1b, re.IGNORECASE)\n",
    "    pass"
   ],
   "metadata": {
    "collapsed": false
   },
   "id": "d3070e6a0c8207d5"
  },
  {
   "cell_type": "code",
   "execution_count": null,
   "outputs": [],
   "source": [
    "# county = []\n",
    "# for i, outer in df.iterrows():\n",
    "#     print(outer['Company'], outer['Category'])\n",
    "# \n",
    "#     for j, h1b in df_h1b.loc[df_h1b[\"category_code\"] == outer['Category']].iterrows():\n",
    "#         company = outer['Company']\n",
    "#         cmp_h1b = h1b['employer_name']\n",
    "# \n",
    "#         re_match = '.*( ' +' | '.join(company.split(\" \")) + ' ).*'\n",
    "#         a = re.findall(re_match, cmp_h1b, re.IGNORECASE)\n",
    "# \n",
    "#         if len(a) > 0:\n",
    "#             print(a, cmp_h1b, re_match, len(a))\n",
    "#             break\n",
    "# \n",
    "# \n",
    "#     print(loc)\n",
    "#     for j, h1b in df_h1b.iterrows():\n",
    "#     \n",
    "#         # z = df_h1b.loc[df_h1b[\"employer_name\"].str.findall(loc, flags=re.IGNORECASE)]\n",
    "#         print(df_h1b[\"employer_name\"].str.findall(loc, flags=re.IGNORECASE), loc)\n",
    "#         break\n",
    "#         if z.empty:\n",
    "#             county.append(0)\n",
    "#         elif z & df.iloc[i, 4] == z['category_code'].to_string().split(\"    \")[1]:\n",
    "#             county.append(int(z[\"count\"]))\n",
    "#         else:\n",
    "#             county.append(0)"
   ],
   "metadata": {
    "collapsed": false
   },
   "id": "76aa8f8cdd7d6b5e"
  },
  {
   "cell_type": "code",
   "execution_count": 8,
   "outputs": [],
   "source": [
    "import matplotlib.pyplot as plt"
   ],
   "metadata": {
    "collapsed": false,
    "ExecuteTime": {
     "end_time": "2023-12-06T16:33:21.508964Z",
     "start_time": "2023-12-06T16:33:21.213593Z"
    }
   },
   "id": "c7894ec0bfbe1523"
  },
  {
   "cell_type": "code",
   "execution_count": 9,
   "outputs": [],
   "source": [
    "X = [5.5, 5.1, 6.6, 5.5, 6.8]"
   ],
   "metadata": {
    "collapsed": false,
    "ExecuteTime": {
     "end_time": "2023-12-06T16:33:53.334490Z",
     "start_time": "2023-12-06T16:33:53.313909Z"
    }
   },
   "id": "9420b004dabb2eab"
  },
  {
   "cell_type": "code",
   "execution_count": 10,
   "outputs": [],
   "source": [
    "Y = [3.1, 4.8, 3.0, 4.6, 3.8]"
   ],
   "metadata": {
    "collapsed": false,
    "ExecuteTime": {
     "end_time": "2023-12-06T16:34:12.071751Z",
     "start_time": "2023-12-06T16:34:12.053221Z"
    }
   },
   "id": "9f3921af752d29fa"
  },
  {
   "cell_type": "code",
   "execution_count": 16,
   "outputs": [
    {
     "data": {
      "text/plain": "<matplotlib.collections.PathCollection at 0x17c6599d0>"
     },
     "execution_count": 16,
     "metadata": {},
     "output_type": "execute_result"
    },
    {
     "data": {
      "text/plain": "<Figure size 640x480 with 1 Axes>",
      "image/png": "[encoded data removed]"
     },
     "metadata": {},
     "output_type": "display_data"
    }
   ],
   "source": [
    "plt.scatter(X, Y)\n",
    "# plt.scatter(5.3, 3.5)\n",
    "# plt.scatter(5.1, 4.2)\n",
    "plt.scatter(6.3, 3.3)\n",
    "plt.scatter(5.3, 4.7)"
   ],
   "metadata": {
    "collapsed": false,
    "ExecuteTime": {
     "end_time": "2023-12-06T16:40:37.694175Z",
     "start_time": "2023-12-06T16:40:37.618862Z"
    }
   },
   "id": "bf7bf3d4ab9b5c6"
  },
  {
   "cell_type": "code",
   "execution_count": 20,
   "outputs": [
    {
     "data": {
      "text/plain": "(0.8, 0.2)"
     },
     "execution_count": 20,
     "metadata": {},
     "output_type": "execute_result"
    }
   ],
   "source": [
    "0.8, 0.2"
   ],
   "metadata": {
    "collapsed": false,
    "ExecuteTime": {
     "end_time": "2023-12-06T16:46:40.310789Z",
     "start_time": "2023-12-06T16:46:40.303630Z"
    }
   },
   "id": "198fe0a2bf126f6b"
  },
  {
   "cell_type": "code",
   "execution_count": 21,
   "outputs": [
    {
     "data": {
      "text/plain": "0.68"
     },
     "execution_count": 21,
     "metadata": {},
     "output_type": "execute_result"
    }
   ],
   "source": [
    "0.64 +  0.04"
   ],
   "metadata": {
    "collapsed": false,
    "ExecuteTime": {
     "end_time": "2023-12-06T16:46:41.183640Z",
     "start_time": "2023-12-06T16:46:41.180082Z"
    }
   },
   "id": "dd97759ab81093bf"
  },
  {
   "cell_type": "code",
   "execution_count": 22,
   "outputs": [
    {
     "data": {
      "text/plain": "(0.2, 1.6)"
     },
     "execution_count": 22,
     "metadata": {},
     "output_type": "execute_result"
    }
   ],
   "source": [
    "0.2, 1.6"
   ],
   "metadata": {
    "collapsed": false,
    "ExecuteTime": {
     "end_time": "2023-12-06T16:46:41.633914Z",
     "start_time": "2023-12-06T16:46:41.630136Z"
    }
   },
   "id": "2ea54e7da8de3fee"
  },
  {
   "cell_type": "code",
   "execution_count": 23,
   "outputs": [
    {
     "data": {
      "text/plain": "2.6"
     },
     "execution_count": 23,
     "metadata": {},
     "output_type": "execute_result"
    }
   ],
   "source": [
    "0.04 + 2.56"
   ],
   "metadata": {
    "collapsed": false,
    "ExecuteTime": {
     "end_time": "2023-12-06T16:46:42.397875Z",
     "start_time": "2023-12-06T16:46:42.393965Z"
    }
   },
   "id": "36b79181fc8c8876"
  },
  {
   "cell_type": "code",
   "execution_count": null,
   "outputs": [],
   "source": [],
   "metadata": {
    "collapsed": false
   },
   "id": "979a1e0c9a926aee"
  }
 ],
 "metadata": {
  "kernelspec": {
   "display_name": "Python 3",
   "language": "python",
   "name": "python3"
  },
  "language_info": {
   "codemirror_mode": {
    "name": "ipython",
    "version": 2
   },
   "file_extension": ".py",
   "mimetype": "text/x-python",
   "name": "python",
   "nbconvert_exporter": "python",
   "pygments_lexer": "ipython2",
   "version": "2.7.6"
  }
 },
 "nbformat": 4,
 "nbformat_minor": 5
}
