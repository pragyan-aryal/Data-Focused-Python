{
 "cells": [
  {
   "cell_type": "code",
   "execution_count": 1,
   "id": "initial_id",
   "metadata": {
    "ExecuteTime": {
     "end_time": "2023-12-05T01:38:34.651923Z",
     "start_time": "2023-12-05T01:38:34.398816Z"
    }
   },
   "outputs": [],
   "source": [
    "import pandas as pd"
   ]
  },
  {
   "cell_type": "code",
   "execution_count": null,
   "id": "e2289308bcb7dd4f",
   "metadata": {},
   "outputs": [],
   "source": [
    "df = pd.read_parquet('../Data/Indeed/clean_location.parquet')"
   ]
  },
  {
   "cell_type": "code",
   "execution_count": 2,
   "id": "39267f7d9db8be52",
   "metadata": {
    "ExecuteTime": {
     "end_time": "2023-12-05T01:38:36.528021Z",
     "start_time": "2023-12-05T01:38:36.483809Z"
    }
   },
   "outputs": [],
   "source": [
    "add_df = pd.read_csv('../Data/Indeed/merged.tsv', sep='\\t')"
   ]
  },
  {
   "cell_type": "code",
   "execution_count": 5,
   "outputs": [
    {
     "data": {
      "text/plain": "                                          location  \\\n0                                    Arlington, VA   \n1                                      Atlanta, GA   \n2                             Highland Heights, KY   \n3                               Edmeston, NY 13335   \n4                              Baltimore, MD 21211   \n...                                            ...   \n6957                            Columbus, OH 43085   \n6958                              Neenah, WI 54957   \n6959                              Ladera Ranch, CA   \n6960  Marlborough, MA 01752 (Williams Street area)   \n6961                             Chicago, IL 60605   \n\n                                                 values   latitude  \\\n0     {'latitude': 38.864458, 'longitude': -77.09963...  38.864458   \n1     {'latitude': 33.769805, 'longitude': -84.41458...  33.769805   \n2     {'latitude': 39.03711, 'longitude': -84.456707...  39.037110   \n3     {'latitude': 42.70226, 'longitude': -75.248224...  42.702260   \n4     {'latitude': 39.319732, 'longitude': -76.64953...  39.319732   \n...                                                 ...        ...   \n6957  {'latitude': 39.980761, 'longitude': -82.98533...  39.980761   \n6958  {'latitude': 44.167472, 'longitude': -88.47158...  44.167472   \n6959  {'latitude': 33.549803, 'longitude': -117.6436...  33.549803   \n6960  {'latitude': 42.350032, 'longitude': -71.54680...  42.350032   \n6961  {'latitude': 41.87897, 'longitude': -87.66063,...  41.878970   \n\n       longitude         region             county          locality  \n0     -77.099638       Virginia   Arlington County         Arlington  \n1     -84.414581        Georgia      Fulton County           Atlanta  \n2     -84.456707       Kentucky    Campbell County  Highland Heights  \n3     -75.248224       New York      Otsego County          Edmeston  \n4     -76.649533       Maryland  City of Baltimore         Baltimore  \n...          ...            ...                ...               ...  \n6957  -82.985331           Ohio    Franklin County          Columbus  \n6958  -88.471588      Wisconsin   Winnebago County            Neenah  \n6959 -117.643641     California      Orange County      Ladera Ranch  \n6960  -71.546809  Massachusetts   Middlesex County       Marlborough  \n6961  -87.660630       Illinois        Cook County           Chicago  \n\n[6962 rows x 7 columns]",
      "text/html": "<div>\n<style scoped>\n    .dataframe tbody tr th:only-of-type {\n        vertical-align: middle;\n    }\n\n    .dataframe tbody tr th {\n        vertical-align: top;\n    }\n\n    .dataframe thead th {\n        text-align: right;\n    }\n</style>\n<table border=\"1\" class=\"dataframe\">\n  <thead>\n    <tr style=\"text-align: right;\">\n      <th></th>\n      <th>location</th>\n      <th>values</th>\n      <th>latitude</th>\n      <th>longitude</th>\n      <th>region</th>\n      <th>county</th>\n      <th>locality</th>\n    </tr>\n  </thead>\n  <tbody>\n    <tr>\n      <th>0</th>\n      <td>Arlington, VA</td>\n      <td>{'latitude': 38.864458, 'longitude': -77.09963...</td>\n      <td>38.864458</td>\n      <td>-77.099638</td>\n      <td>Virginia</td>\n      <td>Arlington County</td>\n      <td>Arlington</td>\n    </tr>\n    <tr>\n      <th>1</th>\n      <td>Atlanta, GA</td>\n      <td>{'latitude': 33.769805, 'longitude': -84.41458...</td>\n      <td>33.769805</td>\n      <td>-84.414581</td>\n      <td>Georgia</td>\n      <td>Fulton County</td>\n      <td>Atlanta</td>\n    </tr>\n    <tr>\n      <th>2</th>\n      <td>Highland Heights, KY</td>\n      <td>{'latitude': 39.03711, 'longitude': -84.456707...</td>\n      <td>39.037110</td>\n      <td>-84.456707</td>\n      <td>Kentucky</td>\n      <td>Campbell County</td>\n      <td>Highland Heights</td>\n    </tr>\n    <tr>\n      <th>3</th>\n      <td>Edmeston, NY 13335</td>\n      <td>{'latitude': 42.70226, 'longitude': -75.248224...</td>\n      <td>42.702260</td>\n      <td>-75.248224</td>\n      <td>New York</td>\n      <td>Otsego County</td>\n      <td>Edmeston</td>\n    </tr>\n    <tr>\n      <th>4</th>\n      <td>Baltimore, MD 21211</td>\n      <td>{'latitude': 39.319732, 'longitude': -76.64953...</td>\n      <td>39.319732</td>\n      <td>-76.649533</td>\n      <td>Maryland</td>\n      <td>City of Baltimore</td>\n      <td>Baltimore</td>\n    </tr>\n    <tr>\n      <th>...</th>\n      <td>...</td>\n      <td>...</td>\n      <td>...</td>\n      <td>...</td>\n      <td>...</td>\n      <td>...</td>\n      <td>...</td>\n    </tr>\n    <tr>\n      <th>6957</th>\n      <td>Columbus, OH 43085</td>\n      <td>{'latitude': 39.980761, 'longitude': -82.98533...</td>\n      <td>39.980761</td>\n      <td>-82.985331</td>\n      <td>Ohio</td>\n      <td>Franklin County</td>\n      <td>Columbus</td>\n    </tr>\n    <tr>\n      <th>6958</th>\n      <td>Neenah, WI 54957</td>\n      <td>{'latitude': 44.167472, 'longitude': -88.47158...</td>\n      <td>44.167472</td>\n      <td>-88.471588</td>\n      <td>Wisconsin</td>\n      <td>Winnebago County</td>\n      <td>Neenah</td>\n    </tr>\n    <tr>\n      <th>6959</th>\n      <td>Ladera Ranch, CA</td>\n      <td>{'latitude': 33.549803, 'longitude': -117.6436...</td>\n      <td>33.549803</td>\n      <td>-117.643641</td>\n      <td>California</td>\n      <td>Orange County</td>\n      <td>Ladera Ranch</td>\n    </tr>\n    <tr>\n      <th>6960</th>\n      <td>Marlborough, MA 01752 (Williams Street area)</td>\n      <td>{'latitude': 42.350032, 'longitude': -71.54680...</td>\n      <td>42.350032</td>\n      <td>-71.546809</td>\n      <td>Massachusetts</td>\n      <td>Middlesex County</td>\n      <td>Marlborough</td>\n    </tr>\n    <tr>\n      <th>6961</th>\n      <td>Chicago, IL 60605</td>\n      <td>{'latitude': 41.87897, 'longitude': -87.66063,...</td>\n      <td>41.878970</td>\n      <td>-87.660630</td>\n      <td>Illinois</td>\n      <td>Cook County</td>\n      <td>Chicago</td>\n    </tr>\n  </tbody>\n</table>\n<p>6962 rows × 7 columns</p>\n</div>"
     },
     "execution_count": 5,
     "metadata": {},
     "output_type": "execute_result"
    }
   ],
   "source": [
    "add_df"
   ],
   "metadata": {
    "collapsed": false,
    "ExecuteTime": {
     "end_time": "2023-12-05T01:40:57.365980Z",
     "start_time": "2023-12-05T01:40:57.356055Z"
    }
   },
   "id": "aebbb96a23d2a6e5"
  },
  {
   "cell_type": "code",
   "execution_count": 11,
   "outputs": [
    {
     "data": {
      "text/plain": "array([38.864458])"
     },
     "execution_count": 11,
     "metadata": {},
     "output_type": "execute_result"
    }
   ],
   "source": [
    "add_df.loc[add_df['location'] == 'Arlington, VA']['latitude'].values"
   ],
   "metadata": {
    "collapsed": false,
    "ExecuteTime": {
     "end_time": "2023-12-05T01:43:35.007083Z",
     "start_time": "2023-12-05T01:43:35.002336Z"
    }
   },
   "id": "bf9f4960db08fbe8"
  },
  {
   "cell_type": "code",
   "execution_count": null,
   "outputs": [],
   "source": [],
   "metadata": {
    "collapsed": false
   },
   "id": "b7ac7b89cb4d210a"
  }
 ],
 "metadata": {
  "kernelspec": {
   "display_name": "Python 3 (ipykernel)",
   "language": "python",
   "name": "python3"
  },
  "language_info": {
   "codemirror_mode": {
    "name": "ipython",
    "version": 3
   },
   "file_extension": ".py",
   "mimetype": "text/x-python",
   "name": "python",
   "nbconvert_exporter": "python",
   "pygments_lexer": "ipython3",
   "version": "3.11.2"
  },
  "varInspector": {
   "cols": {
    "lenName": 16,
    "lenType": 16,
    "lenVar": 40
   },
   "kernels_config": {
    "python": {
     "delete_cmd_postfix": "",
     "delete_cmd_prefix": "del ",
     "library": "var_list.py",
     "varRefreshCmd": "print(var_dic_list())"
    },
    "r": {
     "delete_cmd_postfix": ") ",
     "delete_cmd_prefix": "rm(",
     "library": "var_list.r",
     "varRefreshCmd": "cat(var_dic_list()) "
    }
   },
   "types_to_exclude": [
    "module",
    "function",
    "builtin_function_or_method",
    "instance",
    "_Feature"
   ],
   "window_display": false
  }
 },
 "nbformat": 4,
 "nbformat_minor": 5
}
