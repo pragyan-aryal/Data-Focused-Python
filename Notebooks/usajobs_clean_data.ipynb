{
 "cells": [
  {
   "cell_type": "code",
   "execution_count": 1,
   "metadata": {},
   "outputs": [],
   "source": [
    "import numpy as np\n",
    "import pandas as pd\n",
    "import re"
   ]
  },
  {
   "cell_type": "code",
   "execution_count": 2,
   "metadata": {},
   "outputs": [],
   "source": [
    "# Read a csv file\n",
    "df = pd.read_csv('combined_data.csv')\n",
    "# Now 'df' is a DataFrame containing the data from the CSV File"
   ]
  },
  {
   "cell_type": "code",
   "execution_count": 5,
   "metadata": {},
   "outputs": [],
   "source": [
    "# Define the regex pattern\n",
    "pattern = r'\\$([0-9,]+)'\n",
    "\n",
    "# Function to extract salary using regex\n",
    "def extract_salary(salary_string):\n",
    "    match = re.search(pattern, str(salary_string))\n",
    "    if match:\n",
    "        salary_value = match.group(1)\n",
    "        return int(salary_value.replace(',', ''))\n",
    "    else:\n",
    "        return None\n",
    "\n",
    "# Apply the function to the 'salary' column\n",
    "df['extracted_salary'] = df['salary'].apply(extract_salary)"
   ]
  },
  {
   "cell_type": "code",
   "execution_count": 6,
   "metadata": {},
   "outputs": [],
   "source": [
    "# Multiply by 1920 for rows where 'hour' is mentioned in 'salary' column\n",
    "df.loc[df['salary'].str.contains('hour', case=False, na=False), 'extracted_salary'] *= 1920"
   ]
  },
  {
   "cell_type": "code",
   "execution_count": 7,
   "metadata": {},
   "outputs": [
    {
     "name": "stdout",
     "output_type": "stream",
     "text": [
      "Updated data has been saved to updated_data.csv\n"
     ]
    }
   ],
   "source": [
    "# Specify the path where you want to save the new CSV file\n",
    "output_file_path = 'updated_data.csv'\n",
    "\n",
    "# Save the DataFrame to a new CSV file\n",
    "df.to_csv(output_file_path, index=False)\n",
    "\n",
    "print(f\"Updated data has been saved to {output_file_path}\")"
   ]
  }
 ],
 "metadata": {
  "kernelspec": {
   "display_name": "Python 3",
   "language": "python",
   "name": "python3"
  },
  "language_info": {
   "codemirror_mode": {
    "name": "ipython",
    "version": 3
   },
   "file_extension": ".py",
   "mimetype": "text/x-python",
   "name": "python",
   "nbconvert_exporter": "python",
   "pygments_lexer": "ipython3",
   "version": "3.11.7"
  }
 },
 "nbformat": 4,
 "nbformat_minor": 2
}
