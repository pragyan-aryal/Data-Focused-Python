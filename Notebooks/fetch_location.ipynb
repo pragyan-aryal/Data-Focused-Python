{
 "cells": [
  {
   "cell_type": "code",
   "execution_count": 1,
   "id": "initial_id",
   "metadata": {
    "collapsed": true,
    "ExecuteTime": {
     "end_time": "2023-12-04T04:50:22.021815Z",
     "start_time": "2023-12-04T04:50:21.725388Z"
    }
   },
   "outputs": [],
   "source": [
    "import time\n",
    "\n",
    "import requests\n",
    "import json\n",
    "import pandas as pd"
   ]
  },
  {
   "cell_type": "code",
   "execution_count": 2,
   "outputs": [],
   "source": [
    "location_api = '7beed071aee02b56a8cca2428cb9ec45'"
   ],
   "metadata": {
    "collapsed": false,
    "ExecuteTime": {
     "end_time": "2023-12-04T04:50:22.477883Z",
     "start_time": "2023-12-04T04:50:22.468366Z"
    }
   },
   "id": "40ae0b67fd1fca5c"
  },
  {
   "cell_type": "code",
   "execution_count": 3,
   "outputs": [],
   "source": [
    "location_url=\"http://api.positionstack.com/v1/forward?access_key=7beed071aee02b56a8cca2428cb9ec45&query={}\""
   ],
   "metadata": {
    "collapsed": false,
    "ExecuteTime": {
     "end_time": "2023-12-04T04:50:22.815687Z",
     "start_time": "2023-12-04T04:50:22.810313Z"
    }
   },
   "id": "60a608e7f1b508c8"
  },
  {
   "cell_type": "code",
   "execution_count": 4,
   "outputs": [],
   "source": [
    "records = []"
   ],
   "metadata": {
    "collapsed": false,
    "ExecuteTime": {
     "end_time": "2023-12-04T04:50:23.170984Z",
     "start_time": "2023-12-04T04:50:23.165678Z"
    }
   },
   "id": "cdee5e601413bfa0"
  },
  {
   "cell_type": "code",
   "execution_count": 5,
   "outputs": [],
   "source": [
    "with open('../Data/Indeed/loc.txt', 'r') as file:\n",
    "    records = file.read().split('\\n')"
   ],
   "metadata": {
    "collapsed": false,
    "ExecuteTime": {
     "end_time": "2023-12-04T04:50:24.321332Z",
     "start_time": "2023-12-04T04:50:24.318330Z"
    }
   },
   "id": "53a9f9466c891f72"
  },
  {
   "cell_type": "markdown",
   "source": [
    "#### If there is not any existing data"
   ],
   "metadata": {
    "collapsed": false
   },
   "id": "b615226afeb64048"
  },
  {
   "cell_type": "code",
   "execution_count": null,
   "outputs": [],
   "source": [
    "# address = {}"
   ],
   "metadata": {
    "collapsed": false
   },
   "id": "9a986be1bf48c9c2"
  },
  {
   "cell_type": "code",
   "execution_count": null,
   "outputs": [],
   "source": [
    "# for record in records:\n",
    "#     response = requests.get(location_url.format(record))\n",
    "#     r = json.loads(response.text)\n",
    "#     try:\n",
    "#         address[record] = r['data'][0]\n",
    "#     except:\n",
    "#         address[record] = r['data'][0]\n",
    "#     time.sleep(0.8)"
   ],
   "metadata": {
    "collapsed": false
   },
   "id": "880c68c4b9addec6"
  },
  {
   "cell_type": "code",
   "execution_count": null,
   "outputs": [],
   "source": [
    "# with open('location_1.tsv', 'w') as file:\n",
    "#     file.write('location' + '\\t' + 'values' + '\\n')\n",
    "#     for a, v in address.items():\n",
    "#         file.write(a + '\\t' + str(v) + '\\n')"
   ],
   "metadata": {
    "collapsed": false
   },
   "id": "668d6f6c4a459438"
  },
  {
   "cell_type": "markdown",
   "source": [
    "#### If there is an existing data"
   ],
   "metadata": {
    "collapsed": false
   },
   "id": "beb1f2d0d0564e25"
  },
  {
   "cell_type": "code",
   "execution_count": 6,
   "outputs": [],
   "source": [
    "df = pd.read_csv('location_1.tsv', sep='\\t')"
   ],
   "metadata": {
    "collapsed": false,
    "ExecuteTime": {
     "end_time": "2023-12-04T04:50:29.352972Z",
     "start_time": "2023-12-04T04:50:29.310304Z"
    }
   },
   "id": "6a22a84e3893a32"
  },
  {
   "cell_type": "code",
   "execution_count": 7,
   "outputs": [],
   "source": [
    "address = dict(zip(df['location'], df['values']))"
   ],
   "metadata": {
    "collapsed": false,
    "ExecuteTime": {
     "end_time": "2023-12-04T04:50:29.855743Z",
     "start_time": "2023-12-04T04:50:29.849662Z"
    }
   },
   "id": "2012e43c4dc828b0"
  },
  {
   "cell_type": "code",
   "execution_count": 8,
   "outputs": [],
   "source": [
    "for record in records[:len(records)-2]:\n",
    "    if record in address:\n",
    "        if str(address[record]) == 'nan' or str(address[record]) == 'NA':\n",
    "            response = requests.get(location_url.format(record))\n",
    "            r = json.loads(response.text)\n",
    "            try:\n",
    "                address[record] = r['data'][0]\n",
    "            except:\n",
    "                address[record] = 'NA'\n",
    "            time.sleep(0.3)\n",
    "    else:\n",
    "        response = requests.get(location_url.format(record))\n",
    "        r = json.loads(response.text)\n",
    "        try:\n",
    "            address[record] = r['data'][0]\n",
    "        except:\n",
    "            address[record] = 'NA'\n",
    "        time.sleep(0.3)"
   ],
   "metadata": {
    "collapsed": false,
    "ExecuteTime": {
     "end_time": "2023-12-04T04:50:33.792527Z",
     "start_time": "2023-12-04T04:50:33.787820Z"
    }
   },
   "id": "20e49a3472694888"
  },
  {
   "cell_type": "code",
   "execution_count": 9,
   "outputs": [],
   "source": [
    "for record in records[:len(records)-2]:\n",
    "    if record in address:\n",
    "        if str(address[record]) == 'nan' or str(address[record]) == 'NA':\n",
    "            rec = record.split(\" (\")\n",
    "            response = requests.get(location_url.format(rec[0]))\n",
    "            r = json.loads(response.text)\n",
    "            try:\n",
    "                address[record] = r['data'][0]\n",
    "            except:\n",
    "                address[record] = 'NA'\n",
    "            time.sleep(0.3)"
   ],
   "metadata": {
    "collapsed": false,
    "ExecuteTime": {
     "end_time": "2023-12-04T04:50:35.890239Z",
     "start_time": "2023-12-04T04:50:35.884677Z"
    }
   },
   "id": "4b1d470658e69f9e"
  },
  {
   "cell_type": "code",
   "execution_count": 10,
   "outputs": [],
   "source": [
    "with open('../Data/Indeed/location.tsv', 'w') as file:\n",
    "    file.write('location' + '\\t' + 'values' + '\\n')\n",
    "    for a, v in address.items():\n",
    "        file.write(a + '\\t' + str(v) + '\\n')"
   ],
   "metadata": {
    "collapsed": false,
    "ExecuteTime": {
     "end_time": "2023-12-04T04:50:56.167561Z",
     "start_time": "2023-12-04T04:50:56.154455Z"
    }
   },
   "id": "529dbc6575dd4311"
  },
  {
   "cell_type": "code",
   "execution_count": null,
   "outputs": [],
   "source": [],
   "metadata": {
    "collapsed": false
   },
   "id": "e13da7c0f5ede0da"
  }
 ],
 "metadata": {
  "kernelspec": {
   "display_name": "Python 3",
   "language": "python",
   "name": "python3"
  },
  "language_info": {
   "codemirror_mode": {
    "name": "ipython",
    "version": 2
   },
   "file_extension": ".py",
   "mimetype": "text/x-python",
   "name": "python",
   "nbconvert_exporter": "python",
   "pygments_lexer": "ipython2",
   "version": "2.7.6"
  }
 },
 "nbformat": 4,
 "nbformat_minor": 5
}
