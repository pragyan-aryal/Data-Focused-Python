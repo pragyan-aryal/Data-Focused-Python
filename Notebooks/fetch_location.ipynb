{
 "cells": [
  {
   "cell_type": "code",
   "execution_count": 1,
   "id": "initial_id",
   "metadata": {
    "collapsed": true,
    "ExecuteTime": {
     "end_time": "2023-12-03T22:08:42.204883Z",
     "start_time": "2023-12-03T22:08:42.012546Z"
    }
   },
   "outputs": [],
   "source": [
    "import time\n",
    "\n",
    "import requests\n",
    "import json"
   ]
  },
  {
   "cell_type": "code",
   "execution_count": 2,
   "outputs": [],
   "source": [
    "location_api = '7beed071aee02b56a8cca2428cb9ec45'"
   ],
   "metadata": {
    "collapsed": false,
    "ExecuteTime": {
     "end_time": "2023-12-03T22:08:48.773590Z",
     "start_time": "2023-12-03T22:08:48.771119Z"
    }
   },
   "id": "40ae0b67fd1fca5c"
  },
  {
   "cell_type": "code",
   "execution_count": 3,
   "outputs": [],
   "source": [
    "location_url=\"http://api.positionstack.com/v1/forward?access_key=7beed071aee02b56a8cca2428cb9ec45&query={}\""
   ],
   "metadata": {
    "collapsed": false,
    "ExecuteTime": {
     "end_time": "2023-12-03T22:08:49.909506Z",
     "start_time": "2023-12-03T22:08:49.906541Z"
    }
   },
   "id": "60a608e7f1b508c8"
  },
  {
   "cell_type": "code",
   "execution_count": 4,
   "outputs": [],
   "source": [
    "records = []"
   ],
   "metadata": {
    "collapsed": false,
    "ExecuteTime": {
     "end_time": "2023-12-03T22:08:51.014963Z",
     "start_time": "2023-12-03T22:08:51.012003Z"
    }
   },
   "id": "cdee5e601413bfa0"
  },
  {
   "cell_type": "code",
   "execution_count": 5,
   "outputs": [],
   "source": [
    "with open('../Data/Indeed/loc.txt', 'r') as file:\n",
    "    records = file.read().split('\\n')"
   ],
   "metadata": {
    "collapsed": false,
    "ExecuteTime": {
     "end_time": "2023-12-03T22:08:52.597764Z",
     "start_time": "2023-12-03T22:08:52.590602Z"
    }
   },
   "id": "53a9f9466c891f72"
  },
  {
   "cell_type": "code",
   "execution_count": 7,
   "outputs": [],
   "source": [
    "detail_address = []"
   ],
   "metadata": {
    "collapsed": false,
    "ExecuteTime": {
     "end_time": "2023-12-03T22:09:09.478075Z",
     "start_time": "2023-12-03T22:09:09.474715Z"
    }
   },
   "id": "2012e43c4dc828b0"
  },
  {
   "cell_type": "code",
   "execution_count": null,
   "outputs": [],
   "source": [
    "for record in records:\n",
    "    response = requests.get(location_url.format(record))\n",
    "    r = json.loads(response.text)\n",
    "    try:\n",
    "        detail_address.append({record: r['data'][0]})\n",
    "    except:\n",
    "        detail_address.append({record: 'NA'})\n",
    "    time.sleep(0.8)"
   ],
   "metadata": {
    "collapsed": false,
    "is_executing": true,
    "ExecuteTime": {
     "start_time": "2023-12-03T22:09:10.455367Z"
    }
   },
   "id": "20e49a3472694888"
  },
  {
   "cell_type": "code",
   "execution_count": null,
   "outputs": [],
   "source": [
    "detail_address"
   ],
   "metadata": {
    "collapsed": false
   },
   "id": "3ee6c567896cb70f"
  },
  {
   "cell_type": "code",
   "execution_count": null,
   "outputs": [],
   "source": [],
   "metadata": {
    "collapsed": false
   },
   "id": "529dbc6575dd4311"
  },
  {
   "cell_type": "code",
   "execution_count": null,
   "outputs": [],
   "source": [],
   "metadata": {
    "collapsed": false
   },
   "id": "d6d59bfca43f9b26"
  }
 ],
 "metadata": {
  "kernelspec": {
   "display_name": "Python 3",
   "language": "python",
   "name": "python3"
  },
  "language_info": {
   "codemirror_mode": {
    "name": "ipython",
    "version": 2
   },
   "file_extension": ".py",
   "mimetype": "text/x-python",
   "name": "python",
   "nbconvert_exporter": "python",
   "pygments_lexer": "ipython2",
   "version": "2.7.6"
  }
 },
 "nbformat": 4,
 "nbformat_minor": 5
}
