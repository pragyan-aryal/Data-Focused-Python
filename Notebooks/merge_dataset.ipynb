{
 "cells": [
  {
   "cell_type": "code",
   "execution_count": 92,
   "id": "initial_id",
   "metadata": {
    "collapsed": true,
    "ExecuteTime": {
     "end_time": "2023-12-01T03:01:06.996935Z",
     "start_time": "2023-12-01T03:01:06.983858Z"
    }
   },
   "outputs": [],
   "source": [
    "import pandas as pd"
   ]
  },
  {
   "cell_type": "code",
   "execution_count": 93,
   "outputs": [],
   "source": [
    "code = 'DA'"
   ],
   "metadata": {
    "collapsed": false,
    "ExecuteTime": {
     "end_time": "2023-12-01T03:01:07.319281Z",
     "start_time": "2023-12-01T03:01:07.316502Z"
    }
   },
   "id": "4a65796b6dc05d8d"
  },
  {
   "cell_type": "code",
   "execution_count": 94,
   "outputs": [],
   "source": [
    "output_file_name = code + '.tsv'"
   ],
   "metadata": {
    "collapsed": false,
    "ExecuteTime": {
     "end_time": "2023-12-01T03:01:07.540412Z",
     "start_time": "2023-12-01T03:01:07.536499Z"
    }
   },
   "id": "9cab91f2dcdfedbe"
  },
  {
   "cell_type": "markdown",
   "source": [
    "Read File"
   ],
   "metadata": {
    "collapsed": false
   },
   "id": "42c40d6b671e8cfa"
  },
  {
   "cell_type": "code",
   "execution_count": 95,
   "outputs": [],
   "source": [
    "entry_level = pd.read_csv('../Data/Raw/' + code +'_ENTRY_LEVEL.tsv', sep='\\t')"
   ],
   "metadata": {
    "collapsed": false,
    "ExecuteTime": {
     "end_time": "2023-12-01T03:01:07.969126Z",
     "start_time": "2023-12-01T03:01:07.960726Z"
    }
   },
   "id": "449f36c50deb2bdb"
  },
  {
   "cell_type": "code",
   "execution_count": 96,
   "outputs": [],
   "source": [
    "mid_level = pd.read_csv('../Data/Raw/' + code +'_MID_LEVEL.tsv', sep='\\t')"
   ],
   "metadata": {
    "collapsed": false,
    "ExecuteTime": {
     "end_time": "2023-12-01T03:01:08.185031Z",
     "start_time": "2023-12-01T03:01:08.177891Z"
    }
   },
   "id": "32264ed939ca79ba"
  },
  {
   "cell_type": "code",
   "execution_count": 97,
   "outputs": [],
   "source": [
    "senior_level = pd.read_csv('../Data/Raw/' + code +'_SENIOR_LEVEL.tsv', sep='\\t')"
   ],
   "metadata": {
    "collapsed": false,
    "ExecuteTime": {
     "end_time": "2023-12-01T03:01:08.411825Z",
     "start_time": "2023-12-01T03:01:08.401129Z"
    }
   },
   "id": "b5d1e628492d3fbf"
  },
  {
   "cell_type": "markdown",
   "source": [
    "Get Columns"
   ],
   "metadata": {
    "collapsed": false
   },
   "id": "a163a0a6cb4d6ab1"
  },
  {
   "cell_type": "code",
   "execution_count": 98,
   "outputs": [],
   "source": [
    "re_1 = entry_level.columns"
   ],
   "metadata": {
    "collapsed": false,
    "ExecuteTime": {
     "end_time": "2023-12-01T03:01:08.875832Z",
     "start_time": "2023-12-01T03:01:08.865436Z"
    }
   },
   "id": "af363bd6cc16dfe1"
  },
  {
   "cell_type": "code",
   "execution_count": 99,
   "outputs": [],
   "source": [
    "rm_1 = mid_level.columns"
   ],
   "metadata": {
    "collapsed": false,
    "ExecuteTime": {
     "end_time": "2023-12-01T03:01:09.176370Z",
     "start_time": "2023-12-01T03:01:09.168508Z"
    }
   },
   "id": "2b09f48bcc2b914a"
  },
  {
   "cell_type": "code",
   "execution_count": 100,
   "outputs": [],
   "source": [
    "rs_1 = senior_level.columns"
   ],
   "metadata": {
    "collapsed": false,
    "ExecuteTime": {
     "end_time": "2023-12-01T03:01:09.448750Z",
     "start_time": "2023-12-01T03:01:09.445423Z"
    }
   },
   "id": "8e2636ae7a707838"
  },
  {
   "cell_type": "markdown",
   "source": [
    "Change Columns"
   ],
   "metadata": {
    "collapsed": false
   },
   "id": "587ff9be60790772"
  },
  {
   "cell_type": "code",
   "execution_count": 101,
   "outputs": [],
   "source": [
    "columns = ['Key', 'Company', 'Position', 'Location', 'Category', 'Experience_Level', 'Salary']"
   ],
   "metadata": {
    "collapsed": false,
    "ExecuteTime": {
     "end_time": "2023-12-01T03:01:09.916752Z",
     "start_time": "2023-12-01T03:01:09.907103Z"
    }
   },
   "id": "f3102d24d0a43000"
  },
  {
   "cell_type": "code",
   "execution_count": 102,
   "outputs": [],
   "source": [
    "entry_level.columns = columns"
   ],
   "metadata": {
    "collapsed": false,
    "ExecuteTime": {
     "end_time": "2023-12-01T03:01:10.151961Z",
     "start_time": "2023-12-01T03:01:10.149816Z"
    }
   },
   "id": "895f02027655642c"
  },
  {
   "cell_type": "code",
   "execution_count": 103,
   "outputs": [],
   "source": [
    "mid_level.columns = columns"
   ],
   "metadata": {
    "collapsed": false,
    "ExecuteTime": {
     "end_time": "2023-12-01T03:01:10.366295Z",
     "start_time": "2023-12-01T03:01:10.363816Z"
    }
   },
   "id": "58be6d71800a98d0"
  },
  {
   "cell_type": "code",
   "execution_count": 104,
   "outputs": [],
   "source": [
    "senior_level.columns = columns"
   ],
   "metadata": {
    "collapsed": false,
    "ExecuteTime": {
     "end_time": "2023-12-01T03:01:10.577527Z",
     "start_time": "2023-12-01T03:01:10.573260Z"
    }
   },
   "id": "b9578559875dca13"
  },
  {
   "cell_type": "markdown",
   "source": [
    "Add Data Before (Columns)"
   ],
   "metadata": {
    "collapsed": false
   },
   "id": "efbd6bcbd47cdfe8"
  },
  {
   "cell_type": "code",
   "execution_count": 105,
   "outputs": [],
   "source": [
    "entry_level.loc[-1] = re_1\n",
    "entry_level.index = entry_level.index + 1\n",
    "entry_level.sort_index(inplace=True)"
   ],
   "metadata": {
    "collapsed": false,
    "ExecuteTime": {
     "end_time": "2023-12-01T03:01:11.824931Z",
     "start_time": "2023-12-01T03:01:11.817320Z"
    }
   },
   "id": "24e786a38e46289b"
  },
  {
   "cell_type": "code",
   "execution_count": 106,
   "outputs": [],
   "source": [
    "mid_level.loc[-1] = rm_1\n",
    "mid_level.index = mid_level.index + 1\n",
    "mid_level.sort_index(inplace=True)"
   ],
   "metadata": {
    "collapsed": false,
    "ExecuteTime": {
     "end_time": "2023-12-01T03:01:12.097140Z",
     "start_time": "2023-12-01T03:01:12.087312Z"
    }
   },
   "id": "626d5b7108cd5187"
  },
  {
   "cell_type": "code",
   "execution_count": 107,
   "outputs": [],
   "source": [
    "senior_level.loc[-1] = rs_1\n",
    "senior_level.index = senior_level.index + 1\n",
    "senior_level.sort_index(inplace=True)"
   ],
   "metadata": {
    "collapsed": false,
    "ExecuteTime": {
     "end_time": "2023-12-01T03:01:12.385178Z",
     "start_time": "2023-12-01T03:01:12.374803Z"
    }
   },
   "id": "979f43c6f845eb6e"
  },
  {
   "cell_type": "code",
   "execution_count": 108,
   "outputs": [],
   "source": [
    "frame =  [entry_level, mid_level, senior_level]"
   ],
   "metadata": {
    "collapsed": false,
    "ExecuteTime": {
     "end_time": "2023-12-01T03:01:12.715946Z",
     "start_time": "2023-12-01T03:01:12.706365Z"
    }
   },
   "id": "1ffb02a3cfd30d44"
  },
  {
   "cell_type": "code",
   "execution_count": 109,
   "outputs": [],
   "source": [
    "df = pd.concat(frame, ignore_index=True)"
   ],
   "metadata": {
    "collapsed": false,
    "ExecuteTime": {
     "end_time": "2023-12-01T03:01:13.297729Z",
     "start_time": "2023-12-01T03:01:13.288801Z"
    }
   },
   "id": "af26a96a982c0109"
  },
  {
   "cell_type": "code",
   "execution_count": 110,
   "outputs": [],
   "source": [
    "df = df.drop_duplicates('Key')"
   ],
   "metadata": {
    "collapsed": false,
    "ExecuteTime": {
     "end_time": "2023-12-01T03:01:13.657263Z",
     "start_time": "2023-12-01T03:01:13.647965Z"
    }
   },
   "id": "843d14944209a3e8"
  },
  {
   "cell_type": "code",
   "execution_count": 111,
   "outputs": [
    {
     "data": {
      "text/plain": "                   Key                      Company  \\\n0     ae6c940b3636ccad              Perficient, Inc   \n1     b9b0881f3234c809             I2B Technologies   \n2     0341a6463ba420fc   The State of New Hampshire   \n3     b5dff19c485650cf             Stancil Painting   \n4     ed67f9e08f6f8c78                C.H. Robinson   \n...                ...                          ...   \n2959  8276c4be5c9f8a33                     Carter's   \n2960  9e7bd964623c71a8  Johns Hopkins Health System   \n2961  140cf239af5b3502                   Corestream   \n2962  4d6134b878e5356c        Casey Family Programs   \n2963  9ac42cbb40a26a0e        Casey Family Programs   \n\n                                               Position  \\\n0                      Healthcare Data Analyst - REMOTE   \n1                                  Digital Data Analyst   \n2                              DATA AND DIGITAL ANALYST   \n3                                          Data Analyst   \n4                                          Data Analyst   \n...                                                 ...   \n2959                             Sr Forecasting Analyst   \n2960                  Sr. Business Intelligence Analyst   \n2961                           Sr. Product Data Analyst   \n2962  Sr. Business Systems Analyst II, Seattle Headq...   \n2963                    Sr. Business Systems Analyst II   \n\n                               Location Category Experience_Level  \\\n0               Remote in United States       DA      ENTRY_LEVEL   \n1                                Remote       DA      ENTRY_LEVEL   \n2                           Concord, NH       DA      ENTRY_LEVEL   \n3                     Concord, NC 28027       DA      ENTRY_LEVEL   \n4                Eden Prairie, MN 55347       DA      ENTRY_LEVEL   \n...                                 ...      ...              ...   \n2959                        Atlanta, GA       DA     SENIOR_LEVEL   \n2960     Hybrid remote in Baltimore, MD       DA     SENIOR_LEVEL   \n2961                             Oregon       DA     SENIOR_LEVEL   \n2962  Seattle, WA 98121 (Belltown area)       DA     SENIOR_LEVEL   \n2963  Seattle, WA 98121 (Belltown area)       DA     SENIOR_LEVEL   \n\n                                Salary  \n0                                   NA  \n1                                  NaN  \n2              $27.01 - $32.09 an hour  \n3     Estimated $68.3K - $86.5K a year  \n4      Estimated $81.8K - $104K a year  \n...                                ...  \n2959    Estimated $63.2K - $80K a year  \n2960   Estimated $84.8K - $107K a year  \n2961                               NaN  \n2962                               NaN  \n2963        $102,000 - $120,000 a year  \n\n[2959 rows x 7 columns]",
      "text/html": "<div>\n<style scoped>\n    .dataframe tbody tr th:only-of-type {\n        vertical-align: middle;\n    }\n\n    .dataframe tbody tr th {\n        vertical-align: top;\n    }\n\n    .dataframe thead th {\n        text-align: right;\n    }\n</style>\n<table border=\"1\" class=\"dataframe\">\n  <thead>\n    <tr style=\"text-align: right;\">\n      <th></th>\n      <th>Key</th>\n      <th>Company</th>\n      <th>Position</th>\n      <th>Location</th>\n      <th>Category</th>\n      <th>Experience_Level</th>\n      <th>Salary</th>\n    </tr>\n  </thead>\n  <tbody>\n    <tr>\n      <th>0</th>\n      <td>ae6c940b3636ccad</td>\n      <td>Perficient, Inc</td>\n      <td>Healthcare Data Analyst - REMOTE</td>\n      <td>Remote in United States</td>\n      <td>DA</td>\n      <td>ENTRY_LEVEL</td>\n      <td>NA</td>\n    </tr>\n    <tr>\n      <th>1</th>\n      <td>b9b0881f3234c809</td>\n      <td>I2B Technologies</td>\n      <td>Digital Data Analyst</td>\n      <td>Remote</td>\n      <td>DA</td>\n      <td>ENTRY_LEVEL</td>\n      <td>NaN</td>\n    </tr>\n    <tr>\n      <th>2</th>\n      <td>0341a6463ba420fc</td>\n      <td>The State of New Hampshire</td>\n      <td>DATA AND DIGITAL ANALYST</td>\n      <td>Concord, NH</td>\n      <td>DA</td>\n      <td>ENTRY_LEVEL</td>\n      <td>$27.01 - $32.09 an hour</td>\n    </tr>\n    <tr>\n      <th>3</th>\n      <td>b5dff19c485650cf</td>\n      <td>Stancil Painting</td>\n      <td>Data Analyst</td>\n      <td>Concord, NC 28027</td>\n      <td>DA</td>\n      <td>ENTRY_LEVEL</td>\n      <td>Estimated $68.3K - $86.5K a year</td>\n    </tr>\n    <tr>\n      <th>4</th>\n      <td>ed67f9e08f6f8c78</td>\n      <td>C.H. Robinson</td>\n      <td>Data Analyst</td>\n      <td>Eden Prairie, MN 55347</td>\n      <td>DA</td>\n      <td>ENTRY_LEVEL</td>\n      <td>Estimated $81.8K - $104K a year</td>\n    </tr>\n    <tr>\n      <th>...</th>\n      <td>...</td>\n      <td>...</td>\n      <td>...</td>\n      <td>...</td>\n      <td>...</td>\n      <td>...</td>\n      <td>...</td>\n    </tr>\n    <tr>\n      <th>2959</th>\n      <td>8276c4be5c9f8a33</td>\n      <td>Carter's</td>\n      <td>Sr Forecasting Analyst</td>\n      <td>Atlanta, GA</td>\n      <td>DA</td>\n      <td>SENIOR_LEVEL</td>\n      <td>Estimated $63.2K - $80K a year</td>\n    </tr>\n    <tr>\n      <th>2960</th>\n      <td>9e7bd964623c71a8</td>\n      <td>Johns Hopkins Health System</td>\n      <td>Sr. Business Intelligence Analyst</td>\n      <td>Hybrid remote in Baltimore, MD</td>\n      <td>DA</td>\n      <td>SENIOR_LEVEL</td>\n      <td>Estimated $84.8K - $107K a year</td>\n    </tr>\n    <tr>\n      <th>2961</th>\n      <td>140cf239af5b3502</td>\n      <td>Corestream</td>\n      <td>Sr. Product Data Analyst</td>\n      <td>Oregon</td>\n      <td>DA</td>\n      <td>SENIOR_LEVEL</td>\n      <td>NaN</td>\n    </tr>\n    <tr>\n      <th>2962</th>\n      <td>4d6134b878e5356c</td>\n      <td>Casey Family Programs</td>\n      <td>Sr. Business Systems Analyst II, Seattle Headq...</td>\n      <td>Seattle, WA 98121 (Belltown area)</td>\n      <td>DA</td>\n      <td>SENIOR_LEVEL</td>\n      <td>NaN</td>\n    </tr>\n    <tr>\n      <th>2963</th>\n      <td>9ac42cbb40a26a0e</td>\n      <td>Casey Family Programs</td>\n      <td>Sr. Business Systems Analyst II</td>\n      <td>Seattle, WA 98121 (Belltown area)</td>\n      <td>DA</td>\n      <td>SENIOR_LEVEL</td>\n      <td>$102,000 - $120,000 a year</td>\n    </tr>\n  </tbody>\n</table>\n<p>2959 rows × 7 columns</p>\n</div>"
     },
     "execution_count": 111,
     "metadata": {},
     "output_type": "execute_result"
    }
   ],
   "source": [
    "df"
   ],
   "metadata": {
    "collapsed": false,
    "ExecuteTime": {
     "end_time": "2023-12-01T03:01:13.997708Z",
     "start_time": "2023-12-01T03:01:13.994954Z"
    }
   },
   "id": "da2d26bafdb9f5f"
  },
  {
   "cell_type": "markdown",
   "source": [
    "Save dataframe"
   ],
   "metadata": {
    "collapsed": false
   },
   "id": "a03a519e74c68c66"
  },
  {
   "cell_type": "code",
   "execution_count": 112,
   "outputs": [],
   "source": [
    "df.to_csv('../Data/Clean/' + output_file_name, sep='\\t', index=False)"
   ],
   "metadata": {
    "collapsed": false,
    "ExecuteTime": {
     "end_time": "2023-12-01T03:01:15.713040Z",
     "start_time": "2023-12-01T03:01:15.687692Z"
    }
   },
   "id": "3859d6bdcd9bf605"
  },
  {
   "cell_type": "markdown",
   "source": [
    "Verify"
   ],
   "metadata": {
    "collapsed": false
   },
   "id": "dd26ef94043fd4a9"
  },
  {
   "cell_type": "code",
   "execution_count": 113,
   "outputs": [],
   "source": [
    "me = pd.read_csv('../Data/Clean/' + code + '.tsv', sep='\\t')"
   ],
   "metadata": {
    "collapsed": false,
    "ExecuteTime": {
     "end_time": "2023-12-01T03:01:16.885307Z",
     "start_time": "2023-12-01T03:01:16.874501Z"
    }
   },
   "id": "cde6ea3dc697e6b6"
  },
  {
   "cell_type": "code",
   "execution_count": 114,
   "outputs": [
    {
     "data": {
      "text/plain": "                   Key                      Company  \\\n0     ae6c940b3636ccad              Perficient, Inc   \n1     b9b0881f3234c809             I2B Technologies   \n2     0341a6463ba420fc   The State of New Hampshire   \n3     b5dff19c485650cf             Stancil Painting   \n4     ed67f9e08f6f8c78                C.H. Robinson   \n...                ...                          ...   \n2954  8276c4be5c9f8a33                     Carter's   \n2955  9e7bd964623c71a8  Johns Hopkins Health System   \n2956  140cf239af5b3502                   Corestream   \n2957  4d6134b878e5356c        Casey Family Programs   \n2958  9ac42cbb40a26a0e        Casey Family Programs   \n\n                                               Position  \\\n0                      Healthcare Data Analyst - REMOTE   \n1                                  Digital Data Analyst   \n2                              DATA AND DIGITAL ANALYST   \n3                                          Data Analyst   \n4                                          Data Analyst   \n...                                                 ...   \n2954                             Sr Forecasting Analyst   \n2955                  Sr. Business Intelligence Analyst   \n2956                           Sr. Product Data Analyst   \n2957  Sr. Business Systems Analyst II, Seattle Headq...   \n2958                    Sr. Business Systems Analyst II   \n\n                               Location Category Experience_Level  \\\n0               Remote in United States       DA      ENTRY_LEVEL   \n1                                Remote       DA      ENTRY_LEVEL   \n2                           Concord, NH       DA      ENTRY_LEVEL   \n3                     Concord, NC 28027       DA      ENTRY_LEVEL   \n4                Eden Prairie, MN 55347       DA      ENTRY_LEVEL   \n...                                 ...      ...              ...   \n2954                        Atlanta, GA       DA     SENIOR_LEVEL   \n2955     Hybrid remote in Baltimore, MD       DA     SENIOR_LEVEL   \n2956                             Oregon       DA     SENIOR_LEVEL   \n2957  Seattle, WA 98121 (Belltown area)       DA     SENIOR_LEVEL   \n2958  Seattle, WA 98121 (Belltown area)       DA     SENIOR_LEVEL   \n\n                                Salary  \n0                                  NaN  \n1                                  NaN  \n2              $27.01 - $32.09 an hour  \n3     Estimated $68.3K - $86.5K a year  \n4      Estimated $81.8K - $104K a year  \n...                                ...  \n2954    Estimated $63.2K - $80K a year  \n2955   Estimated $84.8K - $107K a year  \n2956                               NaN  \n2957                               NaN  \n2958        $102,000 - $120,000 a year  \n\n[2959 rows x 7 columns]",
      "text/html": "<div>\n<style scoped>\n    .dataframe tbody tr th:only-of-type {\n        vertical-align: middle;\n    }\n\n    .dataframe tbody tr th {\n        vertical-align: top;\n    }\n\n    .dataframe thead th {\n        text-align: right;\n    }\n</style>\n<table border=\"1\" class=\"dataframe\">\n  <thead>\n    <tr style=\"text-align: right;\">\n      <th></th>\n      <th>Key</th>\n      <th>Company</th>\n      <th>Position</th>\n      <th>Location</th>\n      <th>Category</th>\n      <th>Experience_Level</th>\n      <th>Salary</th>\n    </tr>\n  </thead>\n  <tbody>\n    <tr>\n      <th>0</th>\n      <td>ae6c940b3636ccad</td>\n      <td>Perficient, Inc</td>\n      <td>Healthcare Data Analyst - REMOTE</td>\n      <td>Remote in United States</td>\n      <td>DA</td>\n      <td>ENTRY_LEVEL</td>\n      <td>NaN</td>\n    </tr>\n    <tr>\n      <th>1</th>\n      <td>b9b0881f3234c809</td>\n      <td>I2B Technologies</td>\n      <td>Digital Data Analyst</td>\n      <td>Remote</td>\n      <td>DA</td>\n      <td>ENTRY_LEVEL</td>\n      <td>NaN</td>\n    </tr>\n    <tr>\n      <th>2</th>\n      <td>0341a6463ba420fc</td>\n      <td>The State of New Hampshire</td>\n      <td>DATA AND DIGITAL ANALYST</td>\n      <td>Concord, NH</td>\n      <td>DA</td>\n      <td>ENTRY_LEVEL</td>\n      <td>$27.01 - $32.09 an hour</td>\n    </tr>\n    <tr>\n      <th>3</th>\n      <td>b5dff19c485650cf</td>\n      <td>Stancil Painting</td>\n      <td>Data Analyst</td>\n      <td>Concord, NC 28027</td>\n      <td>DA</td>\n      <td>ENTRY_LEVEL</td>\n      <td>Estimated $68.3K - $86.5K a year</td>\n    </tr>\n    <tr>\n      <th>4</th>\n      <td>ed67f9e08f6f8c78</td>\n      <td>C.H. Robinson</td>\n      <td>Data Analyst</td>\n      <td>Eden Prairie, MN 55347</td>\n      <td>DA</td>\n      <td>ENTRY_LEVEL</td>\n      <td>Estimated $81.8K - $104K a year</td>\n    </tr>\n    <tr>\n      <th>...</th>\n      <td>...</td>\n      <td>...</td>\n      <td>...</td>\n      <td>...</td>\n      <td>...</td>\n      <td>...</td>\n      <td>...</td>\n    </tr>\n    <tr>\n      <th>2954</th>\n      <td>8276c4be5c9f8a33</td>\n      <td>Carter's</td>\n      <td>Sr Forecasting Analyst</td>\n      <td>Atlanta, GA</td>\n      <td>DA</td>\n      <td>SENIOR_LEVEL</td>\n      <td>Estimated $63.2K - $80K a year</td>\n    </tr>\n    <tr>\n      <th>2955</th>\n      <td>9e7bd964623c71a8</td>\n      <td>Johns Hopkins Health System</td>\n      <td>Sr. Business Intelligence Analyst</td>\n      <td>Hybrid remote in Baltimore, MD</td>\n      <td>DA</td>\n      <td>SENIOR_LEVEL</td>\n      <td>Estimated $84.8K - $107K a year</td>\n    </tr>\n    <tr>\n      <th>2956</th>\n      <td>140cf239af5b3502</td>\n      <td>Corestream</td>\n      <td>Sr. Product Data Analyst</td>\n      <td>Oregon</td>\n      <td>DA</td>\n      <td>SENIOR_LEVEL</td>\n      <td>NaN</td>\n    </tr>\n    <tr>\n      <th>2957</th>\n      <td>4d6134b878e5356c</td>\n      <td>Casey Family Programs</td>\n      <td>Sr. Business Systems Analyst II, Seattle Headq...</td>\n      <td>Seattle, WA 98121 (Belltown area)</td>\n      <td>DA</td>\n      <td>SENIOR_LEVEL</td>\n      <td>NaN</td>\n    </tr>\n    <tr>\n      <th>2958</th>\n      <td>9ac42cbb40a26a0e</td>\n      <td>Casey Family Programs</td>\n      <td>Sr. Business Systems Analyst II</td>\n      <td>Seattle, WA 98121 (Belltown area)</td>\n      <td>DA</td>\n      <td>SENIOR_LEVEL</td>\n      <td>$102,000 - $120,000 a year</td>\n    </tr>\n  </tbody>\n</table>\n<p>2959 rows × 7 columns</p>\n</div>"
     },
     "execution_count": 114,
     "metadata": {},
     "output_type": "execute_result"
    }
   ],
   "source": [
    "me"
   ],
   "metadata": {
    "collapsed": false,
    "ExecuteTime": {
     "end_time": "2023-12-01T03:01:17.593112Z",
     "start_time": "2023-12-01T03:01:17.586227Z"
    }
   },
   "id": "3a0d561a205db5d7"
  },
  {
   "cell_type": "code",
   "execution_count": null,
   "outputs": [],
   "source": [],
   "metadata": {
    "collapsed": false
   },
   "id": "a4bf6fd17b29154e"
  }
 ],
 "metadata": {
  "kernelspec": {
   "display_name": "Python 3",
   "language": "python",
   "name": "python3"
  },
  "language_info": {
   "codemirror_mode": {
    "name": "ipython",
    "version": 2
   },
   "file_extension": ".py",
   "mimetype": "text/x-python",
   "name": "python",
   "nbconvert_exporter": "python",
   "pygments_lexer": "ipython2",
   "version": "2.7.6"
  }
 },
 "nbformat": 4,
 "nbformat_minor": 5
}
