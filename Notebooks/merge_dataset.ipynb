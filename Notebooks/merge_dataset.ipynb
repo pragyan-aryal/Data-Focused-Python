{
 "cells": [
  {
   "cell_type": "code",
   "execution_count": 1,
   "id": "initial_id",
   "metadata": {
    "collapsed": true,
    "ExecuteTime": {
     "end_time": "2023-12-01T04:09:37.384132Z",
     "start_time": "2023-12-01T04:09:36.822273Z"
    }
   },
   "outputs": [],
   "source": [
    "import pandas as pd"
   ]
  },
  {
   "cell_type": "code",
   "execution_count": 2,
   "outputs": [],
   "source": [
    "code = 'DE'"
   ],
   "metadata": {
    "collapsed": false,
    "ExecuteTime": {
     "end_time": "2023-12-01T04:09:38.017633Z",
     "start_time": "2023-12-01T04:09:38.014481Z"
    }
   },
   "id": "4a65796b6dc05d8d"
  },
  {
   "cell_type": "code",
   "execution_count": 3,
   "outputs": [],
   "source": [
    "output_file_name = code + '.tsv'"
   ],
   "metadata": {
    "collapsed": false,
    "ExecuteTime": {
     "end_time": "2023-12-01T04:09:38.386440Z",
     "start_time": "2023-12-01T04:09:38.380907Z"
    }
   },
   "id": "9cab91f2dcdfedbe"
  },
  {
   "cell_type": "markdown",
   "source": [
    "Read File"
   ],
   "metadata": {
    "collapsed": false
   },
   "id": "42c40d6b671e8cfa"
  },
  {
   "cell_type": "code",
   "execution_count": 4,
   "outputs": [],
   "source": [
    "entry_level = pd.read_csv('../Data/Raw/' + code +'_ENTRY_LEVEL.tsv', sep='\\t')"
   ],
   "metadata": {
    "collapsed": false,
    "ExecuteTime": {
     "end_time": "2023-12-01T04:09:38.944937Z",
     "start_time": "2023-12-01T04:09:38.936786Z"
    }
   },
   "id": "449f36c50deb2bdb"
  },
  {
   "cell_type": "code",
   "execution_count": 5,
   "outputs": [],
   "source": [
    "mid_level = pd.read_csv('../Data/Raw/' + code +'_MID_LEVEL.tsv', sep='\\t')"
   ],
   "metadata": {
    "collapsed": false,
    "ExecuteTime": {
     "end_time": "2023-12-01T04:09:39.157379Z",
     "start_time": "2023-12-01T04:09:39.147252Z"
    }
   },
   "id": "32264ed939ca79ba"
  },
  {
   "cell_type": "code",
   "execution_count": 6,
   "outputs": [],
   "source": [
    "senior_level = pd.read_csv('../Data/Raw/' + code +'_SENIOR_LEVEL.tsv', sep='\\t')"
   ],
   "metadata": {
    "collapsed": false,
    "ExecuteTime": {
     "end_time": "2023-12-01T04:09:39.340058Z",
     "start_time": "2023-12-01T04:09:39.335140Z"
    }
   },
   "id": "b5d1e628492d3fbf"
  },
  {
   "cell_type": "markdown",
   "source": [
    "Get Columns"
   ],
   "metadata": {
    "collapsed": false
   },
   "id": "a163a0a6cb4d6ab1"
  },
  {
   "cell_type": "code",
   "execution_count": 7,
   "outputs": [],
   "source": [
    "re_1 = entry_level.columns"
   ],
   "metadata": {
    "collapsed": false,
    "ExecuteTime": {
     "end_time": "2023-12-01T04:09:39.691046Z",
     "start_time": "2023-12-01T04:09:39.683634Z"
    }
   },
   "id": "af363bd6cc16dfe1"
  },
  {
   "cell_type": "code",
   "execution_count": 8,
   "outputs": [],
   "source": [
    "rm_1 = mid_level.columns"
   ],
   "metadata": {
    "collapsed": false,
    "ExecuteTime": {
     "end_time": "2023-12-01T04:09:39.869228Z",
     "start_time": "2023-12-01T04:09:39.861852Z"
    }
   },
   "id": "2b09f48bcc2b914a"
  },
  {
   "cell_type": "code",
   "execution_count": 9,
   "outputs": [],
   "source": [
    "rs_1 = senior_level.columns"
   ],
   "metadata": {
    "collapsed": false,
    "ExecuteTime": {
     "end_time": "2023-12-01T04:09:40.033676Z",
     "start_time": "2023-12-01T04:09:40.028859Z"
    }
   },
   "id": "8e2636ae7a707838"
  },
  {
   "cell_type": "markdown",
   "source": [
    "Change Columns"
   ],
   "metadata": {
    "collapsed": false
   },
   "id": "587ff9be60790772"
  },
  {
   "cell_type": "code",
   "execution_count": 10,
   "outputs": [],
   "source": [
    "columns = ['Key', 'Company', 'Position', 'Location', 'Category', 'Experience_Level', 'Salary']"
   ],
   "metadata": {
    "collapsed": false,
    "ExecuteTime": {
     "end_time": "2023-12-01T04:09:40.392300Z",
     "start_time": "2023-12-01T04:09:40.390680Z"
    }
   },
   "id": "f3102d24d0a43000"
  },
  {
   "cell_type": "code",
   "execution_count": 11,
   "outputs": [],
   "source": [
    "entry_level.columns = columns"
   ],
   "metadata": {
    "collapsed": false,
    "ExecuteTime": {
     "end_time": "2023-12-01T04:09:40.564863Z",
     "start_time": "2023-12-01T04:09:40.563530Z"
    }
   },
   "id": "895f02027655642c"
  },
  {
   "cell_type": "code",
   "execution_count": 12,
   "outputs": [],
   "source": [
    "mid_level.columns = columns"
   ],
   "metadata": {
    "collapsed": false,
    "ExecuteTime": {
     "end_time": "2023-12-01T04:09:40.758804Z",
     "start_time": "2023-12-01T04:09:40.756226Z"
    }
   },
   "id": "58be6d71800a98d0"
  },
  {
   "cell_type": "code",
   "execution_count": 13,
   "outputs": [],
   "source": [
    "senior_level.columns = columns"
   ],
   "metadata": {
    "collapsed": false,
    "ExecuteTime": {
     "end_time": "2023-12-01T04:09:40.949353Z",
     "start_time": "2023-12-01T04:09:40.944746Z"
    }
   },
   "id": "b9578559875dca13"
  },
  {
   "cell_type": "markdown",
   "source": [
    "Add Data Before (Columns)"
   ],
   "metadata": {
    "collapsed": false
   },
   "id": "efbd6bcbd47cdfe8"
  },
  {
   "cell_type": "code",
   "execution_count": 14,
   "outputs": [],
   "source": [
    "entry_level.loc[-1] = re_1\n",
    "entry_level.index = entry_level.index + 1\n",
    "entry_level.sort_index(inplace=True)"
   ],
   "metadata": {
    "collapsed": false,
    "ExecuteTime": {
     "end_time": "2023-12-01T04:09:41.330874Z",
     "start_time": "2023-12-01T04:09:41.323502Z"
    }
   },
   "id": "24e786a38e46289b"
  },
  {
   "cell_type": "code",
   "execution_count": 15,
   "outputs": [],
   "source": [
    "mid_level.loc[-1] = rm_1\n",
    "mid_level.index = mid_level.index + 1\n",
    "mid_level.sort_index(inplace=True)"
   ],
   "metadata": {
    "collapsed": false,
    "ExecuteTime": {
     "end_time": "2023-12-01T04:09:41.497721Z",
     "start_time": "2023-12-01T04:09:41.490608Z"
    }
   },
   "id": "626d5b7108cd5187"
  },
  {
   "cell_type": "code",
   "execution_count": 16,
   "outputs": [],
   "source": [
    "senior_level.loc[-1] = rs_1\n",
    "senior_level.index = senior_level.index + 1\n",
    "senior_level.sort_index(inplace=True)"
   ],
   "metadata": {
    "collapsed": false,
    "ExecuteTime": {
     "end_time": "2023-12-01T04:09:41.681636Z",
     "start_time": "2023-12-01T04:09:41.671759Z"
    }
   },
   "id": "979f43c6f845eb6e"
  },
  {
   "cell_type": "code",
   "execution_count": 17,
   "outputs": [],
   "source": [
    "frame =  [entry_level, mid_level, senior_level]"
   ],
   "metadata": {
    "collapsed": false,
    "ExecuteTime": {
     "end_time": "2023-12-01T04:09:41.863997Z",
     "start_time": "2023-12-01T04:09:41.854042Z"
    }
   },
   "id": "1ffb02a3cfd30d44"
  },
  {
   "cell_type": "code",
   "execution_count": 18,
   "outputs": [],
   "source": [
    "df = pd.concat(frame, ignore_index=True)"
   ],
   "metadata": {
    "collapsed": false,
    "ExecuteTime": {
     "end_time": "2023-12-01T04:09:42.046552Z",
     "start_time": "2023-12-01T04:09:42.042498Z"
    }
   },
   "id": "af26a96a982c0109"
  },
  {
   "cell_type": "code",
   "execution_count": 19,
   "outputs": [],
   "source": [
    "df = df.drop_duplicates('Key')"
   ],
   "metadata": {
    "collapsed": false,
    "ExecuteTime": {
     "end_time": "2023-12-01T04:09:42.424516Z",
     "start_time": "2023-12-01T04:09:42.415333Z"
    }
   },
   "id": "843d14944209a3e8"
  },
  {
   "cell_type": "code",
   "execution_count": 20,
   "outputs": [
    {
     "data": {
      "text/plain": "                   Key                                 Company  \\\n0     3ea902f8ea01f543                              CVS Health   \n1     be9fa4e22cddbb22                              CVS Health   \n2     e4a613074f64e003  Automobile Club of Southern California   \n3     9d2fb391d088472f                     TrueSense Marketing   \n4     6b688887e54e619e                             Capital One   \n...                ...                                     ...   \n2580  0e48da3e65df1a60                                  Pfizer   \n2581  b5d16d73172c11b6               Marathon Digital Holdings   \n2582  91c58a748670b4b2                             Siteimprove   \n2583  60b0edf1fac45afc                               Ampersand   \n2584  51f8639818a92492                                   Apple   \n\n                                               Position  \\\n0                               Associate Data Engineer   \n1                               Associate Data Engineer   \n2                                         Data Engineer   \n3       Data Integration Engineer / Fivetran Specialist   \n4                                         Data Engineer   \n...                                                 ...   \n2580          Sr. Associate, Big Data Software Engineer   \n2581  Senior Solutions Engineer - Data Center Immers...   \n2582                               Senior Data Engineer   \n2583                               Senior Data Engineer   \n2584                         Data Quality Lead Engineer   \n\n                               Location Category Experience_Level  \\\n0                            Irving, TX       DE      ENTRY_LEVEL   \n1                            Irving, TX       DE      ENTRY_LEVEL   \n2                  Costa Mesa, CA 92626       DE      ENTRY_LEVEL   \n3                                Remote       DE      ENTRY_LEVEL   \n4                            McLean, VA       DE      ENTRY_LEVEL   \n...                                 ...      ...              ...   \n2580                   Collegeville, PA       DE     SENIOR_LEVEL   \n2581                Remote in Tampa, FL       DE     SENIOR_LEVEL   \n2582      Hybrid remote in Bellevue, WA       DE     SENIOR_LEVEL   \n2583  New York, NY 10036 (Midtown area)       DE     SENIOR_LEVEL   \n2584                      Cupertino, CA       DE     SENIOR_LEVEL   \n\n                                Salary  \n0            $60,000 - $120,000 a year  \n1            $60,000 - $120,000 a year  \n2           $101,000 - $134,700 a year  \n3     Estimated $78.6K - $99.5K a year  \n4                                  NaN  \n...                                ...  \n2580         $72,700 - $121,200 a year  \n2581                               NaN  \n2582        $120,000 - $165,000 a year  \n2583                               NaN  \n2584                               NaN  \n\n[2576 rows x 7 columns]",
      "text/html": "<div>\n<style scoped>\n    .dataframe tbody tr th:only-of-type {\n        vertical-align: middle;\n    }\n\n    .dataframe tbody tr th {\n        vertical-align: top;\n    }\n\n    .dataframe thead th {\n        text-align: right;\n    }\n</style>\n<table border=\"1\" class=\"dataframe\">\n  <thead>\n    <tr style=\"text-align: right;\">\n      <th></th>\n      <th>Key</th>\n      <th>Company</th>\n      <th>Position</th>\n      <th>Location</th>\n      <th>Category</th>\n      <th>Experience_Level</th>\n      <th>Salary</th>\n    </tr>\n  </thead>\n  <tbody>\n    <tr>\n      <th>0</th>\n      <td>3ea902f8ea01f543</td>\n      <td>CVS Health</td>\n      <td>Associate Data Engineer</td>\n      <td>Irving, TX</td>\n      <td>DE</td>\n      <td>ENTRY_LEVEL</td>\n      <td>$60,000 - $120,000 a year</td>\n    </tr>\n    <tr>\n      <th>1</th>\n      <td>be9fa4e22cddbb22</td>\n      <td>CVS Health</td>\n      <td>Associate Data Engineer</td>\n      <td>Irving, TX</td>\n      <td>DE</td>\n      <td>ENTRY_LEVEL</td>\n      <td>$60,000 - $120,000 a year</td>\n    </tr>\n    <tr>\n      <th>2</th>\n      <td>e4a613074f64e003</td>\n      <td>Automobile Club of Southern California</td>\n      <td>Data Engineer</td>\n      <td>Costa Mesa, CA 92626</td>\n      <td>DE</td>\n      <td>ENTRY_LEVEL</td>\n      <td>$101,000 - $134,700 a year</td>\n    </tr>\n    <tr>\n      <th>3</th>\n      <td>9d2fb391d088472f</td>\n      <td>TrueSense Marketing</td>\n      <td>Data Integration Engineer / Fivetran Specialist</td>\n      <td>Remote</td>\n      <td>DE</td>\n      <td>ENTRY_LEVEL</td>\n      <td>Estimated $78.6K - $99.5K a year</td>\n    </tr>\n    <tr>\n      <th>4</th>\n      <td>6b688887e54e619e</td>\n      <td>Capital One</td>\n      <td>Data Engineer</td>\n      <td>McLean, VA</td>\n      <td>DE</td>\n      <td>ENTRY_LEVEL</td>\n      <td>NaN</td>\n    </tr>\n    <tr>\n      <th>...</th>\n      <td>...</td>\n      <td>...</td>\n      <td>...</td>\n      <td>...</td>\n      <td>...</td>\n      <td>...</td>\n      <td>...</td>\n    </tr>\n    <tr>\n      <th>2580</th>\n      <td>0e48da3e65df1a60</td>\n      <td>Pfizer</td>\n      <td>Sr. Associate, Big Data Software Engineer</td>\n      <td>Collegeville, PA</td>\n      <td>DE</td>\n      <td>SENIOR_LEVEL</td>\n      <td>$72,700 - $121,200 a year</td>\n    </tr>\n    <tr>\n      <th>2581</th>\n      <td>b5d16d73172c11b6</td>\n      <td>Marathon Digital Holdings</td>\n      <td>Senior Solutions Engineer - Data Center Immers...</td>\n      <td>Remote in Tampa, FL</td>\n      <td>DE</td>\n      <td>SENIOR_LEVEL</td>\n      <td>NaN</td>\n    </tr>\n    <tr>\n      <th>2582</th>\n      <td>91c58a748670b4b2</td>\n      <td>Siteimprove</td>\n      <td>Senior Data Engineer</td>\n      <td>Hybrid remote in Bellevue, WA</td>\n      <td>DE</td>\n      <td>SENIOR_LEVEL</td>\n      <td>$120,000 - $165,000 a year</td>\n    </tr>\n    <tr>\n      <th>2583</th>\n      <td>60b0edf1fac45afc</td>\n      <td>Ampersand</td>\n      <td>Senior Data Engineer</td>\n      <td>New York, NY 10036 (Midtown area)</td>\n      <td>DE</td>\n      <td>SENIOR_LEVEL</td>\n      <td>NaN</td>\n    </tr>\n    <tr>\n      <th>2584</th>\n      <td>51f8639818a92492</td>\n      <td>Apple</td>\n      <td>Data Quality Lead Engineer</td>\n      <td>Cupertino, CA</td>\n      <td>DE</td>\n      <td>SENIOR_LEVEL</td>\n      <td>NaN</td>\n    </tr>\n  </tbody>\n</table>\n<p>2576 rows × 7 columns</p>\n</div>"
     },
     "execution_count": 20,
     "metadata": {},
     "output_type": "execute_result"
    }
   ],
   "source": [
    "df"
   ],
   "metadata": {
    "collapsed": false,
    "ExecuteTime": {
     "end_time": "2023-12-01T04:09:42.630927Z",
     "start_time": "2023-12-01T04:09:42.614214Z"
    }
   },
   "id": "da2d26bafdb9f5f"
  },
  {
   "cell_type": "markdown",
   "source": [
    "Save dataframe"
   ],
   "metadata": {
    "collapsed": false
   },
   "id": "a03a519e74c68c66"
  },
  {
   "cell_type": "code",
   "execution_count": 21,
   "outputs": [],
   "source": [
    "df.to_csv('../Data/Clean/' + output_file_name, sep='\\t', index=False)"
   ],
   "metadata": {
    "collapsed": false,
    "ExecuteTime": {
     "end_time": "2023-12-01T04:09:45.285511Z",
     "start_time": "2023-12-01T04:09:45.271387Z"
    }
   },
   "id": "3859d6bdcd9bf605"
  },
  {
   "cell_type": "markdown",
   "source": [
    "Verify"
   ],
   "metadata": {
    "collapsed": false
   },
   "id": "dd26ef94043fd4a9"
  },
  {
   "cell_type": "code",
   "execution_count": 22,
   "outputs": [],
   "source": [
    "me = pd.read_csv('../Data/Clean/' + code + '.tsv', sep='\\t')"
   ],
   "metadata": {
    "collapsed": false,
    "ExecuteTime": {
     "end_time": "2023-12-01T04:09:46.299363Z",
     "start_time": "2023-12-01T04:09:46.289814Z"
    }
   },
   "id": "cde6ea3dc697e6b6"
  },
  {
   "cell_type": "code",
   "execution_count": 23,
   "outputs": [
    {
     "data": {
      "text/plain": "                   Key                                 Company  \\\n0     3ea902f8ea01f543                              CVS Health   \n1     be9fa4e22cddbb22                              CVS Health   \n2     e4a613074f64e003  Automobile Club of Southern California   \n3     9d2fb391d088472f                     TrueSense Marketing   \n4     6b688887e54e619e                             Capital One   \n...                ...                                     ...   \n2571  0e48da3e65df1a60                                  Pfizer   \n2572  b5d16d73172c11b6               Marathon Digital Holdings   \n2573  91c58a748670b4b2                             Siteimprove   \n2574  60b0edf1fac45afc                               Ampersand   \n2575  51f8639818a92492                                   Apple   \n\n                                               Position  \\\n0                               Associate Data Engineer   \n1                               Associate Data Engineer   \n2                                         Data Engineer   \n3       Data Integration Engineer / Fivetran Specialist   \n4                                         Data Engineer   \n...                                                 ...   \n2571          Sr. Associate, Big Data Software Engineer   \n2572  Senior Solutions Engineer - Data Center Immers...   \n2573                               Senior Data Engineer   \n2574                               Senior Data Engineer   \n2575                         Data Quality Lead Engineer   \n\n                               Location Category Experience_Level  \\\n0                            Irving, TX       DE      ENTRY_LEVEL   \n1                            Irving, TX       DE      ENTRY_LEVEL   \n2                  Costa Mesa, CA 92626       DE      ENTRY_LEVEL   \n3                                Remote       DE      ENTRY_LEVEL   \n4                            McLean, VA       DE      ENTRY_LEVEL   \n...                                 ...      ...              ...   \n2571                   Collegeville, PA       DE     SENIOR_LEVEL   \n2572                Remote in Tampa, FL       DE     SENIOR_LEVEL   \n2573      Hybrid remote in Bellevue, WA       DE     SENIOR_LEVEL   \n2574  New York, NY 10036 (Midtown area)       DE     SENIOR_LEVEL   \n2575                      Cupertino, CA       DE     SENIOR_LEVEL   \n\n                                Salary  \n0            $60,000 - $120,000 a year  \n1            $60,000 - $120,000 a year  \n2           $101,000 - $134,700 a year  \n3     Estimated $78.6K - $99.5K a year  \n4                                  NaN  \n...                                ...  \n2571         $72,700 - $121,200 a year  \n2572                               NaN  \n2573        $120,000 - $165,000 a year  \n2574                               NaN  \n2575                               NaN  \n\n[2576 rows x 7 columns]",
      "text/html": "<div>\n<style scoped>\n    .dataframe tbody tr th:only-of-type {\n        vertical-align: middle;\n    }\n\n    .dataframe tbody tr th {\n        vertical-align: top;\n    }\n\n    .dataframe thead th {\n        text-align: right;\n    }\n</style>\n<table border=\"1\" class=\"dataframe\">\n  <thead>\n    <tr style=\"text-align: right;\">\n      <th></th>\n      <th>Key</th>\n      <th>Company</th>\n      <th>Position</th>\n      <th>Location</th>\n      <th>Category</th>\n      <th>Experience_Level</th>\n      <th>Salary</th>\n    </tr>\n  </thead>\n  <tbody>\n    <tr>\n      <th>0</th>\n      <td>3ea902f8ea01f543</td>\n      <td>CVS Health</td>\n      <td>Associate Data Engineer</td>\n      <td>Irving, TX</td>\n      <td>DE</td>\n      <td>ENTRY_LEVEL</td>\n      <td>$60,000 - $120,000 a year</td>\n    </tr>\n    <tr>\n      <th>1</th>\n      <td>be9fa4e22cddbb22</td>\n      <td>CVS Health</td>\n      <td>Associate Data Engineer</td>\n      <td>Irving, TX</td>\n      <td>DE</td>\n      <td>ENTRY_LEVEL</td>\n      <td>$60,000 - $120,000 a year</td>\n    </tr>\n    <tr>\n      <th>2</th>\n      <td>e4a613074f64e003</td>\n      <td>Automobile Club of Southern California</td>\n      <td>Data Engineer</td>\n      <td>Costa Mesa, CA 92626</td>\n      <td>DE</td>\n      <td>ENTRY_LEVEL</td>\n      <td>$101,000 - $134,700 a year</td>\n    </tr>\n    <tr>\n      <th>3</th>\n      <td>9d2fb391d088472f</td>\n      <td>TrueSense Marketing</td>\n      <td>Data Integration Engineer / Fivetran Specialist</td>\n      <td>Remote</td>\n      <td>DE</td>\n      <td>ENTRY_LEVEL</td>\n      <td>Estimated $78.6K - $99.5K a year</td>\n    </tr>\n    <tr>\n      <th>4</th>\n      <td>6b688887e54e619e</td>\n      <td>Capital One</td>\n      <td>Data Engineer</td>\n      <td>McLean, VA</td>\n      <td>DE</td>\n      <td>ENTRY_LEVEL</td>\n      <td>NaN</td>\n    </tr>\n    <tr>\n      <th>...</th>\n      <td>...</td>\n      <td>...</td>\n      <td>...</td>\n      <td>...</td>\n      <td>...</td>\n      <td>...</td>\n      <td>...</td>\n    </tr>\n    <tr>\n      <th>2571</th>\n      <td>0e48da3e65df1a60</td>\n      <td>Pfizer</td>\n      <td>Sr. Associate, Big Data Software Engineer</td>\n      <td>Collegeville, PA</td>\n      <td>DE</td>\n      <td>SENIOR_LEVEL</td>\n      <td>$72,700 - $121,200 a year</td>\n    </tr>\n    <tr>\n      <th>2572</th>\n      <td>b5d16d73172c11b6</td>\n      <td>Marathon Digital Holdings</td>\n      <td>Senior Solutions Engineer - Data Center Immers...</td>\n      <td>Remote in Tampa, FL</td>\n      <td>DE</td>\n      <td>SENIOR_LEVEL</td>\n      <td>NaN</td>\n    </tr>\n    <tr>\n      <th>2573</th>\n      <td>91c58a748670b4b2</td>\n      <td>Siteimprove</td>\n      <td>Senior Data Engineer</td>\n      <td>Hybrid remote in Bellevue, WA</td>\n      <td>DE</td>\n      <td>SENIOR_LEVEL</td>\n      <td>$120,000 - $165,000 a year</td>\n    </tr>\n    <tr>\n      <th>2574</th>\n      <td>60b0edf1fac45afc</td>\n      <td>Ampersand</td>\n      <td>Senior Data Engineer</td>\n      <td>New York, NY 10036 (Midtown area)</td>\n      <td>DE</td>\n      <td>SENIOR_LEVEL</td>\n      <td>NaN</td>\n    </tr>\n    <tr>\n      <th>2575</th>\n      <td>51f8639818a92492</td>\n      <td>Apple</td>\n      <td>Data Quality Lead Engineer</td>\n      <td>Cupertino, CA</td>\n      <td>DE</td>\n      <td>SENIOR_LEVEL</td>\n      <td>NaN</td>\n    </tr>\n  </tbody>\n</table>\n<p>2576 rows × 7 columns</p>\n</div>"
     },
     "execution_count": 23,
     "metadata": {},
     "output_type": "execute_result"
    }
   ],
   "source": [
    "me"
   ],
   "metadata": {
    "collapsed": false,
    "ExecuteTime": {
     "end_time": "2023-12-01T04:09:46.702569Z",
     "start_time": "2023-12-01T04:09:46.695738Z"
    }
   },
   "id": "3a0d561a205db5d7"
  },
  {
   "cell_type": "code",
   "execution_count": null,
   "outputs": [],
   "source": [],
   "metadata": {
    "collapsed": false
   },
   "id": "a4bf6fd17b29154e"
  }
 ],
 "metadata": {
  "kernelspec": {
   "display_name": "Python 3",
   "language": "python",
   "name": "python3"
  },
  "language_info": {
   "codemirror_mode": {
    "name": "ipython",
    "version": 2
   },
   "file_extension": ".py",
   "mimetype": "text/x-python",
   "name": "python",
   "nbconvert_exporter": "python",
   "pygments_lexer": "ipython2",
   "version": "2.7.6"
  }
 },
 "nbformat": 4,
 "nbformat_minor": 5
}
