{
 "cells": [
  {
   "cell_type": "code",
   "execution_count": 115,
   "id": "initial_id",
   "metadata": {
    "collapsed": true,
    "ExecuteTime": {
     "end_time": "2023-12-01T03:04:19.006581Z",
     "start_time": "2023-12-01T03:04:18.995832Z"
    }
   },
   "outputs": [],
   "source": [
    "import pandas as pd"
   ]
  },
  {
   "cell_type": "code",
   "execution_count": 138,
   "outputs": [],
   "source": [
    "code = 'CAE'"
   ],
   "metadata": {
    "collapsed": false,
    "ExecuteTime": {
     "end_time": "2023-12-01T03:04:42.052233Z",
     "start_time": "2023-12-01T03:04:42.048221Z"
    }
   },
   "id": "4a65796b6dc05d8d"
  },
  {
   "cell_type": "code",
   "execution_count": 139,
   "outputs": [],
   "source": [
    "output_file_name = code + '.tsv'"
   ],
   "metadata": {
    "collapsed": false,
    "ExecuteTime": {
     "end_time": "2023-12-01T03:04:43.175268Z",
     "start_time": "2023-12-01T03:04:43.169863Z"
    }
   },
   "id": "9cab91f2dcdfedbe"
  },
  {
   "cell_type": "markdown",
   "source": [
    "Read File"
   ],
   "metadata": {
    "collapsed": false
   },
   "id": "42c40d6b671e8cfa"
  },
  {
   "cell_type": "code",
   "execution_count": 140,
   "outputs": [],
   "source": [
    "entry_level = pd.read_csv('../Data/Raw/' + code +'_ENTRY_LEVEL.tsv', sep='\\t')"
   ],
   "metadata": {
    "collapsed": false,
    "ExecuteTime": {
     "end_time": "2023-12-01T03:04:43.605242Z",
     "start_time": "2023-12-01T03:04:43.598317Z"
    }
   },
   "id": "449f36c50deb2bdb"
  },
  {
   "cell_type": "code",
   "execution_count": 141,
   "outputs": [],
   "source": [
    "mid_level = pd.read_csv('../Data/Raw/' + code +'_MID_LEVEL.tsv', sep='\\t')"
   ],
   "metadata": {
    "collapsed": false,
    "ExecuteTime": {
     "end_time": "2023-12-01T03:04:43.796179Z",
     "start_time": "2023-12-01T03:04:43.787927Z"
    }
   },
   "id": "32264ed939ca79ba"
  },
  {
   "cell_type": "code",
   "execution_count": 142,
   "outputs": [],
   "source": [
    "senior_level = pd.read_csv('../Data/Raw/' + code +'_SENIOR_LEVEL.tsv', sep='\\t')"
   ],
   "metadata": {
    "collapsed": false,
    "ExecuteTime": {
     "end_time": "2023-12-01T03:04:44.013493Z",
     "start_time": "2023-12-01T03:04:44.009811Z"
    }
   },
   "id": "b5d1e628492d3fbf"
  },
  {
   "cell_type": "markdown",
   "source": [
    "Get Columns"
   ],
   "metadata": {
    "collapsed": false
   },
   "id": "a163a0a6cb4d6ab1"
  },
  {
   "cell_type": "code",
   "execution_count": 143,
   "outputs": [],
   "source": [
    "re_1 = entry_level.columns"
   ],
   "metadata": {
    "collapsed": false,
    "ExecuteTime": {
     "end_time": "2023-12-01T03:04:44.415899Z",
     "start_time": "2023-12-01T03:04:44.406945Z"
    }
   },
   "id": "af363bd6cc16dfe1"
  },
  {
   "cell_type": "code",
   "execution_count": 144,
   "outputs": [],
   "source": [
    "rm_1 = mid_level.columns"
   ],
   "metadata": {
    "collapsed": false,
    "ExecuteTime": {
     "end_time": "2023-12-01T03:04:44.610855Z",
     "start_time": "2023-12-01T03:04:44.609025Z"
    }
   },
   "id": "2b09f48bcc2b914a"
  },
  {
   "cell_type": "code",
   "execution_count": 145,
   "outputs": [],
   "source": [
    "rs_1 = senior_level.columns"
   ],
   "metadata": {
    "collapsed": false,
    "ExecuteTime": {
     "end_time": "2023-12-01T03:04:44.808935Z",
     "start_time": "2023-12-01T03:04:44.804773Z"
    }
   },
   "id": "8e2636ae7a707838"
  },
  {
   "cell_type": "markdown",
   "source": [
    "Change Columns"
   ],
   "metadata": {
    "collapsed": false
   },
   "id": "587ff9be60790772"
  },
  {
   "cell_type": "code",
   "execution_count": 146,
   "outputs": [],
   "source": [
    "columns = ['Key', 'Company', 'Position', 'Location', 'Category', 'Experience_Level', 'Salary']"
   ],
   "metadata": {
    "collapsed": false,
    "ExecuteTime": {
     "end_time": "2023-12-01T03:04:45.220316Z",
     "start_time": "2023-12-01T03:04:45.218010Z"
    }
   },
   "id": "f3102d24d0a43000"
  },
  {
   "cell_type": "code",
   "execution_count": 147,
   "outputs": [],
   "source": [
    "entry_level.columns = columns"
   ],
   "metadata": {
    "collapsed": false,
    "ExecuteTime": {
     "end_time": "2023-12-01T03:04:45.391470Z",
     "start_time": "2023-12-01T03:04:45.389375Z"
    }
   },
   "id": "895f02027655642c"
  },
  {
   "cell_type": "code",
   "execution_count": 148,
   "outputs": [],
   "source": [
    "mid_level.columns = columns"
   ],
   "metadata": {
    "collapsed": false,
    "ExecuteTime": {
     "end_time": "2023-12-01T03:04:45.590822Z",
     "start_time": "2023-12-01T03:04:45.588682Z"
    }
   },
   "id": "58be6d71800a98d0"
  },
  {
   "cell_type": "code",
   "execution_count": 149,
   "outputs": [],
   "source": [
    "senior_level.columns = columns"
   ],
   "metadata": {
    "collapsed": false,
    "ExecuteTime": {
     "end_time": "2023-12-01T03:04:45.800827Z",
     "start_time": "2023-12-01T03:04:45.795658Z"
    }
   },
   "id": "b9578559875dca13"
  },
  {
   "cell_type": "markdown",
   "source": [
    "Add Data Before (Columns)"
   ],
   "metadata": {
    "collapsed": false
   },
   "id": "efbd6bcbd47cdfe8"
  },
  {
   "cell_type": "code",
   "execution_count": 150,
   "outputs": [],
   "source": [
    "entry_level.loc[-1] = re_1\n",
    "entry_level.index = entry_level.index + 1\n",
    "entry_level.sort_index(inplace=True)"
   ],
   "metadata": {
    "collapsed": false,
    "ExecuteTime": {
     "end_time": "2023-12-01T03:04:46.172558Z",
     "start_time": "2023-12-01T03:04:46.165088Z"
    }
   },
   "id": "24e786a38e46289b"
  },
  {
   "cell_type": "code",
   "execution_count": 151,
   "outputs": [],
   "source": [
    "mid_level.loc[-1] = rm_1\n",
    "mid_level.index = mid_level.index + 1\n",
    "mid_level.sort_index(inplace=True)"
   ],
   "metadata": {
    "collapsed": false,
    "ExecuteTime": {
     "end_time": "2023-12-01T03:04:46.341686Z",
     "start_time": "2023-12-01T03:04:46.334627Z"
    }
   },
   "id": "626d5b7108cd5187"
  },
  {
   "cell_type": "code",
   "execution_count": 152,
   "outputs": [],
   "source": [
    "senior_level.loc[-1] = rs_1\n",
    "senior_level.index = senior_level.index + 1\n",
    "senior_level.sort_index(inplace=True)"
   ],
   "metadata": {
    "collapsed": false,
    "ExecuteTime": {
     "end_time": "2023-12-01T03:04:46.520772Z",
     "start_time": "2023-12-01T03:04:46.514197Z"
    }
   },
   "id": "979f43c6f845eb6e"
  },
  {
   "cell_type": "code",
   "execution_count": 153,
   "outputs": [],
   "source": [
    "frame =  [entry_level, mid_level, senior_level]"
   ],
   "metadata": {
    "collapsed": false,
    "ExecuteTime": {
     "end_time": "2023-12-01T03:04:46.715291Z",
     "start_time": "2023-12-01T03:04:46.706108Z"
    }
   },
   "id": "1ffb02a3cfd30d44"
  },
  {
   "cell_type": "code",
   "execution_count": 154,
   "outputs": [],
   "source": [
    "df = pd.concat(frame, ignore_index=True)"
   ],
   "metadata": {
    "collapsed": false,
    "ExecuteTime": {
     "end_time": "2023-12-01T03:04:46.892328Z",
     "start_time": "2023-12-01T03:04:46.884485Z"
    }
   },
   "id": "af26a96a982c0109"
  },
  {
   "cell_type": "code",
   "execution_count": 155,
   "outputs": [],
   "source": [
    "df = df.drop_duplicates('Key')"
   ],
   "metadata": {
    "collapsed": false,
    "ExecuteTime": {
     "end_time": "2023-12-01T03:04:47.088264Z",
     "start_time": "2023-12-01T03:04:47.086228Z"
    }
   },
   "id": "843d14944209a3e8"
  },
  {
   "cell_type": "code",
   "execution_count": 156,
   "outputs": [
    {
     "data": {
      "text/plain": "                  Key                              Company  \\\n0    2020f0064160a7d6                          Volvo Group   \n1    146d7758b0b6e9bf                     Lear Corporation   \n2    51b7402216854791                   Gentex Corporation   \n3    971832804a4fef34                       General Motors   \n4    bf2a09d1b8c1c348                             Saratech   \n..                ...                                  ...   \n659  823f23518a23045d  Sanden International (U.S.A.), Inc.   \n660  9e5d026f19047f15                                Tesla   \n661  27744f49161a34f6                                Tesla   \n662  11af2951d4188c5b        SYNERGY MICROWAVE CORPORATION   \n663  08812f00cfa3d812                   Cover Technologies   \n\n                                              Position  \\\n0    Co-op: Mechanical Engineering, Cab Body (Fall ...   \n1                                   Product Engineer I   \n2                                  Process Engineer II   \n3    High Voltage Battery Electrical Systems Analys...   \n4    CAE engineers for Femap, Femap API, SimCenter,...   \n..                                                 ...   \n659                            Sr. Electrical Engineer   \n660              Sr. CAE Engineer, Semi, Drive Systems   \n661  Sr. Mechanical Test Engineer, Energy & Chargin...   \n662                                    Senior Engineer   \n663                             Manufacturing Engineer   \n\n                                              Location Category  \\\n0                                       Greensboro, NC      CAE   \n1                                 Southfield, MI 48033      CAE   \n2                                          Zeeland, MI      CAE   \n3                                           Warren, MI      CAE   \n4                                    Mission Viejo, CA      CAE   \n..                                                 ...      ...   \n659                                 Plymouth, MI 48170      CAE   \n660                                      Palo Alto, CA      CAE   \n661                                      Palo Alto, CA      CAE   \n662  Paterson, NJ (Eastside Park Historic District ...      CAE   \n663                                  Gardena, CA 90247      CAE   \n\n    Experience_Level                            Salary  \n0        ENTRY_LEVEL  Estimated $44.7K - $56.6K a year  \n1        ENTRY_LEVEL  Estimated $62.3K - $78.9K a year  \n2        ENTRY_LEVEL                               NaN  \n3        ENTRY_LEVEL   Estimated $92.7K - $117K a year  \n4        ENTRY_LEVEL                    $90,000 a year  \n..               ...                               ...  \n659     SENIOR_LEVEL    Estimated $105K - $133K a year  \n660     SENIOR_LEVEL    Estimated $125K - $158K a year  \n661     SENIOR_LEVEL    Estimated $113K - $144K a year  \n662     SENIOR_LEVEL   Estimated $96.6K - $122K a year  \n663     SENIOR_LEVEL   Estimated $90.9K - $115K a year  \n\n[664 rows x 7 columns]",
      "text/html": "<div>\n<style scoped>\n    .dataframe tbody tr th:only-of-type {\n        vertical-align: middle;\n    }\n\n    .dataframe tbody tr th {\n        vertical-align: top;\n    }\n\n    .dataframe thead th {\n        text-align: right;\n    }\n</style>\n<table border=\"1\" class=\"dataframe\">\n  <thead>\n    <tr style=\"text-align: right;\">\n      <th></th>\n      <th>Key</th>\n      <th>Company</th>\n      <th>Position</th>\n      <th>Location</th>\n      <th>Category</th>\n      <th>Experience_Level</th>\n      <th>Salary</th>\n    </tr>\n  </thead>\n  <tbody>\n    <tr>\n      <th>0</th>\n      <td>2020f0064160a7d6</td>\n      <td>Volvo Group</td>\n      <td>Co-op: Mechanical Engineering, Cab Body (Fall ...</td>\n      <td>Greensboro, NC</td>\n      <td>CAE</td>\n      <td>ENTRY_LEVEL</td>\n      <td>Estimated $44.7K - $56.6K a year</td>\n    </tr>\n    <tr>\n      <th>1</th>\n      <td>146d7758b0b6e9bf</td>\n      <td>Lear Corporation</td>\n      <td>Product Engineer I</td>\n      <td>Southfield, MI 48033</td>\n      <td>CAE</td>\n      <td>ENTRY_LEVEL</td>\n      <td>Estimated $62.3K - $78.9K a year</td>\n    </tr>\n    <tr>\n      <th>2</th>\n      <td>51b7402216854791</td>\n      <td>Gentex Corporation</td>\n      <td>Process Engineer II</td>\n      <td>Zeeland, MI</td>\n      <td>CAE</td>\n      <td>ENTRY_LEVEL</td>\n      <td>NaN</td>\n    </tr>\n    <tr>\n      <th>3</th>\n      <td>971832804a4fef34</td>\n      <td>General Motors</td>\n      <td>High Voltage Battery Electrical Systems Analys...</td>\n      <td>Warren, MI</td>\n      <td>CAE</td>\n      <td>ENTRY_LEVEL</td>\n      <td>Estimated $92.7K - $117K a year</td>\n    </tr>\n    <tr>\n      <th>4</th>\n      <td>bf2a09d1b8c1c348</td>\n      <td>Saratech</td>\n      <td>CAE engineers for Femap, Femap API, SimCenter,...</td>\n      <td>Mission Viejo, CA</td>\n      <td>CAE</td>\n      <td>ENTRY_LEVEL</td>\n      <td>$90,000 a year</td>\n    </tr>\n    <tr>\n      <th>...</th>\n      <td>...</td>\n      <td>...</td>\n      <td>...</td>\n      <td>...</td>\n      <td>...</td>\n      <td>...</td>\n      <td>...</td>\n    </tr>\n    <tr>\n      <th>659</th>\n      <td>823f23518a23045d</td>\n      <td>Sanden International (U.S.A.), Inc.</td>\n      <td>Sr. Electrical Engineer</td>\n      <td>Plymouth, MI 48170</td>\n      <td>CAE</td>\n      <td>SENIOR_LEVEL</td>\n      <td>Estimated $105K - $133K a year</td>\n    </tr>\n    <tr>\n      <th>660</th>\n      <td>9e5d026f19047f15</td>\n      <td>Tesla</td>\n      <td>Sr. CAE Engineer, Semi, Drive Systems</td>\n      <td>Palo Alto, CA</td>\n      <td>CAE</td>\n      <td>SENIOR_LEVEL</td>\n      <td>Estimated $125K - $158K a year</td>\n    </tr>\n    <tr>\n      <th>661</th>\n      <td>27744f49161a34f6</td>\n      <td>Tesla</td>\n      <td>Sr. Mechanical Test Engineer, Energy &amp; Chargin...</td>\n      <td>Palo Alto, CA</td>\n      <td>CAE</td>\n      <td>SENIOR_LEVEL</td>\n      <td>Estimated $113K - $144K a year</td>\n    </tr>\n    <tr>\n      <th>662</th>\n      <td>11af2951d4188c5b</td>\n      <td>SYNERGY MICROWAVE CORPORATION</td>\n      <td>Senior Engineer</td>\n      <td>Paterson, NJ (Eastside Park Historic District ...</td>\n      <td>CAE</td>\n      <td>SENIOR_LEVEL</td>\n      <td>Estimated $96.6K - $122K a year</td>\n    </tr>\n    <tr>\n      <th>663</th>\n      <td>08812f00cfa3d812</td>\n      <td>Cover Technologies</td>\n      <td>Manufacturing Engineer</td>\n      <td>Gardena, CA 90247</td>\n      <td>CAE</td>\n      <td>SENIOR_LEVEL</td>\n      <td>Estimated $90.9K - $115K a year</td>\n    </tr>\n  </tbody>\n</table>\n<p>664 rows × 7 columns</p>\n</div>"
     },
     "execution_count": 156,
     "metadata": {},
     "output_type": "execute_result"
    }
   ],
   "source": [
    "df"
   ],
   "metadata": {
    "collapsed": false,
    "ExecuteTime": {
     "end_time": "2023-12-01T03:04:47.256330Z",
     "start_time": "2023-12-01T03:04:47.253397Z"
    }
   },
   "id": "da2d26bafdb9f5f"
  },
  {
   "cell_type": "markdown",
   "source": [
    "Save dataframe"
   ],
   "metadata": {
    "collapsed": false
   },
   "id": "a03a519e74c68c66"
  },
  {
   "cell_type": "code",
   "execution_count": 157,
   "outputs": [],
   "source": [
    "df.to_csv('../Data/Clean/' + output_file_name, sep='\\t', index=False)"
   ],
   "metadata": {
    "collapsed": false,
    "ExecuteTime": {
     "end_time": "2023-12-01T03:04:48.251489Z",
     "start_time": "2023-12-01T03:04:48.185872Z"
    }
   },
   "id": "3859d6bdcd9bf605"
  },
  {
   "cell_type": "markdown",
   "source": [
    "Verify"
   ],
   "metadata": {
    "collapsed": false
   },
   "id": "dd26ef94043fd4a9"
  },
  {
   "cell_type": "code",
   "execution_count": 158,
   "outputs": [],
   "source": [
    "me = pd.read_csv('../Data/Clean/' + code + '.tsv', sep='\\t')"
   ],
   "metadata": {
    "collapsed": false,
    "ExecuteTime": {
     "end_time": "2023-12-01T03:04:51.546936Z",
     "start_time": "2023-12-01T03:04:51.539590Z"
    }
   },
   "id": "cde6ea3dc697e6b6"
  },
  {
   "cell_type": "code",
   "execution_count": 159,
   "outputs": [
    {
     "data": {
      "text/plain": "                  Key                              Company  \\\n0    2020f0064160a7d6                          Volvo Group   \n1    146d7758b0b6e9bf                     Lear Corporation   \n2    51b7402216854791                   Gentex Corporation   \n3    971832804a4fef34                       General Motors   \n4    bf2a09d1b8c1c348                             Saratech   \n..                ...                                  ...   \n659  823f23518a23045d  Sanden International (U.S.A.), Inc.   \n660  9e5d026f19047f15                                Tesla   \n661  27744f49161a34f6                                Tesla   \n662  11af2951d4188c5b        SYNERGY MICROWAVE CORPORATION   \n663  08812f00cfa3d812                   Cover Technologies   \n\n                                              Position  \\\n0    Co-op: Mechanical Engineering, Cab Body (Fall ...   \n1                                   Product Engineer I   \n2                                  Process Engineer II   \n3    High Voltage Battery Electrical Systems Analys...   \n4    CAE engineers for Femap, Femap API, SimCenter,...   \n..                                                 ...   \n659                            Sr. Electrical Engineer   \n660              Sr. CAE Engineer, Semi, Drive Systems   \n661  Sr. Mechanical Test Engineer, Energy & Chargin...   \n662                                    Senior Engineer   \n663                             Manufacturing Engineer   \n\n                                              Location Category  \\\n0                                       Greensboro, NC      CAE   \n1                                 Southfield, MI 48033      CAE   \n2                                          Zeeland, MI      CAE   \n3                                           Warren, MI      CAE   \n4                                    Mission Viejo, CA      CAE   \n..                                                 ...      ...   \n659                                 Plymouth, MI 48170      CAE   \n660                                      Palo Alto, CA      CAE   \n661                                      Palo Alto, CA      CAE   \n662  Paterson, NJ (Eastside Park Historic District ...      CAE   \n663                                  Gardena, CA 90247      CAE   \n\n    Experience_Level                            Salary  \n0        ENTRY_LEVEL  Estimated $44.7K - $56.6K a year  \n1        ENTRY_LEVEL  Estimated $62.3K - $78.9K a year  \n2        ENTRY_LEVEL                               NaN  \n3        ENTRY_LEVEL   Estimated $92.7K - $117K a year  \n4        ENTRY_LEVEL                    $90,000 a year  \n..               ...                               ...  \n659     SENIOR_LEVEL    Estimated $105K - $133K a year  \n660     SENIOR_LEVEL    Estimated $125K - $158K a year  \n661     SENIOR_LEVEL    Estimated $113K - $144K a year  \n662     SENIOR_LEVEL   Estimated $96.6K - $122K a year  \n663     SENIOR_LEVEL   Estimated $90.9K - $115K a year  \n\n[664 rows x 7 columns]",
      "text/html": "<div>\n<style scoped>\n    .dataframe tbody tr th:only-of-type {\n        vertical-align: middle;\n    }\n\n    .dataframe tbody tr th {\n        vertical-align: top;\n    }\n\n    .dataframe thead th {\n        text-align: right;\n    }\n</style>\n<table border=\"1\" class=\"dataframe\">\n  <thead>\n    <tr style=\"text-align: right;\">\n      <th></th>\n      <th>Key</th>\n      <th>Company</th>\n      <th>Position</th>\n      <th>Location</th>\n      <th>Category</th>\n      <th>Experience_Level</th>\n      <th>Salary</th>\n    </tr>\n  </thead>\n  <tbody>\n    <tr>\n      <th>0</th>\n      <td>2020f0064160a7d6</td>\n      <td>Volvo Group</td>\n      <td>Co-op: Mechanical Engineering, Cab Body (Fall ...</td>\n      <td>Greensboro, NC</td>\n      <td>CAE</td>\n      <td>ENTRY_LEVEL</td>\n      <td>Estimated $44.7K - $56.6K a year</td>\n    </tr>\n    <tr>\n      <th>1</th>\n      <td>146d7758b0b6e9bf</td>\n      <td>Lear Corporation</td>\n      <td>Product Engineer I</td>\n      <td>Southfield, MI 48033</td>\n      <td>CAE</td>\n      <td>ENTRY_LEVEL</td>\n      <td>Estimated $62.3K - $78.9K a year</td>\n    </tr>\n    <tr>\n      <th>2</th>\n      <td>51b7402216854791</td>\n      <td>Gentex Corporation</td>\n      <td>Process Engineer II</td>\n      <td>Zeeland, MI</td>\n      <td>CAE</td>\n      <td>ENTRY_LEVEL</td>\n      <td>NaN</td>\n    </tr>\n    <tr>\n      <th>3</th>\n      <td>971832804a4fef34</td>\n      <td>General Motors</td>\n      <td>High Voltage Battery Electrical Systems Analys...</td>\n      <td>Warren, MI</td>\n      <td>CAE</td>\n      <td>ENTRY_LEVEL</td>\n      <td>Estimated $92.7K - $117K a year</td>\n    </tr>\n    <tr>\n      <th>4</th>\n      <td>bf2a09d1b8c1c348</td>\n      <td>Saratech</td>\n      <td>CAE engineers for Femap, Femap API, SimCenter,...</td>\n      <td>Mission Viejo, CA</td>\n      <td>CAE</td>\n      <td>ENTRY_LEVEL</td>\n      <td>$90,000 a year</td>\n    </tr>\n    <tr>\n      <th>...</th>\n      <td>...</td>\n      <td>...</td>\n      <td>...</td>\n      <td>...</td>\n      <td>...</td>\n      <td>...</td>\n      <td>...</td>\n    </tr>\n    <tr>\n      <th>659</th>\n      <td>823f23518a23045d</td>\n      <td>Sanden International (U.S.A.), Inc.</td>\n      <td>Sr. Electrical Engineer</td>\n      <td>Plymouth, MI 48170</td>\n      <td>CAE</td>\n      <td>SENIOR_LEVEL</td>\n      <td>Estimated $105K - $133K a year</td>\n    </tr>\n    <tr>\n      <th>660</th>\n      <td>9e5d026f19047f15</td>\n      <td>Tesla</td>\n      <td>Sr. CAE Engineer, Semi, Drive Systems</td>\n      <td>Palo Alto, CA</td>\n      <td>CAE</td>\n      <td>SENIOR_LEVEL</td>\n      <td>Estimated $125K - $158K a year</td>\n    </tr>\n    <tr>\n      <th>661</th>\n      <td>27744f49161a34f6</td>\n      <td>Tesla</td>\n      <td>Sr. Mechanical Test Engineer, Energy &amp; Chargin...</td>\n      <td>Palo Alto, CA</td>\n      <td>CAE</td>\n      <td>SENIOR_LEVEL</td>\n      <td>Estimated $113K - $144K a year</td>\n    </tr>\n    <tr>\n      <th>662</th>\n      <td>11af2951d4188c5b</td>\n      <td>SYNERGY MICROWAVE CORPORATION</td>\n      <td>Senior Engineer</td>\n      <td>Paterson, NJ (Eastside Park Historic District ...</td>\n      <td>CAE</td>\n      <td>SENIOR_LEVEL</td>\n      <td>Estimated $96.6K - $122K a year</td>\n    </tr>\n    <tr>\n      <th>663</th>\n      <td>08812f00cfa3d812</td>\n      <td>Cover Technologies</td>\n      <td>Manufacturing Engineer</td>\n      <td>Gardena, CA 90247</td>\n      <td>CAE</td>\n      <td>SENIOR_LEVEL</td>\n      <td>Estimated $90.9K - $115K a year</td>\n    </tr>\n  </tbody>\n</table>\n<p>664 rows × 7 columns</p>\n</div>"
     },
     "execution_count": 159,
     "metadata": {},
     "output_type": "execute_result"
    }
   ],
   "source": [
    "me"
   ],
   "metadata": {
    "collapsed": false,
    "ExecuteTime": {
     "end_time": "2023-12-01T03:04:52.155125Z",
     "start_time": "2023-12-01T03:04:52.141890Z"
    }
   },
   "id": "3a0d561a205db5d7"
  },
  {
   "cell_type": "code",
   "execution_count": null,
   "outputs": [],
   "source": [],
   "metadata": {
    "collapsed": false
   },
   "id": "a4bf6fd17b29154e"
  }
 ],
 "metadata": {
  "kernelspec": {
   "display_name": "Python 3",
   "language": "python",
   "name": "python3"
  },
  "language_info": {
   "codemirror_mode": {
    "name": "ipython",
    "version": 2
   },
   "file_extension": ".py",
   "mimetype": "text/x-python",
   "name": "python",
   "nbconvert_exporter": "python",
   "pygments_lexer": "ipython2",
   "version": "2.7.6"
  }
 },
 "nbformat": 4,
 "nbformat_minor": 5
}
