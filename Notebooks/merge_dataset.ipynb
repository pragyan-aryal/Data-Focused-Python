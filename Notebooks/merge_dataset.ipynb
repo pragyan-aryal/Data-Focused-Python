{
 "cells": [
  {
   "cell_type": "code",
   "execution_count": 115,
   "id": "initial_id",
   "metadata": {
    "collapsed": true,
    "ExecuteTime": {
     "end_time": "2023-12-01T03:04:19.006581Z",
     "start_time": "2023-12-01T03:04:18.995832Z"
    }
   },
   "outputs": [],
   "source": [
    "import pandas as pd"
   ]
  },
  {
   "cell_type": "code",
   "execution_count": 182,
   "outputs": [],
   "source": [
    "code = 'PM'"
   ],
   "metadata": {
    "collapsed": false,
    "ExecuteTime": {
     "end_time": "2023-12-01T03:19:04.498192Z",
     "start_time": "2023-12-01T03:19:04.445824Z"
    }
   },
   "id": "4a65796b6dc05d8d"
  },
  {
   "cell_type": "code",
   "execution_count": 183,
   "outputs": [],
   "source": [
    "output_file_name = code + '.tsv'"
   ],
   "metadata": {
    "collapsed": false,
    "ExecuteTime": {
     "end_time": "2023-12-01T03:19:04.882133Z",
     "start_time": "2023-12-01T03:19:04.878739Z"
    }
   },
   "id": "9cab91f2dcdfedbe"
  },
  {
   "cell_type": "markdown",
   "source": [
    "Read File"
   ],
   "metadata": {
    "collapsed": false
   },
   "id": "42c40d6b671e8cfa"
  },
  {
   "cell_type": "code",
   "execution_count": 184,
   "outputs": [],
   "source": [
    "entry_level = pd.read_csv('../Data/Raw/' + code +'_ENTRY_LEVEL.tsv', sep='\\t')"
   ],
   "metadata": {
    "collapsed": false,
    "ExecuteTime": {
     "end_time": "2023-12-01T03:19:05.990719Z",
     "start_time": "2023-12-01T03:19:05.982434Z"
    }
   },
   "id": "449f36c50deb2bdb"
  },
  {
   "cell_type": "code",
   "execution_count": 185,
   "outputs": [],
   "source": [
    "mid_level = pd.read_csv('../Data/Raw/' + code +'_MID_LEVEL.tsv', sep='\\t')"
   ],
   "metadata": {
    "collapsed": false,
    "ExecuteTime": {
     "end_time": "2023-12-01T03:19:06.271545Z",
     "start_time": "2023-12-01T03:19:06.262722Z"
    }
   },
   "id": "32264ed939ca79ba"
  },
  {
   "cell_type": "code",
   "execution_count": 186,
   "outputs": [],
   "source": [
    "senior_level = pd.read_csv('../Data/Raw/' + code +'_SENIOR_LEVEL.tsv', sep='\\t')"
   ],
   "metadata": {
    "collapsed": false,
    "ExecuteTime": {
     "end_time": "2023-12-01T03:19:06.496250Z",
     "start_time": "2023-12-01T03:19:06.483001Z"
    }
   },
   "id": "b5d1e628492d3fbf"
  },
  {
   "cell_type": "markdown",
   "source": [
    "Get Columns"
   ],
   "metadata": {
    "collapsed": false
   },
   "id": "a163a0a6cb4d6ab1"
  },
  {
   "cell_type": "code",
   "execution_count": 187,
   "outputs": [],
   "source": [
    "re_1 = entry_level.columns"
   ],
   "metadata": {
    "collapsed": false,
    "ExecuteTime": {
     "end_time": "2023-12-01T03:19:06.850855Z",
     "start_time": "2023-12-01T03:19:06.848545Z"
    }
   },
   "id": "af363bd6cc16dfe1"
  },
  {
   "cell_type": "code",
   "execution_count": 188,
   "outputs": [],
   "source": [
    "rm_1 = mid_level.columns"
   ],
   "metadata": {
    "collapsed": false,
    "ExecuteTime": {
     "end_time": "2023-12-01T03:19:07.046850Z",
     "start_time": "2023-12-01T03:19:07.044979Z"
    }
   },
   "id": "2b09f48bcc2b914a"
  },
  {
   "cell_type": "code",
   "execution_count": 189,
   "outputs": [],
   "source": [
    "rs_1 = senior_level.columns"
   ],
   "metadata": {
    "collapsed": false,
    "ExecuteTime": {
     "end_time": "2023-12-01T03:19:07.238367Z",
     "start_time": "2023-12-01T03:19:07.234579Z"
    }
   },
   "id": "8e2636ae7a707838"
  },
  {
   "cell_type": "markdown",
   "source": [
    "Change Columns"
   ],
   "metadata": {
    "collapsed": false
   },
   "id": "587ff9be60790772"
  },
  {
   "cell_type": "code",
   "execution_count": 190,
   "outputs": [],
   "source": [
    "columns = ['Key', 'Company', 'Position', 'Location', 'Category', 'Experience_Level', 'Salary']"
   ],
   "metadata": {
    "collapsed": false,
    "ExecuteTime": {
     "end_time": "2023-12-01T03:19:07.602525Z",
     "start_time": "2023-12-01T03:19:07.595716Z"
    }
   },
   "id": "f3102d24d0a43000"
  },
  {
   "cell_type": "code",
   "execution_count": 191,
   "outputs": [],
   "source": [
    "entry_level.columns = columns"
   ],
   "metadata": {
    "collapsed": false,
    "ExecuteTime": {
     "end_time": "2023-12-01T03:19:07.802030Z",
     "start_time": "2023-12-01T03:19:07.800104Z"
    }
   },
   "id": "895f02027655642c"
  },
  {
   "cell_type": "code",
   "execution_count": 192,
   "outputs": [],
   "source": [
    "mid_level.columns = columns"
   ],
   "metadata": {
    "collapsed": false,
    "ExecuteTime": {
     "end_time": "2023-12-01T03:19:08.003581Z",
     "start_time": "2023-12-01T03:19:08.000970Z"
    }
   },
   "id": "58be6d71800a98d0"
  },
  {
   "cell_type": "code",
   "execution_count": 193,
   "outputs": [],
   "source": [
    "senior_level.columns = columns"
   ],
   "metadata": {
    "collapsed": false,
    "ExecuteTime": {
     "end_time": "2023-12-01T03:19:08.187667Z",
     "start_time": "2023-12-01T03:19:08.183123Z"
    }
   },
   "id": "b9578559875dca13"
  },
  {
   "cell_type": "markdown",
   "source": [
    "Add Data Before (Columns)"
   ],
   "metadata": {
    "collapsed": false
   },
   "id": "efbd6bcbd47cdfe8"
  },
  {
   "cell_type": "code",
   "execution_count": 194,
   "outputs": [],
   "source": [
    "entry_level.loc[-1] = re_1\n",
    "entry_level.index = entry_level.index + 1\n",
    "entry_level.sort_index(inplace=True)"
   ],
   "metadata": {
    "collapsed": false,
    "ExecuteTime": {
     "end_time": "2023-12-01T03:19:08.566130Z",
     "start_time": "2023-12-01T03:19:08.558190Z"
    }
   },
   "id": "24e786a38e46289b"
  },
  {
   "cell_type": "code",
   "execution_count": 195,
   "outputs": [],
   "source": [
    "mid_level.loc[-1] = rm_1\n",
    "mid_level.index = mid_level.index + 1\n",
    "mid_level.sort_index(inplace=True)"
   ],
   "metadata": {
    "collapsed": false,
    "ExecuteTime": {
     "end_time": "2023-12-01T03:19:08.744137Z",
     "start_time": "2023-12-01T03:19:08.737883Z"
    }
   },
   "id": "626d5b7108cd5187"
  },
  {
   "cell_type": "code",
   "execution_count": 196,
   "outputs": [],
   "source": [
    "senior_level.loc[-1] = rs_1\n",
    "senior_level.index = senior_level.index + 1\n",
    "senior_level.sort_index(inplace=True)"
   ],
   "metadata": {
    "collapsed": false,
    "ExecuteTime": {
     "end_time": "2023-12-01T03:19:08.940301Z",
     "start_time": "2023-12-01T03:19:08.931926Z"
    }
   },
   "id": "979f43c6f845eb6e"
  },
  {
   "cell_type": "code",
   "execution_count": 197,
   "outputs": [],
   "source": [
    "frame =  [entry_level, mid_level, senior_level]"
   ],
   "metadata": {
    "collapsed": false,
    "ExecuteTime": {
     "end_time": "2023-12-01T03:19:09.131307Z",
     "start_time": "2023-12-01T03:19:09.128835Z"
    }
   },
   "id": "1ffb02a3cfd30d44"
  },
  {
   "cell_type": "code",
   "execution_count": 198,
   "outputs": [],
   "source": [
    "df = pd.concat(frame, ignore_index=True)"
   ],
   "metadata": {
    "collapsed": false,
    "ExecuteTime": {
     "end_time": "2023-12-01T03:19:09.312926Z",
     "start_time": "2023-12-01T03:19:09.310964Z"
    }
   },
   "id": "af26a96a982c0109"
  },
  {
   "cell_type": "code",
   "execution_count": 199,
   "outputs": [],
   "source": [
    "df = df.drop_duplicates('Key')"
   ],
   "metadata": {
    "collapsed": false,
    "ExecuteTime": {
     "end_time": "2023-12-01T03:19:09.518808Z",
     "start_time": "2023-12-01T03:19:09.508582Z"
    }
   },
   "id": "843d14944209a3e8"
  },
  {
   "cell_type": "code",
   "execution_count": 200,
   "outputs": [
    {
     "data": {
      "text/plain": "                   Key                   Company  \\\n0     2b77cca57a7aaabe                    Oracle   \n1     e8ed30c43b877013         MAT Holdings, Inc   \n2     aa49525763fe266d  Zenith Insurance Company   \n3     5348cf687b9c405c         Vergent LMS, Inc.   \n4     0ada2dd8054b7f45                Greenphire   \n...                ...                       ...   \n2520  7bd6eb4d32a77581              Facebook App   \n2521  801b9e9f1411ee14              Facebook App   \n2522  46ac9ab15fe6ae12              Facebook App   \n2523  04cade2a2f845d33              Facebook App   \n2524  bd826066a3661067              Facebook App   \n\n                                               Position  \\\n0                    Product Manager/Strategy 5-ProdDev   \n1                             Associate Product Manager   \n2        Dir, Business Process Innovation/Product Owner   \n3                                         Product Owner   \n4                                         Product Owner   \n...                                                 ...   \n2520  SiteOps Global Product Platform Engineering Ma...   \n2521  SiteOps Global Product Platform Engineering Ma...   \n2522  SiteOps Global Product Platform Engineering Ma...   \n2523  SiteOps Global Product Platform Engineering Ma...   \n2524  SiteOps Global Product Platform Engineering Ma...   \n\n                      Location Category Experience_Level  \\\n0                United States       PM      ENTRY_LEVEL   \n1            Jackson, TN 38301       PM      ENTRY_LEVEL   \n2     Woodland Hills, CA 91367       PM      ENTRY_LEVEL   \n3          Ridgeland, MS 39157       PM      ENTRY_LEVEL   \n4          King of Prussia, PA       PM      ENTRY_LEVEL   \n...                        ...      ...              ...   \n2520                DeKalb, IL       PM     SENIOR_LEVEL   \n2521        Eagle Mountain, UT       PM     SENIOR_LEVEL   \n2522              Gallatin, TN       PM     SENIOR_LEVEL   \n2523            New Albany, OH       PM     SENIOR_LEVEL   \n2524           Forest City, NC       PM     SENIOR_LEVEL   \n\n                                Salary  \n0                                   NA  \n1     Estimated $59.4K - $75.2K a year  \n2           $136,382 - $170,478 a year  \n3                                  NaN  \n4                                  NaN  \n...                                ...  \n2520        $163,000 - $223,000 a year  \n2521        $163,000 - $223,000 a year  \n2522        $163,000 - $223,000 a year  \n2523        $163,000 - $223,000 a year  \n2524        $163,000 - $223,000 a year  \n\n[2509 rows x 7 columns]",
      "text/html": "<div>\n<style scoped>\n    .dataframe tbody tr th:only-of-type {\n        vertical-align: middle;\n    }\n\n    .dataframe tbody tr th {\n        vertical-align: top;\n    }\n\n    .dataframe thead th {\n        text-align: right;\n    }\n</style>\n<table border=\"1\" class=\"dataframe\">\n  <thead>\n    <tr style=\"text-align: right;\">\n      <th></th>\n      <th>Key</th>\n      <th>Company</th>\n      <th>Position</th>\n      <th>Location</th>\n      <th>Category</th>\n      <th>Experience_Level</th>\n      <th>Salary</th>\n    </tr>\n  </thead>\n  <tbody>\n    <tr>\n      <th>0</th>\n      <td>2b77cca57a7aaabe</td>\n      <td>Oracle</td>\n      <td>Product Manager/Strategy 5-ProdDev</td>\n      <td>United States</td>\n      <td>PM</td>\n      <td>ENTRY_LEVEL</td>\n      <td>NA</td>\n    </tr>\n    <tr>\n      <th>1</th>\n      <td>e8ed30c43b877013</td>\n      <td>MAT Holdings, Inc</td>\n      <td>Associate Product Manager</td>\n      <td>Jackson, TN 38301</td>\n      <td>PM</td>\n      <td>ENTRY_LEVEL</td>\n      <td>Estimated $59.4K - $75.2K a year</td>\n    </tr>\n    <tr>\n      <th>2</th>\n      <td>aa49525763fe266d</td>\n      <td>Zenith Insurance Company</td>\n      <td>Dir, Business Process Innovation/Product Owner</td>\n      <td>Woodland Hills, CA 91367</td>\n      <td>PM</td>\n      <td>ENTRY_LEVEL</td>\n      <td>$136,382 - $170,478 a year</td>\n    </tr>\n    <tr>\n      <th>3</th>\n      <td>5348cf687b9c405c</td>\n      <td>Vergent LMS, Inc.</td>\n      <td>Product Owner</td>\n      <td>Ridgeland, MS 39157</td>\n      <td>PM</td>\n      <td>ENTRY_LEVEL</td>\n      <td>NaN</td>\n    </tr>\n    <tr>\n      <th>4</th>\n      <td>0ada2dd8054b7f45</td>\n      <td>Greenphire</td>\n      <td>Product Owner</td>\n      <td>King of Prussia, PA</td>\n      <td>PM</td>\n      <td>ENTRY_LEVEL</td>\n      <td>NaN</td>\n    </tr>\n    <tr>\n      <th>...</th>\n      <td>...</td>\n      <td>...</td>\n      <td>...</td>\n      <td>...</td>\n      <td>...</td>\n      <td>...</td>\n      <td>...</td>\n    </tr>\n    <tr>\n      <th>2520</th>\n      <td>7bd6eb4d32a77581</td>\n      <td>Facebook App</td>\n      <td>SiteOps Global Product Platform Engineering Ma...</td>\n      <td>DeKalb, IL</td>\n      <td>PM</td>\n      <td>SENIOR_LEVEL</td>\n      <td>$163,000 - $223,000 a year</td>\n    </tr>\n    <tr>\n      <th>2521</th>\n      <td>801b9e9f1411ee14</td>\n      <td>Facebook App</td>\n      <td>SiteOps Global Product Platform Engineering Ma...</td>\n      <td>Eagle Mountain, UT</td>\n      <td>PM</td>\n      <td>SENIOR_LEVEL</td>\n      <td>$163,000 - $223,000 a year</td>\n    </tr>\n    <tr>\n      <th>2522</th>\n      <td>46ac9ab15fe6ae12</td>\n      <td>Facebook App</td>\n      <td>SiteOps Global Product Platform Engineering Ma...</td>\n      <td>Gallatin, TN</td>\n      <td>PM</td>\n      <td>SENIOR_LEVEL</td>\n      <td>$163,000 - $223,000 a year</td>\n    </tr>\n    <tr>\n      <th>2523</th>\n      <td>04cade2a2f845d33</td>\n      <td>Facebook App</td>\n      <td>SiteOps Global Product Platform Engineering Ma...</td>\n      <td>New Albany, OH</td>\n      <td>PM</td>\n      <td>SENIOR_LEVEL</td>\n      <td>$163,000 - $223,000 a year</td>\n    </tr>\n    <tr>\n      <th>2524</th>\n      <td>bd826066a3661067</td>\n      <td>Facebook App</td>\n      <td>SiteOps Global Product Platform Engineering Ma...</td>\n      <td>Forest City, NC</td>\n      <td>PM</td>\n      <td>SENIOR_LEVEL</td>\n      <td>$163,000 - $223,000 a year</td>\n    </tr>\n  </tbody>\n</table>\n<p>2509 rows × 7 columns</p>\n</div>"
     },
     "execution_count": 200,
     "metadata": {},
     "output_type": "execute_result"
    }
   ],
   "source": [
    "df"
   ],
   "metadata": {
    "collapsed": false,
    "ExecuteTime": {
     "end_time": "2023-12-01T03:19:09.696774Z",
     "start_time": "2023-12-01T03:19:09.693135Z"
    }
   },
   "id": "da2d26bafdb9f5f"
  },
  {
   "cell_type": "markdown",
   "source": [
    "Save dataframe"
   ],
   "metadata": {
    "collapsed": false
   },
   "id": "a03a519e74c68c66"
  },
  {
   "cell_type": "code",
   "execution_count": 201,
   "outputs": [],
   "source": [
    "df.to_csv('../Data/Clean/' + output_file_name, sep='\\t', index=False)"
   ],
   "metadata": {
    "collapsed": false,
    "ExecuteTime": {
     "end_time": "2023-12-01T03:19:10.401779Z",
     "start_time": "2023-12-01T03:19:10.386970Z"
    }
   },
   "id": "3859d6bdcd9bf605"
  },
  {
   "cell_type": "markdown",
   "source": [
    "Verify"
   ],
   "metadata": {
    "collapsed": false
   },
   "id": "dd26ef94043fd4a9"
  },
  {
   "cell_type": "code",
   "execution_count": 202,
   "outputs": [],
   "source": [
    "me = pd.read_csv('../Data/Clean/' + code + '.tsv', sep='\\t')"
   ],
   "metadata": {
    "collapsed": false,
    "ExecuteTime": {
     "end_time": "2023-12-01T03:19:11.017152Z",
     "start_time": "2023-12-01T03:19:11.005768Z"
    }
   },
   "id": "cde6ea3dc697e6b6"
  },
  {
   "cell_type": "code",
   "execution_count": 203,
   "outputs": [
    {
     "data": {
      "text/plain": "                   Key                   Company  \\\n0     2b77cca57a7aaabe                    Oracle   \n1     e8ed30c43b877013         MAT Holdings, Inc   \n2     aa49525763fe266d  Zenith Insurance Company   \n3     5348cf687b9c405c         Vergent LMS, Inc.   \n4     0ada2dd8054b7f45                Greenphire   \n...                ...                       ...   \n2504  7bd6eb4d32a77581              Facebook App   \n2505  801b9e9f1411ee14              Facebook App   \n2506  46ac9ab15fe6ae12              Facebook App   \n2507  04cade2a2f845d33              Facebook App   \n2508  bd826066a3661067              Facebook App   \n\n                                               Position  \\\n0                    Product Manager/Strategy 5-ProdDev   \n1                             Associate Product Manager   \n2        Dir, Business Process Innovation/Product Owner   \n3                                         Product Owner   \n4                                         Product Owner   \n...                                                 ...   \n2504  SiteOps Global Product Platform Engineering Ma...   \n2505  SiteOps Global Product Platform Engineering Ma...   \n2506  SiteOps Global Product Platform Engineering Ma...   \n2507  SiteOps Global Product Platform Engineering Ma...   \n2508  SiteOps Global Product Platform Engineering Ma...   \n\n                      Location Category Experience_Level  \\\n0                United States       PM      ENTRY_LEVEL   \n1            Jackson, TN 38301       PM      ENTRY_LEVEL   \n2     Woodland Hills, CA 91367       PM      ENTRY_LEVEL   \n3          Ridgeland, MS 39157       PM      ENTRY_LEVEL   \n4          King of Prussia, PA       PM      ENTRY_LEVEL   \n...                        ...      ...              ...   \n2504                DeKalb, IL       PM     SENIOR_LEVEL   \n2505        Eagle Mountain, UT       PM     SENIOR_LEVEL   \n2506              Gallatin, TN       PM     SENIOR_LEVEL   \n2507            New Albany, OH       PM     SENIOR_LEVEL   \n2508           Forest City, NC       PM     SENIOR_LEVEL   \n\n                                Salary  \n0                                  NaN  \n1     Estimated $59.4K - $75.2K a year  \n2           $136,382 - $170,478 a year  \n3                                  NaN  \n4                                  NaN  \n...                                ...  \n2504        $163,000 - $223,000 a year  \n2505        $163,000 - $223,000 a year  \n2506        $163,000 - $223,000 a year  \n2507        $163,000 - $223,000 a year  \n2508        $163,000 - $223,000 a year  \n\n[2509 rows x 7 columns]",
      "text/html": "<div>\n<style scoped>\n    .dataframe tbody tr th:only-of-type {\n        vertical-align: middle;\n    }\n\n    .dataframe tbody tr th {\n        vertical-align: top;\n    }\n\n    .dataframe thead th {\n        text-align: right;\n    }\n</style>\n<table border=\"1\" class=\"dataframe\">\n  <thead>\n    <tr style=\"text-align: right;\">\n      <th></th>\n      <th>Key</th>\n      <th>Company</th>\n      <th>Position</th>\n      <th>Location</th>\n      <th>Category</th>\n      <th>Experience_Level</th>\n      <th>Salary</th>\n    </tr>\n  </thead>\n  <tbody>\n    <tr>\n      <th>0</th>\n      <td>2b77cca57a7aaabe</td>\n      <td>Oracle</td>\n      <td>Product Manager/Strategy 5-ProdDev</td>\n      <td>United States</td>\n      <td>PM</td>\n      <td>ENTRY_LEVEL</td>\n      <td>NaN</td>\n    </tr>\n    <tr>\n      <th>1</th>\n      <td>e8ed30c43b877013</td>\n      <td>MAT Holdings, Inc</td>\n      <td>Associate Product Manager</td>\n      <td>Jackson, TN 38301</td>\n      <td>PM</td>\n      <td>ENTRY_LEVEL</td>\n      <td>Estimated $59.4K - $75.2K a year</td>\n    </tr>\n    <tr>\n      <th>2</th>\n      <td>aa49525763fe266d</td>\n      <td>Zenith Insurance Company</td>\n      <td>Dir, Business Process Innovation/Product Owner</td>\n      <td>Woodland Hills, CA 91367</td>\n      <td>PM</td>\n      <td>ENTRY_LEVEL</td>\n      <td>$136,382 - $170,478 a year</td>\n    </tr>\n    <tr>\n      <th>3</th>\n      <td>5348cf687b9c405c</td>\n      <td>Vergent LMS, Inc.</td>\n      <td>Product Owner</td>\n      <td>Ridgeland, MS 39157</td>\n      <td>PM</td>\n      <td>ENTRY_LEVEL</td>\n      <td>NaN</td>\n    </tr>\n    <tr>\n      <th>4</th>\n      <td>0ada2dd8054b7f45</td>\n      <td>Greenphire</td>\n      <td>Product Owner</td>\n      <td>King of Prussia, PA</td>\n      <td>PM</td>\n      <td>ENTRY_LEVEL</td>\n      <td>NaN</td>\n    </tr>\n    <tr>\n      <th>...</th>\n      <td>...</td>\n      <td>...</td>\n      <td>...</td>\n      <td>...</td>\n      <td>...</td>\n      <td>...</td>\n      <td>...</td>\n    </tr>\n    <tr>\n      <th>2504</th>\n      <td>7bd6eb4d32a77581</td>\n      <td>Facebook App</td>\n      <td>SiteOps Global Product Platform Engineering Ma...</td>\n      <td>DeKalb, IL</td>\n      <td>PM</td>\n      <td>SENIOR_LEVEL</td>\n      <td>$163,000 - $223,000 a year</td>\n    </tr>\n    <tr>\n      <th>2505</th>\n      <td>801b9e9f1411ee14</td>\n      <td>Facebook App</td>\n      <td>SiteOps Global Product Platform Engineering Ma...</td>\n      <td>Eagle Mountain, UT</td>\n      <td>PM</td>\n      <td>SENIOR_LEVEL</td>\n      <td>$163,000 - $223,000 a year</td>\n    </tr>\n    <tr>\n      <th>2506</th>\n      <td>46ac9ab15fe6ae12</td>\n      <td>Facebook App</td>\n      <td>SiteOps Global Product Platform Engineering Ma...</td>\n      <td>Gallatin, TN</td>\n      <td>PM</td>\n      <td>SENIOR_LEVEL</td>\n      <td>$163,000 - $223,000 a year</td>\n    </tr>\n    <tr>\n      <th>2507</th>\n      <td>04cade2a2f845d33</td>\n      <td>Facebook App</td>\n      <td>SiteOps Global Product Platform Engineering Ma...</td>\n      <td>New Albany, OH</td>\n      <td>PM</td>\n      <td>SENIOR_LEVEL</td>\n      <td>$163,000 - $223,000 a year</td>\n    </tr>\n    <tr>\n      <th>2508</th>\n      <td>bd826066a3661067</td>\n      <td>Facebook App</td>\n      <td>SiteOps Global Product Platform Engineering Ma...</td>\n      <td>Forest City, NC</td>\n      <td>PM</td>\n      <td>SENIOR_LEVEL</td>\n      <td>$163,000 - $223,000 a year</td>\n    </tr>\n  </tbody>\n</table>\n<p>2509 rows × 7 columns</p>\n</div>"
     },
     "execution_count": 203,
     "metadata": {},
     "output_type": "execute_result"
    }
   ],
   "source": [
    "me"
   ],
   "metadata": {
    "collapsed": false,
    "ExecuteTime": {
     "end_time": "2023-12-01T03:19:11.606988Z",
     "start_time": "2023-12-01T03:19:11.603094Z"
    }
   },
   "id": "3a0d561a205db5d7"
  },
  {
   "cell_type": "code",
   "execution_count": null,
   "outputs": [],
   "source": [],
   "metadata": {
    "collapsed": false
   },
   "id": "a4bf6fd17b29154e"
  }
 ],
 "metadata": {
  "kernelspec": {
   "display_name": "Python 3",
   "language": "python",
   "name": "python3"
  },
  "language_info": {
   "codemirror_mode": {
    "name": "ipython",
    "version": 2
   },
   "file_extension": ".py",
   "mimetype": "text/x-python",
   "name": "python",
   "nbconvert_exporter": "python",
   "pygments_lexer": "ipython2",
   "version": "2.7.6"
  }
 },
 "nbformat": 4,
 "nbformat_minor": 5
}
