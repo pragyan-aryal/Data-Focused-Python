{
 "cells": [
  {
   "cell_type": "code",
   "execution_count": 1,
   "id": "initial_id",
   "metadata": {
    "collapsed": true,
    "ExecuteTime": {
     "end_time": "2023-12-01T01:51:37.040433Z",
     "start_time": "2023-12-01T01:51:36.635258Z"
    }
   },
   "outputs": [],
   "source": [
    "import pandas as pd"
   ]
  },
  {
   "cell_type": "code",
   "execution_count": 31,
   "outputs": [],
   "source": [
    "output_file_name = 'BA.tsv'"
   ],
   "metadata": {
    "collapsed": false,
    "ExecuteTime": {
     "end_time": "2023-12-01T02:08:22.183198Z",
     "start_time": "2023-12-01T02:08:22.174271Z"
    }
   },
   "id": "9cab91f2dcdfedbe"
  },
  {
   "cell_type": "markdown",
   "source": [
    "Read File"
   ],
   "metadata": {
    "collapsed": false
   },
   "id": "42c40d6b671e8cfa"
  },
  {
   "cell_type": "code",
   "execution_count": 2,
   "outputs": [],
   "source": [
    "entry_level = pd.read_csv('../Data/Raw/BA_ENTRY_LEVEL.tsv', sep='\\t')"
   ],
   "metadata": {
    "collapsed": false,
    "ExecuteTime": {
     "end_time": "2023-12-01T01:52:17.799424Z",
     "start_time": "2023-12-01T01:52:17.788685Z"
    }
   },
   "id": "449f36c50deb2bdb"
  },
  {
   "cell_type": "code",
   "execution_count": 3,
   "outputs": [],
   "source": [
    "mid_level = pd.read_csv('../Data/Raw/BA_MID_LEVEL.tsv', sep='\\t')"
   ],
   "metadata": {
    "collapsed": false,
    "ExecuteTime": {
     "end_time": "2023-12-01T01:52:34.940932Z",
     "start_time": "2023-12-01T01:52:34.931025Z"
    }
   },
   "id": "32264ed939ca79ba"
  },
  {
   "cell_type": "code",
   "execution_count": 4,
   "outputs": [],
   "source": [
    "senior_level = pd.read_csv('../Data/Raw/BA_SENIOR_LEVEL.tsv', sep='\\t')"
   ],
   "metadata": {
    "collapsed": false,
    "ExecuteTime": {
     "end_time": "2023-12-01T01:52:45.926818Z",
     "start_time": "2023-12-01T01:52:45.918427Z"
    }
   },
   "id": "b5d1e628492d3fbf"
  },
  {
   "cell_type": "markdown",
   "source": [
    "Get Columns"
   ],
   "metadata": {
    "collapsed": false
   },
   "id": "a163a0a6cb4d6ab1"
  },
  {
   "cell_type": "code",
   "execution_count": 8,
   "outputs": [],
   "source": [
    "re_1 = entry_level.columns"
   ],
   "metadata": {
    "collapsed": false,
    "ExecuteTime": {
     "end_time": "2023-12-01T01:56:24.141433Z",
     "start_time": "2023-12-01T01:56:24.136741Z"
    }
   },
   "id": "af363bd6cc16dfe1"
  },
  {
   "cell_type": "code",
   "execution_count": 10,
   "outputs": [],
   "source": [
    "rm_1 = mid_level.columns"
   ],
   "metadata": {
    "collapsed": false,
    "ExecuteTime": {
     "end_time": "2023-12-01T01:57:14.782194Z",
     "start_time": "2023-12-01T01:57:14.776143Z"
    }
   },
   "id": "2b09f48bcc2b914a"
  },
  {
   "cell_type": "code",
   "execution_count": 11,
   "outputs": [],
   "source": [
    "rs_1 = senior_level.columns"
   ],
   "metadata": {
    "collapsed": false,
    "ExecuteTime": {
     "end_time": "2023-12-01T01:57:21.861627Z",
     "start_time": "2023-12-01T01:57:21.854568Z"
    }
   },
   "id": "8e2636ae7a707838"
  },
  {
   "cell_type": "markdown",
   "source": [
    "Change Columns"
   ],
   "metadata": {
    "collapsed": false
   },
   "id": "587ff9be60790772"
  },
  {
   "cell_type": "code",
   "execution_count": 12,
   "outputs": [],
   "source": [
    "columns = ['Key', 'Company', 'Position', 'Location', 'Category', 'Experience_Level', 'Salary']"
   ],
   "metadata": {
    "collapsed": false,
    "ExecuteTime": {
     "end_time": "2023-12-01T01:58:32.603226Z",
     "start_time": "2023-12-01T01:58:32.598115Z"
    }
   },
   "id": "f3102d24d0a43000"
  },
  {
   "cell_type": "code",
   "execution_count": 13,
   "outputs": [],
   "source": [
    "entry_level.columns = columns"
   ],
   "metadata": {
    "collapsed": false,
    "ExecuteTime": {
     "end_time": "2023-12-01T01:58:39.134869Z",
     "start_time": "2023-12-01T01:58:39.129191Z"
    }
   },
   "id": "895f02027655642c"
  },
  {
   "cell_type": "code",
   "execution_count": 14,
   "outputs": [],
   "source": [
    "mid_level.columns = columns"
   ],
   "metadata": {
    "collapsed": false,
    "ExecuteTime": {
     "end_time": "2023-12-01T01:59:15.680841Z",
     "start_time": "2023-12-01T01:59:15.674491Z"
    }
   },
   "id": "58be6d71800a98d0"
  },
  {
   "cell_type": "code",
   "execution_count": 15,
   "outputs": [],
   "source": [
    "senior_level.columns = columns"
   ],
   "metadata": {
    "collapsed": false,
    "ExecuteTime": {
     "end_time": "2023-12-01T01:59:22.021686Z",
     "start_time": "2023-12-01T01:59:22.017283Z"
    }
   },
   "id": "b9578559875dca13"
  },
  {
   "cell_type": "markdown",
   "source": [
    "Add Data Before (Columns)"
   ],
   "metadata": {
    "collapsed": false
   },
   "id": "efbd6bcbd47cdfe8"
  },
  {
   "cell_type": "code",
   "execution_count": 23,
   "outputs": [],
   "source": [
    "entry_level.loc[-1] = re_1\n",
    "entry_level.index = entry_level.index + 1\n",
    "entry_level.sort_index(inplace=True)"
   ],
   "metadata": {
    "collapsed": false,
    "ExecuteTime": {
     "end_time": "2023-12-01T02:02:48.856004Z",
     "start_time": "2023-12-01T02:02:48.849947Z"
    }
   },
   "id": "24e786a38e46289b"
  },
  {
   "cell_type": "code",
   "execution_count": 24,
   "outputs": [],
   "source": [
    "mid_level.loc[-1] = rm_1\n",
    "mid_level.index = mid_level.index + 1\n",
    "mid_level.sort_index(inplace=True)"
   ],
   "metadata": {
    "collapsed": false,
    "ExecuteTime": {
     "end_time": "2023-12-01T02:03:06.385336Z",
     "start_time": "2023-12-01T02:03:06.375415Z"
    }
   },
   "id": "626d5b7108cd5187"
  },
  {
   "cell_type": "code",
   "execution_count": 25,
   "outputs": [],
   "source": [
    "senior_level.loc[-1] = rs_1\n",
    "senior_level.index = senior_level.index + 1\n",
    "senior_level.sort_index(inplace=True)"
   ],
   "metadata": {
    "collapsed": false,
    "ExecuteTime": {
     "end_time": "2023-12-01T02:03:17.357186Z",
     "start_time": "2023-12-01T02:03:17.337154Z"
    }
   },
   "id": "979f43c6f845eb6e"
  },
  {
   "cell_type": "code",
   "execution_count": 28,
   "outputs": [],
   "source": [
    "frame =  [entry_level, mid_level, senior_level]"
   ],
   "metadata": {
    "collapsed": false,
    "ExecuteTime": {
     "end_time": "2023-12-01T02:05:11.245988Z",
     "start_time": "2023-12-01T02:05:11.239472Z"
    }
   },
   "id": "1ffb02a3cfd30d44"
  },
  {
   "cell_type": "code",
   "execution_count": 33,
   "outputs": [],
   "source": [
    "df = pd.concat(frame, ignore_index=True)"
   ],
   "metadata": {
    "collapsed": false,
    "ExecuteTime": {
     "end_time": "2023-12-01T02:10:32.728491Z",
     "start_time": "2023-12-01T02:10:32.720592Z"
    }
   },
   "id": "af26a96a982c0109"
  },
  {
   "cell_type": "code",
   "execution_count": 34,
   "outputs": [
    {
     "data": {
      "text/plain": "                   Key                                Company  \\\n0     70f1879fbe39cff4                                TRESUME   \n1     70f1879fbe39cff4                                TRESUME   \n2     a9832db271ef3fc4  US Office of the Secretary of Defense   \n3     7f4db33d08d5c611                    Booz Allen Hamilton   \n4     0636da957769d80b                      PRYSMIANGROUP.COM   \n...                ...                                    ...   \n2992  778a13995241bbd2           Connvertex Technologies Inc.   \n2993  b1bfbf75cfadfa19    Houston Independent School District   \n2994  535bf88fd2f51784    Houston Independent School District   \n2995  c67f8b4eb633f2ec                       Parker Aerospace   \n2996  66525c4ec502e215                    Rheem Manufacturing   \n\n                                    Position  \\\n0         Entry level Business /Data Analyst   \n1         Entry level Business /Data Analyst   \n2                Operations Research Analyst   \n3                   IT Business Analyst, Mid   \n4     SAP Intercompany Business Analyst (FT)   \n...                                      ...   \n2992                 Senior Business Analyst   \n2993      Sr Business Systems Analyst (6147)   \n2994            Sr. Business Systems Analyst   \n2995      Digital & IT Technician Specialist   \n2996  Principle Engineer - Electric Tankless   \n\n                                              Location Category  \\\n0                                         Richmond, VA       BA   \n1                                         Richmond, VA       BA   \n2                                        Arlington, VA       BA   \n3                         Hybrid remote in Atlanta, GA       BA   \n4                                 Highland Heights, KY       BA   \n...                                                ...      ...   \n2992            Raleigh, NC 27601 (South Central area)       BA   \n2993  Houston, TX 77092 (Lazybrook - Timbergrove area)       BA   \n2994  Houston, TX 77092 (Lazybrook - Timbergrove area)       BA   \n2995                                  Mentor, OH 44060       BA   \n2996                               Waterbury, CT 06705       BA   \n\n     Experience_Level                      Salary  \n0         ENTRY_LEVEL           $30 - $35 an hour  \n1         ENTRY_LEVEL           $30 - $35 an hour  \n2         ENTRY_LEVEL  $155,700 - $183,500 a year  \n3         ENTRY_LEVEL   $52,100 - $119,000 a year  \n4         ENTRY_LEVEL                         NaN  \n...               ...                         ...  \n2992     SENIOR_LEVEL                         NaN  \n2993     SENIOR_LEVEL   $76,479 - $126,191 a year  \n2994     SENIOR_LEVEL   $76,479 - $126,191 a year  \n2995     SENIOR_LEVEL         From $90,000 a year  \n2996     SENIOR_LEVEL                         NaN  \n\n[2997 rows x 7 columns]",
      "text/html": "<div>\n<style scoped>\n    .dataframe tbody tr th:only-of-type {\n        vertical-align: middle;\n    }\n\n    .dataframe tbody tr th {\n        vertical-align: top;\n    }\n\n    .dataframe thead th {\n        text-align: right;\n    }\n</style>\n<table border=\"1\" class=\"dataframe\">\n  <thead>\n    <tr style=\"text-align: right;\">\n      <th></th>\n      <th>Key</th>\n      <th>Company</th>\n      <th>Position</th>\n      <th>Location</th>\n      <th>Category</th>\n      <th>Experience_Level</th>\n      <th>Salary</th>\n    </tr>\n  </thead>\n  <tbody>\n    <tr>\n      <th>0</th>\n      <td>70f1879fbe39cff4</td>\n      <td>TRESUME</td>\n      <td>Entry level Business /Data Analyst</td>\n      <td>Richmond, VA</td>\n      <td>BA</td>\n      <td>ENTRY_LEVEL</td>\n      <td>$30 - $35 an hour</td>\n    </tr>\n    <tr>\n      <th>1</th>\n      <td>70f1879fbe39cff4</td>\n      <td>TRESUME</td>\n      <td>Entry level Business /Data Analyst</td>\n      <td>Richmond, VA</td>\n      <td>BA</td>\n      <td>ENTRY_LEVEL</td>\n      <td>$30 - $35 an hour</td>\n    </tr>\n    <tr>\n      <th>2</th>\n      <td>a9832db271ef3fc4</td>\n      <td>US Office of the Secretary of Defense</td>\n      <td>Operations Research Analyst</td>\n      <td>Arlington, VA</td>\n      <td>BA</td>\n      <td>ENTRY_LEVEL</td>\n      <td>$155,700 - $183,500 a year</td>\n    </tr>\n    <tr>\n      <th>3</th>\n      <td>7f4db33d08d5c611</td>\n      <td>Booz Allen Hamilton</td>\n      <td>IT Business Analyst, Mid</td>\n      <td>Hybrid remote in Atlanta, GA</td>\n      <td>BA</td>\n      <td>ENTRY_LEVEL</td>\n      <td>$52,100 - $119,000 a year</td>\n    </tr>\n    <tr>\n      <th>4</th>\n      <td>0636da957769d80b</td>\n      <td>PRYSMIANGROUP.COM</td>\n      <td>SAP Intercompany Business Analyst (FT)</td>\n      <td>Highland Heights, KY</td>\n      <td>BA</td>\n      <td>ENTRY_LEVEL</td>\n      <td>NaN</td>\n    </tr>\n    <tr>\n      <th>...</th>\n      <td>...</td>\n      <td>...</td>\n      <td>...</td>\n      <td>...</td>\n      <td>...</td>\n      <td>...</td>\n      <td>...</td>\n    </tr>\n    <tr>\n      <th>2992</th>\n      <td>778a13995241bbd2</td>\n      <td>Connvertex Technologies Inc.</td>\n      <td>Senior Business Analyst</td>\n      <td>Raleigh, NC 27601 (South Central area)</td>\n      <td>BA</td>\n      <td>SENIOR_LEVEL</td>\n      <td>NaN</td>\n    </tr>\n    <tr>\n      <th>2993</th>\n      <td>b1bfbf75cfadfa19</td>\n      <td>Houston Independent School District</td>\n      <td>Sr Business Systems Analyst (6147)</td>\n      <td>Houston, TX 77092 (Lazybrook - Timbergrove area)</td>\n      <td>BA</td>\n      <td>SENIOR_LEVEL</td>\n      <td>$76,479 - $126,191 a year</td>\n    </tr>\n    <tr>\n      <th>2994</th>\n      <td>535bf88fd2f51784</td>\n      <td>Houston Independent School District</td>\n      <td>Sr. Business Systems Analyst</td>\n      <td>Houston, TX 77092 (Lazybrook - Timbergrove area)</td>\n      <td>BA</td>\n      <td>SENIOR_LEVEL</td>\n      <td>$76,479 - $126,191 a year</td>\n    </tr>\n    <tr>\n      <th>2995</th>\n      <td>c67f8b4eb633f2ec</td>\n      <td>Parker Aerospace</td>\n      <td>Digital &amp; IT Technician Specialist</td>\n      <td>Mentor, OH 44060</td>\n      <td>BA</td>\n      <td>SENIOR_LEVEL</td>\n      <td>From $90,000 a year</td>\n    </tr>\n    <tr>\n      <th>2996</th>\n      <td>66525c4ec502e215</td>\n      <td>Rheem Manufacturing</td>\n      <td>Principle Engineer - Electric Tankless</td>\n      <td>Waterbury, CT 06705</td>\n      <td>BA</td>\n      <td>SENIOR_LEVEL</td>\n      <td>NaN</td>\n    </tr>\n  </tbody>\n</table>\n<p>2997 rows × 7 columns</p>\n</div>"
     },
     "execution_count": 34,
     "metadata": {},
     "output_type": "execute_result"
    }
   ],
   "source": [
    "df"
   ],
   "metadata": {
    "collapsed": false,
    "ExecuteTime": {
     "end_time": "2023-12-01T02:10:39.595284Z",
     "start_time": "2023-12-01T02:10:39.590240Z"
    }
   },
   "id": "da2d26bafdb9f5f"
  },
  {
   "cell_type": "code",
   "execution_count": 37,
   "outputs": [],
   "source": [
    "df = df.drop_duplicates('Key')"
   ],
   "metadata": {
    "collapsed": false,
    "ExecuteTime": {
     "end_time": "2023-12-01T02:12:10.787667Z",
     "start_time": "2023-12-01T02:12:10.784362Z"
    }
   },
   "id": "843d14944209a3e8"
  },
  {
   "cell_type": "markdown",
   "source": [
    "Save dataframe"
   ],
   "metadata": {
    "collapsed": false
   },
   "id": "a03a519e74c68c66"
  },
  {
   "cell_type": "code",
   "execution_count": 39,
   "outputs": [],
   "source": [
    "df.to_csv('../Data/Clean/' + output_file_name, sep='\\t', index=False)"
   ],
   "metadata": {
    "collapsed": false,
    "ExecuteTime": {
     "end_time": "2023-12-01T02:14:18.016051Z",
     "start_time": "2023-12-01T02:14:17.999803Z"
    }
   },
   "id": "3859d6bdcd9bf605"
  },
  {
   "cell_type": "markdown",
   "source": [
    "Verify"
   ],
   "metadata": {
    "collapsed": false
   },
   "id": "dd26ef94043fd4a9"
  },
  {
   "cell_type": "code",
   "execution_count": 40,
   "outputs": [],
   "source": [
    "ba = pd.read_csv('../Data/Clean/BA.tsv', sep='\\t')"
   ],
   "metadata": {
    "collapsed": false,
    "ExecuteTime": {
     "end_time": "2023-12-01T02:14:52.310604Z",
     "start_time": "2023-12-01T02:14:52.290192Z"
    }
   },
   "id": "cde6ea3dc697e6b6"
  },
  {
   "cell_type": "code",
   "execution_count": 41,
   "outputs": [
    {
     "data": {
      "text/plain": "                   Key                                Company  \\\n0     70f1879fbe39cff4                                TRESUME   \n1     a9832db271ef3fc4  US Office of the Secretary of Defense   \n2     7f4db33d08d5c611                    Booz Allen Hamilton   \n3     0636da957769d80b                      PRYSMIANGROUP.COM   \n4     f2d5e432940c9f42                                   NYCM   \n...                ...                                    ...   \n2945  778a13995241bbd2           Connvertex Technologies Inc.   \n2946  b1bfbf75cfadfa19    Houston Independent School District   \n2947  535bf88fd2f51784    Houston Independent School District   \n2948  c67f8b4eb633f2ec                       Parker Aerospace   \n2949  66525c4ec502e215                    Rheem Manufacturing   \n\n                                    Position  \\\n0         Entry level Business /Data Analyst   \n1                Operations Research Analyst   \n2                   IT Business Analyst, Mid   \n3     SAP Intercompany Business Analyst (FT)   \n4             Business Data Analyst (Hybrid)   \n...                                      ...   \n2945                 Senior Business Analyst   \n2946      Sr Business Systems Analyst (6147)   \n2947            Sr. Business Systems Analyst   \n2948      Digital & IT Technician Specialist   \n2949  Principle Engineer - Electric Tankless   \n\n                                              Location Category  \\\n0                                         Richmond, VA       BA   \n1                                        Arlington, VA       BA   \n2                         Hybrid remote in Atlanta, GA       BA   \n3                                 Highland Heights, KY       BA   \n4                                   Edmeston, NY 13335       BA   \n...                                                ...      ...   \n2945            Raleigh, NC 27601 (South Central area)       BA   \n2946  Houston, TX 77092 (Lazybrook - Timbergrove area)       BA   \n2947  Houston, TX 77092 (Lazybrook - Timbergrove area)       BA   \n2948                                  Mentor, OH 44060       BA   \n2949                               Waterbury, CT 06705       BA   \n\n     Experience_Level                      Salary  \n0         ENTRY_LEVEL           $30 - $35 an hour  \n1         ENTRY_LEVEL  $155,700 - $183,500 a year  \n2         ENTRY_LEVEL   $52,100 - $119,000 a year  \n3         ENTRY_LEVEL                         NaN  \n4         ENTRY_LEVEL    $35,057 - $63,103 a year  \n...               ...                         ...  \n2945     SENIOR_LEVEL                         NaN  \n2946     SENIOR_LEVEL   $76,479 - $126,191 a year  \n2947     SENIOR_LEVEL   $76,479 - $126,191 a year  \n2948     SENIOR_LEVEL         From $90,000 a year  \n2949     SENIOR_LEVEL                         NaN  \n\n[2950 rows x 7 columns]",
      "text/html": "<div>\n<style scoped>\n    .dataframe tbody tr th:only-of-type {\n        vertical-align: middle;\n    }\n\n    .dataframe tbody tr th {\n        vertical-align: top;\n    }\n\n    .dataframe thead th {\n        text-align: right;\n    }\n</style>\n<table border=\"1\" class=\"dataframe\">\n  <thead>\n    <tr style=\"text-align: right;\">\n      <th></th>\n      <th>Key</th>\n      <th>Company</th>\n      <th>Position</th>\n      <th>Location</th>\n      <th>Category</th>\n      <th>Experience_Level</th>\n      <th>Salary</th>\n    </tr>\n  </thead>\n  <tbody>\n    <tr>\n      <th>0</th>\n      <td>70f1879fbe39cff4</td>\n      <td>TRESUME</td>\n      <td>Entry level Business /Data Analyst</td>\n      <td>Richmond, VA</td>\n      <td>BA</td>\n      <td>ENTRY_LEVEL</td>\n      <td>$30 - $35 an hour</td>\n    </tr>\n    <tr>\n      <th>1</th>\n      <td>a9832db271ef3fc4</td>\n      <td>US Office of the Secretary of Defense</td>\n      <td>Operations Research Analyst</td>\n      <td>Arlington, VA</td>\n      <td>BA</td>\n      <td>ENTRY_LEVEL</td>\n      <td>$155,700 - $183,500 a year</td>\n    </tr>\n    <tr>\n      <th>2</th>\n      <td>7f4db33d08d5c611</td>\n      <td>Booz Allen Hamilton</td>\n      <td>IT Business Analyst, Mid</td>\n      <td>Hybrid remote in Atlanta, GA</td>\n      <td>BA</td>\n      <td>ENTRY_LEVEL</td>\n      <td>$52,100 - $119,000 a year</td>\n    </tr>\n    <tr>\n      <th>3</th>\n      <td>0636da957769d80b</td>\n      <td>PRYSMIANGROUP.COM</td>\n      <td>SAP Intercompany Business Analyst (FT)</td>\n      <td>Highland Heights, KY</td>\n      <td>BA</td>\n      <td>ENTRY_LEVEL</td>\n      <td>NaN</td>\n    </tr>\n    <tr>\n      <th>4</th>\n      <td>f2d5e432940c9f42</td>\n      <td>NYCM</td>\n      <td>Business Data Analyst (Hybrid)</td>\n      <td>Edmeston, NY 13335</td>\n      <td>BA</td>\n      <td>ENTRY_LEVEL</td>\n      <td>$35,057 - $63,103 a year</td>\n    </tr>\n    <tr>\n      <th>...</th>\n      <td>...</td>\n      <td>...</td>\n      <td>...</td>\n      <td>...</td>\n      <td>...</td>\n      <td>...</td>\n      <td>...</td>\n    </tr>\n    <tr>\n      <th>2945</th>\n      <td>778a13995241bbd2</td>\n      <td>Connvertex Technologies Inc.</td>\n      <td>Senior Business Analyst</td>\n      <td>Raleigh, NC 27601 (South Central area)</td>\n      <td>BA</td>\n      <td>SENIOR_LEVEL</td>\n      <td>NaN</td>\n    </tr>\n    <tr>\n      <th>2946</th>\n      <td>b1bfbf75cfadfa19</td>\n      <td>Houston Independent School District</td>\n      <td>Sr Business Systems Analyst (6147)</td>\n      <td>Houston, TX 77092 (Lazybrook - Timbergrove area)</td>\n      <td>BA</td>\n      <td>SENIOR_LEVEL</td>\n      <td>$76,479 - $126,191 a year</td>\n    </tr>\n    <tr>\n      <th>2947</th>\n      <td>535bf88fd2f51784</td>\n      <td>Houston Independent School District</td>\n      <td>Sr. Business Systems Analyst</td>\n      <td>Houston, TX 77092 (Lazybrook - Timbergrove area)</td>\n      <td>BA</td>\n      <td>SENIOR_LEVEL</td>\n      <td>$76,479 - $126,191 a year</td>\n    </tr>\n    <tr>\n      <th>2948</th>\n      <td>c67f8b4eb633f2ec</td>\n      <td>Parker Aerospace</td>\n      <td>Digital &amp; IT Technician Specialist</td>\n      <td>Mentor, OH 44060</td>\n      <td>BA</td>\n      <td>SENIOR_LEVEL</td>\n      <td>From $90,000 a year</td>\n    </tr>\n    <tr>\n      <th>2949</th>\n      <td>66525c4ec502e215</td>\n      <td>Rheem Manufacturing</td>\n      <td>Principle Engineer - Electric Tankless</td>\n      <td>Waterbury, CT 06705</td>\n      <td>BA</td>\n      <td>SENIOR_LEVEL</td>\n      <td>NaN</td>\n    </tr>\n  </tbody>\n</table>\n<p>2950 rows × 7 columns</p>\n</div>"
     },
     "execution_count": 41,
     "metadata": {},
     "output_type": "execute_result"
    }
   ],
   "source": [
    "ba"
   ],
   "metadata": {
    "collapsed": false,
    "ExecuteTime": {
     "end_time": "2023-12-01T02:14:54.706412Z",
     "start_time": "2023-12-01T02:14:54.693410Z"
    }
   },
   "id": "3a0d561a205db5d7"
  },
  {
   "cell_type": "code",
   "execution_count": null,
   "outputs": [],
   "source": [],
   "metadata": {
    "collapsed": false
   },
   "id": "a4bf6fd17b29154e"
  }
 ],
 "metadata": {
  "kernelspec": {
   "display_name": "Python 3",
   "language": "python",
   "name": "python3"
  },
  "language_info": {
   "codemirror_mode": {
    "name": "ipython",
    "version": 2
   },
   "file_extension": ".py",
   "mimetype": "text/x-python",
   "name": "python",
   "nbconvert_exporter": "python",
   "pygments_lexer": "ipython2",
   "version": "2.7.6"
  }
 },
 "nbformat": 4,
 "nbformat_minor": 5
}
