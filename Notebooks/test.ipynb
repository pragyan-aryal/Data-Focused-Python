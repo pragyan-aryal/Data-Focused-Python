{
 "cells": [
  {
   "cell_type": "code",
   "execution_count": 1,
   "id": "initial_id",
   "metadata": {
    "collapsed": true,
    "ExecuteTime": {
     "end_time": "2023-12-10T06:33:54.930478Z",
     "start_time": "2023-12-10T06:33:54.365845Z"
    }
   },
   "outputs": [],
   "source": [
    "import pandas as pd\n",
    "import altair as alt"
   ]
  },
  {
   "cell_type": "code",
   "execution_count": 2,
   "outputs": [],
   "source": [
    "df = pd.read_csv('../Data/Indeed/all_skills.tsv', sep='\\t')"
   ],
   "metadata": {
    "collapsed": false,
    "ExecuteTime": {
     "end_time": "2023-12-10T06:34:13.884938Z",
     "start_time": "2023-12-10T06:34:13.776537Z"
    }
   },
   "id": "af3716f66f01d81"
  },
  {
   "cell_type": "code",
   "execution_count": 3,
   "outputs": [
    {
     "data": {
      "text/plain": "                          Go  a9832db271ef3fc4  BA   ENTRY_LEVEL  Language\n0                        PHP  a9832db271ef3fc4  BA   ENTRY_LEVEL  Language\n1                       HTML  a9832db271ef3fc4  BA   ENTRY_LEVEL  Language\n2                          R  a9832db271ef3fc4  BA   ENTRY_LEVEL  Language\n3                      Graph  a9832db271ef3fc4  BA   ENTRY_LEVEL  Database\n4                    Testing  a9832db271ef3fc4  BA   ENTRY_LEVEL     Skill\n...                      ...               ...  ..           ...       ...\n260365         Documentation  ea2bf756466c7fb6  SE  SENIOR_LEVEL     Skill\n260366             Analytics  ea2bf756466c7fb6  SE  SENIOR_LEVEL     Skill\n260367  Software Development  ea2bf756466c7fb6  SE  SENIOR_LEVEL     Skill\n260368                 Excel  ea2bf756466c7fb6  SE  SENIOR_LEVEL      Tool\n260369                  Mode  ea2bf756466c7fb6  SE  SENIOR_LEVEL      Tool\n\n[260370 rows x 5 columns]",
      "text/html": "<div>\n<style scoped>\n    .dataframe tbody tr th:only-of-type {\n        vertical-align: middle;\n    }\n\n    .dataframe tbody tr th {\n        vertical-align: top;\n    }\n\n    .dataframe thead th {\n        text-align: right;\n    }\n</style>\n<table border=\"1\" class=\"dataframe\">\n  <thead>\n    <tr style=\"text-align: right;\">\n      <th></th>\n      <th>Go</th>\n      <th>a9832db271ef3fc4</th>\n      <th>BA</th>\n      <th>ENTRY_LEVEL</th>\n      <th>Language</th>\n    </tr>\n  </thead>\n  <tbody>\n    <tr>\n      <th>0</th>\n      <td>PHP</td>\n      <td>a9832db271ef3fc4</td>\n      <td>BA</td>\n      <td>ENTRY_LEVEL</td>\n      <td>Language</td>\n    </tr>\n    <tr>\n      <th>1</th>\n      <td>HTML</td>\n      <td>a9832db271ef3fc4</td>\n      <td>BA</td>\n      <td>ENTRY_LEVEL</td>\n      <td>Language</td>\n    </tr>\n    <tr>\n      <th>2</th>\n      <td>R</td>\n      <td>a9832db271ef3fc4</td>\n      <td>BA</td>\n      <td>ENTRY_LEVEL</td>\n      <td>Language</td>\n    </tr>\n    <tr>\n      <th>3</th>\n      <td>Graph</td>\n      <td>a9832db271ef3fc4</td>\n      <td>BA</td>\n      <td>ENTRY_LEVEL</td>\n      <td>Database</td>\n    </tr>\n    <tr>\n      <th>4</th>\n      <td>Testing</td>\n      <td>a9832db271ef3fc4</td>\n      <td>BA</td>\n      <td>ENTRY_LEVEL</td>\n      <td>Skill</td>\n    </tr>\n    <tr>\n      <th>...</th>\n      <td>...</td>\n      <td>...</td>\n      <td>...</td>\n      <td>...</td>\n      <td>...</td>\n    </tr>\n    <tr>\n      <th>260365</th>\n      <td>Documentation</td>\n      <td>ea2bf756466c7fb6</td>\n      <td>SE</td>\n      <td>SENIOR_LEVEL</td>\n      <td>Skill</td>\n    </tr>\n    <tr>\n      <th>260366</th>\n      <td>Analytics</td>\n      <td>ea2bf756466c7fb6</td>\n      <td>SE</td>\n      <td>SENIOR_LEVEL</td>\n      <td>Skill</td>\n    </tr>\n    <tr>\n      <th>260367</th>\n      <td>Software Development</td>\n      <td>ea2bf756466c7fb6</td>\n      <td>SE</td>\n      <td>SENIOR_LEVEL</td>\n      <td>Skill</td>\n    </tr>\n    <tr>\n      <th>260368</th>\n      <td>Excel</td>\n      <td>ea2bf756466c7fb6</td>\n      <td>SE</td>\n      <td>SENIOR_LEVEL</td>\n      <td>Tool</td>\n    </tr>\n    <tr>\n      <th>260369</th>\n      <td>Mode</td>\n      <td>ea2bf756466c7fb6</td>\n      <td>SE</td>\n      <td>SENIOR_LEVEL</td>\n      <td>Tool</td>\n    </tr>\n  </tbody>\n</table>\n<p>260370 rows × 5 columns</p>\n</div>"
     },
     "execution_count": 3,
     "metadata": {},
     "output_type": "execute_result"
    }
   ],
   "source": [
    "df"
   ],
   "metadata": {
    "collapsed": false,
    "ExecuteTime": {
     "end_time": "2023-12-10T06:34:15.484934Z",
     "start_time": "2023-12-10T06:34:15.464586Z"
    }
   },
   "id": "cb2fd5ad80ce9856"
  },
  {
   "cell_type": "code",
   "execution_count": 30,
   "outputs": [],
   "source": [
    "df_BA = df.loc[df['BA'] == 'SE']"
   ],
   "metadata": {
    "collapsed": false,
    "ExecuteTime": {
     "end_time": "2023-12-10T06:43:30.130245Z",
     "start_time": "2023-12-10T06:43:30.123189Z"
    }
   },
   "id": "ab51961edeb69dd8"
  },
  {
   "cell_type": "code",
   "execution_count": 31,
   "outputs": [],
   "source": [
    "df_BA_Tool = df_BA.loc[df_BA['Language'] == 'Skill']"
   ],
   "metadata": {
    "collapsed": false,
    "ExecuteTime": {
     "end_time": "2023-12-10T06:43:30.896197Z",
     "start_time": "2023-12-10T06:43:30.892699Z"
    }
   },
   "id": "94094d037ded6603"
  },
  {
   "cell_type": "code",
   "execution_count": 32,
   "outputs": [
    {
     "data": {
      "text/plain": "                          Go  a9832db271ef3fc4  BA   ENTRY_LEVEL Language\n217108           Development  20a93e0e218adf2f  SE   ENTRY_LEVEL    Skill\n217109                  REST  20a93e0e218adf2f  SE   ENTRY_LEVEL    Skill\n217113               Testing  9c239bd1bfc9cbcc  SE   ENTRY_LEVEL    Skill\n217114                 Agile  9c239bd1bfc9cbcc  SE   ENTRY_LEVEL    Skill\n217115                Coding  9c239bd1bfc9cbcc  SE   ENTRY_LEVEL    Skill\n...                      ...               ...  ..           ...      ...\n260363                   FEA  ea2bf756466c7fb6  SE  SENIOR_LEVEL    Skill\n260364         Communication  ea2bf756466c7fb6  SE  SENIOR_LEVEL    Skill\n260365         Documentation  ea2bf756466c7fb6  SE  SENIOR_LEVEL    Skill\n260366             Analytics  ea2bf756466c7fb6  SE  SENIOR_LEVEL    Skill\n260367  Software Development  ea2bf756466c7fb6  SE  SENIOR_LEVEL    Skill\n\n[17322 rows x 5 columns]",
      "text/html": "<div>\n<style scoped>\n    .dataframe tbody tr th:only-of-type {\n        vertical-align: middle;\n    }\n\n    .dataframe tbody tr th {\n        vertical-align: top;\n    }\n\n    .dataframe thead th {\n        text-align: right;\n    }\n</style>\n<table border=\"1\" class=\"dataframe\">\n  <thead>\n    <tr style=\"text-align: right;\">\n      <th></th>\n      <th>Go</th>\n      <th>a9832db271ef3fc4</th>\n      <th>BA</th>\n      <th>ENTRY_LEVEL</th>\n      <th>Language</th>\n    </tr>\n  </thead>\n  <tbody>\n    <tr>\n      <th>217108</th>\n      <td>Development</td>\n      <td>20a93e0e218adf2f</td>\n      <td>SE</td>\n      <td>ENTRY_LEVEL</td>\n      <td>Skill</td>\n    </tr>\n    <tr>\n      <th>217109</th>\n      <td>REST</td>\n      <td>20a93e0e218adf2f</td>\n      <td>SE</td>\n      <td>ENTRY_LEVEL</td>\n      <td>Skill</td>\n    </tr>\n    <tr>\n      <th>217113</th>\n      <td>Testing</td>\n      <td>9c239bd1bfc9cbcc</td>\n      <td>SE</td>\n      <td>ENTRY_LEVEL</td>\n      <td>Skill</td>\n    </tr>\n    <tr>\n      <th>217114</th>\n      <td>Agile</td>\n      <td>9c239bd1bfc9cbcc</td>\n      <td>SE</td>\n      <td>ENTRY_LEVEL</td>\n      <td>Skill</td>\n    </tr>\n    <tr>\n      <th>217115</th>\n      <td>Coding</td>\n      <td>9c239bd1bfc9cbcc</td>\n      <td>SE</td>\n      <td>ENTRY_LEVEL</td>\n      <td>Skill</td>\n    </tr>\n    <tr>\n      <th>...</th>\n      <td>...</td>\n      <td>...</td>\n      <td>...</td>\n      <td>...</td>\n      <td>...</td>\n    </tr>\n    <tr>\n      <th>260363</th>\n      <td>FEA</td>\n      <td>ea2bf756466c7fb6</td>\n      <td>SE</td>\n      <td>SENIOR_LEVEL</td>\n      <td>Skill</td>\n    </tr>\n    <tr>\n      <th>260364</th>\n      <td>Communication</td>\n      <td>ea2bf756466c7fb6</td>\n      <td>SE</td>\n      <td>SENIOR_LEVEL</td>\n      <td>Skill</td>\n    </tr>\n    <tr>\n      <th>260365</th>\n      <td>Documentation</td>\n      <td>ea2bf756466c7fb6</td>\n      <td>SE</td>\n      <td>SENIOR_LEVEL</td>\n      <td>Skill</td>\n    </tr>\n    <tr>\n      <th>260366</th>\n      <td>Analytics</td>\n      <td>ea2bf756466c7fb6</td>\n      <td>SE</td>\n      <td>SENIOR_LEVEL</td>\n      <td>Skill</td>\n    </tr>\n    <tr>\n      <th>260367</th>\n      <td>Software Development</td>\n      <td>ea2bf756466c7fb6</td>\n      <td>SE</td>\n      <td>SENIOR_LEVEL</td>\n      <td>Skill</td>\n    </tr>\n  </tbody>\n</table>\n<p>17322 rows × 5 columns</p>\n</div>"
     },
     "execution_count": 32,
     "metadata": {},
     "output_type": "execute_result"
    }
   ],
   "source": [
    "df_BA_Tool"
   ],
   "metadata": {
    "collapsed": false,
    "ExecuteTime": {
     "end_time": "2023-12-10T06:43:31.372492Z",
     "start_time": "2023-12-10T06:43:31.369508Z"
    }
   },
   "id": "ede5080cbbddae06"
  },
  {
   "cell_type": "code",
   "execution_count": 33,
   "outputs": [
    {
     "data": {
      "text/plain": "Development                                             2456\nCommunication                                           1432\nTesting                                                 1282\nSoftware Development                                    1196\nREST                                                    1189\n                                                        ... \nKaizen                                                     1\nMeshing                                                    1\nCI/CD (Continuous Integration/Continuous Deployment)       1\nStructural Analysis                                        1\nBuilding Information Model                                 1\nName: Go, Length: 92, dtype: int64"
     },
     "execution_count": 33,
     "metadata": {},
     "output_type": "execute_result"
    }
   ],
   "source": [
    "df_BA_Tool['Go'].value_counts()"
   ],
   "metadata": {
    "collapsed": false,
    "ExecuteTime": {
     "end_time": "2023-12-10T06:43:31.982548Z",
     "start_time": "2023-12-10T06:43:31.973472Z"
    }
   },
   "id": "5c1c4e6be97a7a28"
  },
  {
   "cell_type": "code",
   "execution_count": null,
   "outputs": [],
   "source": [],
   "metadata": {
    "collapsed": false
   },
   "id": "f432b5b457720a01"
  }
 ],
 "metadata": {
  "kernelspec": {
   "display_name": "Python 3",
   "language": "python",
   "name": "python3"
  },
  "language_info": {
   "codemirror_mode": {
    "name": "ipython",
    "version": 2
   },
   "file_extension": ".py",
   "mimetype": "text/x-python",
   "name": "python",
   "nbconvert_exporter": "python",
   "pygments_lexer": "ipython2",
   "version": "2.7.6"
  }
 },
 "nbformat": 4,
 "nbformat_minor": 5
}
