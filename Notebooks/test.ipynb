{
 "cells": [
  {
   "cell_type": "code",
   "execution_count": 1,
   "id": "initial_id",
   "metadata": {
    "collapsed": true,
    "ExecuteTime": {
     "end_time": "2023-12-10T00:15:08.896602Z",
     "start_time": "2023-12-10T00:15:08.480710Z"
    }
   },
   "outputs": [],
   "source": [
    "import pandas as pd"
   ]
  },
  {
   "cell_type": "code",
   "execution_count": 6,
   "outputs": [],
   "source": [
    "df = pd.read_parquet('../Data/Indeed/merged.parquet', columns=['latitude', 'longitude', 'country_code'])"
   ],
   "metadata": {
    "collapsed": false,
    "ExecuteTime": {
     "end_time": "2023-12-10T00:15:24.421439Z",
     "start_time": "2023-12-10T00:15:24.415434Z"
    }
   },
   "id": "d30ba101466f34e6"
  },
  {
   "cell_type": "code",
   "execution_count": 7,
   "outputs": [
    {
     "data": {
      "text/plain": "        latitude  longitude country_code\n0      38.864458 -77.099638          USA\n1      33.769805 -84.414581          USA\n2      39.037110 -84.456707          USA\n3      42.702260 -75.248224          USA\n4      39.319732 -76.649533          USA\n...          ...        ...          ...\n23272  44.827321 -93.317043          USA\n23273  40.688873 -74.018213          USA\n23274  38.804840 -77.046920          USA\n23275        NaN        NaN         None\n23276  39.199038 -76.841517          USA\n\n[23277 rows x 3 columns]",
      "text/html": "<div>\n<style scoped>\n    .dataframe tbody tr th:only-of-type {\n        vertical-align: middle;\n    }\n\n    .dataframe tbody tr th {\n        vertical-align: top;\n    }\n\n    .dataframe thead th {\n        text-align: right;\n    }\n</style>\n<table border=\"1\" class=\"dataframe\">\n  <thead>\n    <tr style=\"text-align: right;\">\n      <th></th>\n      <th>latitude</th>\n      <th>longitude</th>\n      <th>country_code</th>\n    </tr>\n  </thead>\n  <tbody>\n    <tr>\n      <th>0</th>\n      <td>38.864458</td>\n      <td>-77.099638</td>\n      <td>USA</td>\n    </tr>\n    <tr>\n      <th>1</th>\n      <td>33.769805</td>\n      <td>-84.414581</td>\n      <td>USA</td>\n    </tr>\n    <tr>\n      <th>2</th>\n      <td>39.037110</td>\n      <td>-84.456707</td>\n      <td>USA</td>\n    </tr>\n    <tr>\n      <th>3</th>\n      <td>42.702260</td>\n      <td>-75.248224</td>\n      <td>USA</td>\n    </tr>\n    <tr>\n      <th>4</th>\n      <td>39.319732</td>\n      <td>-76.649533</td>\n      <td>USA</td>\n    </tr>\n    <tr>\n      <th>...</th>\n      <td>...</td>\n      <td>...</td>\n      <td>...</td>\n    </tr>\n    <tr>\n      <th>23272</th>\n      <td>44.827321</td>\n      <td>-93.317043</td>\n      <td>USA</td>\n    </tr>\n    <tr>\n      <th>23273</th>\n      <td>40.688873</td>\n      <td>-74.018213</td>\n      <td>USA</td>\n    </tr>\n    <tr>\n      <th>23274</th>\n      <td>38.804840</td>\n      <td>-77.046920</td>\n      <td>USA</td>\n    </tr>\n    <tr>\n      <th>23275</th>\n      <td>NaN</td>\n      <td>NaN</td>\n      <td>None</td>\n    </tr>\n    <tr>\n      <th>23276</th>\n      <td>39.199038</td>\n      <td>-76.841517</td>\n      <td>USA</td>\n    </tr>\n  </tbody>\n</table>\n<p>23277 rows × 3 columns</p>\n</div>"
     },
     "execution_count": 7,
     "metadata": {},
     "output_type": "execute_result"
    }
   ],
   "source": [
    "df"
   ],
   "metadata": {
    "collapsed": false,
    "ExecuteTime": {
     "end_time": "2023-12-10T00:15:24.838702Z",
     "start_time": "2023-12-10T00:15:24.835274Z"
    }
   },
   "id": "8d3bcbdd55ddfc8c"
  },
  {
   "cell_type": "code",
   "execution_count": 8,
   "outputs": [],
   "source": [
    "df = df.dropna()"
   ],
   "metadata": {
    "collapsed": false,
    "ExecuteTime": {
     "end_time": "2023-12-10T00:15:27.334156Z",
     "start_time": "2023-12-10T00:15:27.329503Z"
    }
   },
   "id": "54089e724bf3e67f"
  },
  {
   "cell_type": "code",
   "execution_count": 10,
   "outputs": [],
   "source": [
    "df = df.loc[df['country_code'] == 'USA']"
   ],
   "metadata": {
    "collapsed": false,
    "ExecuteTime": {
     "end_time": "2023-12-10T00:16:05.562465Z",
     "start_time": "2023-12-10T00:16:05.557374Z"
    }
   },
   "id": "a3aa6bb04bbf34c6"
  },
  {
   "cell_type": "code",
   "execution_count": 11,
   "outputs": [
    {
     "data": {
      "text/plain": "        latitude   longitude country_code\n0      38.864458  -77.099638          USA\n1      33.769805  -84.414581          USA\n2      39.037110  -84.456707          USA\n3      42.702260  -75.248224          USA\n4      39.319732  -76.649533          USA\n...          ...         ...          ...\n23270  40.016412 -105.259703          USA\n23272  44.827321  -93.317043          USA\n23273  40.688873  -74.018213          USA\n23274  38.804840  -77.046920          USA\n23276  39.199038  -76.841517          USA\n\n[21742 rows x 3 columns]",
      "text/html": "<div>\n<style scoped>\n    .dataframe tbody tr th:only-of-type {\n        vertical-align: middle;\n    }\n\n    .dataframe tbody tr th {\n        vertical-align: top;\n    }\n\n    .dataframe thead th {\n        text-align: right;\n    }\n</style>\n<table border=\"1\" class=\"dataframe\">\n  <thead>\n    <tr style=\"text-align: right;\">\n      <th></th>\n      <th>latitude</th>\n      <th>longitude</th>\n      <th>country_code</th>\n    </tr>\n  </thead>\n  <tbody>\n    <tr>\n      <th>0</th>\n      <td>38.864458</td>\n      <td>-77.099638</td>\n      <td>USA</td>\n    </tr>\n    <tr>\n      <th>1</th>\n      <td>33.769805</td>\n      <td>-84.414581</td>\n      <td>USA</td>\n    </tr>\n    <tr>\n      <th>2</th>\n      <td>39.037110</td>\n      <td>-84.456707</td>\n      <td>USA</td>\n    </tr>\n    <tr>\n      <th>3</th>\n      <td>42.702260</td>\n      <td>-75.248224</td>\n      <td>USA</td>\n    </tr>\n    <tr>\n      <th>4</th>\n      <td>39.319732</td>\n      <td>-76.649533</td>\n      <td>USA</td>\n    </tr>\n    <tr>\n      <th>...</th>\n      <td>...</td>\n      <td>...</td>\n      <td>...</td>\n    </tr>\n    <tr>\n      <th>23270</th>\n      <td>40.016412</td>\n      <td>-105.259703</td>\n      <td>USA</td>\n    </tr>\n    <tr>\n      <th>23272</th>\n      <td>44.827321</td>\n      <td>-93.317043</td>\n      <td>USA</td>\n    </tr>\n    <tr>\n      <th>23273</th>\n      <td>40.688873</td>\n      <td>-74.018213</td>\n      <td>USA</td>\n    </tr>\n    <tr>\n      <th>23274</th>\n      <td>38.804840</td>\n      <td>-77.046920</td>\n      <td>USA</td>\n    </tr>\n    <tr>\n      <th>23276</th>\n      <td>39.199038</td>\n      <td>-76.841517</td>\n      <td>USA</td>\n    </tr>\n  </tbody>\n</table>\n<p>21742 rows × 3 columns</p>\n</div>"
     },
     "execution_count": 11,
     "metadata": {},
     "output_type": "execute_result"
    }
   ],
   "source": [
    "df"
   ],
   "metadata": {
    "collapsed": false,
    "ExecuteTime": {
     "end_time": "2023-12-10T00:16:06.968591Z",
     "start_time": "2023-12-10T00:16:06.925425Z"
    }
   },
   "id": "a04d715697627ff7"
  },
  {
   "cell_type": "code",
   "execution_count": null,
   "outputs": [],
   "source": [],
   "metadata": {
    "collapsed": false
   },
   "id": "b1367e2e645470f"
  }
 ],
 "metadata": {
  "kernelspec": {
   "display_name": "Python 3",
   "language": "python",
   "name": "python3"
  },
  "language_info": {
   "codemirror_mode": {
    "name": "ipython",
    "version": 2
   },
   "file_extension": ".py",
   "mimetype": "text/x-python",
   "name": "python",
   "nbconvert_exporter": "python",
   "pygments_lexer": "ipython2",
   "version": "2.7.6"
  }
 },
 "nbformat": 4,
 "nbformat_minor": 5
}
