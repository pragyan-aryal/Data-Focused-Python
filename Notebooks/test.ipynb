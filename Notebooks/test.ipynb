{
 "cells": [
  {
   "cell_type": "code",
   "execution_count": 1,
   "id": "initial_id",
   "metadata": {
    "collapsed": true,
    "ExecuteTime": {
     "end_time": "2023-12-09T23:14:27.623448Z",
     "start_time": "2023-12-09T23:14:27.287607Z"
    }
   },
   "outputs": [],
   "source": [
    "import pandas as pd"
   ]
  },
  {
   "cell_type": "code",
   "execution_count": 4,
   "outputs": [],
   "source": [
    "df = pd.read_parquet('../Data/Indeed/merged.parquet', columns=['latitude', 'longitude'])"
   ],
   "metadata": {
    "collapsed": false,
    "ExecuteTime": {
     "end_time": "2023-12-09T23:15:00.378241Z",
     "start_time": "2023-12-09T23:15:00.367788Z"
    }
   },
   "id": "d30ba101466f34e6"
  },
  {
   "cell_type": "code",
   "execution_count": 5,
   "outputs": [
    {
     "data": {
      "text/plain": "        latitude  longitude\n0      38.864458 -77.099638\n1      33.769805 -84.414581\n2      39.037110 -84.456707\n3      42.702260 -75.248224\n4      39.319732 -76.649533\n...          ...        ...\n25274  44.827321 -93.317043\n25275  40.688873 -74.018213\n25276  38.804840 -77.046920\n25277        NaN        NaN\n25278  39.199038 -76.841517\n\n[23277 rows x 2 columns]",
      "text/html": "<div>\n<style scoped>\n    .dataframe tbody tr th:only-of-type {\n        vertical-align: middle;\n    }\n\n    .dataframe tbody tr th {\n        vertical-align: top;\n    }\n\n    .dataframe thead th {\n        text-align: right;\n    }\n</style>\n<table border=\"1\" class=\"dataframe\">\n  <thead>\n    <tr style=\"text-align: right;\">\n      <th></th>\n      <th>latitude</th>\n      <th>longitude</th>\n    </tr>\n  </thead>\n  <tbody>\n    <tr>\n      <th>0</th>\n      <td>38.864458</td>\n      <td>-77.099638</td>\n    </tr>\n    <tr>\n      <th>1</th>\n      <td>33.769805</td>\n      <td>-84.414581</td>\n    </tr>\n    <tr>\n      <th>2</th>\n      <td>39.037110</td>\n      <td>-84.456707</td>\n    </tr>\n    <tr>\n      <th>3</th>\n      <td>42.702260</td>\n      <td>-75.248224</td>\n    </tr>\n    <tr>\n      <th>4</th>\n      <td>39.319732</td>\n      <td>-76.649533</td>\n    </tr>\n    <tr>\n      <th>...</th>\n      <td>...</td>\n      <td>...</td>\n    </tr>\n    <tr>\n      <th>25274</th>\n      <td>44.827321</td>\n      <td>-93.317043</td>\n    </tr>\n    <tr>\n      <th>25275</th>\n      <td>40.688873</td>\n      <td>-74.018213</td>\n    </tr>\n    <tr>\n      <th>25276</th>\n      <td>38.804840</td>\n      <td>-77.046920</td>\n    </tr>\n    <tr>\n      <th>25277</th>\n      <td>NaN</td>\n      <td>NaN</td>\n    </tr>\n    <tr>\n      <th>25278</th>\n      <td>39.199038</td>\n      <td>-76.841517</td>\n    </tr>\n  </tbody>\n</table>\n<p>23277 rows × 2 columns</p>\n</div>"
     },
     "execution_count": 5,
     "metadata": {},
     "output_type": "execute_result"
    }
   ],
   "source": [
    "df"
   ],
   "metadata": {
    "collapsed": false,
    "ExecuteTime": {
     "end_time": "2023-12-09T23:15:01.272434Z",
     "start_time": "2023-12-09T23:15:01.267217Z"
    }
   },
   "id": "8d3bcbdd55ddfc8c"
  },
  {
   "cell_type": "code",
   "execution_count": 7,
   "outputs": [
    {
     "data": {
      "text/plain": "latitude     1148\nlongitude    1148\ndtype: int64"
     },
     "execution_count": 7,
     "metadata": {},
     "output_type": "execute_result"
    }
   ],
   "source": [
    "df.isna().sum()"
   ],
   "metadata": {
    "collapsed": false,
    "ExecuteTime": {
     "end_time": "2023-12-09T23:37:32.871388Z",
     "start_time": "2023-12-09T23:37:32.867664Z"
    }
   },
   "id": "acd811b946c19a45"
  },
  {
   "cell_type": "code",
   "execution_count": 9,
   "outputs": [],
   "source": [
    "df = df.dropna()"
   ],
   "metadata": {
    "collapsed": false,
    "ExecuteTime": {
     "end_time": "2023-12-09T23:37:59.621140Z",
     "start_time": "2023-12-09T23:37:59.614878Z"
    }
   },
   "id": "54089e724bf3e67f"
  },
  {
   "cell_type": "code",
   "execution_count": null,
   "outputs": [],
   "source": [
    "df"
   ],
   "metadata": {
    "collapsed": false
   },
   "id": "a3aa6bb04bbf34c6"
  }
 ],
 "metadata": {
  "kernelspec": {
   "display_name": "Python 3",
   "language": "python",
   "name": "python3"
  },
  "language_info": {
   "codemirror_mode": {
    "name": "ipython",
    "version": 2
   },
   "file_extension": ".py",
   "mimetype": "text/x-python",
   "name": "python",
   "nbconvert_exporter": "python",
   "pygments_lexer": "ipython2",
   "version": "2.7.6"
  }
 },
 "nbformat": 4,
 "nbformat_minor": 5
}
