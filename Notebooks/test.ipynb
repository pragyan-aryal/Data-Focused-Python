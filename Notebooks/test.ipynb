{
 "cells": [
  {
   "cell_type": "code",
   "execution_count": 1,
   "id": "initial_id",
   "metadata": {
    "collapsed": true,
    "ExecuteTime": {
     "end_time": "2023-12-10T06:01:58.616360Z",
     "start_time": "2023-12-10T06:01:58.091752Z"
    }
   },
   "outputs": [],
   "source": [
    "import pandas as pd\n",
    "import altair as alt"
   ]
  },
  {
   "cell_type": "code",
   "execution_count": 2,
   "outputs": [],
   "source": [
    "df = pd.read_parquet('../Data/Indeed/Indeed_Data.parquet', columns=['latitude', 'longitude', 'country_code', 'region'])"
   ],
   "metadata": {
    "collapsed": false,
    "ExecuteTime": {
     "end_time": "2023-12-10T06:02:10.900547Z",
     "start_time": "2023-12-10T06:02:10.873720Z"
    }
   },
   "id": "d30ba101466f34e6"
  },
  {
   "cell_type": "code",
   "execution_count": 3,
   "outputs": [
    {
     "data": {
      "text/plain": "        latitude  longitude country_code     region\n0      38.864458 -77.099638          USA   Virginia\n1      33.769805 -84.414581          USA    Georgia\n2      39.037110 -84.456707          USA   Kentucky\n3      42.702260 -75.248224          USA   New York\n4      39.319732 -76.649533          USA   Maryland\n...          ...        ...          ...        ...\n23272  44.827321 -93.317043          USA  Minnesota\n23273  40.688873 -74.018213          USA   New York\n23274  38.804840 -77.046920          USA   Virginia\n23275        NaN        NaN         None       None\n23276  39.199038 -76.841517          USA   Maryland\n\n[23277 rows x 4 columns]",
      "text/html": "<div>\n<style scoped>\n    .dataframe tbody tr th:only-of-type {\n        vertical-align: middle;\n    }\n\n    .dataframe tbody tr th {\n        vertical-align: top;\n    }\n\n    .dataframe thead th {\n        text-align: right;\n    }\n</style>\n<table border=\"1\" class=\"dataframe\">\n  <thead>\n    <tr style=\"text-align: right;\">\n      <th></th>\n      <th>latitude</th>\n      <th>longitude</th>\n      <th>country_code</th>\n      <th>region</th>\n    </tr>\n  </thead>\n  <tbody>\n    <tr>\n      <th>0</th>\n      <td>38.864458</td>\n      <td>-77.099638</td>\n      <td>USA</td>\n      <td>Virginia</td>\n    </tr>\n    <tr>\n      <th>1</th>\n      <td>33.769805</td>\n      <td>-84.414581</td>\n      <td>USA</td>\n      <td>Georgia</td>\n    </tr>\n    <tr>\n      <th>2</th>\n      <td>39.037110</td>\n      <td>-84.456707</td>\n      <td>USA</td>\n      <td>Kentucky</td>\n    </tr>\n    <tr>\n      <th>3</th>\n      <td>42.702260</td>\n      <td>-75.248224</td>\n      <td>USA</td>\n      <td>New York</td>\n    </tr>\n    <tr>\n      <th>4</th>\n      <td>39.319732</td>\n      <td>-76.649533</td>\n      <td>USA</td>\n      <td>Maryland</td>\n    </tr>\n    <tr>\n      <th>...</th>\n      <td>...</td>\n      <td>...</td>\n      <td>...</td>\n      <td>...</td>\n    </tr>\n    <tr>\n      <th>23272</th>\n      <td>44.827321</td>\n      <td>-93.317043</td>\n      <td>USA</td>\n      <td>Minnesota</td>\n    </tr>\n    <tr>\n      <th>23273</th>\n      <td>40.688873</td>\n      <td>-74.018213</td>\n      <td>USA</td>\n      <td>New York</td>\n    </tr>\n    <tr>\n      <th>23274</th>\n      <td>38.804840</td>\n      <td>-77.046920</td>\n      <td>USA</td>\n      <td>Virginia</td>\n    </tr>\n    <tr>\n      <th>23275</th>\n      <td>NaN</td>\n      <td>NaN</td>\n      <td>None</td>\n      <td>None</td>\n    </tr>\n    <tr>\n      <th>23276</th>\n      <td>39.199038</td>\n      <td>-76.841517</td>\n      <td>USA</td>\n      <td>Maryland</td>\n    </tr>\n  </tbody>\n</table>\n<p>23277 rows × 4 columns</p>\n</div>"
     },
     "execution_count": 3,
     "metadata": {},
     "output_type": "execute_result"
    }
   ],
   "source": [
    "df"
   ],
   "metadata": {
    "collapsed": false,
    "ExecuteTime": {
     "end_time": "2023-12-10T06:02:11.504740Z",
     "start_time": "2023-12-10T06:02:11.499759Z"
    }
   },
   "id": "8d3bcbdd55ddfc8c"
  },
  {
   "cell_type": "code",
   "execution_count": 4,
   "outputs": [],
   "source": [
    "df = df.dropna()"
   ],
   "metadata": {
    "collapsed": false,
    "ExecuteTime": {
     "end_time": "2023-12-10T06:02:13.000707Z",
     "start_time": "2023-12-10T06:02:12.996504Z"
    }
   },
   "id": "54089e724bf3e67f"
  },
  {
   "cell_type": "code",
   "execution_count": 5,
   "outputs": [],
   "source": [
    "df = df.loc[df['country_code'] == 'USA']"
   ],
   "metadata": {
    "collapsed": false,
    "ExecuteTime": {
     "end_time": "2023-12-10T06:02:13.438770Z",
     "start_time": "2023-12-10T06:02:13.432844Z"
    }
   },
   "id": "a3aa6bb04bbf34c6"
  },
  {
   "cell_type": "code",
   "execution_count": 6,
   "outputs": [
    {
     "data": {
      "text/plain": "        latitude   longitude country_code     region\n0      38.864458  -77.099638          USA   Virginia\n1      33.769805  -84.414581          USA    Georgia\n2      39.037110  -84.456707          USA   Kentucky\n3      42.702260  -75.248224          USA   New York\n4      39.319732  -76.649533          USA   Maryland\n...          ...         ...          ...        ...\n23270  40.016412 -105.259703          USA   Colorado\n23272  44.827321  -93.317043          USA  Minnesota\n23273  40.688873  -74.018213          USA   New York\n23274  38.804840  -77.046920          USA   Virginia\n23276  39.199038  -76.841517          USA   Maryland\n\n[21742 rows x 4 columns]",
      "text/html": "<div>\n<style scoped>\n    .dataframe tbody tr th:only-of-type {\n        vertical-align: middle;\n    }\n\n    .dataframe tbody tr th {\n        vertical-align: top;\n    }\n\n    .dataframe thead th {\n        text-align: right;\n    }\n</style>\n<table border=\"1\" class=\"dataframe\">\n  <thead>\n    <tr style=\"text-align: right;\">\n      <th></th>\n      <th>latitude</th>\n      <th>longitude</th>\n      <th>country_code</th>\n      <th>region</th>\n    </tr>\n  </thead>\n  <tbody>\n    <tr>\n      <th>0</th>\n      <td>38.864458</td>\n      <td>-77.099638</td>\n      <td>USA</td>\n      <td>Virginia</td>\n    </tr>\n    <tr>\n      <th>1</th>\n      <td>33.769805</td>\n      <td>-84.414581</td>\n      <td>USA</td>\n      <td>Georgia</td>\n    </tr>\n    <tr>\n      <th>2</th>\n      <td>39.037110</td>\n      <td>-84.456707</td>\n      <td>USA</td>\n      <td>Kentucky</td>\n    </tr>\n    <tr>\n      <th>3</th>\n      <td>42.702260</td>\n      <td>-75.248224</td>\n      <td>USA</td>\n      <td>New York</td>\n    </tr>\n    <tr>\n      <th>4</th>\n      <td>39.319732</td>\n      <td>-76.649533</td>\n      <td>USA</td>\n      <td>Maryland</td>\n    </tr>\n    <tr>\n      <th>...</th>\n      <td>...</td>\n      <td>...</td>\n      <td>...</td>\n      <td>...</td>\n    </tr>\n    <tr>\n      <th>23270</th>\n      <td>40.016412</td>\n      <td>-105.259703</td>\n      <td>USA</td>\n      <td>Colorado</td>\n    </tr>\n    <tr>\n      <th>23272</th>\n      <td>44.827321</td>\n      <td>-93.317043</td>\n      <td>USA</td>\n      <td>Minnesota</td>\n    </tr>\n    <tr>\n      <th>23273</th>\n      <td>40.688873</td>\n      <td>-74.018213</td>\n      <td>USA</td>\n      <td>New York</td>\n    </tr>\n    <tr>\n      <th>23274</th>\n      <td>38.804840</td>\n      <td>-77.046920</td>\n      <td>USA</td>\n      <td>Virginia</td>\n    </tr>\n    <tr>\n      <th>23276</th>\n      <td>39.199038</td>\n      <td>-76.841517</td>\n      <td>USA</td>\n      <td>Maryland</td>\n    </tr>\n  </tbody>\n</table>\n<p>21742 rows × 4 columns</p>\n</div>"
     },
     "execution_count": 6,
     "metadata": {},
     "output_type": "execute_result"
    }
   ],
   "source": [
    "df"
   ],
   "metadata": {
    "collapsed": false,
    "ExecuteTime": {
     "end_time": "2023-12-10T06:02:14.389907Z",
     "start_time": "2023-12-10T06:02:14.383021Z"
    }
   },
   "id": "a04d715697627ff7"
  },
  {
   "cell_type": "code",
   "execution_count": 11,
   "outputs": [],
   "source": [
    "df['id'] = [i for i in range(len(df))]"
   ],
   "metadata": {
    "collapsed": false,
    "ExecuteTime": {
     "end_time": "2023-12-10T06:05:14.036732Z",
     "start_time": "2023-12-10T06:05:14.032036Z"
    }
   },
   "id": "1dd823ed15636296"
  },
  {
   "cell_type": "code",
   "execution_count": 14,
   "outputs": [
    {
     "ename": "AttributeError",
     "evalue": "'Chart' object has no attribute 'disable_max_rows'",
     "output_type": "error",
     "traceback": [
      "\u001B[0;31m---------------------------------------------------------------------------\u001B[0m",
      "\u001B[0;31mAttributeError\u001B[0m                            Traceback (most recent call last)",
      "Cell \u001B[0;32mIn[14], line 3\u001B[0m\n\u001B[1;32m      1\u001B[0m \u001B[43malt\u001B[49m\u001B[38;5;241;43m.\u001B[39;49m\u001B[43mChart\u001B[49m\u001B[43m(\u001B[49m\u001B[43mdf\u001B[49m\u001B[43m)\u001B[49m\u001B[38;5;241;43m.\u001B[39;49m\u001B[43mmark_geoshape\u001B[49m\u001B[43m(\u001B[49m\u001B[43m)\u001B[49m\u001B[38;5;241;43m.\u001B[39;49m\u001B[43mencode\u001B[49m\u001B[43m(\u001B[49m\n\u001B[1;32m      2\u001B[0m \u001B[43m    \u001B[49m\u001B[43mcolor\u001B[49m\u001B[38;5;241;43m=\u001B[39;49m\u001B[38;5;124;43m'\u001B[39;49m\u001B[38;5;124;43mregion:Q\u001B[39;49m\u001B[38;5;124;43m'\u001B[39;49m\n\u001B[0;32m----> 3\u001B[0m \u001B[43m)\u001B[49m\u001B[38;5;241;43m.\u001B[39;49m\u001B[43mdisable_max_rows\u001B[49m()\u001B[38;5;241m.\u001B[39mtransform_lookup(\n\u001B[1;32m      4\u001B[0m     lookup\u001B[38;5;241m=\u001B[39m\u001B[38;5;124m'\u001B[39m\u001B[38;5;124mid\u001B[39m\u001B[38;5;124m'\u001B[39m,\n\u001B[1;32m      5\u001B[0m     from_\u001B[38;5;241m=\u001B[39malt\u001B[38;5;241m.\u001B[39mLookupData(df, \u001B[38;5;124m'\u001B[39m\u001B[38;5;124mid\u001B[39m\u001B[38;5;124m'\u001B[39m, \u001B[38;5;28mlist\u001B[39m(df\u001B[38;5;241m.\u001B[39mcolumns))\n\u001B[1;32m      6\u001B[0m )\u001B[38;5;241m.\u001B[39mproperties(\n\u001B[1;32m      7\u001B[0m     width\u001B[38;5;241m=\u001B[39m\u001B[38;5;241m500\u001B[39m,\n\u001B[1;32m      8\u001B[0m     height\u001B[38;5;241m=\u001B[39m\u001B[38;5;241m300\u001B[39m\n\u001B[1;32m      9\u001B[0m )\u001B[38;5;241m.\u001B[39mproject(\n\u001B[1;32m     10\u001B[0m     \u001B[38;5;28mtype\u001B[39m\u001B[38;5;241m=\u001B[39m\u001B[38;5;124m'\u001B[39m\u001B[38;5;124malbersUsa\u001B[39m\u001B[38;5;124m'\u001B[39m\n\u001B[1;32m     11\u001B[0m )\n",
      "File \u001B[0;32m~/.pyenv/versions/3.11.2/lib/python3.11/site-packages/altair/utils/schemapi.py:258\u001B[0m, in \u001B[0;36mSchemaBase.__getattr__\u001B[0;34m(self, attr)\u001B[0m\n\u001B[1;32m    256\u001B[0m \u001B[38;5;28;01mexcept\u001B[39;00m \u001B[38;5;167;01mAttributeError\u001B[39;00m:\n\u001B[1;32m    257\u001B[0m     _getattr \u001B[38;5;241m=\u001B[39m \u001B[38;5;28msuper\u001B[39m(SchemaBase, \u001B[38;5;28mself\u001B[39m)\u001B[38;5;241m.\u001B[39m\u001B[38;5;21m__getattribute__\u001B[39m\n\u001B[0;32m--> 258\u001B[0m \u001B[38;5;28;01mreturn\u001B[39;00m \u001B[43m_getattr\u001B[49m\u001B[43m(\u001B[49m\u001B[43mattr\u001B[49m\u001B[43m)\u001B[49m\n",
      "\u001B[0;31mAttributeError\u001B[0m: 'Chart' object has no attribute 'disable_max_rows'"
     ]
    }
   ],
   "source": [
    "alt.Chart(df).mark_geoshape().encode(\n",
    "    color='region:Q'\n",
    ").transform_lookup(\n",
    "    lookup='id',\n",
    "    from_=alt.LookupData(df, 'id', list(df.columns))\n",
    ").properties(\n",
    "    width=500,\n",
    "    height=300\n",
    ").project(\n",
    "    type='albersUsa'\n",
    ")"
   ],
   "metadata": {
    "collapsed": false,
    "ExecuteTime": {
     "end_time": "2023-12-10T06:06:11.489362Z",
     "start_time": "2023-12-10T06:06:11.478254Z"
    }
   },
   "id": "b1367e2e645470f"
  },
  {
   "cell_type": "code",
   "execution_count": null,
   "outputs": [],
   "source": [],
   "metadata": {
    "collapsed": false
   },
   "id": "af3716f66f01d81"
  }
 ],
 "metadata": {
  "kernelspec": {
   "display_name": "Python 3",
   "language": "python",
   "name": "python3"
  },
  "language_info": {
   "codemirror_mode": {
    "name": "ipython",
    "version": 2
   },
   "file_extension": ".py",
   "mimetype": "text/x-python",
   "name": "python",
   "nbconvert_exporter": "python",
   "pygments_lexer": "ipython2",
   "version": "2.7.6"
  }
 },
 "nbformat": 4,
 "nbformat_minor": 5
}
