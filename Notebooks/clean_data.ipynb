{
 "cells": [
  {
   "cell_type": "code",
   "execution_count": 2,
   "id": "initial_id",
   "metadata": {
    "collapsed": true,
    "ExecuteTime": {
     "end_time": "2023-12-01T02:41:05.515732Z",
     "start_time": "2023-12-01T02:41:05.512227Z"
    }
   },
   "outputs": [],
   "source": [
    "import pandas as pd"
   ]
  },
  {
   "cell_type": "code",
   "execution_count": 3,
   "outputs": [],
   "source": [
    "output_file_name = 'SE.tsv'"
   ],
   "metadata": {
    "collapsed": false,
    "ExecuteTime": {
     "end_time": "2023-12-01T02:41:06.672606Z",
     "start_time": "2023-12-01T02:41:06.669726Z"
    }
   },
   "id": "9cab91f2dcdfedbe"
  },
  {
   "cell_type": "markdown",
   "source": [
    "Read File"
   ],
   "metadata": {
    "collapsed": false
   },
   "id": "42c40d6b671e8cfa"
  },
  {
   "cell_type": "code",
   "execution_count": 4,
   "outputs": [],
   "source": [
    "entry_level = pd.read_csv('../Data/Raw/SE_ENTRY_LEVEL.tsv', sep='\\t')"
   ],
   "metadata": {
    "collapsed": false,
    "ExecuteTime": {
     "end_time": "2023-12-01T02:41:18.032017Z",
     "start_time": "2023-12-01T02:41:18.020987Z"
    }
   },
   "id": "449f36c50deb2bdb"
  },
  {
   "cell_type": "code",
   "execution_count": 5,
   "outputs": [],
   "source": [
    "mid_level = pd.read_csv('../Data/Raw/SE_MID_LEVEL.tsv', sep='\\t')"
   ],
   "metadata": {
    "collapsed": false,
    "ExecuteTime": {
     "end_time": "2023-12-01T02:41:22.829456Z",
     "start_time": "2023-12-01T02:41:22.789863Z"
    }
   },
   "id": "32264ed939ca79ba"
  },
  {
   "cell_type": "code",
   "execution_count": 6,
   "outputs": [],
   "source": [
    "senior_level = pd.read_csv('../Data/Raw/SE_SENIOR_LEVEL.tsv', sep='\\t')"
   ],
   "metadata": {
    "collapsed": false,
    "ExecuteTime": {
     "end_time": "2023-12-01T02:41:29.363334Z",
     "start_time": "2023-12-01T02:41:29.347602Z"
    }
   },
   "id": "b5d1e628492d3fbf"
  },
  {
   "cell_type": "markdown",
   "source": [
    "Get Columns"
   ],
   "metadata": {
    "collapsed": false
   },
   "id": "a163a0a6cb4d6ab1"
  },
  {
   "cell_type": "code",
   "execution_count": 7,
   "outputs": [],
   "source": [
    "re_1 = entry_level.columns"
   ],
   "metadata": {
    "collapsed": false,
    "ExecuteTime": {
     "end_time": "2023-12-01T02:41:30.853071Z",
     "start_time": "2023-12-01T02:41:30.845605Z"
    }
   },
   "id": "af363bd6cc16dfe1"
  },
  {
   "cell_type": "code",
   "execution_count": 8,
   "outputs": [],
   "source": [
    "rm_1 = mid_level.columns"
   ],
   "metadata": {
    "collapsed": false,
    "ExecuteTime": {
     "end_time": "2023-12-01T02:41:31.180763Z",
     "start_time": "2023-12-01T02:41:31.174425Z"
    }
   },
   "id": "2b09f48bcc2b914a"
  },
  {
   "cell_type": "code",
   "execution_count": 9,
   "outputs": [],
   "source": [
    "rs_1 = senior_level.columns"
   ],
   "metadata": {
    "collapsed": false,
    "ExecuteTime": {
     "end_time": "2023-12-01T02:41:31.487558Z",
     "start_time": "2023-12-01T02:41:31.482123Z"
    }
   },
   "id": "8e2636ae7a707838"
  },
  {
   "cell_type": "markdown",
   "source": [
    "Change Columns"
   ],
   "metadata": {
    "collapsed": false
   },
   "id": "587ff9be60790772"
  },
  {
   "cell_type": "code",
   "execution_count": 10,
   "outputs": [],
   "source": [
    "columns = ['Key', 'Company', 'Position', 'Location', 'Category', 'Experience_Level', 'Salary']"
   ],
   "metadata": {
    "collapsed": false,
    "ExecuteTime": {
     "end_time": "2023-12-01T02:41:33.569637Z",
     "start_time": "2023-12-01T02:41:33.561044Z"
    }
   },
   "id": "f3102d24d0a43000"
  },
  {
   "cell_type": "code",
   "execution_count": 11,
   "outputs": [],
   "source": [
    "entry_level.columns = columns"
   ],
   "metadata": {
    "collapsed": false,
    "ExecuteTime": {
     "end_time": "2023-12-01T02:41:33.891758Z",
     "start_time": "2023-12-01T02:41:33.881662Z"
    }
   },
   "id": "895f02027655642c"
  },
  {
   "cell_type": "code",
   "execution_count": 12,
   "outputs": [],
   "source": [
    "mid_level.columns = columns"
   ],
   "metadata": {
    "collapsed": false,
    "ExecuteTime": {
     "end_time": "2023-12-01T02:41:34.160743Z",
     "start_time": "2023-12-01T02:41:34.150906Z"
    }
   },
   "id": "58be6d71800a98d0"
  },
  {
   "cell_type": "code",
   "execution_count": 13,
   "outputs": [],
   "source": [
    "senior_level.columns = columns"
   ],
   "metadata": {
    "collapsed": false,
    "ExecuteTime": {
     "end_time": "2023-12-01T02:41:34.524146Z",
     "start_time": "2023-12-01T02:41:34.515213Z"
    }
   },
   "id": "b9578559875dca13"
  },
  {
   "cell_type": "markdown",
   "source": [
    "Add Data Before (Columns)"
   ],
   "metadata": {
    "collapsed": false
   },
   "id": "efbd6bcbd47cdfe8"
  },
  {
   "cell_type": "code",
   "execution_count": 14,
   "outputs": [],
   "source": [
    "entry_level.loc[-1] = re_1\n",
    "entry_level.index = entry_level.index + 1\n",
    "entry_level.sort_index(inplace=True)"
   ],
   "metadata": {
    "collapsed": false,
    "ExecuteTime": {
     "end_time": "2023-12-01T02:41:49.327930Z",
     "start_time": "2023-12-01T02:41:49.318685Z"
    }
   },
   "id": "24e786a38e46289b"
  },
  {
   "cell_type": "code",
   "execution_count": 15,
   "outputs": [],
   "source": [
    "mid_level.loc[-1] = rm_1\n",
    "mid_level.index = mid_level.index + 1\n",
    "mid_level.sort_index(inplace=True)"
   ],
   "metadata": {
    "collapsed": false,
    "ExecuteTime": {
     "end_time": "2023-12-01T02:41:49.716643Z",
     "start_time": "2023-12-01T02:41:49.706217Z"
    }
   },
   "id": "626d5b7108cd5187"
  },
  {
   "cell_type": "code",
   "execution_count": 21,
   "outputs": [],
   "source": [
    "mid_level['Category'] = 'SE'"
   ],
   "metadata": {
    "collapsed": false,
    "ExecuteTime": {
     "end_time": "2023-12-01T02:42:40.049556Z",
     "start_time": "2023-12-01T02:42:40.037892Z"
    }
   },
   "id": "c48e2f3066d913e9"
  },
  {
   "cell_type": "code",
   "execution_count": 16,
   "outputs": [],
   "source": [
    "senior_level.loc[-1] = rs_1\n",
    "senior_level.index = senior_level.index + 1\n",
    "senior_level.sort_index(inplace=True)"
   ],
   "metadata": {
    "collapsed": false,
    "ExecuteTime": {
     "end_time": "2023-12-01T02:41:50.334967Z",
     "start_time": "2023-12-01T02:41:50.321762Z"
    }
   },
   "id": "979f43c6f845eb6e"
  },
  {
   "cell_type": "code",
   "execution_count": 23,
   "outputs": [],
   "source": [
    "frame =  [entry_level, mid_level, senior_level]"
   ],
   "metadata": {
    "collapsed": false,
    "ExecuteTime": {
     "end_time": "2023-12-01T02:43:00.376326Z",
     "start_time": "2023-12-01T02:43:00.363892Z"
    }
   },
   "id": "1ffb02a3cfd30d44"
  },
  {
   "cell_type": "code",
   "execution_count": 24,
   "outputs": [],
   "source": [
    "df = pd.concat(frame, ignore_index=True)"
   ],
   "metadata": {
    "collapsed": false,
    "ExecuteTime": {
     "end_time": "2023-12-01T02:43:01.051516Z",
     "start_time": "2023-12-01T02:43:01.041386Z"
    }
   },
   "id": "af26a96a982c0109"
  },
  {
   "cell_type": "code",
   "execution_count": 26,
   "outputs": [],
   "source": [
    "df = df.drop_duplicates('Key')"
   ],
   "metadata": {
    "collapsed": false,
    "ExecuteTime": {
     "end_time": "2023-12-01T02:43:13.441781Z",
     "start_time": "2023-12-01T02:43:13.430516Z"
    }
   },
   "id": "843d14944209a3e8"
  },
  {
   "cell_type": "code",
   "execution_count": 27,
   "outputs": [
    {
     "data": {
      "text/plain": "                    Key                                Company  \\\n0      75944c680d865fb1                          T. Rowe Price   \n1      20a93e0e218adf2f                  Reynolds and Reynolds   \n2      9c239bd1bfc9cbcc                      HumanIT Solutions   \n3      5f43c759f96783a5                       Muncy Industries   \n4      a9c6f510fb30250a                       Muncy Industries   \n...                 ...                                    ...   \n32906  072bf35ffdd8645d  General Dynamics Mission Systems, Inc   \n32907  789179d9fd5c1d65  Metropolitan Transportation Authority   \n32908  f9785443a3551b34           MPIRE Technology Group, Inc.   \n32909  5f15c9ca93989af6               Talentech Consulting LLC   \n32910  ea2bf756466c7fb6                          The DEI Group   \n\n                                          Position  \\\n0                      Associate Software Engineer   \n1                        Entry Level Web Developer   \n2                             Full Stack Developer   \n3                                Software Engineer   \n4                                Software Engineer   \n...                                            ...   \n32906                     Senior Software Engineer   \n32907  Application Developer 1-5 (TCU Represented)   \n32908                        Senior Cloud Engineer   \n32909                       Statistical Programmer   \n32910              Sr. Software Engineer/Architect   \n\n                                           Location Category Experience_Level  \\\n0                                  Owings Mills, MD       SE      ENTRY_LEVEL   \n1                                  Dayton, OH 45430       SE      ENTRY_LEVEL   \n2                             Beavercreek, OH 45434       SE      ENTRY_LEVEL   \n3                             Turbotville, PA 17772       SE      ENTRY_LEVEL   \n4             Houston, TX 77042 (Briar Forest area)       SE      ENTRY_LEVEL   \n...                                             ...      ...              ...   \n32906        Hybrid remote in Bloomington, MN 55431       SE     SENIOR_LEVEL   \n32907  New York, NY 10004 (Financial District area)       SE     SENIOR_LEVEL   \n32908         Hybrid remote in Alexandria, VA 22314       SE     SENIOR_LEVEL   \n32909                                        Remote       SE     SENIOR_LEVEL   \n32910                            Columbia, MD 21045       SE     SENIOR_LEVEL   \n\n                                 Salary  \n0                                    NA  \n1                                   NaN  \n2                                   NaN  \n3              $60,101 - $75,086 a year  \n4              $55,000 - $70,000 a year  \n...                                 ...  \n32906        $146,048 - $162,000 a year  \n32907          $57,100 - $81,572 a year  \n32908  $117,161.90 - $141,098.20 a year  \n32909                               NaN  \n32910        $100,000 - $130,000 a year  \n\n[3097 rows x 7 columns]",
      "text/html": "<div>\n<style scoped>\n    .dataframe tbody tr th:only-of-type {\n        vertical-align: middle;\n    }\n\n    .dataframe tbody tr th {\n        vertical-align: top;\n    }\n\n    .dataframe thead th {\n        text-align: right;\n    }\n</style>\n<table border=\"1\" class=\"dataframe\">\n  <thead>\n    <tr style=\"text-align: right;\">\n      <th></th>\n      <th>Key</th>\n      <th>Company</th>\n      <th>Position</th>\n      <th>Location</th>\n      <th>Category</th>\n      <th>Experience_Level</th>\n      <th>Salary</th>\n    </tr>\n  </thead>\n  <tbody>\n    <tr>\n      <th>0</th>\n      <td>75944c680d865fb1</td>\n      <td>T. Rowe Price</td>\n      <td>Associate Software Engineer</td>\n      <td>Owings Mills, MD</td>\n      <td>SE</td>\n      <td>ENTRY_LEVEL</td>\n      <td>NA</td>\n    </tr>\n    <tr>\n      <th>1</th>\n      <td>20a93e0e218adf2f</td>\n      <td>Reynolds and Reynolds</td>\n      <td>Entry Level Web Developer</td>\n      <td>Dayton, OH 45430</td>\n      <td>SE</td>\n      <td>ENTRY_LEVEL</td>\n      <td>NaN</td>\n    </tr>\n    <tr>\n      <th>2</th>\n      <td>9c239bd1bfc9cbcc</td>\n      <td>HumanIT Solutions</td>\n      <td>Full Stack Developer</td>\n      <td>Beavercreek, OH 45434</td>\n      <td>SE</td>\n      <td>ENTRY_LEVEL</td>\n      <td>NaN</td>\n    </tr>\n    <tr>\n      <th>3</th>\n      <td>5f43c759f96783a5</td>\n      <td>Muncy Industries</td>\n      <td>Software Engineer</td>\n      <td>Turbotville, PA 17772</td>\n      <td>SE</td>\n      <td>ENTRY_LEVEL</td>\n      <td>$60,101 - $75,086 a year</td>\n    </tr>\n    <tr>\n      <th>4</th>\n      <td>a9c6f510fb30250a</td>\n      <td>Muncy Industries</td>\n      <td>Software Engineer</td>\n      <td>Houston, TX 77042 (Briar Forest area)</td>\n      <td>SE</td>\n      <td>ENTRY_LEVEL</td>\n      <td>$55,000 - $70,000 a year</td>\n    </tr>\n    <tr>\n      <th>...</th>\n      <td>...</td>\n      <td>...</td>\n      <td>...</td>\n      <td>...</td>\n      <td>...</td>\n      <td>...</td>\n      <td>...</td>\n    </tr>\n    <tr>\n      <th>32906</th>\n      <td>072bf35ffdd8645d</td>\n      <td>General Dynamics Mission Systems, Inc</td>\n      <td>Senior Software Engineer</td>\n      <td>Hybrid remote in Bloomington, MN 55431</td>\n      <td>SE</td>\n      <td>SENIOR_LEVEL</td>\n      <td>$146,048 - $162,000 a year</td>\n    </tr>\n    <tr>\n      <th>32907</th>\n      <td>789179d9fd5c1d65</td>\n      <td>Metropolitan Transportation Authority</td>\n      <td>Application Developer 1-5 (TCU Represented)</td>\n      <td>New York, NY 10004 (Financial District area)</td>\n      <td>SE</td>\n      <td>SENIOR_LEVEL</td>\n      <td>$57,100 - $81,572 a year</td>\n    </tr>\n    <tr>\n      <th>32908</th>\n      <td>f9785443a3551b34</td>\n      <td>MPIRE Technology Group, Inc.</td>\n      <td>Senior Cloud Engineer</td>\n      <td>Hybrid remote in Alexandria, VA 22314</td>\n      <td>SE</td>\n      <td>SENIOR_LEVEL</td>\n      <td>$117,161.90 - $141,098.20 a year</td>\n    </tr>\n    <tr>\n      <th>32909</th>\n      <td>5f15c9ca93989af6</td>\n      <td>Talentech Consulting LLC</td>\n      <td>Statistical Programmer</td>\n      <td>Remote</td>\n      <td>SE</td>\n      <td>SENIOR_LEVEL</td>\n      <td>NaN</td>\n    </tr>\n    <tr>\n      <th>32910</th>\n      <td>ea2bf756466c7fb6</td>\n      <td>The DEI Group</td>\n      <td>Sr. Software Engineer/Architect</td>\n      <td>Columbia, MD 21045</td>\n      <td>SE</td>\n      <td>SENIOR_LEVEL</td>\n      <td>$100,000 - $130,000 a year</td>\n    </tr>\n  </tbody>\n</table>\n<p>3097 rows × 7 columns</p>\n</div>"
     },
     "execution_count": 27,
     "metadata": {},
     "output_type": "execute_result"
    }
   ],
   "source": [
    "df"
   ],
   "metadata": {
    "collapsed": false,
    "ExecuteTime": {
     "end_time": "2023-12-01T02:43:15.518597Z",
     "start_time": "2023-12-01T02:43:15.510410Z"
    }
   },
   "id": "ff9662a4276fd474"
  },
  {
   "cell_type": "markdown",
   "source": [
    "Save dataframe"
   ],
   "metadata": {
    "collapsed": false
   },
   "id": "a03a519e74c68c66"
  },
  {
   "cell_type": "code",
   "execution_count": 28,
   "outputs": [],
   "source": [
    "df.to_csv('../Data/Clean/' + output_file_name, sep='\\t', index=False)"
   ],
   "metadata": {
    "collapsed": false,
    "ExecuteTime": {
     "end_time": "2023-12-01T02:43:26.901453Z",
     "start_time": "2023-12-01T02:43:26.883810Z"
    }
   },
   "id": "3859d6bdcd9bf605"
  },
  {
   "cell_type": "markdown",
   "source": [
    "Verify"
   ],
   "metadata": {
    "collapsed": false
   },
   "id": "dd26ef94043fd4a9"
  },
  {
   "cell_type": "code",
   "execution_count": 29,
   "outputs": [],
   "source": [
    "se = pd.read_csv('../Data/Clean/' + output_file_name, sep='\\t')"
   ],
   "metadata": {
    "collapsed": false,
    "ExecuteTime": {
     "end_time": "2023-12-01T02:43:43.317365Z",
     "start_time": "2023-12-01T02:43:43.308806Z"
    }
   },
   "id": "cde6ea3dc697e6b6"
  },
  {
   "cell_type": "code",
   "execution_count": 30,
   "outputs": [
    {
     "data": {
      "text/plain": "                   Key                                Company  \\\n0     75944c680d865fb1                          T. Rowe Price   \n1     20a93e0e218adf2f                  Reynolds and Reynolds   \n2     9c239bd1bfc9cbcc                      HumanIT Solutions   \n3     5f43c759f96783a5                       Muncy Industries   \n4     a9c6f510fb30250a                       Muncy Industries   \n...                ...                                    ...   \n3092  072bf35ffdd8645d  General Dynamics Mission Systems, Inc   \n3093  789179d9fd5c1d65  Metropolitan Transportation Authority   \n3094  f9785443a3551b34           MPIRE Technology Group, Inc.   \n3095  5f15c9ca93989af6               Talentech Consulting LLC   \n3096  ea2bf756466c7fb6                          The DEI Group   \n\n                                         Position  \\\n0                     Associate Software Engineer   \n1                       Entry Level Web Developer   \n2                            Full Stack Developer   \n3                               Software Engineer   \n4                               Software Engineer   \n...                                           ...   \n3092                     Senior Software Engineer   \n3093  Application Developer 1-5 (TCU Represented)   \n3094                        Senior Cloud Engineer   \n3095                       Statistical Programmer   \n3096              Sr. Software Engineer/Architect   \n\n                                          Location Category Experience_Level  \\\n0                                 Owings Mills, MD       SE      ENTRY_LEVEL   \n1                                 Dayton, OH 45430       SE      ENTRY_LEVEL   \n2                            Beavercreek, OH 45434       SE      ENTRY_LEVEL   \n3                            Turbotville, PA 17772       SE      ENTRY_LEVEL   \n4            Houston, TX 77042 (Briar Forest area)       SE      ENTRY_LEVEL   \n...                                            ...      ...              ...   \n3092        Hybrid remote in Bloomington, MN 55431       SE     SENIOR_LEVEL   \n3093  New York, NY 10004 (Financial District area)       SE     SENIOR_LEVEL   \n3094         Hybrid remote in Alexandria, VA 22314       SE     SENIOR_LEVEL   \n3095                                        Remote       SE     SENIOR_LEVEL   \n3096                            Columbia, MD 21045       SE     SENIOR_LEVEL   \n\n                                Salary  \n0                                  NaN  \n1                                  NaN  \n2                                  NaN  \n3             $60,101 - $75,086 a year  \n4             $55,000 - $70,000 a year  \n...                                ...  \n3092        $146,048 - $162,000 a year  \n3093          $57,100 - $81,572 a year  \n3094  $117,161.90 - $141,098.20 a year  \n3095                               NaN  \n3096        $100,000 - $130,000 a year  \n\n[3097 rows x 7 columns]",
      "text/html": "<div>\n<style scoped>\n    .dataframe tbody tr th:only-of-type {\n        vertical-align: middle;\n    }\n\n    .dataframe tbody tr th {\n        vertical-align: top;\n    }\n\n    .dataframe thead th {\n        text-align: right;\n    }\n</style>\n<table border=\"1\" class=\"dataframe\">\n  <thead>\n    <tr style=\"text-align: right;\">\n      <th></th>\n      <th>Key</th>\n      <th>Company</th>\n      <th>Position</th>\n      <th>Location</th>\n      <th>Category</th>\n      <th>Experience_Level</th>\n      <th>Salary</th>\n    </tr>\n  </thead>\n  <tbody>\n    <tr>\n      <th>0</th>\n      <td>75944c680d865fb1</td>\n      <td>T. Rowe Price</td>\n      <td>Associate Software Engineer</td>\n      <td>Owings Mills, MD</td>\n      <td>SE</td>\n      <td>ENTRY_LEVEL</td>\n      <td>NaN</td>\n    </tr>\n    <tr>\n      <th>1</th>\n      <td>20a93e0e218adf2f</td>\n      <td>Reynolds and Reynolds</td>\n      <td>Entry Level Web Developer</td>\n      <td>Dayton, OH 45430</td>\n      <td>SE</td>\n      <td>ENTRY_LEVEL</td>\n      <td>NaN</td>\n    </tr>\n    <tr>\n      <th>2</th>\n      <td>9c239bd1bfc9cbcc</td>\n      <td>HumanIT Solutions</td>\n      <td>Full Stack Developer</td>\n      <td>Beavercreek, OH 45434</td>\n      <td>SE</td>\n      <td>ENTRY_LEVEL</td>\n      <td>NaN</td>\n    </tr>\n    <tr>\n      <th>3</th>\n      <td>5f43c759f96783a5</td>\n      <td>Muncy Industries</td>\n      <td>Software Engineer</td>\n      <td>Turbotville, PA 17772</td>\n      <td>SE</td>\n      <td>ENTRY_LEVEL</td>\n      <td>$60,101 - $75,086 a year</td>\n    </tr>\n    <tr>\n      <th>4</th>\n      <td>a9c6f510fb30250a</td>\n      <td>Muncy Industries</td>\n      <td>Software Engineer</td>\n      <td>Houston, TX 77042 (Briar Forest area)</td>\n      <td>SE</td>\n      <td>ENTRY_LEVEL</td>\n      <td>$55,000 - $70,000 a year</td>\n    </tr>\n    <tr>\n      <th>...</th>\n      <td>...</td>\n      <td>...</td>\n      <td>...</td>\n      <td>...</td>\n      <td>...</td>\n      <td>...</td>\n      <td>...</td>\n    </tr>\n    <tr>\n      <th>3092</th>\n      <td>072bf35ffdd8645d</td>\n      <td>General Dynamics Mission Systems, Inc</td>\n      <td>Senior Software Engineer</td>\n      <td>Hybrid remote in Bloomington, MN 55431</td>\n      <td>SE</td>\n      <td>SENIOR_LEVEL</td>\n      <td>$146,048 - $162,000 a year</td>\n    </tr>\n    <tr>\n      <th>3093</th>\n      <td>789179d9fd5c1d65</td>\n      <td>Metropolitan Transportation Authority</td>\n      <td>Application Developer 1-5 (TCU Represented)</td>\n      <td>New York, NY 10004 (Financial District area)</td>\n      <td>SE</td>\n      <td>SENIOR_LEVEL</td>\n      <td>$57,100 - $81,572 a year</td>\n    </tr>\n    <tr>\n      <th>3094</th>\n      <td>f9785443a3551b34</td>\n      <td>MPIRE Technology Group, Inc.</td>\n      <td>Senior Cloud Engineer</td>\n      <td>Hybrid remote in Alexandria, VA 22314</td>\n      <td>SE</td>\n      <td>SENIOR_LEVEL</td>\n      <td>$117,161.90 - $141,098.20 a year</td>\n    </tr>\n    <tr>\n      <th>3095</th>\n      <td>5f15c9ca93989af6</td>\n      <td>Talentech Consulting LLC</td>\n      <td>Statistical Programmer</td>\n      <td>Remote</td>\n      <td>SE</td>\n      <td>SENIOR_LEVEL</td>\n      <td>NaN</td>\n    </tr>\n    <tr>\n      <th>3096</th>\n      <td>ea2bf756466c7fb6</td>\n      <td>The DEI Group</td>\n      <td>Sr. Software Engineer/Architect</td>\n      <td>Columbia, MD 21045</td>\n      <td>SE</td>\n      <td>SENIOR_LEVEL</td>\n      <td>$100,000 - $130,000 a year</td>\n    </tr>\n  </tbody>\n</table>\n<p>3097 rows × 7 columns</p>\n</div>"
     },
     "execution_count": 30,
     "metadata": {},
     "output_type": "execute_result"
    }
   ],
   "source": [
    "se"
   ],
   "metadata": {
    "collapsed": false,
    "ExecuteTime": {
     "end_time": "2023-12-01T02:43:45.774006Z",
     "start_time": "2023-12-01T02:43:45.768789Z"
    }
   },
   "id": "3a0d561a205db5d7"
  },
  {
   "cell_type": "code",
   "execution_count": null,
   "outputs": [],
   "source": [],
   "metadata": {
    "collapsed": false
   },
   "id": "a4bf6fd17b29154e"
  }
 ],
 "metadata": {
  "kernelspec": {
   "display_name": "Python 3",
   "language": "python",
   "name": "python3"
  },
  "language_info": {
   "codemirror_mode": {
    "name": "ipython",
    "version": 2
   },
   "file_extension": ".py",
   "mimetype": "text/x-python",
   "name": "python",
   "nbconvert_exporter": "python",
   "pygments_lexer": "ipython2",
   "version": "2.7.6"
  }
 },
 "nbformat": 4,
 "nbformat_minor": 5
}
