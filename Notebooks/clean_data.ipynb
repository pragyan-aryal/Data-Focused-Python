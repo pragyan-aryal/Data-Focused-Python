{
 "cells": [
  {
   "cell_type": "code",
   "execution_count": null,
   "id": "initial_id",
   "metadata": {
    "collapsed": true
   },
   "outputs": [],
   "source": [
    "import pandas as pd"
   ]
  },
  {
   "cell_type": "code",
   "execution_count": null,
   "outputs": [],
   "source": [
    "output_file_name = 'SE.tsv'"
   ],
   "metadata": {
    "collapsed": false
   },
   "id": "9cab91f2dcdfedbe"
  },
  {
   "cell_type": "markdown",
   "source": [
    "Read File"
   ],
   "metadata": {
    "collapsed": false
   },
   "id": "42c40d6b671e8cfa"
  },
  {
   "cell_type": "code",
   "execution_count": null,
   "outputs": [],
   "source": [
    "entry_level = pd.read_csv('../Data/Raw/SE_ENTRY_LEVEL.tsv', sep='\\t')"
   ],
   "metadata": {
    "collapsed": false
   },
   "id": "449f36c50deb2bdb"
  },
  {
   "cell_type": "code",
   "execution_count": null,
   "outputs": [],
   "source": [
    "mid_level = pd.read_csv('../Data/Raw/SE_MID_LEVEL.tsv', sep='\\t')"
   ],
   "metadata": {
    "collapsed": false
   },
   "id": "32264ed939ca79ba"
  },
  {
   "cell_type": "code",
   "execution_count": null,
   "outputs": [],
   "source": [
    "senior_level = pd.read_csv('../Data/Raw/SE_SENIOR_LEVEL.tsv', sep='\\t')"
   ],
   "metadata": {
    "collapsed": false
   },
   "id": "b5d1e628492d3fbf"
  },
  {
   "cell_type": "markdown",
   "source": [
    "Get Columns"
   ],
   "metadata": {
    "collapsed": false
   },
   "id": "a163a0a6cb4d6ab1"
  },
  {
   "cell_type": "code",
   "execution_count": null,
   "outputs": [],
   "source": [
    "re_1 = entry_level.columns"
   ],
   "metadata": {
    "collapsed": false
   },
   "id": "af363bd6cc16dfe1"
  },
  {
   "cell_type": "code",
   "execution_count": null,
   "outputs": [],
   "source": [
    "rm_1 = mid_level.columns"
   ],
   "metadata": {
    "collapsed": false
   },
   "id": "2b09f48bcc2b914a"
  },
  {
   "cell_type": "code",
   "execution_count": null,
   "outputs": [],
   "source": [
    "rs_1 = senior_level.columns"
   ],
   "metadata": {
    "collapsed": false
   },
   "id": "8e2636ae7a707838"
  },
  {
   "cell_type": "markdown",
   "source": [
    "Change Columns"
   ],
   "metadata": {
    "collapsed": false
   },
   "id": "587ff9be60790772"
  },
  {
   "cell_type": "code",
   "execution_count": null,
   "outputs": [],
   "source": [
    "columns = ['Key', 'Company', 'Position', 'Location', 'Category', 'Experience_Level', 'Salary']"
   ],
   "metadata": {
    "collapsed": false
   },
   "id": "f3102d24d0a43000"
  },
  {
   "cell_type": "code",
   "execution_count": null,
   "outputs": [],
   "source": [
    "entry_level.columns = columns"
   ],
   "metadata": {
    "collapsed": false
   },
   "id": "895f02027655642c"
  },
  {
   "cell_type": "code",
   "execution_count": null,
   "outputs": [],
   "source": [
    "mid_level.columns = columns"
   ],
   "metadata": {
    "collapsed": false
   },
   "id": "58be6d71800a98d0"
  },
  {
   "cell_type": "code",
   "execution_count": null,
   "outputs": [],
   "source": [
    "senior_level.columns = columns"
   ],
   "metadata": {
    "collapsed": false
   },
   "id": "b9578559875dca13"
  },
  {
   "cell_type": "markdown",
   "source": [
    "Add Data Before (Columns)"
   ],
   "metadata": {
    "collapsed": false
   },
   "id": "efbd6bcbd47cdfe8"
  },
  {
   "cell_type": "code",
   "execution_count": null,
   "outputs": [],
   "source": [
    "entry_level.loc[-1] = re_1\n",
    "entry_level.index = entry_level.index + 1\n",
    "entry_level.sort_index(inplace=True)"
   ],
   "metadata": {
    "collapsed": false
   },
   "id": "24e786a38e46289b"
  },
  {
   "cell_type": "code",
   "execution_count": null,
   "outputs": [],
   "source": [
    "mid_level.loc[-1] = rm_1\n",
    "mid_level.index = mid_level.index + 1\n",
    "mid_level.sort_index(inplace=True)"
   ],
   "metadata": {
    "collapsed": false
   },
   "id": "626d5b7108cd5187"
  },
  {
   "cell_type": "code",
   "execution_count": null,
   "outputs": [],
   "source": [
    "mid_level['Category'] = 'SE'"
   ],
   "metadata": {
    "collapsed": false
   },
   "id": "c48e2f3066d913e9"
  },
  {
   "cell_type": "code",
   "execution_count": null,
   "outputs": [],
   "source": [
    "senior_level.loc[-1] = rs_1\n",
    "senior_level.index = senior_level.index + 1\n",
    "senior_level.sort_index(inplace=True)"
   ],
   "metadata": {
    "collapsed": false
   },
   "id": "979f43c6f845eb6e"
  },
  {
   "cell_type": "code",
   "execution_count": null,
   "outputs": [],
   "source": [
    "frame =  [entry_level, mid_level, senior_level]"
   ],
   "metadata": {
    "collapsed": false
   },
   "id": "1ffb02a3cfd30d44"
  },
  {
   "cell_type": "code",
   "execution_count": null,
   "outputs": [],
   "source": [
    "df = pd.concat(frame, ignore_index=True)"
   ],
   "metadata": {
    "collapsed": false
   },
   "id": "af26a96a982c0109"
  },
  {
   "cell_type": "code",
   "execution_count": null,
   "outputs": [],
   "source": [
    "df = df.drop_duplicates('Key')"
   ],
   "metadata": {
    "collapsed": false
   },
   "id": "843d14944209a3e8"
  },
  {
   "cell_type": "code",
   "execution_count": null,
   "outputs": [],
   "source": [
    "df"
   ],
   "metadata": {
    "collapsed": false
   },
   "id": "ff9662a4276fd474"
  },
  {
   "cell_type": "markdown",
   "source": [
    "Save dataframe"
   ],
   "metadata": {
    "collapsed": false
   },
   "id": "a03a519e74c68c66"
  },
  {
   "cell_type": "code",
   "execution_count": null,
   "outputs": [],
   "source": [
    "df.to_csv('../Data/Clean/' + output_file_name, sep='\\t', index=False)"
   ],
   "metadata": {
    "collapsed": false
   },
   "id": "3859d6bdcd9bf605"
  },
  {
   "cell_type": "markdown",
   "source": [
    "Verify"
   ],
   "metadata": {
    "collapsed": false
   },
   "id": "dd26ef94043fd4a9"
  },
  {
   "cell_type": "code",
   "execution_count": null,
   "outputs": [],
   "source": [
    "se = pd.read_csv('../Data/Clean/' + output_file_name, sep='\\t')"
   ],
   "metadata": {
    "collapsed": false
   },
   "id": "cde6ea3dc697e6b6"
  },
  {
   "cell_type": "code",
   "execution_count": null,
   "outputs": [],
   "source": [
    "se"
   ],
   "metadata": {
    "collapsed": false
   },
   "id": "3a0d561a205db5d7"
  },
  {
   "cell_type": "code",
   "execution_count": null,
   "outputs": [],
   "source": [],
   "metadata": {
    "collapsed": false
   },
   "id": "a4bf6fd17b29154e"
  }
 ],
 "metadata": {
  "kernelspec": {
   "display_name": "Python 3",
   "language": "python",
   "name": "python3"
  },
  "language_info": {
   "codemirror_mode": {
    "name": "ipython",
    "version": 2
   },
   "file_extension": ".py",
   "mimetype": "text/x-python",
   "name": "python",
   "nbconvert_exporter": "python",
   "pygments_lexer": "ipython2",
   "version": "2.7.6"
  }
 },
 "nbformat": 4,
 "nbformat_minor": 5
}
