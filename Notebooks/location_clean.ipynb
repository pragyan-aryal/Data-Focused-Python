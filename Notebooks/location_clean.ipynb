{
 "cells": [
  {
   "cell_type": "code",
   "execution_count": 1,
   "id": "initial_id",
   "metadata": {
    "collapsed": true,
    "ExecuteTime": {
     "end_time": "2023-12-05T00:28:21.259126Z",
     "start_time": "2023-12-05T00:28:21.251128Z"
    }
   },
   "outputs": [],
   "source": [
    "import re"
   ]
  },
  {
   "cell_type": "code",
   "execution_count": 2,
   "outputs": [],
   "source": [
    "import pandas as pd"
   ],
   "metadata": {
    "collapsed": false,
    "ExecuteTime": {
     "end_time": "2023-12-05T00:28:22.765974Z",
     "start_time": "2023-12-05T00:28:22.089903Z"
    }
   },
   "id": "66c0dd7a07477022"
  },
  {
   "cell_type": "code",
   "execution_count": 3,
   "outputs": [],
   "source": [
    "df = pd.read_parquet('../Data/Indeed/indeed_merged.parquet')"
   ],
   "metadata": {
    "collapsed": false,
    "ExecuteTime": {
     "end_time": "2023-12-05T00:28:24.242182Z",
     "start_time": "2023-12-05T00:28:23.986611Z"
    }
   },
   "id": "f2336f420b6bbc16"
  },
  {
   "cell_type": "code",
   "execution_count": 4,
   "outputs": [
    {
     "data": {
      "text/plain": "                    Key                                Company  \\\n0      a9832db271ef3fc4  US Office of the Secretary of Defense   \n1      7f4db33d08d5c611                    Booz Allen Hamilton   \n2      0636da957769d80b                      PRYSMIANGROUP.COM   \n3      f2d5e432940c9f42                                   NYCM   \n4      ec9509f4c611785a               Johns Hopkins University   \n...                 ...                                    ...   \n25274  072bf35ffdd8645d  General Dynamics Mission Systems, Inc   \n25275  789179d9fd5c1d65  Metropolitan Transportation Authority   \n25276  f9785443a3551b34           MPIRE Technology Group, Inc.   \n25277  5f15c9ca93989af6               Talentech Consulting LLC   \n25278  ea2bf756466c7fb6                          The DEI Group   \n\n                                          Position  \\\n0                      Operations Research Analyst   \n1                         IT Business Analyst, Mid   \n2           SAP Intercompany Business Analyst (FT)   \n3                   Business Data Analyst (Hybrid)   \n4                    Investment Operations Analyst   \n...                                            ...   \n25274                     Senior Software Engineer   \n25275  Application Developer 1-5 (TCU Represented)   \n25276                        Senior Cloud Engineer   \n25277                       Statistical Programmer   \n25278              Sr. Software Engineer/Architect   \n\n                                           Location Category Experience_Level  \\\n0                                     Arlington, VA       BA      ENTRY_LEVEL   \n1                      Hybrid remote in Atlanta, GA       BA      ENTRY_LEVEL   \n2                              Highland Heights, KY       BA      ENTRY_LEVEL   \n3                                Edmeston, NY 13335       BA      ENTRY_LEVEL   \n4              Hybrid remote in Baltimore, MD 21211       BA      ENTRY_LEVEL   \n...                                             ...      ...              ...   \n25274        Hybrid remote in Bloomington, MN 55431       SE     SENIOR_LEVEL   \n25275  New York, NY 10004 (Financial District area)       SE     SENIOR_LEVEL   \n25276         Hybrid remote in Alexandria, VA 22314       SE     SENIOR_LEVEL   \n25277                                        Remote       SE     SENIOR_LEVEL   \n25278                            Columbia, MD 21045       SE     SENIOR_LEVEL   \n\n                                 Salary  \\\n0            $155,700 - $183,500 a year   \n1             $52,100 - $119,000 a year   \n2                                  None   \n3              $35,057 - $63,103 a year   \n4             $84,700 - $148,300 a year   \n...                                 ...   \n25274        $146,048 - $162,000 a year   \n25275          $57,100 - $81,572 a year   \n25276  $117,161.90 - $141,098.20 a year   \n25277                              None   \n25278        $100,000 - $130,000 a year   \n\n                                             Description  \\\n0      DutiesThis is a Direct Hire Public Notice, und...   \n1      Job Description         Location:             ...   \n2        Prysmian is a global cable manufacturer with...   \n3      The Business Data Analyst (Hybrid) will perfor...   \n4      The Johns Hopkins University, one of the world...   \n...                                                  ...   \n25274   Basic Qualifications :     Requires a Bachelo...   \n25275  Description Job Title: Application Developer A...   \n25276  MPIRE Technology Group, Inc is seeking several...   \n25277  We are looking for two experienced statistical...   \n25278  Senior Software Engineer works as part of an a...   \n\n                                                Benefits  \n0                                                     []  \n1      ['401(k)', '401(k) matching', 'Flexible schedu...  \n2                                                     []  \n3                                                     []  \n4                                                     []  \n...                                                  ...  \n25274  ['401(k)', '401(k) matching', 'Flexible schedu...  \n25275                                                 []  \n25276  ['Dental insurance', 'Employee assistance prog...  \n25277  ['401(k)', 'Dental insurance', 'Flexible spend...  \n25278                                                 []  \n\n[23277 rows x 9 columns]",
      "text/html": "<div>\n<style scoped>\n    .dataframe tbody tr th:only-of-type {\n        vertical-align: middle;\n    }\n\n    .dataframe tbody tr th {\n        vertical-align: top;\n    }\n\n    .dataframe thead th {\n        text-align: right;\n    }\n</style>\n<table border=\"1\" class=\"dataframe\">\n  <thead>\n    <tr style=\"text-align: right;\">\n      <th></th>\n      <th>Key</th>\n      <th>Company</th>\n      <th>Position</th>\n      <th>Location</th>\n      <th>Category</th>\n      <th>Experience_Level</th>\n      <th>Salary</th>\n      <th>Description</th>\n      <th>Benefits</th>\n    </tr>\n  </thead>\n  <tbody>\n    <tr>\n      <th>0</th>\n      <td>a9832db271ef3fc4</td>\n      <td>US Office of the Secretary of Defense</td>\n      <td>Operations Research Analyst</td>\n      <td>Arlington, VA</td>\n      <td>BA</td>\n      <td>ENTRY_LEVEL</td>\n      <td>$155,700 - $183,500 a year</td>\n      <td>DutiesThis is a Direct Hire Public Notice, und...</td>\n      <td>[]</td>\n    </tr>\n    <tr>\n      <th>1</th>\n      <td>7f4db33d08d5c611</td>\n      <td>Booz Allen Hamilton</td>\n      <td>IT Business Analyst, Mid</td>\n      <td>Hybrid remote in Atlanta, GA</td>\n      <td>BA</td>\n      <td>ENTRY_LEVEL</td>\n      <td>$52,100 - $119,000 a year</td>\n      <td>Job Description         Location:             ...</td>\n      <td>['401(k)', '401(k) matching', 'Flexible schedu...</td>\n    </tr>\n    <tr>\n      <th>2</th>\n      <td>0636da957769d80b</td>\n      <td>PRYSMIANGROUP.COM</td>\n      <td>SAP Intercompany Business Analyst (FT)</td>\n      <td>Highland Heights, KY</td>\n      <td>BA</td>\n      <td>ENTRY_LEVEL</td>\n      <td>None</td>\n      <td>Prysmian is a global cable manufacturer with...</td>\n      <td>[]</td>\n    </tr>\n    <tr>\n      <th>3</th>\n      <td>f2d5e432940c9f42</td>\n      <td>NYCM</td>\n      <td>Business Data Analyst (Hybrid)</td>\n      <td>Edmeston, NY 13335</td>\n      <td>BA</td>\n      <td>ENTRY_LEVEL</td>\n      <td>$35,057 - $63,103 a year</td>\n      <td>The Business Data Analyst (Hybrid) will perfor...</td>\n      <td>[]</td>\n    </tr>\n    <tr>\n      <th>4</th>\n      <td>ec9509f4c611785a</td>\n      <td>Johns Hopkins University</td>\n      <td>Investment Operations Analyst</td>\n      <td>Hybrid remote in Baltimore, MD 21211</td>\n      <td>BA</td>\n      <td>ENTRY_LEVEL</td>\n      <td>$84,700 - $148,300 a year</td>\n      <td>The Johns Hopkins University, one of the world...</td>\n      <td>[]</td>\n    </tr>\n    <tr>\n      <th>...</th>\n      <td>...</td>\n      <td>...</td>\n      <td>...</td>\n      <td>...</td>\n      <td>...</td>\n      <td>...</td>\n      <td>...</td>\n      <td>...</td>\n      <td>...</td>\n    </tr>\n    <tr>\n      <th>25274</th>\n      <td>072bf35ffdd8645d</td>\n      <td>General Dynamics Mission Systems, Inc</td>\n      <td>Senior Software Engineer</td>\n      <td>Hybrid remote in Bloomington, MN 55431</td>\n      <td>SE</td>\n      <td>SENIOR_LEVEL</td>\n      <td>$146,048 - $162,000 a year</td>\n      <td>Basic Qualifications :     Requires a Bachelo...</td>\n      <td>['401(k)', '401(k) matching', 'Flexible schedu...</td>\n    </tr>\n    <tr>\n      <th>25275</th>\n      <td>789179d9fd5c1d65</td>\n      <td>Metropolitan Transportation Authority</td>\n      <td>Application Developer 1-5 (TCU Represented)</td>\n      <td>New York, NY 10004 (Financial District area)</td>\n      <td>SE</td>\n      <td>SENIOR_LEVEL</td>\n      <td>$57,100 - $81,572 a year</td>\n      <td>Description Job Title: Application Developer A...</td>\n      <td>[]</td>\n    </tr>\n    <tr>\n      <th>25276</th>\n      <td>f9785443a3551b34</td>\n      <td>MPIRE Technology Group, Inc.</td>\n      <td>Senior Cloud Engineer</td>\n      <td>Hybrid remote in Alexandria, VA 22314</td>\n      <td>SE</td>\n      <td>SENIOR_LEVEL</td>\n      <td>$117,161.90 - $141,098.20 a year</td>\n      <td>MPIRE Technology Group, Inc is seeking several...</td>\n      <td>['Dental insurance', 'Employee assistance prog...</td>\n    </tr>\n    <tr>\n      <th>25277</th>\n      <td>5f15c9ca93989af6</td>\n      <td>Talentech Consulting LLC</td>\n      <td>Statistical Programmer</td>\n      <td>Remote</td>\n      <td>SE</td>\n      <td>SENIOR_LEVEL</td>\n      <td>None</td>\n      <td>We are looking for two experienced statistical...</td>\n      <td>['401(k)', 'Dental insurance', 'Flexible spend...</td>\n    </tr>\n    <tr>\n      <th>25278</th>\n      <td>ea2bf756466c7fb6</td>\n      <td>The DEI Group</td>\n      <td>Sr. Software Engineer/Architect</td>\n      <td>Columbia, MD 21045</td>\n      <td>SE</td>\n      <td>SENIOR_LEVEL</td>\n      <td>$100,000 - $130,000 a year</td>\n      <td>Senior Software Engineer works as part of an a...</td>\n      <td>[]</td>\n    </tr>\n  </tbody>\n</table>\n<p>23277 rows × 9 columns</p>\n</div>"
     },
     "execution_count": 4,
     "metadata": {},
     "output_type": "execute_result"
    }
   ],
   "source": [
    "df"
   ],
   "metadata": {
    "collapsed": false,
    "ExecuteTime": {
     "end_time": "2023-12-05T00:28:30.907456Z",
     "start_time": "2023-12-05T00:28:30.888597Z"
    }
   },
   "id": "6663d63d00746ff3"
  },
  {
   "cell_type": "code",
   "execution_count": 5,
   "outputs": [],
   "source": [
    "pat_1 = r\"^Remote .*$\"\n",
    "pat_2 = r\"^Hybrid remote in.*$\"\n",
    "\n",
    "loc = [line[10:] if re.search(pat_1, line) is not None else line[17:] if re.search(pat_2, line) is not None else line for line in df['Location']]"
   ],
   "metadata": {
    "collapsed": false,
    "ExecuteTime": {
     "end_time": "2023-12-05T00:28:34.092817Z",
     "start_time": "2023-12-05T00:28:34.091180Z"
    }
   },
   "id": "69b52bf4ce40d93f"
  },
  {
   "cell_type": "code",
   "execution_count": 6,
   "outputs": [],
   "source": [
    "df['Clean_location'] = [l.replace(\"\\xa0\", \" \") for l in loc]"
   ],
   "metadata": {
    "collapsed": false,
    "ExecuteTime": {
     "end_time": "2023-12-05T00:28:36.254328Z",
     "start_time": "2023-12-05T00:28:36.244004Z"
    }
   },
   "id": "750e94c53be8a1ae"
  },
  {
   "cell_type": "code",
   "execution_count": 7,
   "outputs": [
    {
     "data": {
      "text/plain": "                    Key                                Company  \\\n0      a9832db271ef3fc4  US Office of the Secretary of Defense   \n1      7f4db33d08d5c611                    Booz Allen Hamilton   \n2      0636da957769d80b                      PRYSMIANGROUP.COM   \n3      f2d5e432940c9f42                                   NYCM   \n4      ec9509f4c611785a               Johns Hopkins University   \n...                 ...                                    ...   \n25274  072bf35ffdd8645d  General Dynamics Mission Systems, Inc   \n25275  789179d9fd5c1d65  Metropolitan Transportation Authority   \n25276  f9785443a3551b34           MPIRE Technology Group, Inc.   \n25277  5f15c9ca93989af6               Talentech Consulting LLC   \n25278  ea2bf756466c7fb6                          The DEI Group   \n\n                                          Position  \\\n0                      Operations Research Analyst   \n1                         IT Business Analyst, Mid   \n2           SAP Intercompany Business Analyst (FT)   \n3                   Business Data Analyst (Hybrid)   \n4                    Investment Operations Analyst   \n...                                            ...   \n25274                     Senior Software Engineer   \n25275  Application Developer 1-5 (TCU Represented)   \n25276                        Senior Cloud Engineer   \n25277                       Statistical Programmer   \n25278              Sr. Software Engineer/Architect   \n\n                                           Location Category Experience_Level  \\\n0                                     Arlington, VA       BA      ENTRY_LEVEL   \n1                      Hybrid remote in Atlanta, GA       BA      ENTRY_LEVEL   \n2                              Highland Heights, KY       BA      ENTRY_LEVEL   \n3                                Edmeston, NY 13335       BA      ENTRY_LEVEL   \n4              Hybrid remote in Baltimore, MD 21211       BA      ENTRY_LEVEL   \n...                                             ...      ...              ...   \n25274        Hybrid remote in Bloomington, MN 55431       SE     SENIOR_LEVEL   \n25275  New York, NY 10004 (Financial District area)       SE     SENIOR_LEVEL   \n25276         Hybrid remote in Alexandria, VA 22314       SE     SENIOR_LEVEL   \n25277                                        Remote       SE     SENIOR_LEVEL   \n25278                            Columbia, MD 21045       SE     SENIOR_LEVEL   \n\n                                 Salary  \\\n0            $155,700 - $183,500 a year   \n1             $52,100 - $119,000 a year   \n2                                  None   \n3              $35,057 - $63,103 a year   \n4             $84,700 - $148,300 a year   \n...                                 ...   \n25274        $146,048 - $162,000 a year   \n25275          $57,100 - $81,572 a year   \n25276  $117,161.90 - $141,098.20 a year   \n25277                              None   \n25278        $100,000 - $130,000 a year   \n\n                                             Description  \\\n0      DutiesThis is a Direct Hire Public Notice, und...   \n1      Job Description         Location:             ...   \n2        Prysmian is a global cable manufacturer with...   \n3      The Business Data Analyst (Hybrid) will perfor...   \n4      The Johns Hopkins University, one of the world...   \n...                                                  ...   \n25274   Basic Qualifications :     Requires a Bachelo...   \n25275  Description Job Title: Application Developer A...   \n25276  MPIRE Technology Group, Inc is seeking several...   \n25277  We are looking for two experienced statistical...   \n25278  Senior Software Engineer works as part of an a...   \n\n                                                Benefits  \\\n0                                                     []   \n1      ['401(k)', '401(k) matching', 'Flexible schedu...   \n2                                                     []   \n3                                                     []   \n4                                                     []   \n...                                                  ...   \n25274  ['401(k)', '401(k) matching', 'Flexible schedu...   \n25275                                                 []   \n25276  ['Dental insurance', 'Employee assistance prog...   \n25277  ['401(k)', 'Dental insurance', 'Flexible spend...   \n25278                                                 []   \n\n                                     Clean_location  \n0                                     Arlington, VA  \n1                                       Atlanta, GA  \n2                              Highland Heights, KY  \n3                                Edmeston, NY 13335  \n4                               Baltimore, MD 21211  \n...                                             ...  \n25274                         Bloomington, MN 55431  \n25275  New York, NY 10004 (Financial District area)  \n25276                          Alexandria, VA 22314  \n25277                                        Remote  \n25278                            Columbia, MD 21045  \n\n[23277 rows x 10 columns]",
      "text/html": "<div>\n<style scoped>\n    .dataframe tbody tr th:only-of-type {\n        vertical-align: middle;\n    }\n\n    .dataframe tbody tr th {\n        vertical-align: top;\n    }\n\n    .dataframe thead th {\n        text-align: right;\n    }\n</style>\n<table border=\"1\" class=\"dataframe\">\n  <thead>\n    <tr style=\"text-align: right;\">\n      <th></th>\n      <th>Key</th>\n      <th>Company</th>\n      <th>Position</th>\n      <th>Location</th>\n      <th>Category</th>\n      <th>Experience_Level</th>\n      <th>Salary</th>\n      <th>Description</th>\n      <th>Benefits</th>\n      <th>Clean_location</th>\n    </tr>\n  </thead>\n  <tbody>\n    <tr>\n      <th>0</th>\n      <td>a9832db271ef3fc4</td>\n      <td>US Office of the Secretary of Defense</td>\n      <td>Operations Research Analyst</td>\n      <td>Arlington, VA</td>\n      <td>BA</td>\n      <td>ENTRY_LEVEL</td>\n      <td>$155,700 - $183,500 a year</td>\n      <td>DutiesThis is a Direct Hire Public Notice, und...</td>\n      <td>[]</td>\n      <td>Arlington, VA</td>\n    </tr>\n    <tr>\n      <th>1</th>\n      <td>7f4db33d08d5c611</td>\n      <td>Booz Allen Hamilton</td>\n      <td>IT Business Analyst, Mid</td>\n      <td>Hybrid remote in Atlanta, GA</td>\n      <td>BA</td>\n      <td>ENTRY_LEVEL</td>\n      <td>$52,100 - $119,000 a year</td>\n      <td>Job Description         Location:             ...</td>\n      <td>['401(k)', '401(k) matching', 'Flexible schedu...</td>\n      <td>Atlanta, GA</td>\n    </tr>\n    <tr>\n      <th>2</th>\n      <td>0636da957769d80b</td>\n      <td>PRYSMIANGROUP.COM</td>\n      <td>SAP Intercompany Business Analyst (FT)</td>\n      <td>Highland Heights, KY</td>\n      <td>BA</td>\n      <td>ENTRY_LEVEL</td>\n      <td>None</td>\n      <td>Prysmian is a global cable manufacturer with...</td>\n      <td>[]</td>\n      <td>Highland Heights, KY</td>\n    </tr>\n    <tr>\n      <th>3</th>\n      <td>f2d5e432940c9f42</td>\n      <td>NYCM</td>\n      <td>Business Data Analyst (Hybrid)</td>\n      <td>Edmeston, NY 13335</td>\n      <td>BA</td>\n      <td>ENTRY_LEVEL</td>\n      <td>$35,057 - $63,103 a year</td>\n      <td>The Business Data Analyst (Hybrid) will perfor...</td>\n      <td>[]</td>\n      <td>Edmeston, NY 13335</td>\n    </tr>\n    <tr>\n      <th>4</th>\n      <td>ec9509f4c611785a</td>\n      <td>Johns Hopkins University</td>\n      <td>Investment Operations Analyst</td>\n      <td>Hybrid remote in Baltimore, MD 21211</td>\n      <td>BA</td>\n      <td>ENTRY_LEVEL</td>\n      <td>$84,700 - $148,300 a year</td>\n      <td>The Johns Hopkins University, one of the world...</td>\n      <td>[]</td>\n      <td>Baltimore, MD 21211</td>\n    </tr>\n    <tr>\n      <th>...</th>\n      <td>...</td>\n      <td>...</td>\n      <td>...</td>\n      <td>...</td>\n      <td>...</td>\n      <td>...</td>\n      <td>...</td>\n      <td>...</td>\n      <td>...</td>\n      <td>...</td>\n    </tr>\n    <tr>\n      <th>25274</th>\n      <td>072bf35ffdd8645d</td>\n      <td>General Dynamics Mission Systems, Inc</td>\n      <td>Senior Software Engineer</td>\n      <td>Hybrid remote in Bloomington, MN 55431</td>\n      <td>SE</td>\n      <td>SENIOR_LEVEL</td>\n      <td>$146,048 - $162,000 a year</td>\n      <td>Basic Qualifications :     Requires a Bachelo...</td>\n      <td>['401(k)', '401(k) matching', 'Flexible schedu...</td>\n      <td>Bloomington, MN 55431</td>\n    </tr>\n    <tr>\n      <th>25275</th>\n      <td>789179d9fd5c1d65</td>\n      <td>Metropolitan Transportation Authority</td>\n      <td>Application Developer 1-5 (TCU Represented)</td>\n      <td>New York, NY 10004 (Financial District area)</td>\n      <td>SE</td>\n      <td>SENIOR_LEVEL</td>\n      <td>$57,100 - $81,572 a year</td>\n      <td>Description Job Title: Application Developer A...</td>\n      <td>[]</td>\n      <td>New York, NY 10004 (Financial District area)</td>\n    </tr>\n    <tr>\n      <th>25276</th>\n      <td>f9785443a3551b34</td>\n      <td>MPIRE Technology Group, Inc.</td>\n      <td>Senior Cloud Engineer</td>\n      <td>Hybrid remote in Alexandria, VA 22314</td>\n      <td>SE</td>\n      <td>SENIOR_LEVEL</td>\n      <td>$117,161.90 - $141,098.20 a year</td>\n      <td>MPIRE Technology Group, Inc is seeking several...</td>\n      <td>['Dental insurance', 'Employee assistance prog...</td>\n      <td>Alexandria, VA 22314</td>\n    </tr>\n    <tr>\n      <th>25277</th>\n      <td>5f15c9ca93989af6</td>\n      <td>Talentech Consulting LLC</td>\n      <td>Statistical Programmer</td>\n      <td>Remote</td>\n      <td>SE</td>\n      <td>SENIOR_LEVEL</td>\n      <td>None</td>\n      <td>We are looking for two experienced statistical...</td>\n      <td>['401(k)', 'Dental insurance', 'Flexible spend...</td>\n      <td>Remote</td>\n    </tr>\n    <tr>\n      <th>25278</th>\n      <td>ea2bf756466c7fb6</td>\n      <td>The DEI Group</td>\n      <td>Sr. Software Engineer/Architect</td>\n      <td>Columbia, MD 21045</td>\n      <td>SE</td>\n      <td>SENIOR_LEVEL</td>\n      <td>$100,000 - $130,000 a year</td>\n      <td>Senior Software Engineer works as part of an a...</td>\n      <td>[]</td>\n      <td>Columbia, MD 21045</td>\n    </tr>\n  </tbody>\n</table>\n<p>23277 rows × 10 columns</p>\n</div>"
     },
     "execution_count": 7,
     "metadata": {},
     "output_type": "execute_result"
    }
   ],
   "source": [
    "df"
   ],
   "metadata": {
    "collapsed": false,
    "ExecuteTime": {
     "end_time": "2023-12-05T00:28:37.191292Z",
     "start_time": "2023-12-05T00:28:37.186174Z"
    }
   },
   "id": "fb18e05afcd509a2"
  },
  {
   "cell_type": "code",
   "execution_count": 8,
   "outputs": [],
   "source": [
    "df.to_parquet('../Data/Indeed/clean_location.parquet')"
   ],
   "metadata": {
    "collapsed": false,
    "ExecuteTime": {
     "end_time": "2023-12-05T00:30:11.973905Z",
     "start_time": "2023-12-05T00:30:11.622097Z"
    }
   },
   "id": "d7285d81f8879380"
  },
  {
   "cell_type": "code",
   "execution_count": 25,
   "outputs": [],
   "source": [
    "unique_location = df['Clean_location'].unique()"
   ],
   "metadata": {
    "collapsed": false,
    "ExecuteTime": {
     "end_time": "2023-12-03T21:41:56.109889Z",
     "start_time": "2023-12-03T21:41:56.102032Z"
    }
   },
   "id": "2f890138fde5548c"
  },
  {
   "cell_type": "code",
   "execution_count": 26,
   "outputs": [],
   "source": [
    "pat = r\".*[Rr]emote.*$\""
   ],
   "metadata": {
    "collapsed": false,
    "ExecuteTime": {
     "end_time": "2023-12-03T21:41:57.296308Z",
     "start_time": "2023-12-03T21:41:57.290176Z"
    }
   },
   "id": "bf34416b80fa7294"
  },
  {
   "cell_type": "code",
   "execution_count": 27,
   "outputs": [],
   "source": [
    "locations = []\n",
    "for i in unique_location:\n",
    "    if re.search(pat, i) is None:\n",
    "        locations.append(i)"
   ],
   "metadata": {
    "collapsed": false,
    "ExecuteTime": {
     "end_time": "2023-12-03T21:41:58.483870Z",
     "start_time": "2023-12-03T21:41:58.459676Z"
    }
   },
   "id": "e014d8b9b26cea3b"
  },
  {
   "cell_type": "code",
   "execution_count": 29,
   "outputs": [],
   "source": [
    "with open('loc.txt', 'w') as file:\n",
    "    for i in locations:\n",
    "        file.write(i + '\\n')\n",
    "file.close()"
   ],
   "metadata": {
    "collapsed": false,
    "ExecuteTime": {
     "end_time": "2023-12-03T21:42:01.594018Z",
     "start_time": "2023-12-03T21:42:01.589494Z"
    }
   },
   "id": "f66503eb35910c7b"
  },
  {
   "cell_type": "code",
   "execution_count": 30,
   "outputs": [
    {
     "data": {
      "text/plain": "['Arlington, VA',\n 'Atlanta, GA',\n 'Highland Heights, KY',\n 'Edmeston, NY 13335',\n 'Baltimore, MD 21211',\n 'Huntsville, AL',\n 'North Providence, RI 02904 (Valley area)',\n 'Fort Huachuca, AZ',\n 'United States',\n 'Boston, MA',\n 'Birmingham, AL',\n 'Danvers, MA',\n 'Washington, DC 20011 (Catholic University-Brookland area)',\n 'Folsom, CA 95630',\n 'St. Louis, MO 63127',\n 'Tempe, AZ 85282',\n 'Dallas, TX 75201 (Downtown area)',\n 'Edmonds, WA 98026',\n 'Kansas City, MO 64108 (Hospital Hill area)',\n 'Crystal City, VA 22202',\n 'Dallas, TX 75235 (Dallas Love Field area)',\n 'Jacksonville, FL 32246 (Windy Hill area)',\n 'Victorville, CA 92395',\n 'Monee, IL',\n 'Baltimore, MD 21202 (Downtown area)',\n 'Salt Lake City, UT 84112 (East Bench area)',\n 'Tamarac, FL 33321',\n 'Chantilly, VA',\n 'McLean, VA',\n 'Wallops Island, VA',\n 'Nashville, TN 37203',\n 'Belmont, CA 94002',\n 'Austin, TX',\n 'Oceanside, CA',\n 'Washington, DC 20423',\n 'Brentwood, TN 37027',\n 'Lanham, MD 20706',\n 'Miami, FL 33175',\n 'Falmouth, ME 04105',\n 'Houston, TX 77015',\n 'Pasadena, TX 77504',\n 'Concord, NH 03301',\n 'Jacksonville, FL 32257 (Mandarin Station - Losco area)',\n 'Chesapeake, VA 23326 (Greenbrier West area)',\n 'New York, NY',\n 'Memphis, TN 38122 (Raleigh area)',\n 'Provo, UT 84606',\n 'San Diego, CA 92103 (Hillcrest area)',\n 'San Mateo, CA',\n 'Mounds View, MN 55112',\n 'Chesterfield, MO 63017',\n 'Lenoir, NC 28645',\n 'Wilson, NC 27893',\n 'Jackson, MI',\n 'Houston, TX 77042 (Westchase area)',\n 'Chantilly, VA 20151',\n 'Plano, TX 75024',\n 'San Antonio, TX 78218',\n 'Saint Paul, MN 55128',\n 'Alpharetta, GA',\n 'Lansing, MI',\n \"New York, NY 10001 (Hell's Kitchen area)\",\n 'Parkersburg, WV 26101',\n 'Holyoke, MA 01040',\n 'New York, NY 10010 (Flatiron area)',\n 'Seattle, WA 98101 (Downtown area)',\n 'Framingham, MA',\n 'New York, NY 10019 (Midtown area)',\n \"Chicago, IL 60631 (O'Hare area)\",\n 'Riverside, CA (Canyon Crest area)',\n 'Tampa, FL 33613',\n 'Bothell, WA 98021',\n 'Urbana, IL',\n 'Denton, TX',\n 'Dayton, NJ 08810',\n 'Columbus, OH 43219',\n 'Nashville, TN',\n 'Carthage, IL 62321',\n 'Nashville, TN 37214',\n 'Beavercreek, OH 45431',\n 'Manhattan Beach, CA 90266',\n 'Jacksonville, FL 32202 (Downtown area)',\n 'Raleigh, NC 27609 (North Raleigh area)',\n 'Richmond, VA',\n 'Boise, ID 83720 (Downtown area)',\n 'Greenville, SC 29607',\n 'Camden, NJ 08102 (Central Waterfront area)',\n 'Tyler, TX',\n 'Camden, NJ 08102',\n 'Sacramento, CA 95833',\n 'Houston, TX 77056 (Uptown area)',\n 'Kansas City, MO 64118 (Briarcliff West area)',\n 'Arkansas',\n 'Phoenix, AZ 85054',\n 'San Diego, CA 92093 (Torrey Pines area)',\n 'Madison, WI 53784 (Burr Oaks area)',\n 'Louisville, KY',\n 'Ashburn, VA',\n 'Hudson, OH 44236',\n 'Albany, NY 12236',\n 'Bristol, PA 19007',\n 'Greer, SC 29650',\n 'Los Angeles, CA',\n 'Muskegon, MI 49442',\n 'Kansas City, MO 64146',\n 'Belleville, MI 48111',\n 'Texas',\n 'Los Angeles, CA 90010 (Westlake area)',\n 'Saint Paul, MN 55101',\n 'Raleigh, NC',\n 'New Jersey',\n 'Woodbridge, NJ 07095',\n 'San Diego, CA',\n 'Charleston, SC 29401',\n 'Huntsville, AL 35816',\n 'Cleveland, OH 44114',\n 'Houston, TX',\n 'Tulsa, OK 74101',\n 'Denver, CO 80206 (Cherry Creek area)',\n 'Pittsburgh, PA',\n 'Trenton, NJ',\n 'Miami, FL 33131 (Brickell area)',\n 'Auburn Hills, MI 48326',\n 'Bellevue, WA',\n 'Albuquerque, NM 87109 (Academy Acres North area)',\n 'Norwich, CT 06360',\n 'Charlotte, NC 28217 (Eagle Lake area)',\n 'Spring, TX',\n 'Atlanta, GA 30308 (Midtown area)',\n 'Fort Eisenhower, GA',\n 'Spartanburg, SC 29303',\n 'Kennett Square, PA',\n 'Indianapolis, IN 46240',\n 'Knoxville, TN 37922',\n 'Fort Wayne, IN 46825',\n 'Springfield, IL 62711',\n 'Louisville, KY 40241',\n 'De Pere, WI',\n 'Hartford, CT 06107',\n 'Lexington, KY 40509',\n 'Elkhart, IN 46516',\n 'Grand Rapids, MI 49504',\n 'Memphis, TN 38118',\n 'Austin, TX 78746',\n 'Los Angeles, CA 90006',\n 'Poway, CA',\n 'Columbus, OH 43215',\n 'Albany, NY 12234 (Central Avenue area)',\n 'El Campo, TX 77437',\n 'Houston, TX 77046',\n 'Chicago, IL 60654',\n 'Dallas, TX 75201',\n 'Atlanta, GA 30326',\n 'Fort Lauderdale, FL 33301',\n 'Miami, FL 33131',\n 'South Bend, IN 46601',\n 'Chicago, IL',\n 'Chicago, IL 60606',\n 'Washington, DC 20003 (Capitol Hill area)',\n 'Hazleton, PA',\n 'Aliso Viejo, CA 92653',\n 'Austin, TX 78735 (East Oak Hill area)',\n 'Everett, WA',\n 'San Antonio, TX 78249',\n 'Golden, CO',\n 'Columbia, SC',\n 'Columbia, SC 29201',\n 'Bethlehem, PA',\n 'Jacksonville, FL',\n 'Atlanta, GA 30339',\n 'Little Rock, AR 72206',\n 'Baltimore, MD',\n 'Vandenberg AFB, CA 93437',\n 'Pennsylvania',\n 'Oakbrook Terrace, IL',\n 'Atlanta, GA 30328',\n 'Grand Rapids, MI',\n 'Albany, NY 12227',\n 'Orlando, FL 32828',\n 'Gardnerville, NV',\n 'Camp Hill, PA 17011',\n 'Tacoma, WA 98402 (New Tacoma area)',\n 'Newton, MA 02459',\n 'Thief River Falls, MN 56701',\n 'Dallas, TX',\n 'New York State',\n 'Coral Springs, FL 33065',\n 'Washington, DC',\n 'Farmers Branch, TX',\n 'Mechanicsville, VA 23116',\n 'Schaumburg, IL 60196',\n 'Cary, NC',\n 'Columbia, MO',\n 'Cherry Hill, NY',\n 'Minnesota',\n 'Newark, NJ 07102',\n 'Plymouth, MN 55441',\n 'Washington, DC 20024 (Southwest Waterfront area)',\n 'Chicago, IL 60007',\n 'Madison, WI 53713',\n 'Twin Falls, ID 83301',\n 'Charleston, SC',\n 'Northbrook, IL',\n 'Sacramento County, CA',\n 'Milwaukee, WI',\n 'Carroll, IA 51401',\n 'Irving, TX 75039 (Cottonwood area)',\n 'Las Vegas, NV 89102 (Rancho Charleston area)',\n 'Middleton, WI',\n 'North Dakota',\n 'Columbus, OH 43229 (Forest Park East area)',\n 'East Newark, NJ 07029',\n 'Miami, FL',\n 'Long Beach, CA 90810',\n 'Brooklyn, NY',\n 'Bridgewater, NJ 08807',\n 'Medway, MA 02053',\n 'Akron, OH 44307 (Downtown area)',\n 'Eagle, ID',\n 'St. Louis, MO 63131',\n 'Grand Rapids, MI 49501 (Heritage Hill area)',\n 'Dallas, TX 75238 (Northeast Dallas area)',\n 'Ontario, CA 91761',\n 'Detroit, MI 48226 (Downtown area)',\n 'Philadelphia, PA',\n 'Wake County, NC',\n 'Milltown, NJ 08850',\n 'Johns Creek, GA 30097',\n 'Pecos, TX 79772',\n 'Frisco, TX',\n 'Fort Lauderdale, FL 33315 (Edgewood area)',\n 'Denver, CO',\n 'Nashville, TN 37243 (North Capitol area)',\n 'St. Louis, MO 63141',\n 'Phoenix, AZ 85007 (Central City area)',\n 'Visalia, CA',\n 'Chula Vista, CA 91909',\n 'Mansfield, TX 76063',\n 'Meridian, ID 83642',\n 'New York, NY 10172',\n 'Oklahoma City, OK 73120',\n 'Hanover, MD 21076',\n 'Philadelphia, PA 19103 (Logan Square area)',\n 'Naperville, IL 60563',\n 'Mahwah, NJ 07430',\n 'Eden Prairie, MN 55346',\n 'Papillion, NE 68046',\n 'Arlington, VA 22204',\n 'Miami, FL 33157',\n 'Baltimore, MD 21230',\n 'Irving, TX 75039 (Freeport/Hackberry area)',\n 'Atlanta, MI 49709',\n 'Indianapolis, IN',\n 'Phoenix, AZ 85018 (Camelback East area)',\n 'Charlotte, NC',\n 'Raleigh, NC 27604',\n 'Saint Petersburg, FL 33701',\n 'Grand Rapids, MN 55744',\n 'Dallas, TX 75254 (Far North area)',\n 'Purchase, NY',\n 'McKinney, TX 75070',\n 'Sayre, PA 18840',\n 'Cincinnati, OH 45202 (Over-The-Rhine area)',\n 'Centerville, OH 45459',\n 'Irving, TX 75063 (Freeport/Hackberry area)',\n 'Johnson City, TN 37604',\n 'Dearborn, MI 48126',\n 'Arlington, VA 22201',\n 'San Jose, CA 95134 (North San Jose area)',\n 'Baton Rouge, LA 70810 (Mayfair area)',\n 'Malvern, PA',\n 'Canyonville, OR 97417',\n 'Sterling, VA 20164',\n 'Boise, ID 83702 (West Downtown area)',\n 'Dayton, OH 45433',\n 'Midvale, UT',\n 'Southington, CT 06489',\n 'Reston, VA (Sunset Hills area)',\n 'Nashville, TN 37201',\n 'Secaucus, NJ 07094',\n 'Austin, PA 16720',\n 'Fenton, MO 63026',\n 'Boston, MA 02108 (Beacon Hill area)',\n 'Orlando, FL',\n 'Austin, TX 78744',\n 'Sugar Land, TX 77478',\n 'Los Angeles, CA 90037 (South Los Angeles area)',\n 'Dayton, OH',\n 'Jonesboro, GA 30236',\n 'Fort Worth, TX 76131 (Far North area)',\n 'Boise, ID 83713 (West Valley area)',\n 'Phoenix, AZ 85004 (Encanto area)',\n 'Brooklyn, NY 11201',\n 'Chesapeake, VA 23320 (Greenbrier East area)',\n 'Fayetteville, AR 72703',\n 'Mount Horeb, WI 53572',\n 'Grand Rapids, MI 49509',\n 'Boca Raton, FL 33431',\n 'San Francisco, CA 94128',\n 'Charlotte, NC 28206',\n 'Savage, MN',\n 'San Antonio, TX 78204 (Lone Star area)',\n 'Lakewood, CO 80235',\n 'Columbia, SC 29209 (Brandon Acres - Cedar Terrace area)',\n 'Greenwood Village, CO 80111',\n 'Oak Creek, WI 53154',\n 'Burbank, CA 91505',\n 'Scottsdale, AZ',\n 'Houston, TX 77064',\n 'Washington, DC 20540 (Capitol Hill area)',\n 'Whitehouse Station, NJ',\n 'Sacramento, CA 95814 (Mansion Flats area)',\n 'Richmond, VA 23173 (University of Richmond area)',\n 'Wichita, KS',\n 'Pittsburgh, PA 15237',\n 'Midvale, UT 84047',\n 'Detroit, MI 48201 (Downtown area)',\n 'Saint Paul, MN 55101 (Downtown area)',\n 'Salt Lake City, UT 84120',\n 'New Canaan, CT 06840',\n 'Columbus, IN 47201',\n 'Mechanicsburg, PA 17055',\n 'Farmington Hills, MI 48334',\n 'Portsmouth, NH',\n 'Sheboygan, WI 53081',\n 'Paoli, PA 19301',\n 'Costa Mesa, CA 92626',\n 'Princeton, NJ 08540',\n 'Brown Deer, WI 53223 (Bradley Estates area)',\n 'Clayton County, GA',\n 'Garland, TX 75042',\n 'Northridge, CA 91325',\n 'Fargo, ND 58104',\n 'Sunnyvale, CA 94089 (Lakewood area)',\n 'Winter Haven, FL 33881',\n 'Scottsdale, AZ 85253',\n 'Atlanta, GA 30334',\n 'San Francisco, CA 94103 (South Of Market area)',\n 'Lake Forest, IL 60045',\n 'Bonita Springs, FL 34134',\n 'Pleasanton, CA 94588',\n 'Hicksville, NY 11801',\n 'Little Rock, AR 72201',\n 'Salt Lake City, UT',\n 'Elmsford, NY 10523',\n 'Riverside, CA 92521 (University area)',\n 'Richland, SC',\n 'Altamonte Springs, FL 32714',\n 'Whippany, NJ 07981',\n 'Santa Monica, CA 90401 (Wilshire/Montana area)',\n 'Arlington, TX',\n 'Boston, MA 02215',\n 'Madison, WI 53717',\n 'Andover, MA',\n 'Chesapeake, VA 23320',\n 'New York, NY 10036',\n 'New York, NY 10004 (Financial District area)',\n 'Norwalk, CA 90650',\n 'Cheyenne, WY',\n 'Burbank, CA',\n 'Great Neck, NY 11022',\n 'Nashville, TN (Downtown area)',\n 'Neenah, WI',\n 'Cleveland, OH 44135 (Puritas-Longmead area)',\n 'Delaware',\n 'Bentonville, AR 72712',\n 'Washington, DC 20301',\n 'Berkeley Heights, NJ 07922',\n 'San Antonio, TX',\n 'Mechanicsburg, PA 17050',\n 'Stafford, VA',\n 'Atlanta, GA 30303 (Downtown area)',\n 'Winter Haven, FL',\n 'Harrisburg, PA',\n 'Melville, NY 11747',\n 'Salem, OR',\n 'Maitland, FL 32751',\n 'Jersey City, NJ',\n 'Greenville, SC 29601',\n 'Arlington, TX 76011 (East area)',\n 'Fremont, CA 94538',\n 'Tallahassee, FL 32399',\n 'Smyrna, GA',\n 'Lewisville, TX 75057',\n 'Opelika, AL 36801',\n 'Cedar Rapids, IA 52404',\n 'Johnson City, TN',\n 'Atlanta, GA 30315 (Lakewood Heights-Southeastern area)',\n 'Boston, MA 02116 (Back Bay area)',\n 'Helena, MT 59601',\n 'California',\n 'Richmond, VA 23219 (City Center area)',\n 'Marlboro, NJ',\n 'Milford, OH 45150',\n 'Omaha, NE 68102',\n 'Chicago, IL 60631',\n 'Dunwoody, GA 30338',\n 'Mount Laurel, NJ',\n 'San Antonio, TX 78229',\n 'Pittsburgh, PA 15219 (Central Business District area)',\n 'Kirtland AFB, NM',\n 'Chicago, IL 60633 (Calumet River area)',\n 'San Diego, CA 92101 (Core-Columbia area)',\n 'Fort Meade, MD 20755',\n 'Las Vegas, NV 89109 (The Strip area)',\n 'Jeffersonville, IN',\n 'South Bend, IN',\n 'Jacksonville, FL 32204 (Mixon Town area)',\n 'Fort Lauderdale, FL 33301 (Downtown area)',\n 'Fort Lauderdale, FL 33309',\n 'Jersey City, NJ 07310 (The Waterfront area)',\n 'Eugene, OR 97401 (West University area)',\n 'Chandler, AZ',\n 'Sylva, NC',\n 'Rahway, NJ 07065',\n 'Hernando, MS 38632',\n 'Conyers, GA 30012',\n 'Vernon Hills, IL 60061',\n 'Plymouth, MN 55447',\n 'Siloam Springs, AR 72761',\n 'Jacksonville, FL 32210 (Cedar Hills Estate area)',\n 'New York, NY 10019',\n 'Miami Beach, FL 33139 (Flamingo Lummus area)',\n 'Emeryville, CA 94608',\n 'Fairfield, NJ 07004',\n 'Merrimack, NH 03054',\n 'Long Island City, NY 11101',\n 'Raleigh, NC 27601',\n 'Philadelphia, PA 19019 (Somerton area)',\n 'Denton, TX 76201',\n 'Vega Baja, PR 00693',\n 'El Paso, TX',\n 'Fort Lauderdale, FL 33301 (Flagler Heights area)',\n 'Knoxville, TN',\n 'Grand Island, NE 68801',\n 'Wilkes-Barre, PA 18701',\n 'Nashville, TN 37203 (SoBro area)',\n 'Hutchinson, KS',\n 'Miami, FL 33135',\n 'Lake Charles, LA 70601',\n 'Aurora, IL 60504',\n 'San Francisco, CA',\n 'Dallas, TX 75219 (Oak Lawn area)',\n 'Taylorville, IL 62568',\n 'Boston, MA 02109',\n 'Sacramento, CA 95811',\n 'Midland, MI 48640',\n 'Boone, NC 28607',\n 'Savoy, IL 61874',\n 'Lanham, MD',\n 'Carmel, IN 46290',\n 'Princeton, NJ 08544',\n 'Lincoln, NE 68512',\n 'Saratoga Springs, NY 12866',\n 'Tempe, AZ 85284',\n 'Orange, CA',\n 'Sandy, UT',\n 'Mooresville, NC',\n 'Birmingham, AL 35242',\n 'St. Louis, MO',\n 'Hawthorne, CA',\n 'Sacramento, CA (Gateway Center area)',\n 'Irvine, CA 92618',\n 'Louisville, KY 40299',\n 'Troy, MI 48084',\n 'University Center, MI',\n 'St. Louis, MO 63134',\n 'Seattle, WA 98134 (Industrial District area)',\n 'Joint Base Lewis McChord, WA',\n 'Folsom, CA',\n 'Vancouver, WA 98684',\n 'Fort Worth, TX',\n 'Mount Pleasant, SC 29464',\n 'Patrick Afb, FL 32925',\n 'Bolingbrook, IL 60440',\n 'Fishkill, NY 12524',\n 'Jacksonville, FL 32224',\n 'Springfield, IL',\n 'Carmel, IN 46032',\n 'Bloomington, MN',\n 'Irvine, CA 92614',\n 'Cincinnati, OH 45245',\n 'Charleston, WV',\n 'Austin, TX 78731',\n 'Blacksburg, VA',\n 'Grand Junction, CO 81506',\n 'Herndon, VA',\n 'Torrance, CA 90501',\n 'Irving, TX',\n 'Kenosha, WI 53140',\n 'Fort Belvoir, VA 22060',\n 'Beaumont, TX 77701',\n 'Orlando, FL 32832',\n 'Lubbock, TX 79415',\n 'Seattle, WA',\n 'Las Vegas, NV 89118 (Spring Valley area)',\n 'Irving, TX 75063',\n 'Ridgefield, CT',\n 'Boca Raton, FL 33428',\n 'Markle, IN 46770',\n 'North Carolina',\n 'Cedar Rapids, IA',\n 'Fountain Inn, SC 29644',\n 'West Greenwich, RI 02817',\n 'Columbia, SC 29210 (Saint Andrews area)',\n 'Houston, TX (Greenspoint area)',\n 'Irvine, CA 92606',\n 'Tallahassee, FL 32301',\n 'San Juan, PR 00917',\n 'Minneapolis, MN',\n 'Aberdeen Proving Ground, MD 21005',\n 'Raleigh, NC 27607',\n 'San Antonio, TX 78217 (Airport area)',\n 'Seattle, WA 98195 (University District area)',\n 'Olympia, WA 98501 (Downtown area)',\n 'Lebanon, IN 46052',\n 'Knoxville, TN 37996 (Fort Sanders area)',\n 'Fort Worth, TX 76108',\n 'Houston, TX 77018',\n 'Fairfield, OH',\n 'Allegan, MI 49010',\n 'Mobile, AL 36607 (North Crichton area)',\n 'Albany, NY 12247',\n 'Charlotte, NC 28209 (Barclay Downs area)',\n 'Washington, DC 20001 (Sursum Corda Cooperative area)',\n 'Sandy Springs, GA',\n 'Santa Clara, CA',\n 'Anaheim, CA',\n 'Milwaukee, WI 53203 (Kilbourn Town area)',\n 'Albany, NY 12203',\n 'Temple, TX',\n 'Laurel, MD 20723',\n 'Detroit, MI',\n 'Foxborough, MA 02035',\n 'Woburn, MA 01801',\n 'Mount Vernon, WA 98273',\n 'San Leandro, CA',\n 'Waltham, MA',\n 'Winchester, VA 22603',\n 'Tampa, FL 33647',\n 'Newark, DE 19711',\n 'New York, NY 10111 (Midtown area)',\n 'San Juan, PR',\n 'Cupertino, CA',\n 'Hartford, CT',\n 'Miami, FL 33126 (Flagami area)',\n 'Alpharetta, GA 30004',\n 'Hillsboro, OR',\n 'Bedford, MA',\n 'Englewood, CO 80112',\n 'Phoenix, AZ 85034 (Central City area)',\n 'Dallas, TX 75202 (Downtown area)',\n 'Alameda, CA',\n 'St. Louis, MO 63110 (Botanical Heights area)',\n 'New York, NY 10167',\n 'Boston, MA 02115 (Fenway-Kenmore area)',\n 'Washington, DC 20004 (Downtown area)',\n 'Omaha, NE 68124',\n 'San Jose, CA',\n 'Phoenix, AZ',\n 'Buffalo, NY 14208 (Delaware Park area)',\n 'Olympia, WA 98501',\n 'Olympia, WA 98504',\n 'Guaynabo, PR 00965',\n 'Summerfield, FL 34491',\n 'Conroe, TX',\n 'Plano, TX 75075',\n 'Morris Plains, NJ 07950',\n 'Savannah, GA 31404 (Victory Manor/East Hill/Donwood area)',\n 'Murrieta, CA 92563',\n 'Maple Grove, MN 55311',\n 'Des Moines, IA 50266',\n 'Reynoldsburg, OH 43068',\n 'Sarasota, FL 34243',\n 'West Palm Beach, FL 33411',\n 'Miami, FL 33188',\n 'Nashua, NH 03063',\n 'Devon, PA 19333',\n 'Cheektowaga, NY 14225',\n 'Woodland Hills, CA 91367',\n 'Everett, WA 98204 (Holly area)',\n 'Houston, TX 77090',\n 'Miami, FL 33169',\n 'Pearland, TX 77584',\n 'McDonough, GA 30253',\n 'Sacramento, CA 95832 (Meadowview area)',\n 'Dayton, OH 45430',\n 'Fairfax, VA 22033',\n 'Arlington, VA 22203 (Bluemont area)',\n 'Utica, MI 48315',\n 'Cincinnati, OH',\n 'Herndon, VA 20171',\n 'Broomfield, CO',\n 'Fort Walton Beach, FL 32548',\n 'Lenexa, KS 66219',\n 'Creve Coeur, MO',\n 'East Brunswick, NJ 08816',\n 'Gaylord, MI 49735',\n 'Iselin, NJ 08830',\n 'San Luis Obispo, CA 93407',\n 'Maryville, TN 37801',\n 'Bethesda, MD',\n 'Fresno, CA 93725',\n 'Plainview, NY 11803',\n 'Quincy, IL 62305',\n 'Jefferson City, MO 65101',\n 'Chanhassen, MN 55317',\n 'Wilmington, DE 19808',\n 'San Francisco, CA 94105 (Financial District/South Beach area)',\n 'Pflugerville, TX',\n 'Valparaiso, IN 46383',\n 'Cincinnati, OH 45242',\n 'Atlanta, GA 30345',\n 'Houston, TX 77041',\n 'Elk Grove Village, IL 60007',\n 'Kansas City, MO 64108 (Crown Center area)',\n 'Weed, CA 96094',\n 'Astoria, OR 97103',\n 'Dalton, GA 30720',\n 'Renton, WA',\n 'Austin, TX 78721 (Martin Luther King-Hwy 183 area)',\n 'Portland, OR 97201',\n 'Saint Cloud, MN 56301',\n 'Suffolk, VA 23435',\n 'Culver City, CA',\n 'Addison, IL 60101',\n 'Oaks, PA',\n 'Winston-Salem, NC 27103',\n 'Wichita, KS 67205',\n 'Urbandale, IA 50323',\n 'Lynnwood, WA 98036',\n 'Wilmington, MA 01887',\n 'Lorton, VA 22199',\n 'Salt Lake City, UT 84101',\n 'Holland, MI',\n 'St. Louis, MO 63110',\n 'Winchester, VA 22601',\n 'Memphis, TN 38119 (River Oaks-Kirby-Balmoral area)',\n 'Apple Valley, CA 92307',\n 'Pittsburgh, PA 15205',\n 'Washington, DC 20004',\n 'Alexandria, VA 22311 (Alexandria West area)',\n 'Moon, PA',\n 'Bloomington, MN 55425',\n 'Tampa, FL 33607',\n 'Voorhees, NJ',\n 'Seattle, WA 98194',\n 'Lafayette, LA 70506',\n 'Colorado Springs, CO 80920 (Briargate area)',\n 'Edison, NJ 08837',\n 'Santa Ana, CA',\n 'Baltimore, MD 21218',\n 'Allen, TX 75013',\n 'Long Beach, CA 90802',\n 'Baltimore, MD 21287 (Orangeville area)',\n 'Santa Rosa, CA 95401',\n 'Los Angeles, CA 91367',\n 'Thousand Oaks, CA 91362',\n 'Newark, DE 19713',\n 'New York, NY 10172 (Gramercy area)',\n 'Washington, DC 20003 (Navy Yard area)',\n 'Georgia',\n 'Marlborough, MA 01752 (Old Mitchell School area)',\n 'Lexington Park, MD 20653',\n 'Vienna, VA',\n 'Thousand Oaks, CA',\n 'Manhattan, NY 10013 (Tribeca area)',\n 'Michigan City, IN',\n 'Tampa, FL 33674 (Seminol Heights area)',\n 'Woodlawn, MD',\n 'Indianapolis, IN 46222 (West Indianapolis area)',\n 'Wilmington, DE 19803',\n 'New York, NY 10036 (Midtown area)',\n 'San Jose, CA 95128 (West San Jose area)',\n 'Beaverton, OR 97078',\n 'Orlando, FL 32826',\n 'West Chester, PA 19380',\n 'Tullahoma, TN 37388',\n 'Savannah, GA 31401 (North Historic District area)',\n 'Mason, OH 45040',\n 'Houston, TX 77030',\n 'Muscatine, IA 52761',\n 'North Wales, PA',\n 'Livermore, CA 94551',\n 'Tacoma, WA',\n 'Boston, MA 02110 (Downtown area)',\n 'Nashville, TN 37208 (Elizabeth Park area)',\n 'Wellesley Hills, MA 02481',\n 'Palo Alto, CA 94304',\n 'Fort Worth, TX 76137 (Far North area)',\n 'Morgantown, PA 19543',\n 'Oakland Park, FL 33334',\n 'Flint, MI',\n 'Eatonton, GA 31024',\n 'Linthicum Heights, MD',\n 'Salt Lake City, UT 84108 (East Bench area)',\n 'Minneapolis, MN 55402 (Downtown West area)',\n 'Crofton, MD 21114',\n 'Benton Harbor, MI 49022',\n 'Hanover, MD',\n 'Dahlgren, VA',\n 'Decatur, GA 30033',\n 'Maitland, FL 32794',\n 'Honolulu, HI 96819 (Daniel K. Inouye International Airport area)',\n 'Hershey, PA 17033',\n 'Norwell, MA 02061',\n 'Kansas City, MO',\n 'Henderson, NV 89074 (Gibson Springs area)',\n 'Midlothian, VA 23113',\n 'Hackensack, NJ 07601',\n 'Dallas, TX 75254',\n 'Kansas City, KS 66105',\n 'Crystal City, VA',\n 'Phoenix, AZ 85021 (North Mountain area)',\n 'Arizona',\n 'Rosemont, IL 60018',\n 'Denver, CO 80202 (Union Station area)',\n 'Murray, UT 84123',\n 'Getzville, NY 14068',\n 'Saint Paul, MN 55145',\n 'Durham, NC',\n 'Washington State',\n 'West Des Moines, IA 50265',\n 'Chicago, IL 60603 (The Loop area)',\n 'Fresno, CA 93740 (Hoover area)',\n 'Lewisville, TX',\n 'Jacksonville, FL 32256',\n 'Dallas, TX 75229 (Northwest Dallas area)',\n 'Knoxville, TN 37923',\n 'Fishers, IN',\n 'Pittsburgh, PA 15220',\n 'Atlanta, GA 30309 (Midtown area)',\n 'Charlotte, NC 28202',\n 'Washington, DC 20036',\n 'Minneapolis, MN 55405',\n 'Boston, MA 02108 (Downtown area)',\n 'La Vista, NE 68128',\n 'Corcoran, CA 93212',\n 'Michigan',\n 'Stennis Space Center, MS 39529',\n 'Ann Arbor, MI 48109',\n 'Butler, PA',\n 'Illinois',\n 'Berkeley, CA 94720',\n 'New York, NY 10464 (City Island area)',\n 'Little Rock, AR 72223',\n 'Tampa, FL',\n 'Lake Forest, IL',\n 'Minneapolis, MN 55401',\n 'Yorktown, VA 23692',\n 'Syracuse, NY',\n 'Parsippany, NJ 07054',\n 'Dimondale, MI',\n 'Saint Charles, MO',\n 'Tempe, AZ',\n 'Woodlawn, MD 21207',\n 'San Mateo, CA 94402',\n 'Alhambra, CA',\n 'Memphis, TN',\n 'Madison, WI 53706',\n 'Reston, VA',\n 'Waltham, MA 02451',\n 'Cranberry Township, PA',\n 'Saint Charles, MO 63301',\n 'Charlotte, NC 28202 (Third Ward area)',\n 'Minneapolis, MN 55404 (Whittier area)',\n 'Franklin, TN 37067',\n 'Hauppauge, NY 11788',\n 'Costa, WV',\n 'Romeoville, IL 60446',\n 'Branchville, NJ 07890',\n 'East Lansing, MI 48824',\n 'San Diego, CA 92121 (University City area)',\n 'Arlington, VA 22202 (Aurora Highlands area)',\n 'Camarillo, CA',\n 'Utah',\n 'Florida',\n 'Salem, OR (Central Area area)',\n 'La Crosse, WI 54601',\n 'Indianapolis, IN 46204',\n 'Missouri',\n 'Springfield, VA 22150',\n 'Santa Monica, CA 90404 (Mid-City area)',\n 'Atlanta, GA 30318',\n 'Wausau, WI 54401',\n 'Indianapolis, IN 46208 (Mapleton-Fall Creek area)',\n 'Los Angeles, CA 90032',\n 'Ridgefield Park, NJ',\n 'Waukegan, IL 60087',\n 'Portland, ME',\n 'Greenville, SC 29615',\n 'Federal Way, WA 98001',\n 'Idaho',\n 'Nevada',\n 'Colorado',\n 'Oregon',\n 'Long Beach, CA 90805 (North Long Beach area)',\n 'Ann Arbor, MI 48103',\n 'Fairlawn, OH 44333',\n 'Alpharetta, GA 30005',\n 'Shawano, WI',\n 'Waukesha, WI 53189',\n 'Pleasant Prairie, WI 53158',\n 'Columbus, GA 31909',\n 'New York, NY 10022',\n 'Boise, ID',\n 'Moorpark, CA 93021',\n 'Gainesville, FL',\n 'Middletown, PA 17057',\n 'Las Vegas, NV',\n 'Newtown Square, PA 19073',\n 'Phoenix, AZ 85021',\n 'Norfolk, VA',\n 'Aurora, CO',\n 'Hamilton, OH 45011',\n 'St. Louis, MO 63109 (Saint Louis Hills area)',\n 'Norfolk, VA 23511',\n 'Rosemont, IL 60656',\n 'Kansas City, MO 64132 (Marlborough East area)',\n 'Schaumburg, IL 60173',\n 'Richmond, VA 23225',\n 'Silver Spring, MD 20904',\n 'Detroit, MI 48209 (West Side Industrial area)',\n 'Appleton, WI 54913',\n 'New York, NY 10036 (Garment District area)',\n 'Irvine, CA 92612',\n 'Danville, PA',\n 'Tulsa, OK 74136',\n 'Westford, MA 01886',\n 'Willingboro, NJ',\n 'Tempe, AZ 85285',\n 'Orlando, FL 32806 (South Orange area)',\n 'Burnsville, MN 55337',\n 'Centennial, CO 80122',\n 'Manassas, VA',\n 'Rockville, MD',\n 'Naples, FL 34108',\n 'Greensboro, NC',\n 'Tampa, FL 33607 (Tampa International Airport area)',\n 'Cincinnati, OH 45202',\n 'Pomona, CA 91766',\n 'Catonsville, MD 21228',\n 'Charlotte, NC 28202 (Downtown Charlotte area)',\n 'Milwaukee, WI 53201 (Downer Woods area)',\n 'San Diego, CA 92129 (Torrey Highlands area)',\n 'Washington, DC 20003',\n 'Linden, NJ 07036',\n 'Melbourne, FL 32940',\n 'Washington, DC 20006 (Foggy Bottom area)',\n 'South Plainfield, NJ 07080',\n 'Wilmington, DE 19801 (Loma area)',\n 'Dimondale, MI 48821',\n 'Chico, CA 95926 (The Avenues area)',\n 'Norfolk, VA 23510',\n 'Richmond, VA 23219',\n 'Goodlettsville, TN 37072',\n 'Austin, TX 78701 (Downtown area)',\n 'Northfield, IL',\n 'Shakopee, MN 55379',\n 'Miami, FL 33137 (Little Haiti area)',\n 'San Juan, PR 00918 (Hato Rey Norte area)',\n 'Burlington, MA 01803',\n 'Farmingdale, NY',\n 'North Charleston, SC 29406',\n 'Tampa, FL 33620 (Terrace Park area)',\n 'Overland Park, KS 66210',\n 'Bridgeport, CT 06604 (South End area)',\n 'Plymouth Meeting, PA',\n 'Raleigh, NC 27604 (Northeast area)',\n 'Sparks Glencoe, MD',\n 'Orlando, FL 32819 (Florida Center area)',\n 'Niles, IL 60714',\n 'New Hampshire',\n 'Tallahassee, FL 32317',\n 'Neptune City, NJ 07753',\n 'Bentonville, AR',\n 'Salt Lake City, UT 84112',\n 'Cuyahoga Falls, OH 44223',\n 'Blue Ash, OH 45242',\n 'Colorado Springs, CO 80918 (Powers area)',\n 'Augusta, ME 04330',\n 'Wilmington, DE',\n 'Melbourne, FL',\n 'Montgomery, AL',\n 'Lake Mary, FL',\n 'Rosemont, IL 60656 (Norwood Park area)',\n 'Bronx, NY 10474',\n 'Cherry Hill, NJ 08002',\n 'Rochester, MN 55901',\n 'Minneapolis, MN 55401 (North Loop area)',\n 'Hoboken, NJ',\n 'Newark, NJ 07102 (Central Business District area)',\n 'Newark, DE',\n 'Decatur, GA 30030 (Downtown area)',\n 'Key Largo, FL 33037',\n 'Doral, FL 33178',\n 'Denver, CO 80237 (Southeastern Denver area)',\n 'Grayslake, IL 60030',\n 'Canton, MA 02021',\n 'South Carolina',\n 'Albuquerque, NM',\n 'Los Angeles, CA 90058',\n 'Jersey City, NJ 07310 (Downtown area)',\n 'North Charleston, SC',\n 'Tennessee',\n 'Woburn, MA',\n 'Mountain View, CA 94043',\n 'Round Rock, TX',\n 'Victor, NY',\n 'Baltimore, MD 21227',\n 'Saint Petersburg, FL 33716',\n 'Tampa, FL 33614',\n 'Boston, MA 02111',\n 'Chicago, IL 60601',\n 'Clearwater, FL 33760',\n 'Woonsocket, RI 02895 (Fairmount area)',\n 'Van Nuys, CA 91406',\n 'Dade City, FL 33523',\n 'Indianapolis, IN 46202 (Near NW-Riverside area)',\n 'Deerfield Beach, FL',\n 'Columbia, MD 21046',\n 'Bethany, CT',\n 'San Antonio, TX 78258',\n 'Calabasas Hills, CA 91301',\n 'Medford, OR 97504',\n 'Alexandria, VA',\n 'San Diego, CA 92126',\n 'Chicago, IL 60616 (South Loop area)',\n 'Windsor Locks, CT 06096',\n 'Tucson, AZ 85756 (Tucson International Airport area)',\n 'Scarborough, ME 04074',\n 'Kansas City, KS',\n 'Newport Beach, CA',\n 'San Jose, CA 95110 (Downtown area)',\n 'Olathe, KS 66061',\n 'Frederick, MD 21704',\n 'Ypsilanti, MI 48197',\n 'United States Minor Outlying Islands',\n 'San Diego, CA 92123 (Kearny Mesa area)',\n 'Seattle, WA 98108 (Georgetown area)',\n 'Durham, NC 27710 (Duke West Campus area)',\n 'Placentia, CA',\n 'Lakeland, FL 33811',\n 'Bloomington, IN 47404',\n 'Conshohocken, PA 19428',\n 'Westport, CT 06880',\n 'College Park, MD 20740',\n 'Des Moines, IA 50309',\n 'Modesto, CA 95355',\n 'Overland Park, KS',\n 'Lehi, UT 84043',\n 'Norcross, GA 30071',\n 'Austin, TX 78759',\n 'Salt Lake City, UT 84104',\n 'Milwaukee, WI 53226',\n 'Clayton, NC 27527',\n 'Los Angeles, CA 90034 (Beverlywood area)',\n 'Easton, PA 18045',\n 'Burlington, NC 27215',\n 'Bainbridge, GA 39817',\n 'Ballinger, TX 76821',\n 'Collegedale, TN 37315',\n 'Wixom, MI 48393',\n \"Lee's Summit, MO\",\n 'Phoenix, AZ 85008 (Camelback East area)',\n 'Plano, TX',\n 'Alpharetta, GA 30009',\n 'Virginia Beach, VA 23462 (Kempsville area)',\n 'Bethesda, MD 20811',\n 'Lakewood, WA 98499 (Park Lodge area)',\n 'Lakehurst, NJ 08733',\n 'San Francisco, CA (Financial District/South Beach area)',\n 'Dundee, IL 60118',\n 'Waukesha, WI 53186',\n 'Marietta, GA',\n 'Reston, VA 20190',\n 'Williston, ND 58801',\n 'Rancho Santa Margarita, CA 92688',\n 'Somerville, MA 02145 (Assembly Square area)',\n 'Menomonee Falls, WI',\n 'Lexington, MA 02421',\n 'San Angelo, TX 76901 (Bluffs area)',\n 'Somerville, MA',\n 'Liverpool, NY 13088',\n 'McLean, VA 22102',\n 'West Valley City, UT',\n 'Trenton, NJ 08611',\n 'Anchorage, AK 99501',\n 'New York, NY 10065 (Upper East Side area)',\n 'Cape Canaveral, FL',\n 'Shelton, CT 06484',\n 'Grapevine, TX',\n 'Patuxent River, MD 20670',\n 'Santa Monica, CA 90403',\n 'Tempe, AZ 85283',\n 'Basking Ridge, NJ 07920',\n 'Huntsville, AL 35806',\n 'Mankato, MN',\n 'Fort Meade, MD',\n 'Wallingford, CT',\n ...]"
     },
     "execution_count": 30,
     "metadata": {},
     "output_type": "execute_result"
    }
   ],
   "source": [
    "locations"
   ],
   "metadata": {
    "collapsed": false,
    "ExecuteTime": {
     "end_time": "2023-12-03T21:42:02.434644Z",
     "start_time": "2023-12-03T21:42:02.428596Z"
    }
   },
   "id": "1c8324528ba358d5"
  },
  {
   "cell_type": "code",
   "execution_count": null,
   "outputs": [],
   "source": [],
   "metadata": {
    "collapsed": false
   },
   "id": "e29ee7b6351a00ef"
  }
 ],
 "metadata": {
  "kernelspec": {
   "display_name": "Python 3",
   "language": "python",
   "name": "python3"
  },
  "language_info": {
   "codemirror_mode": {
    "name": "ipython",
    "version": 2
   },
   "file_extension": ".py",
   "mimetype": "text/x-python",
   "name": "python",
   "nbconvert_exporter": "python",
   "pygments_lexer": "ipython2",
   "version": "2.7.6"
  }
 },
 "nbformat": 4,
 "nbformat_minor": 5
}
